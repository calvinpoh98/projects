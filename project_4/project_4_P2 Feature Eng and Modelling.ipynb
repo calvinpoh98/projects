{
 "cells": [
  {
   "cell_type": "markdown",
   "id": "50855e0c-7632-4d99-8086-e4e17766e0e7",
   "metadata": {},
   "source": [
    "# Part 2 Feature Engineering and Modelling"
   ]
  },
  {
   "cell_type": "markdown",
   "id": "686927cd-6829-4999-85b3-541d2ec119f1",
   "metadata": {},
   "source": [
    "# Library Importing"
   ]
  },
  {
   "cell_type": "code",
   "execution_count": 2,
   "id": "ae6d6aea-fd96-46ad-8840-d9d6192eff96",
   "metadata": {},
   "outputs": [],
   "source": [
    "import pandas as pd\n",
    "import numpy as np\n",
    "import matplotlib.pyplot as plt\n",
    "import seaborn as sns\n",
    "from sklearn.metrics import r2_score, mean_squared_error, mean_absolute_error, f1_score, precision_score, recall_score, accuracy_score\n",
    "from sklearn.ensemble import AdaBoostRegressor, RandomForestRegressor, BaggingClassifier, RandomForestClassifier, AdaBoostClassifier\n",
    "from sklearn.model_selection import train_test_split, cross_val_score, GridSearchCV\n",
    "from sklearn.neighbors import KNeighborsClassifier, KernelDensity\n",
    "from sklearn.linear_model import LogisticRegression\n",
    "from sklearn.preprocessing import StandardScaler\n",
    "from sklearn.tree import DecisionTreeClassifier\n",
    "from sklearn.metrics import f1_score\n",
    "from sklearn.cluster import KMeans\n",
    "from sklearn.svm import SVC\n",
    "from imblearn.over_sampling import SMOTE\n",
    "from datetime import datetime, timedelta\n",
    "import warnings\n",
    "warnings.filterwarnings(\"ignore\")"
   ]
  },
  {
   "cell_type": "code",
   "execution_count": 3,
   "id": "421f5c7e-803f-4f41-b3db-221a43e594a1",
   "metadata": {},
   "outputs": [],
   "source": [
    "pd.set_option('display.max_columns', None)\n",
    "np.set_printoptions(threshold=np.inf)"
   ]
  },
  {
   "cell_type": "markdown",
   "id": "e1a67abc-111b-4934-a321-18347336e16b",
   "metadata": {},
   "source": [
    "# Data Import"
   ]
  },
  {
   "cell_type": "code",
   "execution_count": 4,
   "id": "6b846068-ce45-4a07-a788-104ccde188d1",
   "metadata": {},
   "outputs": [],
   "source": [
    "train = pd.read_csv(\"./assets/merged_data_clean.csv\")\n",
    "df_test = pd.read_csv(\"./assets/merged_test_data_clean.csv\")\n",
    "weat = pd.read_csv(\"./assets/weather_data_clean.csv\")\n",
    "spray = pd.read_csv(\"./assets/spray_data_clean.csv\")"
   ]
  },
  {
   "cell_type": "code",
   "execution_count": 5,
   "id": "deefd6d6-1c95-4e16-a53f-20ecf8bab719",
   "metadata": {},
   "outputs": [
    {
     "data": {
      "text/plain": [
       "Index(['Date', 'Address', 'Species', 'Block', 'Street', 'Trap',\n",
       "       'AddressNumberAndStreet', 'Latitude', 'Longitude', 'AddressAccuracy',\n",
       "       'NumMosquitos', 'WnvPresent', 'year_x', 'month_x', 'Station', 'Tmax',\n",
       "       'Tmin', 'Tavg', 'DewPoint', 'WetBulb', 'Heat', 'Cool', 'Sunrise',\n",
       "       'Sunset', 'CodeSum', 'PrecipTotal', 'StnPressure', 'SeaLevel',\n",
       "       'ResultSpeed', 'ResultDir', 'AvgSpeed', 'year_y', 'month_y'],\n",
       "      dtype='object')"
      ]
     },
     "execution_count": 5,
     "metadata": {},
     "output_type": "execute_result"
    }
   ],
   "source": [
    "df_train = train.copy()\n",
    "df_train.columns"
   ]
  },
  {
   "cell_type": "code",
   "execution_count": null,
   "id": "9f803dc1-12fe-4bea-be76-08a007cbfa43",
   "metadata": {},
   "outputs": [],
   "source": [
    "df_test.columns"
   ]
  },
  {
   "cell_type": "code",
   "execution_count": null,
   "id": "26909368-38d9-4669-8196-1910e3e6e3c6",
   "metadata": {},
   "outputs": [],
   "source": [
    "weat.columns"
   ]
  },
  {
   "cell_type": "markdown",
   "id": "c62eccb2-8ed9-4364-8194-18894e43fb55",
   "metadata": {},
   "source": [
    "# Feature Engineering"
   ]
  },
  {
   "cell_type": "markdown",
   "id": "6322f656-a876-4c14-bcd0-9b5e5a21c0fd",
   "metadata": {},
   "source": [
    "## Setting Date as Index"
   ]
  },
  {
   "cell_type": "code",
   "execution_count": 13,
   "id": "08ecc1d2-e400-4de2-8752-1ca2c4fab1b0",
   "metadata": {},
   "outputs": [],
   "source": [
    "# Setting Date a index for Train Dataset\n",
    "df_train['Date'] = pd.to_datetime(df_train['Date'])\n",
    "df_train = df_train.set_index('Date')"
   ]
  },
  {
   "cell_type": "code",
   "execution_count": 14,
   "id": "72d32b24-6599-49da-9198-ad7658b2568b",
   "metadata": {},
   "outputs": [],
   "source": [
    "# Setting Date a index for Test Dataset\n",
    "df_test['Date'] = pd.to_datetime(df_test['Date'])\n",
    "df_test = df_test.set_index('Date')"
   ]
  },
  {
   "cell_type": "code",
   "execution_count": 15,
   "id": "f741b507-87e2-4a2f-8727-e884d2f8be8d",
   "metadata": {},
   "outputs": [],
   "source": [
    "# Setting Date a index for Spray Dataset\n",
    "spray['Date'] = pd.to_datetime(spray['Date'])\n",
    "spray = spray.set_index('Date')"
   ]
  },
  {
   "cell_type": "markdown",
   "id": "1f1e5e48-326a-4845-9c21-7711e6319928",
   "metadata": {},
   "source": [
    "## Setting Tresholds for Condition of Breeding\n",
    "\n",
    "WNV occurs when there are mosquitos. As mosquitos tend to breed when the weather condition is ideal. At here, we would be setting threshold on the condition of breeding. "
   ]
  },
  {
   "cell_type": "code",
   "execution_count": 16,
   "id": "8b9ea29a-726e-4096-ab93-54c1f281e4ba",
   "metadata": {},
   "outputs": [
    {
     "data": {
      "text/plain": [
       "WnvPresent\n",
       "0    12.106479\n",
       "1    26.350272\n",
       "Name: NumMosquitos, dtype: float64"
      ]
     },
     "execution_count": 16,
     "metadata": {},
     "output_type": "execute_result"
    }
   ],
   "source": [
    "df_train.groupby(['WnvPresent']).mean()['NumMosquitos']"
   ]
  },
  {
   "cell_type": "markdown",
   "id": "192a7c18-83cf-4d11-a9fa-fbbcbe5c9a9c",
   "metadata": {},
   "source": [
    "From the datasets, the average number of mosquitos for WNV to be not present is 12.1. With this value, we would be setting the threshold for good condition for mosquito breeding to be 13 mosquitos.\n",
    "For all rows of data with mosquitos count of over or equal to 13 will be considered as ideal condition for breeding"
   ]
  },
  {
   "cell_type": "code",
   "execution_count": 17,
   "id": "49f3f739-079a-4a5f-a451-f00e3b94344a",
   "metadata": {},
   "outputs": [],
   "source": [
    "df_train['BreedCond'] = df_train['NumMosquitos'].apply(lambda x: 1 if x >= 13 else 0)"
   ]
  },
  {
   "cell_type": "markdown",
   "id": "e3c39c6d-9ecd-47a0-bf46-e19426ed0674",
   "metadata": {},
   "source": [
    "Spray activity will significantly reduce the number of mosquitoes and disrupt the model prediction. To ensure the model is able to predict the number of mosquito based on weather, dates where spray occured will be remove from the model. \n",
    "\n",
    "Also, as effect of spray will last for several days. Assumption of 10 days is made for training model/"
   ]
  },
  {
   "cell_type": "markdown",
   "id": "779f7412-d341-45f8-b0a5-123f0dda4ca5",
   "metadata": {},
   "source": [
    "## Exclusion of Spray Date from Datasets\n",
    "\n",
    "As impact of spray lasts for over a day and we assume the impact would be lasting for consecutive days, data that overlaps with the 14 days will be dropped to prevent the Breeding Condition to be affected by the spray."
   ]
  },
  {
   "cell_type": "code",
   "execution_count": 18,
   "id": "457e7276-8a96-4f93-a562-e538686137e3",
   "metadata": {},
   "outputs": [
    {
     "name": "stdout",
     "output_type": "stream",
     "text": [
      "Number of Days to be excluded are: 126\n"
     ]
    }
   ],
   "source": [
    "# To define number of date to be excluded\n",
    "add_days_ext = [13]\n",
    "\n",
    "# To loop through the number of days\n",
    "for day in add_days_ext:\n",
    "    # To define empty list to store the new dates to be excluded\n",
    "    exclude_date = []\n",
    "    # to include the original date in spray date\n",
    "    day = day + 1\n",
    "    # to identify the date where spraying occured\n",
    "    spray_date = spray.index.unique()\n",
    "    \n",
    "    # to loop through the individual spray date\n",
    "    for i in range(len(spray.index.unique())):\n",
    "        # to loop through the number of days to be excluded\n",
    "        for j in range(day):\n",
    "            exclude_date.append(pd.Timestamp(spray_date[i]) + timedelta(days=j))\n",
    "\n",
    "    print(f'Number of Days to be excluded are: {len(exclude_date)}')"
   ]
  },
  {
   "cell_type": "code",
   "execution_count": 19,
   "id": "481de09c-af46-4158-b887-8719430a2b76",
   "metadata": {},
   "outputs": [],
   "source": [
    "# To remove the dates where spray + 13 days after from the datasets for modeling\n",
    "df_train = df_train.loc[~df_train.index.isin(exclude_date)]"
   ]
  },
  {
   "cell_type": "markdown",
   "id": "dc56f587-73bb-4e72-b682-4f9808f37d7a",
   "metadata": {},
   "source": [
    "## Features Selection"
   ]
  },
  {
   "cell_type": "code",
   "execution_count": 20,
   "id": "9875e25c-91b8-40aa-8255-5e0226dac684",
   "metadata": {},
   "outputs": [],
   "source": [
    "df_corr = df_train.copy()"
   ]
  },
  {
   "cell_type": "code",
   "execution_count": 21,
   "id": "1a2a8ee1-a42a-4c95-a521-4c6c6c97fe4d",
   "metadata": {},
   "outputs": [
    {
     "data": {
      "text/plain": [
       "Index(['Address', 'Species', 'Block', 'Street', 'Trap',\n",
       "       'AddressNumberAndStreet', 'Latitude', 'Longitude', 'AddressAccuracy',\n",
       "       'NumMosquitos', 'WnvPresent', 'year', 'month', 'Station', 'Tmax',\n",
       "       'Tmin', 'Tavg', 'DewPoint', 'WetBulb', 'Heat', 'Cool', 'Sunrise',\n",
       "       'Sunset', 'CodeSum', 'PrecipTotal', 'StnPressure', 'SeaLevel',\n",
       "       'ResultSpeed', 'ResultDir', 'AvgSpeed', 'BreedCond'],\n",
       "      dtype='object')"
      ]
     },
     "execution_count": 21,
     "metadata": {},
     "output_type": "execute_result"
    }
   ],
   "source": [
    "df_corr.columns"
   ]
  },
  {
   "cell_type": "markdown",
   "id": "5bc5ab26-fd0b-4093-b686-975440414b41",
   "metadata": {},
   "source": [
    "Dropping features that is categorical datasets or deemed as not useful in identifying the correlation."
   ]
  },
  {
   "cell_type": "code",
   "execution_count": 22,
   "id": "e7c7ac06-804a-44bc-882e-1f1dfbec3a15",
   "metadata": {},
   "outputs": [],
   "source": [
    "df_corr.drop(['Address', 'Block', 'Street', 'AddressNumberAndStreet', \n",
    "              'Latitude', 'Longitude', 'AddressAccuracy', 'NumMosquitos', \n",
    "              'year', 'month', 'Station',\n",
    "              # To be removed below\n",
    "              'Sunset', 'Sunrise',\n",
    "              # Categorical datasets\n",
    "              'CodeSum', 'Species', 'Trap'], axis = 1, inplace = True)"
   ]
  },
  {
   "cell_type": "code",
   "execution_count": 23,
   "id": "e48fae9f-9f34-4113-a68b-8a1b376ddeef",
   "metadata": {},
   "outputs": [
    {
     "data": {
      "text/html": [
       "<div>\n",
       "<style scoped>\n",
       "    .dataframe tbody tr th:only-of-type {\n",
       "        vertical-align: middle;\n",
       "    }\n",
       "\n",
       "    .dataframe tbody tr th {\n",
       "        vertical-align: top;\n",
       "    }\n",
       "\n",
       "    .dataframe thead th {\n",
       "        text-align: right;\n",
       "    }\n",
       "</style>\n",
       "<table border=\"1\" class=\"dataframe\">\n",
       "  <thead>\n",
       "    <tr style=\"text-align: right;\">\n",
       "      <th></th>\n",
       "      <th>WnvPresent</th>\n",
       "      <th>Tmax</th>\n",
       "      <th>Tmin</th>\n",
       "      <th>Tavg</th>\n",
       "      <th>DewPoint</th>\n",
       "      <th>WetBulb</th>\n",
       "      <th>Heat</th>\n",
       "      <th>Cool</th>\n",
       "      <th>PrecipTotal</th>\n",
       "      <th>StnPressure</th>\n",
       "      <th>SeaLevel</th>\n",
       "      <th>ResultSpeed</th>\n",
       "      <th>ResultDir</th>\n",
       "      <th>AvgSpeed</th>\n",
       "      <th>BreedCond</th>\n",
       "    </tr>\n",
       "    <tr>\n",
       "      <th>Date</th>\n",
       "      <th></th>\n",
       "      <th></th>\n",
       "      <th></th>\n",
       "      <th></th>\n",
       "      <th></th>\n",
       "      <th></th>\n",
       "      <th></th>\n",
       "      <th></th>\n",
       "      <th></th>\n",
       "      <th></th>\n",
       "      <th></th>\n",
       "      <th></th>\n",
       "      <th></th>\n",
       "      <th></th>\n",
       "      <th></th>\n",
       "    </tr>\n",
       "  </thead>\n",
       "  <tbody>\n",
       "    <tr>\n",
       "      <th>2007-05-29</th>\n",
       "      <td>0</td>\n",
       "      <td>88</td>\n",
       "      <td>60</td>\n",
       "      <td>74</td>\n",
       "      <td>58</td>\n",
       "      <td>65</td>\n",
       "      <td>0</td>\n",
       "      <td>9</td>\n",
       "      <td>0.0</td>\n",
       "      <td>29.39</td>\n",
       "      <td>30.11</td>\n",
       "      <td>5.8</td>\n",
       "      <td>18</td>\n",
       "      <td>6.5</td>\n",
       "      <td>0</td>\n",
       "    </tr>\n",
       "    <tr>\n",
       "      <th>2007-05-29</th>\n",
       "      <td>0</td>\n",
       "      <td>88</td>\n",
       "      <td>60</td>\n",
       "      <td>74</td>\n",
       "      <td>58</td>\n",
       "      <td>65</td>\n",
       "      <td>0</td>\n",
       "      <td>9</td>\n",
       "      <td>0.0</td>\n",
       "      <td>29.39</td>\n",
       "      <td>30.11</td>\n",
       "      <td>5.8</td>\n",
       "      <td>18</td>\n",
       "      <td>6.5</td>\n",
       "      <td>0</td>\n",
       "    </tr>\n",
       "    <tr>\n",
       "      <th>2007-05-29</th>\n",
       "      <td>0</td>\n",
       "      <td>88</td>\n",
       "      <td>60</td>\n",
       "      <td>74</td>\n",
       "      <td>58</td>\n",
       "      <td>65</td>\n",
       "      <td>0</td>\n",
       "      <td>9</td>\n",
       "      <td>0.0</td>\n",
       "      <td>29.39</td>\n",
       "      <td>30.11</td>\n",
       "      <td>5.8</td>\n",
       "      <td>18</td>\n",
       "      <td>6.5</td>\n",
       "      <td>0</td>\n",
       "    </tr>\n",
       "    <tr>\n",
       "      <th>2007-05-29</th>\n",
       "      <td>0</td>\n",
       "      <td>88</td>\n",
       "      <td>60</td>\n",
       "      <td>74</td>\n",
       "      <td>58</td>\n",
       "      <td>65</td>\n",
       "      <td>0</td>\n",
       "      <td>9</td>\n",
       "      <td>0.0</td>\n",
       "      <td>29.39</td>\n",
       "      <td>30.11</td>\n",
       "      <td>5.8</td>\n",
       "      <td>18</td>\n",
       "      <td>6.5</td>\n",
       "      <td>0</td>\n",
       "    </tr>\n",
       "    <tr>\n",
       "      <th>2007-05-29</th>\n",
       "      <td>0</td>\n",
       "      <td>88</td>\n",
       "      <td>60</td>\n",
       "      <td>74</td>\n",
       "      <td>58</td>\n",
       "      <td>65</td>\n",
       "      <td>0</td>\n",
       "      <td>9</td>\n",
       "      <td>0.0</td>\n",
       "      <td>29.39</td>\n",
       "      <td>30.11</td>\n",
       "      <td>5.8</td>\n",
       "      <td>18</td>\n",
       "      <td>6.5</td>\n",
       "      <td>0</td>\n",
       "    </tr>\n",
       "    <tr>\n",
       "      <th>...</th>\n",
       "      <td>...</td>\n",
       "      <td>...</td>\n",
       "      <td>...</td>\n",
       "      <td>...</td>\n",
       "      <td>...</td>\n",
       "      <td>...</td>\n",
       "      <td>...</td>\n",
       "      <td>...</td>\n",
       "      <td>...</td>\n",
       "      <td>...</td>\n",
       "      <td>...</td>\n",
       "      <td>...</td>\n",
       "      <td>...</td>\n",
       "      <td>...</td>\n",
       "      <td>...</td>\n",
       "    </tr>\n",
       "    <tr>\n",
       "      <th>2013-09-26</th>\n",
       "      <td>0</td>\n",
       "      <td>75</td>\n",
       "      <td>55</td>\n",
       "      <td>65</td>\n",
       "      <td>52</td>\n",
       "      <td>58</td>\n",
       "      <td>0</td>\n",
       "      <td>0</td>\n",
       "      <td>0.0</td>\n",
       "      <td>29.40</td>\n",
       "      <td>30.04</td>\n",
       "      <td>4.1</td>\n",
       "      <td>9</td>\n",
       "      <td>4.6</td>\n",
       "      <td>1</td>\n",
       "    </tr>\n",
       "    <tr>\n",
       "      <th>2013-09-26</th>\n",
       "      <td>0</td>\n",
       "      <td>75</td>\n",
       "      <td>55</td>\n",
       "      <td>65</td>\n",
       "      <td>52</td>\n",
       "      <td>58</td>\n",
       "      <td>0</td>\n",
       "      <td>0</td>\n",
       "      <td>0.0</td>\n",
       "      <td>29.40</td>\n",
       "      <td>30.04</td>\n",
       "      <td>4.1</td>\n",
       "      <td>9</td>\n",
       "      <td>4.6</td>\n",
       "      <td>0</td>\n",
       "    </tr>\n",
       "    <tr>\n",
       "      <th>2013-09-26</th>\n",
       "      <td>1</td>\n",
       "      <td>75</td>\n",
       "      <td>55</td>\n",
       "      <td>65</td>\n",
       "      <td>52</td>\n",
       "      <td>58</td>\n",
       "      <td>0</td>\n",
       "      <td>0</td>\n",
       "      <td>0.0</td>\n",
       "      <td>29.40</td>\n",
       "      <td>30.04</td>\n",
       "      <td>4.1</td>\n",
       "      <td>9</td>\n",
       "      <td>4.6</td>\n",
       "      <td>0</td>\n",
       "    </tr>\n",
       "    <tr>\n",
       "      <th>2013-09-26</th>\n",
       "      <td>0</td>\n",
       "      <td>75</td>\n",
       "      <td>55</td>\n",
       "      <td>65</td>\n",
       "      <td>52</td>\n",
       "      <td>58</td>\n",
       "      <td>0</td>\n",
       "      <td>0</td>\n",
       "      <td>0.0</td>\n",
       "      <td>29.40</td>\n",
       "      <td>30.04</td>\n",
       "      <td>4.1</td>\n",
       "      <td>9</td>\n",
       "      <td>4.6</td>\n",
       "      <td>0</td>\n",
       "    </tr>\n",
       "    <tr>\n",
       "      <th>2013-09-26</th>\n",
       "      <td>0</td>\n",
       "      <td>75</td>\n",
       "      <td>55</td>\n",
       "      <td>65</td>\n",
       "      <td>52</td>\n",
       "      <td>58</td>\n",
       "      <td>0</td>\n",
       "      <td>0</td>\n",
       "      <td>0.0</td>\n",
       "      <td>29.40</td>\n",
       "      <td>30.04</td>\n",
       "      <td>4.1</td>\n",
       "      <td>9</td>\n",
       "      <td>4.6</td>\n",
       "      <td>0</td>\n",
       "    </tr>\n",
       "  </tbody>\n",
       "</table>\n",
       "<p>8797 rows × 15 columns</p>\n",
       "</div>"
      ],
      "text/plain": [
       "            WnvPresent  Tmax  Tmin  Tavg  DewPoint  WetBulb  Heat  Cool  \\\n",
       "Date                                                                      \n",
       "2007-05-29           0    88    60    74        58       65     0     9   \n",
       "2007-05-29           0    88    60    74        58       65     0     9   \n",
       "2007-05-29           0    88    60    74        58       65     0     9   \n",
       "2007-05-29           0    88    60    74        58       65     0     9   \n",
       "2007-05-29           0    88    60    74        58       65     0     9   \n",
       "...                ...   ...   ...   ...       ...      ...   ...   ...   \n",
       "2013-09-26           0    75    55    65        52       58     0     0   \n",
       "2013-09-26           0    75    55    65        52       58     0     0   \n",
       "2013-09-26           1    75    55    65        52       58     0     0   \n",
       "2013-09-26           0    75    55    65        52       58     0     0   \n",
       "2013-09-26           0    75    55    65        52       58     0     0   \n",
       "\n",
       "            PrecipTotal  StnPressure  SeaLevel  ResultSpeed  ResultDir  \\\n",
       "Date                                                                     \n",
       "2007-05-29          0.0        29.39     30.11          5.8         18   \n",
       "2007-05-29          0.0        29.39     30.11          5.8         18   \n",
       "2007-05-29          0.0        29.39     30.11          5.8         18   \n",
       "2007-05-29          0.0        29.39     30.11          5.8         18   \n",
       "2007-05-29          0.0        29.39     30.11          5.8         18   \n",
       "...                 ...          ...       ...          ...        ...   \n",
       "2013-09-26          0.0        29.40     30.04          4.1          9   \n",
       "2013-09-26          0.0        29.40     30.04          4.1          9   \n",
       "2013-09-26          0.0        29.40     30.04          4.1          9   \n",
       "2013-09-26          0.0        29.40     30.04          4.1          9   \n",
       "2013-09-26          0.0        29.40     30.04          4.1          9   \n",
       "\n",
       "            AvgSpeed  BreedCond  \n",
       "Date                             \n",
       "2007-05-29       6.5          0  \n",
       "2007-05-29       6.5          0  \n",
       "2007-05-29       6.5          0  \n",
       "2007-05-29       6.5          0  \n",
       "2007-05-29       6.5          0  \n",
       "...              ...        ...  \n",
       "2013-09-26       4.6          1  \n",
       "2013-09-26       4.6          0  \n",
       "2013-09-26       4.6          0  \n",
       "2013-09-26       4.6          0  \n",
       "2013-09-26       4.6          0  \n",
       "\n",
       "[8797 rows x 15 columns]"
      ]
     },
     "execution_count": 23,
     "metadata": {},
     "output_type": "execute_result"
    }
   ],
   "source": [
    "df_corr"
   ]
  },
  {
   "cell_type": "code",
   "execution_count": 24,
   "id": "1e9e81c4-1817-4060-b065-c8296838dfe5",
   "metadata": {},
   "outputs": [
    {
     "data": {
      "image/png": "[encoded data removed]",
      "text/plain": [
       "<Figure size 1440x720 with 2 Axes>"
      ]
     },
     "metadata": {
      "needs_background": "light"
     },
     "output_type": "display_data"
    }
   ],
   "source": [
    "# Plotting heatmap to find the correlation between each feature with SalePrice\n",
    "mask = np.zeros_like(df_corr.corr())\n",
    "mask[np.triu_indices_from(mask)] = True\n",
    "\n",
    "plt.figure(figsize=(20, 10))\n",
    "sns.heatmap(\n",
    "    df_corr.corr(),\n",
    "    cmap='coolwarm',\n",
    "    annot=True,\n",
    "    mask = mask\n",
    ");"
   ]
  },
  {
   "cell_type": "code",
   "execution_count": 25,
   "id": "0bcdcc8b-9a85-42de-8faf-e738dd1f4ff1",
   "metadata": {},
   "outputs": [
    {
     "data": {
      "text/plain": [
       "['WnvPresent',\n",
       " 'Tmax',\n",
       " 'Tmin',\n",
       " 'Tavg',\n",
       " 'DewPoint',\n",
       " 'WetBulb',\n",
       " 'Cool',\n",
       " 'PrecipTotal',\n",
       " 'BreedCond']"
      ]
     },
     "execution_count": 25,
     "metadata": {},
     "output_type": "execute_result"
    }
   ],
   "source": [
    "# To define the value the P-value\n",
    "P = 0.0\n",
    "\n",
    "# To return the o-value with response to BreedCondition\n",
    "high_corr = df_corr.corr()['BreedCond']\n",
    "\n",
    "# To return the feature with p-value higher than P\n",
    "high_corr = high_corr[high_corr.values > P ]\n",
    "\n",
    "# To define as list\n",
    "high_corr = high_corr.index.tolist()\n",
    "\n",
    "high_corr"
   ]
  },
  {
   "cell_type": "code",
   "execution_count": 26,
   "id": "bc2765ea-5c81-4742-b773-2006bf66657e",
   "metadata": {},
   "outputs": [
    {
     "data": {
      "text/plain": [
       "['Tmax', 'Tmin', 'Tavg', 'DewPoint', 'WetBulb', 'Cool', 'PrecipTotal']"
      ]
     },
     "execution_count": 26,
     "metadata": {},
     "output_type": "execute_result"
    }
   ],
   "source": [
    "# to define the high correlation feature list for plotting\n",
    "high_corr_plot = high_corr.copy()\n",
    "\n",
    "# As breed condtion is part of the correspodence, hence it is remove.\n",
    "# WNVPresent is also removed as it would be the predicted value in next model\n",
    "high_corr_plot.remove('BreedCond')\n",
    "high_corr_plot.remove('WnvPresent')\n",
    "high_corr_plot"
   ]
  },
  {
   "cell_type": "code",
   "execution_count": 27,
   "id": "692b3ac2-5a3b-4c97-a913-9da369b4d082",
   "metadata": {},
   "outputs": [
    {
     "data": {
      "text/plain": [
       "<seaborn.axisgrid.PairGrid at 0x1499a3550>"
      ]
     },
     "execution_count": 27,
     "metadata": {},
     "output_type": "execute_result"
    },
    {
     "data": {
      "image/png": "[encoded data removed]",
      "text/plain": [
       "<Figure size 1260x180 with 7 Axes>"
      ]
     },
     "metadata": {
      "needs_background": "light"
     },
     "output_type": "display_data"
    }
   ],
   "source": [
    "# Plot pairplot to check on the distribution against SalePrice\n",
    "sns.pairplot(df_train, y_vars = ['BreedCond'] , x_vars = high_corr_plot,  kind=\"reg\", plot_kws={'line_kws':{'color':'red'}})"
   ]
  },
  {
   "cell_type": "code",
   "execution_count": 28,
   "id": "1886c964-5d66-404f-97c2-50050a6956f8",
   "metadata": {},
   "outputs": [],
   "source": [
    "# As Trap_cluster is one of the important in identifying the location, hence it is added into the high_corr\n",
    "high_corr.extend(['Trap', 'Species','CodeSum'])"
   ]
  },
  {
   "cell_type": "code",
   "execution_count": 29,
   "id": "448ddc00-9223-4777-842a-7c0f6a9678bb",
   "metadata": {},
   "outputs": [
    {
     "data": {
      "text/plain": [
       "['WnvPresent',\n",
       " 'Tmax',\n",
       " 'Tmin',\n",
       " 'Tavg',\n",
       " 'DewPoint',\n",
       " 'WetBulb',\n",
       " 'Cool',\n",
       " 'PrecipTotal',\n",
       " 'BreedCond',\n",
       " 'Trap',\n",
       " 'Species',\n",
       " 'CodeSum']"
      ]
     },
     "execution_count": 29,
     "metadata": {},
     "output_type": "execute_result"
    }
   ],
   "source": [
    "high_corr"
   ]
  },
  {
   "cell_type": "markdown",
   "id": "8c03705c-d4cc-4984-816e-103cf684a0fa",
   "metadata": {},
   "source": [
    "### Creating Train Set with High Correlation Features"
   ]
  },
  {
   "cell_type": "code",
   "execution_count": 30,
   "id": "4b644740-fa8c-40a9-9d8b-8bacb931253e",
   "metadata": {
    "tags": []
   },
   "outputs": [
    {
     "name": "stdout",
     "output_type": "stream",
     "text": [
      "(8797, 12)\n"
     ]
    },
    {
     "data": {
      "text/html": [
       "<div>\n",
       "<style scoped>\n",
       "    .dataframe tbody tr th:only-of-type {\n",
       "        vertical-align: middle;\n",
       "    }\n",
       "\n",
       "    .dataframe tbody tr th {\n",
       "        vertical-align: top;\n",
       "    }\n",
       "\n",
       "    .dataframe thead th {\n",
       "        text-align: right;\n",
       "    }\n",
       "</style>\n",
       "<table border=\"1\" class=\"dataframe\">\n",
       "  <thead>\n",
       "    <tr style=\"text-align: right;\">\n",
       "      <th></th>\n",
       "      <th>WnvPresent</th>\n",
       "      <th>Tmax</th>\n",
       "      <th>Tmin</th>\n",
       "      <th>Tavg</th>\n",
       "      <th>DewPoint</th>\n",
       "      <th>WetBulb</th>\n",
       "      <th>Cool</th>\n",
       "      <th>PrecipTotal</th>\n",
       "      <th>BreedCond</th>\n",
       "      <th>Trap</th>\n",
       "      <th>Species</th>\n",
       "      <th>CodeSum</th>\n",
       "    </tr>\n",
       "    <tr>\n",
       "      <th>Date</th>\n",
       "      <th></th>\n",
       "      <th></th>\n",
       "      <th></th>\n",
       "      <th></th>\n",
       "      <th></th>\n",
       "      <th></th>\n",
       "      <th></th>\n",
       "      <th></th>\n",
       "      <th></th>\n",
       "      <th></th>\n",
       "      <th></th>\n",
       "      <th></th>\n",
       "    </tr>\n",
       "  </thead>\n",
       "  <tbody>\n",
       "    <tr>\n",
       "      <th>2007-05-29</th>\n",
       "      <td>0</td>\n",
       "      <td>88</td>\n",
       "      <td>60</td>\n",
       "      <td>74</td>\n",
       "      <td>58</td>\n",
       "      <td>65</td>\n",
       "      <td>9</td>\n",
       "      <td>0.0</td>\n",
       "      <td>0</td>\n",
       "      <td>T002</td>\n",
       "      <td>CULEX PIPIENS/RESTUANS</td>\n",
       "      <td>BRHZ</td>\n",
       "    </tr>\n",
       "    <tr>\n",
       "      <th>2007-05-29</th>\n",
       "      <td>0</td>\n",
       "      <td>88</td>\n",
       "      <td>60</td>\n",
       "      <td>74</td>\n",
       "      <td>58</td>\n",
       "      <td>65</td>\n",
       "      <td>9</td>\n",
       "      <td>0.0</td>\n",
       "      <td>0</td>\n",
       "      <td>T002</td>\n",
       "      <td>CULEX RESTUANS</td>\n",
       "      <td>BRHZ</td>\n",
       "    </tr>\n",
       "    <tr>\n",
       "      <th>2007-05-29</th>\n",
       "      <td>0</td>\n",
       "      <td>88</td>\n",
       "      <td>60</td>\n",
       "      <td>74</td>\n",
       "      <td>58</td>\n",
       "      <td>65</td>\n",
       "      <td>9</td>\n",
       "      <td>0.0</td>\n",
       "      <td>0</td>\n",
       "      <td>T007</td>\n",
       "      <td>CULEX RESTUANS</td>\n",
       "      <td>BRHZ</td>\n",
       "    </tr>\n",
       "    <tr>\n",
       "      <th>2007-05-29</th>\n",
       "      <td>0</td>\n",
       "      <td>88</td>\n",
       "      <td>60</td>\n",
       "      <td>74</td>\n",
       "      <td>58</td>\n",
       "      <td>65</td>\n",
       "      <td>9</td>\n",
       "      <td>0.0</td>\n",
       "      <td>0</td>\n",
       "      <td>T015</td>\n",
       "      <td>CULEX PIPIENS/RESTUANS</td>\n",
       "      <td>BRHZ</td>\n",
       "    </tr>\n",
       "    <tr>\n",
       "      <th>2007-05-29</th>\n",
       "      <td>0</td>\n",
       "      <td>88</td>\n",
       "      <td>60</td>\n",
       "      <td>74</td>\n",
       "      <td>58</td>\n",
       "      <td>65</td>\n",
       "      <td>9</td>\n",
       "      <td>0.0</td>\n",
       "      <td>0</td>\n",
       "      <td>T015</td>\n",
       "      <td>CULEX RESTUANS</td>\n",
       "      <td>BRHZ</td>\n",
       "    </tr>\n",
       "  </tbody>\n",
       "</table>\n",
       "</div>"
      ],
      "text/plain": [
       "            WnvPresent  Tmax  Tmin  Tavg  DewPoint  WetBulb  Cool  \\\n",
       "Date                                                                \n",
       "2007-05-29           0    88    60    74        58       65     9   \n",
       "2007-05-29           0    88    60    74        58       65     9   \n",
       "2007-05-29           0    88    60    74        58       65     9   \n",
       "2007-05-29           0    88    60    74        58       65     9   \n",
       "2007-05-29           0    88    60    74        58       65     9   \n",
       "\n",
       "            PrecipTotal  BreedCond  Trap                 Species CodeSum  \n",
       "Date                                                                      \n",
       "2007-05-29          0.0          0  T002  CULEX PIPIENS/RESTUANS    BRHZ  \n",
       "2007-05-29          0.0          0  T002          CULEX RESTUANS    BRHZ  \n",
       "2007-05-29          0.0          0  T007          CULEX RESTUANS    BRHZ  \n",
       "2007-05-29          0.0          0  T015  CULEX PIPIENS/RESTUANS    BRHZ  \n",
       "2007-05-29          0.0          0  T015          CULEX RESTUANS    BRHZ  "
      ]
     },
     "execution_count": 30,
     "metadata": {},
     "output_type": "execute_result"
    }
   ],
   "source": [
    "df_train_act = df_train[high_corr]\n",
    "\n",
    "print(df_train_act.shape)\n",
    "df_train_act.head()"
   ]
  },
  {
   "cell_type": "markdown",
   "id": "d611c9da-8ac1-40fa-b48f-78fecf02bd15",
   "metadata": {
    "tags": []
   },
   "source": [
    "### Creating Test Set with high correlation Features"
   ]
  },
  {
   "cell_type": "code",
   "execution_count": 31,
   "id": "69e1e57a-7f45-437b-91a2-cc42b1bcea2c",
   "metadata": {},
   "outputs": [],
   "source": [
    "# Remove 'BreedCond' & 'WnvPresent' from the high_corr list for test set\n",
    "# Both features are part of the prediction in which it does not exist in test set\n",
    "high_corr.remove('BreedCond')\n",
    "high_corr.remove('WnvPresent')\n",
    "high_corr.append('Id')"
   ]
  },
  {
   "cell_type": "code",
   "execution_count": 32,
   "id": "c4b5db16-04e5-448b-966b-de2862f5f643",
   "metadata": {},
   "outputs": [
    {
     "name": "stdout",
     "output_type": "stream",
     "text": [
      "(116293, 11)\n"
     ]
    },
    {
     "data": {
      "text/html": [
       "<div>\n",
       "<style scoped>\n",
       "    .dataframe tbody tr th:only-of-type {\n",
       "        vertical-align: middle;\n",
       "    }\n",
       "\n",
       "    .dataframe tbody tr th {\n",
       "        vertical-align: top;\n",
       "    }\n",
       "\n",
       "    .dataframe thead th {\n",
       "        text-align: right;\n",
       "    }\n",
       "</style>\n",
       "<table border=\"1\" class=\"dataframe\">\n",
       "  <thead>\n",
       "    <tr style=\"text-align: right;\">\n",
       "      <th></th>\n",
       "      <th>Tmax</th>\n",
       "      <th>Tmin</th>\n",
       "      <th>Tavg</th>\n",
       "      <th>DewPoint</th>\n",
       "      <th>WetBulb</th>\n",
       "      <th>Cool</th>\n",
       "      <th>PrecipTotal</th>\n",
       "      <th>Trap</th>\n",
       "      <th>Species</th>\n",
       "      <th>CodeSum</th>\n",
       "      <th>Id</th>\n",
       "    </tr>\n",
       "    <tr>\n",
       "      <th>Date</th>\n",
       "      <th></th>\n",
       "      <th></th>\n",
       "      <th></th>\n",
       "      <th></th>\n",
       "      <th></th>\n",
       "      <th></th>\n",
       "      <th></th>\n",
       "      <th></th>\n",
       "      <th></th>\n",
       "      <th></th>\n",
       "      <th></th>\n",
       "    </tr>\n",
       "  </thead>\n",
       "  <tbody>\n",
       "    <tr>\n",
       "      <th>2008-06-11</th>\n",
       "      <td>86</td>\n",
       "      <td>61</td>\n",
       "      <td>74</td>\n",
       "      <td>56</td>\n",
       "      <td>64</td>\n",
       "      <td>9</td>\n",
       "      <td>0.0</td>\n",
       "      <td>T002</td>\n",
       "      <td>CULEX PIPIENS/RESTUANS</td>\n",
       "      <td>moderate</td>\n",
       "      <td>1</td>\n",
       "    </tr>\n",
       "    <tr>\n",
       "      <th>2008-06-11</th>\n",
       "      <td>86</td>\n",
       "      <td>61</td>\n",
       "      <td>74</td>\n",
       "      <td>56</td>\n",
       "      <td>64</td>\n",
       "      <td>9</td>\n",
       "      <td>0.0</td>\n",
       "      <td>T002</td>\n",
       "      <td>CULEX RESTUANS</td>\n",
       "      <td>moderate</td>\n",
       "      <td>2</td>\n",
       "    </tr>\n",
       "    <tr>\n",
       "      <th>2008-06-11</th>\n",
       "      <td>86</td>\n",
       "      <td>61</td>\n",
       "      <td>74</td>\n",
       "      <td>56</td>\n",
       "      <td>64</td>\n",
       "      <td>9</td>\n",
       "      <td>0.0</td>\n",
       "      <td>T002</td>\n",
       "      <td>CULEX PIPIENS</td>\n",
       "      <td>moderate</td>\n",
       "      <td>3</td>\n",
       "    </tr>\n",
       "    <tr>\n",
       "      <th>2008-06-11</th>\n",
       "      <td>86</td>\n",
       "      <td>61</td>\n",
       "      <td>74</td>\n",
       "      <td>56</td>\n",
       "      <td>64</td>\n",
       "      <td>9</td>\n",
       "      <td>0.0</td>\n",
       "      <td>T002</td>\n",
       "      <td>CULEX SALINARIUS</td>\n",
       "      <td>moderate</td>\n",
       "      <td>4</td>\n",
       "    </tr>\n",
       "    <tr>\n",
       "      <th>2008-06-11</th>\n",
       "      <td>86</td>\n",
       "      <td>61</td>\n",
       "      <td>74</td>\n",
       "      <td>56</td>\n",
       "      <td>64</td>\n",
       "      <td>9</td>\n",
       "      <td>0.0</td>\n",
       "      <td>T002</td>\n",
       "      <td>CULEX TERRITANS</td>\n",
       "      <td>moderate</td>\n",
       "      <td>5</td>\n",
       "    </tr>\n",
       "  </tbody>\n",
       "</table>\n",
       "</div>"
      ],
      "text/plain": [
       "            Tmax  Tmin  Tavg  DewPoint  WetBulb  Cool  PrecipTotal  Trap  \\\n",
       "Date                                                                       \n",
       "2008-06-11    86    61    74        56       64     9          0.0  T002   \n",
       "2008-06-11    86    61    74        56       64     9          0.0  T002   \n",
       "2008-06-11    86    61    74        56       64     9          0.0  T002   \n",
       "2008-06-11    86    61    74        56       64     9          0.0  T002   \n",
       "2008-06-11    86    61    74        56       64     9          0.0  T002   \n",
       "\n",
       "                           Species   CodeSum  Id  \n",
       "Date                                              \n",
       "2008-06-11  CULEX PIPIENS/RESTUANS  moderate   1  \n",
       "2008-06-11          CULEX RESTUANS  moderate   2  \n",
       "2008-06-11           CULEX PIPIENS  moderate   3  \n",
       "2008-06-11        CULEX SALINARIUS  moderate   4  \n",
       "2008-06-11         CULEX TERRITANS  moderate   5  "
      ]
     },
     "execution_count": 32,
     "metadata": {},
     "output_type": "execute_result"
    }
   ],
   "source": [
    "df_test_act = df_test[high_corr]\n",
    "\n",
    "print(df_test_act.shape)\n",
    "df_test_act.head()"
   ]
  },
  {
   "cell_type": "markdown",
   "id": "b58c4be1-bc17-43ec-b851-61261f0e22ec",
   "metadata": {},
   "source": [
    "# Balancing the Datasets "
   ]
  },
  {
   "cell_type": "code",
   "execution_count": 33,
   "id": "f0b824bb-7dfd-4e9d-a149-2081da93ed6e",
   "metadata": {},
   "outputs": [
    {
     "data": {
      "text/plain": [
       "0    0.962942\n",
       "1    0.037058\n",
       "Name: WnvPresent, dtype: float64"
      ]
     },
     "execution_count": 33,
     "metadata": {},
     "output_type": "execute_result"
    }
   ],
   "source": [
    "# Identify the value counts of the y-variable\n",
    "df_train_act['WnvPresent'].value_counts(normalize = True)"
   ]
  },
  {
   "cell_type": "markdown",
   "id": "2194d68d-909c-4681-ad37-c87e76a13c21",
   "metadata": {},
   "source": [
    "Inference:\n",
    "\n",
    "As the datasets is highly unbalaned with ratio of 96%% vs 4% between WNV being not present vs present, to ensure the model can perform well, we would be looking at balancing the datasets.\n",
    "\n",
    "Approaches to reduce the imbalanced dataset, the followings steps are to be taken;\n",
    "- Drop rows with mosquitos species with no history of carrying WNV\n",
    "- Drop rows with lower Tmin, Tmax, Weather Conditions where there was no history of mosquito breeding in that weather\n",
    "\n",
    "By applying these measures, the datasets should be slightly better in terms of balancing."
   ]
  },
  {
   "cell_type": "markdown",
   "id": "0bbe4120-a54f-4fed-87fc-de3f9626672f",
   "metadata": {},
   "source": [
    "## Remove rows with Mosquito with no history of carrying WNV"
   ]
  },
  {
   "cell_type": "code",
   "execution_count": 34,
   "id": "c82cc515-54fd-42fb-8266-c390f73f4271",
   "metadata": {},
   "outputs": [
    {
     "data": {
      "image/png": "[encoded data removed]",
      "text/plain": [
       "<Figure size 1008x648 with 1 Axes>"
      ]
     },
     "metadata": {
      "needs_background": "light"
     },
     "output_type": "display_data"
    }
   ],
   "source": [
    "plt.figure(figsize = (14, 9))\n",
    "sns.barplot(data=df_train_act, x=df_train_act.index.year, y=\"WnvPresent\", hue=\"Species\", ci = None)\n",
    "plt.title(\"Mosquitos Species Indentified with WNV Virus\", fontsize = 20)\n",
    "\n",
    "plt.grid(color='g', linestyle=':', linewidth=0.5, visible = bool )\n",
    "plt.legend()\n",
    "plt.ylabel('Present of WNV', fontsize = 16)\n",
    "plt.xlabel('Mosquito Species', fontsize = 16)\n",
    "plt.savefig('./image/bar_species_virus.jpg')\n",
    "plt.tight_layout()\n",
    "plt.show()"
   ]
  },
  {
   "cell_type": "markdown",
   "id": "d5f2f09d-8643-4855-93d3-153658243f3b",
   "metadata": {},
   "source": [
    "Inference:\n",
    "\n",
    "Based on the barchart above, we could infer that only 3 species of mosquitos carry the WNV. As 6 types of mosquitoes were noted during the survey, we would be dropping away rows that captured the 'Culex Salanarius', 'Culex Territans' & 'Culex Tarsalis' from our data."
   ]
  },
  {
   "cell_type": "code",
   "execution_count": 35,
   "id": "1c2c6d43-b224-4465-aebe-39a0646a056e",
   "metadata": {},
   "outputs": [],
   "source": [
    "# Define undangerous mosquito in list\n",
    "undan_species = ['CULEX SALINARIUS', 'CULEX TERRITANS', 'CULEX TARSALIS']"
   ]
  },
  {
   "cell_type": "code",
   "execution_count": 36,
   "id": "fad21049-ab0a-4b82-8f66-797a16a8f6f3",
   "metadata": {},
   "outputs": [
    {
     "name": "stdout",
     "output_type": "stream",
     "text": [
      "Before removing undangerous mosquito species, the train dataset has (8797, 12)\n",
      "After removing undangerous mosquito species, the train dataset has (8501, 12)\n"
     ]
    }
   ],
   "source": [
    "# Remove the rows with undan_species from the datasets\n",
    "print(f'Before removing undangerous mosquito species, the train dataset has {df_train_act.shape}')\n",
    "df_train_act = df_train_act[~df_train_act['Species'].isin(undan_species)]\n",
    "print(f'After removing undangerous mosquito species, the train dataset has {df_train_act.shape}')"
   ]
  },
  {
   "cell_type": "code",
   "execution_count": 37,
   "id": "bddc3ac2-5980-4b08-864a-aa299cf83556",
   "metadata": {},
   "outputs": [
    {
     "name": "stdout",
     "output_type": "stream",
     "text": [
      "Before removing undangerous mosquito species, the test dataset has (116293, 11)\n",
      "After removing undangerous mosquito species, the test dataset has (73240, 11)\n"
     ]
    }
   ],
   "source": [
    "# Remove the rows with undan_species from the datasets\n",
    "print(f'Before removing undangerous mosquito species, the test dataset has {df_test_act.shape}')\n",
    "df_test_act = df_test_act[~df_test_act['Species'].isin(undan_species)]\n",
    "print(f'After removing undangerous mosquito species, the test dataset has {df_test_act.shape}')"
   ]
  },
  {
   "cell_type": "code",
   "execution_count": 38,
   "id": "e625ab0f-fb2a-448d-b189-c64f6f58ca97",
   "metadata": {},
   "outputs": [
    {
     "data": {
      "text/plain": [
       "array(['CULEX PIPIENS/RESTUANS', 'CULEX RESTUANS', 'CULEX PIPIENS',\n",
       "       'UNSPECIFIED CULEX', 'CULEX ERRATICUS'], dtype=object)"
      ]
     },
     "execution_count": 38,
     "metadata": {},
     "output_type": "execute_result"
    }
   ],
   "source": [
    "# To counter check on the mosquito species in the test set\n",
    "df_test_act['Species'].unique()"
   ]
  },
  {
   "cell_type": "markdown",
   "id": "bb957382-22ba-437c-b8a6-c4760f8e2d5f",
   "metadata": {},
   "source": [
    "Inference:\n",
    "\n",
    "Since there are additional 2 species of mosquitos that were not found in the train dataset, these rows will be dropped"
   ]
  },
  {
   "cell_type": "code",
   "execution_count": 39,
   "id": "3717abda-1963-4219-b062-e0a2d578602a",
   "metadata": {},
   "outputs": [
    {
     "data": {
      "text/plain": [
       "{'CULEX ERRATICUS', 'UNSPECIFIED CULEX'}"
      ]
     },
     "execution_count": 39,
     "metadata": {},
     "output_type": "execute_result"
    }
   ],
   "source": [
    "# Since there are differences in number of species, a list is created with species of mosquitos that were only found in test set\n",
    "diff_species = set(df_test_act['Species']).difference(set(df_train_act['Species']))\n",
    "diff_species"
   ]
  },
  {
   "cell_type": "code",
   "execution_count": 40,
   "id": "a663690c-f3cc-4abc-970d-3e0f79c1b498",
   "metadata": {},
   "outputs": [
    {
     "name": "stdout",
     "output_type": "stream",
     "text": [
      "Before removing additional mosquito species, the test dataset has (73240, 11)\n",
      "After removing additional mosquito species, the test dataset has (44550, 11)\n"
     ]
    }
   ],
   "source": [
    "# Remove the rows with additional species from the test datasets\n",
    "print(f'Before removing additional mosquito species, the test dataset has {df_test_act.shape}')\n",
    "df_test_act = df_test_act[~df_test_act['Species'].isin(diff_species)]\n",
    "print(f'After removing additional mosquito species, the test dataset has {df_test_act.shape}')"
   ]
  },
  {
   "cell_type": "markdown",
   "id": "7c13ca52-a5b7-42ef-b07c-6a5a02428051",
   "metadata": {},
   "source": [
    "## Identify Minimum Temperature for WNV Carrying Mosquito Breeding"
   ]
  },
  {
   "cell_type": "code",
   "execution_count": 41,
   "id": "a3474444-c70d-4224-a817-ce104fd9fed1",
   "metadata": {},
   "outputs": [
    {
     "data": {
      "image/png": "[encoded data removed]",
      "text/plain": [
       "<Figure size 1008x648 with 1 Axes>"
      ]
     },
     "metadata": {
      "needs_background": "light"
     },
     "output_type": "display_data"
    }
   ],
   "source": [
    "plt.figure(figsize = (14, 9))\n",
    "sns.barplot(data=df_train_act, x=\"Tmin\", y=\"BreedCond\", hue=\"WnvPresent\", ci = None)\n",
    "plt.title(\"Breeding Condition for WNV Virus against Tmin\", fontsize = 20)\n",
    "\n",
    "plt.grid(color='g', linestyle=':', linewidth=0.5, visible = bool )\n",
    "plt.legend()\n",
    "plt.ylabel('Breeding Condition', fontsize = 16)\n",
    "plt.xlabel('Tmin', fontsize = 16)\n",
    "plt.savefig('./image/bar_tmin_virus.jpg')\n",
    "plt.tight_layout()\n",
    "plt.show()"
   ]
  },
  {
   "cell_type": "markdown",
   "id": "9865514c-6e1f-4e42-ae73-c183145d381c",
   "metadata": {},
   "source": [
    "Inference:\n",
    "\n",
    "As we could see, where Tmin falls below 45 Farenheit, the breeding of WNV carrying mosquitos is null. Hence, these rows will be removed."
   ]
  },
  {
   "cell_type": "code",
   "execution_count": 42,
   "id": "9e503937-7ae6-4797-8acd-344f022139ac",
   "metadata": {},
   "outputs": [],
   "source": [
    "# Define minimum temperature for breeding of WNV\n",
    "tmin_limit = 45"
   ]
  },
  {
   "cell_type": "code",
   "execution_count": 43,
   "id": "fcfd4af2-66f4-4e60-b75b-2f2260b8f9e2",
   "metadata": {},
   "outputs": [
    {
     "name": "stdout",
     "output_type": "stream",
     "text": [
      "Before removing rows with Tmin lower than the limit, the train dataset has (8501, 12)\n",
      "After removing rows with Tmin lower than the limit, the train dataset has (8371, 12)\n"
     ]
    }
   ],
   "source": [
    "# Remove the rows with Tmin below the tmin_limit\n",
    "print(f'Before removing rows with Tmin lower than the limit, the train dataset has {df_train_act.shape}')\n",
    "df_train_act = df_train_act[df_train_act['Tmin'] > tmin_limit]\n",
    "print(f'After removing rows with Tmin lower than the limit, the train dataset has {df_train_act.shape}')"
   ]
  },
  {
   "cell_type": "code",
   "execution_count": 44,
   "id": "53c531d7-24ca-47d5-afb7-84cf45750136",
   "metadata": {},
   "outputs": [
    {
     "name": "stdout",
     "output_type": "stream",
     "text": [
      "Before removing rows with Tmin lower than the limit, the test dataset has  (44550, 11)\n",
      "After removing rows with Tmin lower than the limit, the test dataset has (44550, 11)\n"
     ]
    }
   ],
   "source": [
    "# Remove the rows with Tmin below the tmin_limit\n",
    "print(f'Before removing rows with Tmin lower than the limit, the test dataset has  {df_test_act.shape}')\n",
    "df_test_act = df_test_act[df_test_act['Tmin'] > tmin_limit]\n",
    "print(f'After removing rows with Tmin lower than the limit, the test dataset has {df_test_act.shape}')"
   ]
  },
  {
   "cell_type": "markdown",
   "id": "9ad1bf7c-c88e-4748-bc06-bc72710976fe",
   "metadata": {},
   "source": [
    "## Identify lowest Maximum Temperature for WNV Carrying Mosquito Breeding"
   ]
  },
  {
   "cell_type": "code",
   "execution_count": 45,
   "id": "cd6af249-6f64-4bc1-b18b-09308ca1aa90",
   "metadata": {},
   "outputs": [
    {
     "data": {
      "image/png": "[encoded data removed]",
      "text/plain": [
       "<Figure size 1008x648 with 1 Axes>"
      ]
     },
     "metadata": {
      "needs_background": "light"
     },
     "output_type": "display_data"
    }
   ],
   "source": [
    "plt.figure(figsize = (14, 9))\n",
    "sns.barplot(data=df_train_act, x=\"Tmax\", y=\"BreedCond\", hue=\"WnvPresent\", ci = None)\n",
    "plt.title(\"Breeding Condition for WNV Virus against Tmax\", fontsize = 20)\n",
    "\n",
    "plt.grid(color='g', linestyle=':', linewidth=0.5, visible = bool )\n",
    "plt.legend()\n",
    "plt.ylabel('Breeding Condition', fontsize = 16)\n",
    "plt.xlabel('Tmax', fontsize = 16)\n",
    "plt.savefig('./image/bar_tmax_virus.jpg')\n",
    "plt.tight_layout()\n",
    "plt.show()"
   ]
  },
  {
   "cell_type": "markdown",
   "id": "eef31c78-0e87-45de-ab3c-af31ebcfe6f0",
   "metadata": {},
   "source": [
    "Inference:\n",
    "\n",
    "As we could see, where Tmax falls below 61 Farenheit, the breeding of WNV carrying mosquitos is null. Hence, these rows will be removed."
   ]
  },
  {
   "cell_type": "code",
   "execution_count": 46,
   "id": "b58fb22d-7eea-454a-8407-82cb28f0661a",
   "metadata": {},
   "outputs": [],
   "source": [
    "# Define minimum temperature for breeding of WNV\n",
    "tmax_limit = 61"
   ]
  },
  {
   "cell_type": "code",
   "execution_count": 47,
   "id": "2d61d4ea-4b75-47c0-9be4-fc386e8f78b5",
   "metadata": {},
   "outputs": [
    {
     "name": "stdout",
     "output_type": "stream",
     "text": [
      "Before removing rows with Tmax lower than the limit, the train dataset has (8371, 12)\n",
      "After removing rows with Tmax lower than the limit, the train dataset has (8251, 12)\n"
     ]
    }
   ],
   "source": [
    "# Remove the rows with Tmax over the tmax_limit\n",
    "print(f'Before removing rows with Tmax lower than the limit, the train dataset has {df_train_act.shape}')\n",
    "df_train_act = df_train_act[df_train_act['Tmax'] > tmax_limit]\n",
    "print(f'After removing rows with Tmax lower than the limit, the train dataset has {df_train_act.shape}')"
   ]
  },
  {
   "cell_type": "code",
   "execution_count": 48,
   "id": "b4792ce8-3aad-4ae1-bd8a-8af1e48aeada",
   "metadata": {},
   "outputs": [
    {
     "name": "stdout",
     "output_type": "stream",
     "text": [
      "Before removing rows with Tmax lower than the limit, the test dataset has  (44550, 11)\n",
      "After removing rows with Tmax lower than the limit, the test dataset has (44083, 11)\n"
     ]
    }
   ],
   "source": [
    "# Remove the rows with Tmax below the tmin_limit\n",
    "print(f'Before removing rows with Tmax lower than the limit, the test dataset has  {df_test_act.shape}')\n",
    "df_test_act = df_test_act[df_test_act['Tmax'] > tmax_limit]\n",
    "print(f'After removing rows with Tmax lower than the limit, the test dataset has {df_test_act.shape}')"
   ]
  },
  {
   "cell_type": "markdown",
   "id": "031eb424-d0ad-49d6-8f0a-0a8ad25976c0",
   "metadata": {},
   "source": [
    "## Identify lowest Weather Condition for WNV Carrying Mosquito Breeding"
   ]
  },
  {
   "cell_type": "code",
   "execution_count": 49,
   "id": "b47eb27a-3341-4e21-be33-ece8f47a0b98",
   "metadata": {},
   "outputs": [
    {
     "data": {
      "image/png": "[encoded data removed]",
      "text/plain": [
       "<Figure size 1008x648 with 1 Axes>"
      ]
     },
     "metadata": {
      "needs_background": "light"
     },
     "output_type": "display_data"
    }
   ],
   "source": [
    "plt.figure(figsize = (14, 9))\n",
    "sns.barplot(data=df_train_act, x=\"CodeSum\", y=\"BreedCond\", hue=\"WnvPresent\", ci = None)\n",
    "plt.title(\"Breeding Condition for WNV Virus against Weather Condition\", fontsize = 20)\n",
    "\n",
    "plt.grid(color='g', linestyle=':', linewidth=0.5, visible = bool )\n",
    "plt.legend()\n",
    "plt.ylabel('Breeding Condition', fontsize = 16)\n",
    "plt.xlabel('Weather Condition', fontsize = 16)\n",
    "plt.xticks(rotation = 90)\n",
    "plt.savefig('./image/bar_weatcon_virus.jpg')\n",
    "plt.tight_layout()\n",
    "plt.show()"
   ]
  },
  {
   "cell_type": "markdown",
   "id": "91c2c04c-36fe-4304-97ed-93dd7a7b24b6",
   "metadata": {},
   "source": [
    "Inference:\n",
    "\n",
    "We noticed that some weather conditon does not promote breeding of WNV carrying mosquitos or even suitable for mosquitos to breed on. \n",
    "Hence, we would identify the condtions where the it is not suitable for breeding of WNV mosquitos"
   ]
  },
  {
   "cell_type": "code",
   "execution_count": 50,
   "id": "7bb3d018-0456-499b-a99f-e64b42d7dcb2",
   "metadata": {},
   "outputs": [
    {
     "data": {
      "text/plain": [
       "['TSRA',\n",
       " 'TSTSRARAVCTS',\n",
       " 'TSRARABRVCTS',\n",
       " 'TSTSRABRHZ',\n",
       " 'TSTSRABR',\n",
       " 'TSRABRHZVCTS',\n",
       " 'DZBR']"
      ]
     },
     "execution_count": 50,
     "metadata": {},
     "output_type": "execute_result"
    }
   ],
   "source": [
    "# Identify weather condtion where Wnv is absent\n",
    "code_sum_0 = df_train_act[df_train_act['WnvPresent'] == 0]['CodeSum'].unique()\n",
    "\n",
    "# Identify weather condition where WNV is present\n",
    "code_sum_1 = df_train_act[df_train_act['WnvPresent'] == 1]['CodeSum'].unique()\n",
    "\n",
    "# To identify weather condition where WNV is always absent\n",
    "code_sum_diff = list(set(code_sum_0).difference(set(code_sum_1)))\n",
    "code_sum_diff"
   ]
  },
  {
   "cell_type": "code",
   "execution_count": 51,
   "id": "2d7b7827-cc04-4935-9bc3-095ec71a9f5d",
   "metadata": {},
   "outputs": [
    {
     "name": "stdout",
     "output_type": "stream",
     "text": [
      "Before removing rows with weaather condition where WNV mosquito will not breed, the train dataset has (8251, 12)\n",
      "After removing rows with weaather condition where WNV mosquito will not breed, the train dataset has (7957, 12)\n"
     ]
    }
   ],
   "source": [
    "# Remove the rows with weaather condition where WNV mosquito will not breed from the datasets\n",
    "print(f'Before removing rows with weaather condition where WNV mosquito will not breed, the train dataset has {df_train_act.shape}')\n",
    "df_train_act = df_train_act[~df_train_act['CodeSum'].isin(code_sum_diff)]\n",
    "print(f'After removing rows with weaather condition where WNV mosquito will not breed, the train dataset has {df_train_act.shape}')"
   ]
  },
  {
   "cell_type": "code",
   "execution_count": 52,
   "id": "8772cdb2-45fd-4742-8b1d-230b8d19ac60",
   "metadata": {},
   "outputs": [
    {
     "name": "stdout",
     "output_type": "stream",
     "text": [
      "Before removing rows with weaather condition where WNV mosquito will not breed, the test dataset has (44083, 11)\n",
      "After removing rows with weaather condition where WNV mosquito will not breed, the test dataset has (42234, 11)\n"
     ]
    }
   ],
   "source": [
    "# Remove the rows with weaather condition where WNV mosquito will not breed from the datasets\n",
    "print(f'Before removing rows with weaather condition where WNV mosquito will not breed, the test dataset has {df_test_act.shape}')\n",
    "df_test_act = df_test_act[~df_test_act['CodeSum'].isin(code_sum_diff)]\n",
    "print(f'After removing rows with weaather condition where WNV mosquito will not breed, the test dataset has {df_test_act.shape}')"
   ]
  },
  {
   "cell_type": "code",
   "execution_count": 53,
   "id": "9cac31e0-93ac-42cd-ac28-c2498b71f092",
   "metadata": {},
   "outputs": [
    {
     "data": {
      "text/plain": [
       "{'BCFGBR',\n",
       " 'DZ',\n",
       " 'RADZ',\n",
       " 'TS',\n",
       " 'TSBR',\n",
       " 'TSRAFG+BRHZ',\n",
       " 'TSRARABRHZ',\n",
       " 'TSRARABRHZVCTS',\n",
       " 'TSRARAVCTS',\n",
       " 'TSTSRARA'}"
      ]
     },
     "execution_count": 53,
     "metadata": {},
     "output_type": "execute_result"
    }
   ],
   "source": [
    "# Since there are differences in number of weather conditions, a list is created with weather conditions that were only found in test set\n",
    "diff_code_sum = set(df_test_act['CodeSum']).difference(set(df_train_act['CodeSum']))\n",
    "diff_code_sum"
   ]
  },
  {
   "cell_type": "code",
   "execution_count": 54,
   "id": "1a82e5f6-a7b5-49aa-8059-521080250e01",
   "metadata": {},
   "outputs": [
    {
     "name": "stdout",
     "output_type": "stream",
     "text": [
      "Before removing additional weather condition, the test dataset has (42234, 11)\n",
      "After removing additional weather condition, the test dataset has (38869, 11)\n"
     ]
    }
   ],
   "source": [
    "# Remove the rows with additional weather condition from the test datasets\n",
    "print(f'Before removing additional weather condition, the test dataset has {df_test_act.shape}')\n",
    "df_test_act = df_test_act[~df_test_act['CodeSum'].isin(diff_code_sum)]\n",
    "print(f'After removing additional weather condition, the test dataset has {df_test_act.shape}')"
   ]
  },
  {
   "cell_type": "code",
   "execution_count": 55,
   "id": "61dfd8ed-2b6e-45f7-aad1-a1b9087f4a20",
   "metadata": {},
   "outputs": [
    {
     "data": {
      "text/plain": [
       "0    8471\n",
       "1     326\n",
       "Name: WnvPresent, dtype: int64"
      ]
     },
     "execution_count": 55,
     "metadata": {},
     "output_type": "execute_result"
    }
   ],
   "source": [
    "df_train['WnvPresent'].value_counts()"
   ]
  },
  {
   "cell_type": "code",
   "execution_count": 56,
   "id": "10451aea-c0aa-4f50-b4c7-b57bc49b8d35",
   "metadata": {},
   "outputs": [
    {
     "data": {
      "text/plain": [
       "0    7631\n",
       "1     326\n",
       "Name: WnvPresent, dtype: int64"
      ]
     },
     "execution_count": 56,
     "metadata": {},
     "output_type": "execute_result"
    }
   ],
   "source": [
    "df_train_act['WnvPresent'].value_counts()"
   ]
  },
  {
   "cell_type": "code",
   "execution_count": null,
   "id": "a6580329-e493-461b-96f2-a2ffa6aa956a",
   "metadata": {},
   "outputs": [],
   "source": []
  },
  {
   "cell_type": "markdown",
   "id": "04f3e426-5b61-485d-b689-ddd18e340797",
   "metadata": {},
   "source": [
    "## Identify Cooling Temperature for WNV Carrying Mosquito Breeding"
   ]
  },
  {
   "cell_type": "code",
   "execution_count": 57,
   "id": "d5fe51c7-1ede-4e3b-a596-9b6cdecee183",
   "metadata": {},
   "outputs": [
    {
     "data": {
      "image/png": "[encoded data removed]",
      "text/plain": [
       "<Figure size 1008x648 with 1 Axes>"
      ]
     },
     "metadata": {
      "needs_background": "light"
     },
     "output_type": "display_data"
    }
   ],
   "source": [
    "plt.figure(figsize = (14, 9))\n",
    "sns.barplot(data=df_train_act, x=\"Cool\", y=\"BreedCond\", hue=\"WnvPresent\", ci = None)\n",
    "plt.title(\"Breeding Condition for WNV Virus against Cool Temperature\", fontsize = 20)\n",
    "\n",
    "plt.grid(color='g', linestyle=':', linewidth=0.5, visible = bool )\n",
    "plt.legend()\n",
    "plt.ylabel('Breeding Condition', fontsize = 16)\n",
    "plt.xlabel('Weather Condition', fontsize = 16)\n",
    "plt.xticks(rotation = 90)\n",
    "plt.savefig('./image/bar_cool_virus.jpg')\n",
    "plt.tight_layout()\n",
    "plt.show()"
   ]
  },
  {
   "cell_type": "markdown",
   "id": "17b7f0e4-25a8-472f-ae16-7b4a20b013a9",
   "metadata": {},
   "source": [
    "Inference:\n",
    "\n",
    "Noticed that when the temperature is 1 to 5 degrees below the 65 Fahrenheit, we noticed that the grow of WNV mosquito is null. \n",
    "When the cool value is 18, we noticed that there are 0 Present of WNV mosquito as well. However, this may be an outliers situation. Hence this row is not removed."
   ]
  },
  {
   "cell_type": "code",
   "execution_count": 58,
   "id": "8c7bbc2a-2054-4504-a08c-4522cbbce830",
   "metadata": {},
   "outputs": [],
   "source": [
    "# To define the list of values to be removed from 'cool'\n",
    "cool_lim = list(range(1,6))"
   ]
  },
  {
   "cell_type": "code",
   "execution_count": 59,
   "id": "dd34bd36-a37b-4e77-8d84-843b74cc3017",
   "metadata": {},
   "outputs": [
    {
     "data": {
      "text/html": [
       "<div>\n",
       "<style scoped>\n",
       "    .dataframe tbody tr th:only-of-type {\n",
       "        vertical-align: middle;\n",
       "    }\n",
       "\n",
       "    .dataframe tbody tr th {\n",
       "        vertical-align: top;\n",
       "    }\n",
       "\n",
       "    .dataframe thead th {\n",
       "        text-align: right;\n",
       "    }\n",
       "</style>\n",
       "<table border=\"1\" class=\"dataframe\">\n",
       "  <thead>\n",
       "    <tr style=\"text-align: right;\">\n",
       "      <th></th>\n",
       "      <th>WnvPresent</th>\n",
       "      <th>Tmax</th>\n",
       "      <th>Tmin</th>\n",
       "      <th>Tavg</th>\n",
       "      <th>DewPoint</th>\n",
       "      <th>WetBulb</th>\n",
       "      <th>Cool</th>\n",
       "      <th>PrecipTotal</th>\n",
       "      <th>BreedCond</th>\n",
       "      <th>Trap</th>\n",
       "      <th>Species</th>\n",
       "      <th>CodeSum</th>\n",
       "    </tr>\n",
       "    <tr>\n",
       "      <th>Date</th>\n",
       "      <th></th>\n",
       "      <th></th>\n",
       "      <th></th>\n",
       "      <th></th>\n",
       "      <th></th>\n",
       "      <th></th>\n",
       "      <th></th>\n",
       "      <th></th>\n",
       "      <th></th>\n",
       "      <th></th>\n",
       "      <th></th>\n",
       "      <th></th>\n",
       "    </tr>\n",
       "  </thead>\n",
       "  <tbody>\n",
       "    <tr>\n",
       "      <th>2007-10-04</th>\n",
       "      <td>1</td>\n",
       "      <td>83</td>\n",
       "      <td>56</td>\n",
       "      <td>70</td>\n",
       "      <td>56</td>\n",
       "      <td>62</td>\n",
       "      <td>5</td>\n",
       "      <td>0.0</td>\n",
       "      <td>0</td>\n",
       "      <td>T062</td>\n",
       "      <td>CULEX PIPIENS</td>\n",
       "      <td>moderate</td>\n",
       "    </tr>\n",
       "    <tr>\n",
       "      <th>2007-10-04</th>\n",
       "      <td>1</td>\n",
       "      <td>83</td>\n",
       "      <td>56</td>\n",
       "      <td>70</td>\n",
       "      <td>56</td>\n",
       "      <td>62</td>\n",
       "      <td>5</td>\n",
       "      <td>0.0</td>\n",
       "      <td>0</td>\n",
       "      <td>T156</td>\n",
       "      <td>CULEX PIPIENS</td>\n",
       "      <td>moderate</td>\n",
       "    </tr>\n",
       "    <tr>\n",
       "      <th>2009-09-03</th>\n",
       "      <td>1</td>\n",
       "      <td>75</td>\n",
       "      <td>56</td>\n",
       "      <td>66</td>\n",
       "      <td>54</td>\n",
       "      <td>59</td>\n",
       "      <td>1</td>\n",
       "      <td>0.0</td>\n",
       "      <td>0</td>\n",
       "      <td>T900</td>\n",
       "      <td>CULEX RESTUANS</td>\n",
       "      <td>moderate</td>\n",
       "    </tr>\n",
       "  </tbody>\n",
       "</table>\n",
       "</div>"
      ],
      "text/plain": [
       "            WnvPresent  Tmax  Tmin  Tavg  DewPoint  WetBulb  Cool  \\\n",
       "Date                                                                \n",
       "2007-10-04           1    83    56    70        56       62     5   \n",
       "2007-10-04           1    83    56    70        56       62     5   \n",
       "2009-09-03           1    75    56    66        54       59     1   \n",
       "\n",
       "            PrecipTotal  BreedCond  Trap         Species   CodeSum  \n",
       "Date                                                                \n",
       "2007-10-04          0.0          0  T062   CULEX PIPIENS  moderate  \n",
       "2007-10-04          0.0          0  T156   CULEX PIPIENS  moderate  \n",
       "2009-09-03          0.0          0  T900  CULEX RESTUANS  moderate  "
      ]
     },
     "execution_count": 59,
     "metadata": {},
     "output_type": "execute_result"
    }
   ],
   "source": [
    "# Identify if there is any present of WNV within the define list\n",
    "df_train_act[(df_train_act['Cool'].isin(cool_lim)) & (df_train_act['WnvPresent'] == 1)]"
   ]
  },
  {
   "cell_type": "markdown",
   "id": "876e32ee-d905-4227-8832-bcea7f149172",
   "metadata": {},
   "source": [
    "Inference:\n",
    "\n",
    "Seems like 'Cool' are not able to 100% eliminate the present of WNV as we could see present of WNV when the value is 1 and 5. Based on this observation, the rows that are define in `cool_lim` will not be removed."
   ]
  },
  {
   "cell_type": "code",
   "execution_count": 60,
   "id": "3c7cc82c-f917-4fec-b946-e29de2fd2a93",
   "metadata": {},
   "outputs": [
    {
     "data": {
      "text/plain": [
       "0    0.95903\n",
       "1    0.04097\n",
       "Name: WnvPresent, dtype: float64"
      ]
     },
     "execution_count": 60,
     "metadata": {},
     "output_type": "execute_result"
    }
   ],
   "source": [
    "df_train_act['WnvPresent'].value_counts(normalize = True)"
   ]
  },
  {
   "cell_type": "markdown",
   "id": "a5b70d87-a43d-4d7b-8e73-06136e8e6b5c",
   "metadata": {
    "tags": []
   },
   "source": [
    "# Creating new dataframe for Train & Test Datasets"
   ]
  },
  {
   "cell_type": "markdown",
   "id": "201bc52c-b232-4251-8f8f-6b976b8c28b8",
   "metadata": {},
   "source": [
    "## Creating Train and Test Set for Model 1\n",
    "Model 1 is to predict Breeding Condition in which the features are mainly relying on weather. Hence, 'Trap' and 'Species' will be removed.\n",
    "The ordinal feature will be one-hot encoded"
   ]
  },
  {
   "cell_type": "code",
   "execution_count": 61,
   "id": "23f70409-97a1-473a-a354-852ca3ca10e9",
   "metadata": {},
   "outputs": [
    {
     "name": "stdout",
     "output_type": "stream",
     "text": [
      "(7957, 10)\n",
      "(38869, 9)\n"
     ]
    }
   ],
   "source": [
    "# Train dataset for Model 1\n",
    "df_train_m1 = df_train_act.copy()\n",
    "df_train_m1.drop(['Species', 'Trap'], axis = 1, inplace = True)\n",
    "print(df_train_m1.shape)\n",
    "\n",
    "# Test dataset for Model 1\n",
    "df_test_m1 = df_test_act.copy()\n",
    "df_test_m1.drop(['Species', 'Trap'], axis = 1, inplace = True)\n",
    "print(df_test_m1.shape)"
   ]
  },
  {
   "cell_type": "markdown",
   "id": "72d9afdd-0fae-4a6f-bbdc-41f2d6b35622",
   "metadata": {},
   "source": [
    "### One Hot Encoded - `CodeSum`"
   ]
  },
  {
   "cell_type": "code",
   "execution_count": 62,
   "id": "0365477f-f802-4ba6-93b1-752c73364c01",
   "metadata": {},
   "outputs": [
    {
     "name": "stdout",
     "output_type": "stream",
     "text": [
      "18\n",
      "12\n"
     ]
    }
   ],
   "source": [
    "# Number of Trap in Train Dataset\n",
    "print(df_train_m1['CodeSum'].nunique())\n",
    "print(df_test_m1['CodeSum'].nunique())"
   ]
  },
  {
   "cell_type": "code",
   "execution_count": 63,
   "id": "e792c339-3840-4c6d-be80-97bedb61ae1d",
   "metadata": {},
   "outputs": [
    {
     "name": "stdout",
     "output_type": "stream",
     "text": [
      "{'VCTS', 'TSRABRHZ', 'TSRAHZ', 'TSTSRARAFGBRHZ', 'TSRARADZBRHZ', 'TSTSRARABRHZVCTS'}\n",
      "{'VCTS', 'TSRABRHZ', 'TSRAHZ', 'TSTSRARAFGBRHZ', 'TSRARADZBRHZ', 'TSTSRARABRHZVCTS'}\n"
     ]
    }
   ],
   "source": [
    "# Since there are differences in number of weather condition, adjustment is required to identify the code prior dummify\n",
    "train_test_diff = set(df_train_m1['CodeSum']).difference(set(df_test_m1['CodeSum']))\n",
    "print(train_test_diff)\n",
    "\n",
    "test_train_diff = set(df_test_m1['CodeSum']).difference(set(df_train_m1['CodeSum']))\n",
    "print(train_test_diff)"
   ]
  },
  {
   "cell_type": "code",
   "execution_count": 64,
   "id": "4344e206-8287-4e47-99f6-2766ba46886c",
   "metadata": {},
   "outputs": [
    {
     "data": {
      "text/plain": [
       "(7957, 26)"
      ]
     },
     "execution_count": 64,
     "metadata": {},
     "output_type": "execute_result"
    }
   ],
   "source": [
    "# To dummify the categorical datasets for Train \n",
    "df_train_m1 = pd.get_dummies(df_train_m1, columns = ['CodeSum'], drop_first = True)\n",
    "df_train_m1.shape"
   ]
  },
  {
   "cell_type": "code",
   "execution_count": 65,
   "id": "7e5cb378-c24f-49ca-a287-10f394e860b6",
   "metadata": {},
   "outputs": [
    {
     "data": {
      "text/plain": [
       "(38869, 19)"
      ]
     },
     "execution_count": 65,
     "metadata": {},
     "output_type": "execute_result"
    }
   ],
   "source": [
    "# To dummify the categorical datasets for test \n",
    "df_test_m1 = pd.get_dummies(df_test_m1, columns = ['CodeSum'], drop_first = True)\n",
    "df_test_m1.shape"
   ]
  },
  {
   "cell_type": "code",
   "execution_count": 66,
   "id": "a8de4242-8bc6-4b43-a672-73e7cb6a6c9a",
   "metadata": {},
   "outputs": [
    {
     "name": "stdout",
     "output_type": "stream",
     "text": [
      "(38869, 25)\n"
     ]
    }
   ],
   "source": [
    "# Define empty list to store missing Weather Condition in train dataset\n",
    "add_code_t = []\n",
    "for a_code in list(train_test_diff):\n",
    "    add_code_t.append('CodeSum_' + a_code)\n",
    "\n",
    "# To add in missing weather condition from train set and assign the value as 0\n",
    "df_test_m1[add_code_t] = 0\n",
    "\n",
    "print(df_test_m1.shape)"
   ]
  },
  {
   "cell_type": "code",
   "execution_count": 67,
   "id": "8427c842-dc0b-44c7-8815-ad4e1e99dcb0",
   "metadata": {},
   "outputs": [],
   "source": [
    "# To rearrange the column in alphabetical order\n",
    "df_train_m1.sort_index(axis=1, inplace=True)\n",
    "df_test_m1.sort_index(axis=1, inplace=True)\n"
   ]
  },
  {
   "cell_type": "markdown",
   "id": "1a603280-1f38-46a4-956e-5d422f76b209",
   "metadata": {
    "tags": []
   },
   "source": [
    "### Exporting of Datasets"
   ]
  },
  {
   "cell_type": "code",
   "execution_count": 68,
   "id": "d377c19b-f915-4243-b484-b482dd325135",
   "metadata": {},
   "outputs": [],
   "source": [
    "# df_train_m1.to_csv('./assets/df_train_m1.csv', index=False)\n",
    "# df_test_m1.to_csv('./assets/df_test_m1.csv', index=False)"
   ]
  },
  {
   "cell_type": "markdown",
   "id": "4264cd9c-634e-4ebe-9dbf-d853bcabd944",
   "metadata": {},
   "source": [
    "## Creating Train and Test Set for Model 2\n",
    "Model 2 is to predict Present of WNV in which the features are mainly relying on breeding conditon, trap location and species. Hence, weather related features will be removed.\n",
    "The ordinal feature will be one-hot encoded"
   ]
  },
  {
   "cell_type": "code",
   "execution_count": 69,
   "id": "fffae828-f133-4da9-97dc-1269e04c7134",
   "metadata": {},
   "outputs": [
    {
     "data": {
      "text/plain": [
       "Index(['WnvPresent', 'Tmax', 'Tmin', 'Tavg', 'DewPoint', 'WetBulb', 'Cool',\n",
       "       'PrecipTotal', 'BreedCond', 'Trap', 'Species', 'CodeSum'],\n",
       "      dtype='object')"
      ]
     },
     "execution_count": 69,
     "metadata": {},
     "output_type": "execute_result"
    }
   ],
   "source": [
    "df_train_act.columns"
   ]
  },
  {
   "cell_type": "code",
   "execution_count": 70,
   "id": "c2087429-8e73-4401-9467-971e8be7c176",
   "metadata": {},
   "outputs": [
    {
     "name": "stdout",
     "output_type": "stream",
     "text": [
      "(7957, 4)\n",
      "(38869, 3)\n"
     ]
    }
   ],
   "source": [
    "# Train dataset for Model 2\n",
    "df_train_m2 = df_train_act[['WnvPresent','BreedCond', 'Trap', 'Species']]\n",
    "print(df_train_m2.shape)\n",
    "\n",
    "# Test dataset for Model 2\n",
    "df_test_m2 = df_test_act[['Trap', 'Species', 'Id']]\n",
    "print(df_test_m2.shape)"
   ]
  },
  {
   "cell_type": "markdown",
   "id": "d51ce7e8-f113-48ac-a508-64cdd9703c77",
   "metadata": {},
   "source": [
    "### One Hot Encoded - `Trap`"
   ]
  },
  {
   "cell_type": "code",
   "execution_count": 71,
   "id": "9e374c8c-128d-4b86-9886-4dffaabebcd7",
   "metadata": {},
   "outputs": [
    {
     "name": "stdout",
     "output_type": "stream",
     "text": [
      "136\n",
      "149\n"
     ]
    }
   ],
   "source": [
    "# Number of Trap in Train Dataset\n",
    "print(df_train_m2['Trap'].nunique())\n",
    "print(df_test_m2['Trap'].nunique())"
   ]
  },
  {
   "cell_type": "code",
   "execution_count": 72,
   "id": "f3566f84-f94e-4c18-a77e-91db1a9f8f72",
   "metadata": {},
   "outputs": [
    {
     "name": "stdout",
     "output_type": "stream",
     "text": [
      "set()\n",
      "{'T002B', 'T065A', 'T234', 'T090A', 'T002A', 'T090C', 'T200B', 'T218B', 'T200A', 'T090B', 'T218C', 'T128A', 'T218A'}\n"
     ]
    }
   ],
   "source": [
    "# Since there are differences in number of trap, adjustment is required to identify the trap prior dummify\n",
    "train_test_diff = set(df_train_m2['Trap']).difference(set(df_test_m2['Trap']))\n",
    "print(train_test_diff)\n",
    "\n",
    "test_train_diff = set(df_test_m2['Trap']).difference(set(df_train_m2['Trap']))\n",
    "print(test_train_diff)"
   ]
  },
  {
   "cell_type": "code",
   "execution_count": 73,
   "id": "02456da1-fcc6-4de9-abf0-18a8a878b708",
   "metadata": {},
   "outputs": [
    {
     "data": {
      "text/plain": [
       "(7957, 138)"
      ]
     },
     "execution_count": 73,
     "metadata": {},
     "output_type": "execute_result"
    }
   ],
   "source": [
    "# To dummify the categorical datasets\n",
    "df_train_m2 = pd.get_dummies(df_train_m2, columns = ['Trap'], drop_first = True)\n",
    "df_train_m2.shape"
   ]
  },
  {
   "cell_type": "code",
   "execution_count": 74,
   "id": "04524a3c-2bdb-45a5-94b2-2400c88600e4",
   "metadata": {},
   "outputs": [
    {
     "name": "stdout",
     "output_type": "stream",
     "text": [
      "(7957, 151)\n"
     ]
    }
   ],
   "source": [
    "# Define empty list to store missing traps in train dataset\n",
    "add_trap = []\n",
    "for a_trap in list(test_train_diff):\n",
    "    add_trap.append('Trap_' + a_trap)\n",
    "\n",
    "# To add in missing traps from train set and assign the value as 0\n",
    "df_train_m2[add_trap] = 0\n",
    "\n",
    "print(df_train_m2.shape)"
   ]
  },
  {
   "cell_type": "code",
   "execution_count": 75,
   "id": "5539b1c7-28b9-499c-a6bf-a17487642120",
   "metadata": {},
   "outputs": [],
   "source": [
    "# To dummify the categorical datasets\n",
    "df_test_m2 = pd.get_dummies(df_test_m2, columns = ['Trap'], drop_first = True)"
   ]
  },
  {
   "cell_type": "code",
   "execution_count": 76,
   "id": "1d3853a5-8974-4c3b-a868-9c95a6850bb9",
   "metadata": {},
   "outputs": [
    {
     "data": {
      "text/plain": [
       "(38869, 150)"
      ]
     },
     "execution_count": 76,
     "metadata": {},
     "output_type": "execute_result"
    }
   ],
   "source": [
    "df_test_m2.shape"
   ]
  },
  {
   "cell_type": "markdown",
   "id": "3c114a12-1bcb-4cca-be6b-5e2655e11d66",
   "metadata": {},
   "source": [
    "### One Hot Encoded - `Species`"
   ]
  },
  {
   "cell_type": "code",
   "execution_count": 77,
   "id": "2f176bee-2618-48bc-8a1a-cda68a81ad39",
   "metadata": {},
   "outputs": [
    {
     "name": "stdout",
     "output_type": "stream",
     "text": [
      "3\n",
      "3\n"
     ]
    }
   ],
   "source": [
    "# Number of Species in Train Dataset\n",
    "print(df_train_m2['Species'].nunique())\n",
    "print(df_test_m2['Species'].nunique())"
   ]
  },
  {
   "cell_type": "code",
   "execution_count": 78,
   "id": "b3243d77-05e5-4ebc-bec5-0a8a8042225d",
   "metadata": {},
   "outputs": [
    {
     "name": "stdout",
     "output_type": "stream",
     "text": [
      "set()\n",
      "set()\n"
     ]
    }
   ],
   "source": [
    "# Since there are differences in number of mosquito Species, adjustment is required to identify the species prior dummify\n",
    "train_test_diff = set(df_train_m2['Species']).difference(set(df_test_m2['Species']))\n",
    "print(train_test_diff)\n",
    "\n",
    "test_train_diff = set(df_test_m2['Species']).difference(set(df_train_m2['Species']))\n",
    "print(test_train_diff)"
   ]
  },
  {
   "cell_type": "markdown",
   "id": "96839eb3-28ce-4d25-83c7-9dce5a757933",
   "metadata": {},
   "source": [
    "Inference:\n",
    "\n",
    "No additional mosquito species is identified."
   ]
  },
  {
   "cell_type": "code",
   "execution_count": 79,
   "id": "d8456dad-79ac-4fab-b9d9-66e3cd5a0f00",
   "metadata": {},
   "outputs": [],
   "source": [
    "# To rearrange the column in alphabetical order\n",
    "df_train_m2.sort_index(axis=1, inplace=True)\n",
    "df_test_m2.sort_index(axis=1, inplace=True)\n"
   ]
  },
  {
   "cell_type": "markdown",
   "id": "317540a1-b991-40dc-b11d-b136c21c1117",
   "metadata": {
    "tags": []
   },
   "source": [
    "### Exporting of Datasets"
   ]
  },
  {
   "cell_type": "code",
   "execution_count": 80,
   "id": "c44c6113-1aae-4bd9-af1b-ee1d4f17c0ba",
   "metadata": {},
   "outputs": [],
   "source": [
    "# df_train_m2.to_csv('./assets/df_train_m2.csv', index=False)\n",
    "# df_test_m2.to_csv('./assets/df_test_m2.csv', index=False)"
   ]
  },
  {
   "cell_type": "markdown",
   "id": "c232f708-87b1-4f9c-969a-8734f5a68982",
   "metadata": {},
   "source": [
    "# Model 1 - Prediction for Breeding Condition"
   ]
  },
  {
   "cell_type": "code",
   "execution_count": 81,
   "id": "47551d90-21f3-49e5-a414-283b4bdcdc24",
   "metadata": {},
   "outputs": [],
   "source": [
    "summ_m1 = pd.DataFrame()\n",
    "def sum_score(model_text, model, X_train, X_test, y_train, y_test, remark = None):\n",
    "    method = model_text\n",
    "    train_score = model.score(X_train, y_train)\n",
    "    test_score = model.score(X_test, y_test)\n",
    "    prediction = model.predict(X_test)\n",
    "    precision = precision_score(y_test, prediction)\n",
    "    recall = recall_score(y_test, prediction)\n",
    "    f1 = f1_score(y_test, prediction)\n",
    "    \n",
    "    summary = pd.DataFrame({\"Model\" : method,\n",
    "                            \"Remark\" : remark,\n",
    "                            \"Train Score\" : train_score,\n",
    "                            \"Test Score\" : test_score,\n",
    "                            \"Precision\" : precision,\n",
    "                            \"Recall\" : recall,\n",
    "                            \"F1 Score\" : f1}, \n",
    "                           index = [0])\n",
    "    return summary\n",
    "    "
   ]
  },
  {
   "cell_type": "code",
   "execution_count": 82,
   "id": "a65198d6-8118-45d3-b71d-acdd2d0f8ef0",
   "metadata": {},
   "outputs": [],
   "source": [
    "# Train Test Split the data for model\n",
    "m1_X = df_train_m1.drop(['BreedCond', 'WnvPresent'], axis = 1)\n",
    "m1_y = df_train_m1['BreedCond']\n",
    "m1_X_train, m1_X_test, m1_y_train, m1_y_test = train_test_split(m1_X, m1_y, test_size=0.2, random_state=42, stratify = m1_y)"
   ]
  },
  {
   "cell_type": "code",
   "execution_count": 83,
   "id": "dd696eef-d037-475a-892d-94914097d382",
   "metadata": {},
   "outputs": [],
   "source": [
    "# Standard Scallar\n",
    "ss = StandardScaler()\n",
    "m1_Z_train = ss.fit_transform(m1_X_train) \n",
    "m1_Z_test = ss.transform(m1_X_test) "
   ]
  },
  {
   "cell_type": "markdown",
   "id": "27a8b576-7a5e-4450-8ad2-34ceaba36f9e",
   "metadata": {},
   "source": [
    "## Prediction with Normal Sampling Datasets and Default Parameters"
   ]
  },
  {
   "cell_type": "markdown",
   "id": "da7a6ada-8e0d-4e83-84a4-26931314c803",
   "metadata": {},
   "source": [
    "### Logistic Regression"
   ]
  },
  {
   "cell_type": "code",
   "execution_count": 84,
   "id": "60ba8ac0-c604-40d1-b73a-250576fd37bc",
   "metadata": {},
   "outputs": [
    {
     "data": {
      "text/html": [
       "<div>\n",
       "<style scoped>\n",
       "    .dataframe tbody tr th:only-of-type {\n",
       "        vertical-align: middle;\n",
       "    }\n",
       "\n",
       "    .dataframe tbody tr th {\n",
       "        vertical-align: top;\n",
       "    }\n",
       "\n",
       "    .dataframe thead th {\n",
       "        text-align: right;\n",
       "    }\n",
       "</style>\n",
       "<table border=\"1\" class=\"dataframe\">\n",
       "  <thead>\n",
       "    <tr style=\"text-align: right;\">\n",
       "      <th></th>\n",
       "      <th>Model</th>\n",
       "      <th>Remark</th>\n",
       "      <th>Train Score</th>\n",
       "      <th>Test Score</th>\n",
       "      <th>Precision</th>\n",
       "      <th>Recall</th>\n",
       "      <th>F1 Score</th>\n",
       "    </tr>\n",
       "  </thead>\n",
       "  <tbody>\n",
       "    <tr>\n",
       "      <th>0</th>\n",
       "      <td>Base Model | Logistic Regression</td>\n",
       "      <td>None</td>\n",
       "      <td>0.714533</td>\n",
       "      <td>0.720477</td>\n",
       "      <td>0.714286</td>\n",
       "      <td>0.134298</td>\n",
       "      <td>0.226087</td>\n",
       "    </tr>\n",
       "  </tbody>\n",
       "</table>\n",
       "</div>"
      ],
      "text/plain": [
       "                              Model Remark  Train Score  Test Score  \\\n",
       "0  Base Model | Logistic Regression   None     0.714533    0.720477   \n",
       "\n",
       "   Precision    Recall  F1 Score  \n",
       "0   0.714286  0.134298  0.226087  "
      ]
     },
     "execution_count": 84,
     "metadata": {},
     "output_type": "execute_result"
    }
   ],
   "source": [
    "# Instantiate model\n",
    "logreg = LogisticRegression(solver = 'newton-cg', random_state = 123) # changing solver b/c of convergence warning\n",
    "\n",
    "# Fit the model\n",
    "logreg.fit(m1_Z_train, m1_y_train)\n",
    "\n",
    "# To showcase the result\n",
    "result = pd.DataFrame(sum_score('Base Model | Logistic Regression', logreg, m1_Z_train, m1_Z_test, m1_y_train, m1_y_test))\n",
    "\n",
    "# To join the result into the summary table\n",
    "summ_m1 = pd.concat([summ_m1, result])\n",
    "\n",
    "# To display result\n",
    "result"
   ]
  },
  {
   "cell_type": "markdown",
   "id": "ba030633-d098-47ac-a414-374df8590807",
   "metadata": {},
   "source": [
    "### K-Neighbor Classifier"
   ]
  },
  {
   "cell_type": "code",
   "execution_count": 85,
   "id": "34baedbd-e36f-417c-9a9e-e5b9129b19e5",
   "metadata": {},
   "outputs": [
    {
     "data": {
      "text/html": [
       "<div>\n",
       "<style scoped>\n",
       "    .dataframe tbody tr th:only-of-type {\n",
       "        vertical-align: middle;\n",
       "    }\n",
       "\n",
       "    .dataframe tbody tr th {\n",
       "        vertical-align: top;\n",
       "    }\n",
       "\n",
       "    .dataframe thead th {\n",
       "        text-align: right;\n",
       "    }\n",
       "</style>\n",
       "<table border=\"1\" class=\"dataframe\">\n",
       "  <thead>\n",
       "    <tr style=\"text-align: right;\">\n",
       "      <th></th>\n",
       "      <th>Model</th>\n",
       "      <th>Remark</th>\n",
       "      <th>Train Score</th>\n",
       "      <th>Test Score</th>\n",
       "      <th>Precision</th>\n",
       "      <th>Recall</th>\n",
       "      <th>F1 Score</th>\n",
       "    </tr>\n",
       "  </thead>\n",
       "  <tbody>\n",
       "    <tr>\n",
       "      <th>0</th>\n",
       "      <td>K Nearest Neighbor</td>\n",
       "      <td>None</td>\n",
       "      <td>0.747997</td>\n",
       "      <td>0.738065</td>\n",
       "      <td>0.604361</td>\n",
       "      <td>0.400826</td>\n",
       "      <td>0.481988</td>\n",
       "    </tr>\n",
       "  </tbody>\n",
       "</table>\n",
       "</div>"
      ],
      "text/plain": [
       "                Model Remark  Train Score  Test Score  Precision    Recall  \\\n",
       "0  K Nearest Neighbor   None     0.747997    0.738065   0.604361  0.400826   \n",
       "\n",
       "   F1 Score  \n",
       "0  0.481988  "
      ]
     },
     "execution_count": 85,
     "metadata": {},
     "output_type": "execute_result"
    }
   ],
   "source": [
    "# Instantiate model\n",
    "knn = KNeighborsClassifier() # changing solver b/c of convergence warning\n",
    "\n",
    "# Fit the model\n",
    "knn.fit(m1_Z_train, m1_y_train)\n",
    "\n",
    "# To showcase the result\n",
    "result = pd.DataFrame(sum_score('K Nearest Neighbor', knn, m1_Z_train, m1_Z_test, m1_y_train, m1_y_test))\n",
    "\n",
    "# To join the result into the summary table\n",
    "summ_m1 = pd.concat([summ_m1, result])\n",
    "\n",
    "# To display result\n",
    "result"
   ]
  },
  {
   "cell_type": "markdown",
   "id": "ab67f9df-7649-48f0-b5f2-c890d67e8b6b",
   "metadata": {},
   "source": [
    "### Decision Tree Classifier"
   ]
  },
  {
   "cell_type": "code",
   "execution_count": 86,
   "id": "92c2d5a7-9e08-417a-8aa3-e16755385ae3",
   "metadata": {},
   "outputs": [
    {
     "data": {
      "text/html": [
       "<div>\n",
       "<style scoped>\n",
       "    .dataframe tbody tr th:only-of-type {\n",
       "        vertical-align: middle;\n",
       "    }\n",
       "\n",
       "    .dataframe tbody tr th {\n",
       "        vertical-align: top;\n",
       "    }\n",
       "\n",
       "    .dataframe thead th {\n",
       "        text-align: right;\n",
       "    }\n",
       "</style>\n",
       "<table border=\"1\" class=\"dataframe\">\n",
       "  <thead>\n",
       "    <tr style=\"text-align: right;\">\n",
       "      <th></th>\n",
       "      <th>Model</th>\n",
       "      <th>Remark</th>\n",
       "      <th>Train Score</th>\n",
       "      <th>Test Score</th>\n",
       "      <th>Precision</th>\n",
       "      <th>Recall</th>\n",
       "      <th>F1 Score</th>\n",
       "    </tr>\n",
       "  </thead>\n",
       "  <tbody>\n",
       "    <tr>\n",
       "      <th>0</th>\n",
       "      <td>Decision Tree Classifier</td>\n",
       "      <td>None</td>\n",
       "      <td>0.774548</td>\n",
       "      <td>0.766332</td>\n",
       "      <td>0.739316</td>\n",
       "      <td>0.357438</td>\n",
       "      <td>0.481894</td>\n",
       "    </tr>\n",
       "  </tbody>\n",
       "</table>\n",
       "</div>"
      ],
      "text/plain": [
       "                      Model Remark  Train Score  Test Score  Precision  \\\n",
       "0  Decision Tree Classifier   None     0.774548    0.766332   0.739316   \n",
       "\n",
       "     Recall  F1 Score  \n",
       "0  0.357438  0.481894  "
      ]
     },
     "execution_count": 86,
     "metadata": {},
     "output_type": "execute_result"
    }
   ],
   "source": [
    "# Instantiate model\n",
    "dt = DecisionTreeClassifier(random_state = 123)\n",
    "\n",
    "# Fit the model\n",
    "dt.fit(m1_Z_train, m1_y_train)\n",
    "\n",
    "# To showcase the result\n",
    "result = pd.DataFrame(sum_score('Decision Tree Classifier', dt, m1_Z_train, m1_Z_test, m1_y_train, m1_y_test))\n",
    "\n",
    "# To join the result into the summary table\n",
    "summ_m1 = pd.concat([summ_m1, result])\n",
    "\n",
    "# To display result\n",
    "result"
   ]
  },
  {
   "cell_type": "markdown",
   "id": "40fc31f0-2fa9-4ab0-a2d7-f497fdeb3dc3",
   "metadata": {},
   "source": [
    "### Bagging Classifier"
   ]
  },
  {
   "cell_type": "code",
   "execution_count": 87,
   "id": "cb7ffb64-dbbc-43fd-8715-812f61bfb29a",
   "metadata": {},
   "outputs": [
    {
     "data": {
      "text/html": [
       "<div>\n",
       "<style scoped>\n",
       "    .dataframe tbody tr th:only-of-type {\n",
       "        vertical-align: middle;\n",
       "    }\n",
       "\n",
       "    .dataframe tbody tr th {\n",
       "        vertical-align: top;\n",
       "    }\n",
       "\n",
       "    .dataframe thead th {\n",
       "        text-align: right;\n",
       "    }\n",
       "</style>\n",
       "<table border=\"1\" class=\"dataframe\">\n",
       "  <thead>\n",
       "    <tr style=\"text-align: right;\">\n",
       "      <th></th>\n",
       "      <th>Model</th>\n",
       "      <th>Remark</th>\n",
       "      <th>Train Score</th>\n",
       "      <th>Test Score</th>\n",
       "      <th>Precision</th>\n",
       "      <th>Recall</th>\n",
       "      <th>F1 Score</th>\n",
       "    </tr>\n",
       "  </thead>\n",
       "  <tbody>\n",
       "    <tr>\n",
       "      <th>0</th>\n",
       "      <td>Bagging Classifier</td>\n",
       "      <td>None</td>\n",
       "      <td>0.774234</td>\n",
       "      <td>0.762563</td>\n",
       "      <td>0.681507</td>\n",
       "      <td>0.411157</td>\n",
       "      <td>0.512887</td>\n",
       "    </tr>\n",
       "  </tbody>\n",
       "</table>\n",
       "</div>"
      ],
      "text/plain": [
       "                Model Remark  Train Score  Test Score  Precision    Recall  \\\n",
       "0  Bagging Classifier   None     0.774234    0.762563   0.681507  0.411157   \n",
       "\n",
       "   F1 Score  \n",
       "0  0.512887  "
      ]
     },
     "execution_count": 87,
     "metadata": {},
     "output_type": "execute_result"
    }
   ],
   "source": [
    "# Instantiate model\n",
    "bagc = BaggingClassifier(random_state = 123)\n",
    "\n",
    "# Fit the model\n",
    "bagc.fit(m1_Z_train, m1_y_train)\n",
    "\n",
    "# To showcase the result\n",
    "result = pd.DataFrame(sum_score('Bagging Classifier', bagc, m1_Z_train, m1_Z_test, m1_y_train, m1_y_test))\n",
    "\n",
    "# To join the result into the summary table\n",
    "summ_m1 = pd.concat([summ_m1, result])\n",
    "\n",
    "# To display result\n",
    "result"
   ]
  },
  {
   "cell_type": "markdown",
   "id": "f4729925-7c85-4ab2-afbf-70a9d98d0376",
   "metadata": {},
   "source": [
    "### Random Forest Classider"
   ]
  },
  {
   "cell_type": "code",
   "execution_count": 88,
   "id": "19a792bc-300a-4d47-97bb-7cb572d86816",
   "metadata": {},
   "outputs": [
    {
     "data": {
      "text/html": [
       "<div>\n",
       "<style scoped>\n",
       "    .dataframe tbody tr th:only-of-type {\n",
       "        vertical-align: middle;\n",
       "    }\n",
       "\n",
       "    .dataframe tbody tr th {\n",
       "        vertical-align: top;\n",
       "    }\n",
       "\n",
       "    .dataframe thead th {\n",
       "        text-align: right;\n",
       "    }\n",
       "</style>\n",
       "<table border=\"1\" class=\"dataframe\">\n",
       "  <thead>\n",
       "    <tr style=\"text-align: right;\">\n",
       "      <th></th>\n",
       "      <th>Model</th>\n",
       "      <th>Remark</th>\n",
       "      <th>Train Score</th>\n",
       "      <th>Test Score</th>\n",
       "      <th>Precision</th>\n",
       "      <th>Recall</th>\n",
       "      <th>F1 Score</th>\n",
       "    </tr>\n",
       "  </thead>\n",
       "  <tbody>\n",
       "    <tr>\n",
       "      <th>0</th>\n",
       "      <td>Random Foreset Classifier</td>\n",
       "      <td>None</td>\n",
       "      <td>0.774548</td>\n",
       "      <td>0.761935</td>\n",
       "      <td>0.696629</td>\n",
       "      <td>0.384298</td>\n",
       "      <td>0.49534</td>\n",
       "    </tr>\n",
       "  </tbody>\n",
       "</table>\n",
       "</div>"
      ],
      "text/plain": [
       "                       Model Remark  Train Score  Test Score  Precision  \\\n",
       "0  Random Foreset Classifier   None     0.774548    0.761935   0.696629   \n",
       "\n",
       "     Recall  F1 Score  \n",
       "0  0.384298   0.49534  "
      ]
     },
     "execution_count": 88,
     "metadata": {},
     "output_type": "execute_result"
    }
   ],
   "source": [
    "# Instantiate model\n",
    "rfc = RandomForestClassifier(random_state = 123)\n",
    "\n",
    "# Fit the model\n",
    "rfc.fit(m1_Z_train, m1_y_train)\n",
    "\n",
    "# To showcase the result\n",
    "result = pd.DataFrame(sum_score('Random Foreset Classifier', rfc, m1_Z_train, m1_Z_test, m1_y_train, m1_y_test))\n",
    "\n",
    "# To join the result into the summary table\n",
    "summ_m1 = pd.concat([summ_m1, result])\n",
    "\n",
    "# To display result\n",
    "result"
   ]
  },
  {
   "cell_type": "markdown",
   "id": "1fc7ca5d-1dc5-489a-8609-8e1b70e40a35",
   "metadata": {},
   "source": [
    "### AdaBoost Classificer"
   ]
  },
  {
   "cell_type": "code",
   "execution_count": 89,
   "id": "ed57fae2-3222-4a25-8e08-9ff04c06186f",
   "metadata": {},
   "outputs": [
    {
     "data": {
      "text/html": [
       "<div>\n",
       "<style scoped>\n",
       "    .dataframe tbody tr th:only-of-type {\n",
       "        vertical-align: middle;\n",
       "    }\n",
       "\n",
       "    .dataframe tbody tr th {\n",
       "        vertical-align: top;\n",
       "    }\n",
       "\n",
       "    .dataframe thead th {\n",
       "        text-align: right;\n",
       "    }\n",
       "</style>\n",
       "<table border=\"1\" class=\"dataframe\">\n",
       "  <thead>\n",
       "    <tr style=\"text-align: right;\">\n",
       "      <th></th>\n",
       "      <th>Model</th>\n",
       "      <th>Remark</th>\n",
       "      <th>Train Score</th>\n",
       "      <th>Test Score</th>\n",
       "      <th>Precision</th>\n",
       "      <th>Recall</th>\n",
       "      <th>F1 Score</th>\n",
       "    </tr>\n",
       "  </thead>\n",
       "  <tbody>\n",
       "    <tr>\n",
       "      <th>0</th>\n",
       "      <td>AdaBoost Classifier</td>\n",
       "      <td>None</td>\n",
       "      <td>0.738256</td>\n",
       "      <td>0.734925</td>\n",
       "      <td>0.738462</td>\n",
       "      <td>0.198347</td>\n",
       "      <td>0.312704</td>\n",
       "    </tr>\n",
       "  </tbody>\n",
       "</table>\n",
       "</div>"
      ],
      "text/plain": [
       "                 Model Remark  Train Score  Test Score  Precision    Recall  \\\n",
       "0  AdaBoost Classifier   None     0.738256    0.734925   0.738462  0.198347   \n",
       "\n",
       "   F1 Score  \n",
       "0  0.312704  "
      ]
     },
     "execution_count": 89,
     "metadata": {},
     "output_type": "execute_result"
    }
   ],
   "source": [
    "# Instantiate model\n",
    "abc = AdaBoostClassifier(random_state = 123)\n",
    "\n",
    "# Fit the model\n",
    "abc.fit(m1_Z_train, m1_y_train)\n",
    "\n",
    "# To showcase the result\n",
    "result = pd.DataFrame(sum_score('AdaBoost Classifier', abc, m1_Z_train, m1_Z_test, m1_y_train, m1_y_test))\n",
    "\n",
    "# To join the result into the summary table\n",
    "summ_m1 = pd.concat([summ_m1, result])\n",
    "\n",
    "# To display result\n",
    "result"
   ]
  },
  {
   "cell_type": "markdown",
   "id": "ecee8921-7a62-4e79-9b26-12023538647b",
   "metadata": {},
   "source": [
    "### Support Vector Classificer"
   ]
  },
  {
   "cell_type": "code",
   "execution_count": 90,
   "id": "6f7882e7-f465-4d0a-9186-e2128efd73f8",
   "metadata": {},
   "outputs": [
    {
     "data": {
      "text/html": [
       "<div>\n",
       "<style scoped>\n",
       "    .dataframe tbody tr th:only-of-type {\n",
       "        vertical-align: middle;\n",
       "    }\n",
       "\n",
       "    .dataframe tbody tr th {\n",
       "        vertical-align: top;\n",
       "    }\n",
       "\n",
       "    .dataframe thead th {\n",
       "        text-align: right;\n",
       "    }\n",
       "</style>\n",
       "<table border=\"1\" class=\"dataframe\">\n",
       "  <thead>\n",
       "    <tr style=\"text-align: right;\">\n",
       "      <th></th>\n",
       "      <th>Model</th>\n",
       "      <th>Remark</th>\n",
       "      <th>Train Score</th>\n",
       "      <th>Test Score</th>\n",
       "      <th>Precision</th>\n",
       "      <th>Recall</th>\n",
       "      <th>F1 Score</th>\n",
       "    </tr>\n",
       "  </thead>\n",
       "  <tbody>\n",
       "    <tr>\n",
       "      <th>0</th>\n",
       "      <td>Support Vector Classifier</td>\n",
       "      <td>None</td>\n",
       "      <td>0.732129</td>\n",
       "      <td>0.738693</td>\n",
       "      <td>0.769841</td>\n",
       "      <td>0.200413</td>\n",
       "      <td>0.318033</td>\n",
       "    </tr>\n",
       "  </tbody>\n",
       "</table>\n",
       "</div>"
      ],
      "text/plain": [
       "                       Model Remark  Train Score  Test Score  Precision  \\\n",
       "0  Support Vector Classifier   None     0.732129    0.738693   0.769841   \n",
       "\n",
       "     Recall  F1 Score  \n",
       "0  0.200413  0.318033  "
      ]
     },
     "execution_count": 90,
     "metadata": {},
     "output_type": "execute_result"
    }
   ],
   "source": [
    "# Instantiate model\n",
    "svc = SVC(random_state = 123)\n",
    "\n",
    "# Fit the model\n",
    "svc.fit(m1_Z_train, m1_y_train)\n",
    "\n",
    "# To showcase the result\n",
    "result = pd.DataFrame(sum_score('Support Vector Classifier', svc, m1_Z_train, m1_Z_test, m1_y_train, m1_y_test))\n",
    "\n",
    "# To join the result into the summary table\n",
    "summ_m1 = pd.concat([summ_m1, result])\n",
    "\n",
    "# To display result\n",
    "result"
   ]
  },
  {
   "cell_type": "code",
   "execution_count": 91,
   "id": "76a61064-b31c-4e76-917d-d8044feecc96",
   "metadata": {},
   "outputs": [
    {
     "data": {
      "text/html": [
       "<div>\n",
       "<style scoped>\n",
       "    .dataframe tbody tr th:only-of-type {\n",
       "        vertical-align: middle;\n",
       "    }\n",
       "\n",
       "    .dataframe tbody tr th {\n",
       "        vertical-align: top;\n",
       "    }\n",
       "\n",
       "    .dataframe thead th {\n",
       "        text-align: right;\n",
       "    }\n",
       "</style>\n",
       "<table border=\"1\" class=\"dataframe\">\n",
       "  <thead>\n",
       "    <tr style=\"text-align: right;\">\n",
       "      <th></th>\n",
       "      <th>Model</th>\n",
       "      <th>Remark</th>\n",
       "      <th>Train Score</th>\n",
       "      <th>Test Score</th>\n",
       "      <th>Precision</th>\n",
       "      <th>Recall</th>\n",
       "      <th>F1 Score</th>\n",
       "    </tr>\n",
       "  </thead>\n",
       "  <tbody>\n",
       "    <tr>\n",
       "      <th>0</th>\n",
       "      <td>Base Model | Logistic Regression</td>\n",
       "      <td>None</td>\n",
       "      <td>0.714533</td>\n",
       "      <td>0.720477</td>\n",
       "      <td>0.714286</td>\n",
       "      <td>0.134298</td>\n",
       "      <td>0.226087</td>\n",
       "    </tr>\n",
       "    <tr>\n",
       "      <th>1</th>\n",
       "      <td>K Nearest Neighbor</td>\n",
       "      <td>None</td>\n",
       "      <td>0.747997</td>\n",
       "      <td>0.738065</td>\n",
       "      <td>0.604361</td>\n",
       "      <td>0.400826</td>\n",
       "      <td>0.481988</td>\n",
       "    </tr>\n",
       "    <tr>\n",
       "      <th>2</th>\n",
       "      <td>Decision Tree Classifier</td>\n",
       "      <td>None</td>\n",
       "      <td>0.774548</td>\n",
       "      <td>0.766332</td>\n",
       "      <td>0.739316</td>\n",
       "      <td>0.357438</td>\n",
       "      <td>0.481894</td>\n",
       "    </tr>\n",
       "    <tr>\n",
       "      <th>3</th>\n",
       "      <td>Bagging Classifier</td>\n",
       "      <td>None</td>\n",
       "      <td>0.774234</td>\n",
       "      <td>0.762563</td>\n",
       "      <td>0.681507</td>\n",
       "      <td>0.411157</td>\n",
       "      <td>0.512887</td>\n",
       "    </tr>\n",
       "    <tr>\n",
       "      <th>4</th>\n",
       "      <td>Random Foreset Classifier</td>\n",
       "      <td>None</td>\n",
       "      <td>0.774548</td>\n",
       "      <td>0.761935</td>\n",
       "      <td>0.696629</td>\n",
       "      <td>0.384298</td>\n",
       "      <td>0.495340</td>\n",
       "    </tr>\n",
       "    <tr>\n",
       "      <th>5</th>\n",
       "      <td>AdaBoost Classifier</td>\n",
       "      <td>None</td>\n",
       "      <td>0.738256</td>\n",
       "      <td>0.734925</td>\n",
       "      <td>0.738462</td>\n",
       "      <td>0.198347</td>\n",
       "      <td>0.312704</td>\n",
       "    </tr>\n",
       "    <tr>\n",
       "      <th>6</th>\n",
       "      <td>Support Vector Classifier</td>\n",
       "      <td>None</td>\n",
       "      <td>0.732129</td>\n",
       "      <td>0.738693</td>\n",
       "      <td>0.769841</td>\n",
       "      <td>0.200413</td>\n",
       "      <td>0.318033</td>\n",
       "    </tr>\n",
       "  </tbody>\n",
       "</table>\n",
       "</div>"
      ],
      "text/plain": [
       "                              Model Remark  Train Score  Test Score  \\\n",
       "0  Base Model | Logistic Regression   None     0.714533    0.720477   \n",
       "1                K Nearest Neighbor   None     0.747997    0.738065   \n",
       "2          Decision Tree Classifier   None     0.774548    0.766332   \n",
       "3                Bagging Classifier   None     0.774234    0.762563   \n",
       "4         Random Foreset Classifier   None     0.774548    0.761935   \n",
       "5               AdaBoost Classifier   None     0.738256    0.734925   \n",
       "6         Support Vector Classifier   None     0.732129    0.738693   \n",
       "\n",
       "   Precision    Recall  F1 Score  \n",
       "0   0.714286  0.134298  0.226087  \n",
       "1   0.604361  0.400826  0.481988  \n",
       "2   0.739316  0.357438  0.481894  \n",
       "3   0.681507  0.411157  0.512887  \n",
       "4   0.696629  0.384298  0.495340  \n",
       "5   0.738462  0.198347  0.312704  \n",
       "6   0.769841  0.200413  0.318033  "
      ]
     },
     "execution_count": 91,
     "metadata": {},
     "output_type": "execute_result"
    }
   ],
   "source": [
    "summ_m1.reset_index(inplace = True)\n",
    "summ_m1.drop(columns = 'index', inplace = True)\n",
    "summ_m1"
   ]
  },
  {
   "cell_type": "code",
   "execution_count": 92,
   "id": "a39cacde-3905-4c12-b2f1-451dadc909a8",
   "metadata": {},
   "outputs": [
    {
     "data": {
      "text/plain": [
       "0    0.695865\n",
       "1    0.304135\n",
       "Name: BreedCond, dtype: float64"
      ]
     },
     "execution_count": 92,
     "metadata": {},
     "output_type": "execute_result"
    }
   ],
   "source": [
    "df_train_m1['BreedCond'].value_counts(normalize = True)"
   ]
  },
  {
   "cell_type": "code",
   "execution_count": 93,
   "id": "c5c1fd0f-de6b-4836-8345-f4f1f8361c60",
   "metadata": {},
   "outputs": [
    {
     "data": {
      "text/plain": [
       "0    5537\n",
       "1    2420\n",
       "Name: BreedCond, dtype: int64"
      ]
     },
     "execution_count": 93,
     "metadata": {},
     "output_type": "execute_result"
    }
   ],
   "source": [
    "df_train_m1['BreedCond'].value_counts()"
   ]
  },
  {
   "cell_type": "code",
   "execution_count": 94,
   "id": "21b310cb-25d6-4ff3-b077-cb2a33092619",
   "metadata": {},
   "outputs": [
    {
     "data": {
      "text/plain": [
       "0    7631\n",
       "1     326\n",
       "Name: WnvPresent, dtype: int64"
      ]
     },
     "execution_count": 94,
     "metadata": {},
     "output_type": "execute_result"
    }
   ],
   "source": [
    "df_train_m1['WnvPresent'].value_counts()"
   ]
  },
  {
   "cell_type": "markdown",
   "id": "831f82a7-5f78-41d4-a490-c6d666030035",
   "metadata": {},
   "source": [
    "Inference:\n",
    "\n",
    "We could see a very low score for both Recall and F1 score. This could be due to the very unbalanced datasets we have despite the effort of removing irrelevant rows of data that is deemed not important in predicting the breeding condition for WNV."
   ]
  },
  {
   "cell_type": "code",
   "execution_count": 95,
   "id": "a83eebe6-cb30-40cc-bc0b-086c09cfd275",
   "metadata": {},
   "outputs": [
    {
     "data": {
      "text/plain": [
       "0    0.695865\n",
       "1    0.304135\n",
       "Name: BreedCond, dtype: float64"
      ]
     },
     "execution_count": 95,
     "metadata": {},
     "output_type": "execute_result"
    }
   ],
   "source": [
    "df_train_m1['BreedCond'].value_counts(normalize = True)"
   ]
  },
  {
   "cell_type": "markdown",
   "id": "b391747f-780a-48c0-a25e-3b61126a1f83",
   "metadata": {},
   "source": [
    "## Prediction with Normal Sampling Datasets and Gridsearc CV"
   ]
  },
  {
   "cell_type": "code",
   "execution_count": 96,
   "id": "e14bc6a7-59b0-4544-a022-e4a74aac0112",
   "metadata": {},
   "outputs": [],
   "source": [
    "remark = 'GSCV'"
   ]
  },
  {
   "cell_type": "markdown",
   "id": "43a7c25d-8a12-4df0-9b29-2b9c5e54eef8",
   "metadata": {},
   "source": [
    "### Logistic Regression"
   ]
  },
  {
   "cell_type": "code",
   "execution_count": 97,
   "id": "6fde1ba1-dc28-4936-8c2c-e4b23177f94f",
   "metadata": {},
   "outputs": [
    {
     "name": "stdout",
     "output_type": "stream",
     "text": [
      "Fitting 5 folds for each of 9 candidates, totalling 45 fits\n"
     ]
    },
    {
     "data": {
      "text/html": [
       "<div>\n",
       "<style scoped>\n",
       "    .dataframe tbody tr th:only-of-type {\n",
       "        vertical-align: middle;\n",
       "    }\n",
       "\n",
       "    .dataframe tbody tr th {\n",
       "        vertical-align: top;\n",
       "    }\n",
       "\n",
       "    .dataframe thead th {\n",
       "        text-align: right;\n",
       "    }\n",
       "</style>\n",
       "<table border=\"1\" class=\"dataframe\">\n",
       "  <thead>\n",
       "    <tr style=\"text-align: right;\">\n",
       "      <th></th>\n",
       "      <th>Model</th>\n",
       "      <th>Remark</th>\n",
       "      <th>Train Score</th>\n",
       "      <th>Test Score</th>\n",
       "      <th>Precision</th>\n",
       "      <th>Recall</th>\n",
       "      <th>F1 Score</th>\n",
       "    </tr>\n",
       "  </thead>\n",
       "  <tbody>\n",
       "    <tr>\n",
       "      <th>0</th>\n",
       "      <td>Logistic Regression</td>\n",
       "      <td>GSCV</td>\n",
       "      <td>0.211714</td>\n",
       "      <td>0.226087</td>\n",
       "      <td>0.714286</td>\n",
       "      <td>0.134298</td>\n",
       "      <td>0.226087</td>\n",
       "    </tr>\n",
       "  </tbody>\n",
       "</table>\n",
       "</div>"
      ],
      "text/plain": [
       "                 Model Remark  Train Score  Test Score  Precision    Recall  \\\n",
       "0  Logistic Regression   GSCV     0.211714    0.226087   0.714286  0.134298   \n",
       "\n",
       "   F1 Score  \n",
       "0  0.226087  "
      ]
     },
     "execution_count": 97,
     "metadata": {},
     "output_type": "execute_result"
    }
   ],
   "source": [
    "# Instantiate model\n",
    "logreg_cv = GridSearchCV(estimator = LogisticRegression(),\n",
    "            param_grid = {'max_iter': [50, 100, 200],\n",
    "                          'solver': ['newton-cg', 'liblinear', 'saga']},\n",
    "                         cv = 5,\n",
    "                         verbose = 1,\n",
    "                        scoring='f1')\n",
    "\n",
    "# Fit the model\n",
    "logreg_cv.fit(m1_Z_train, m1_y_train)\n",
    "\n",
    "# To showcase the result\n",
    "result = pd.DataFrame(sum_score('Logistic Regression', logreg_cv, m1_Z_train, m1_Z_test, m1_y_train, m1_y_test, remark))\n",
    "\n",
    "# To join the result into the summary table\n",
    "summ_m1 = pd.concat([summ_m1, result])\n",
    "\n",
    "# To display result\n",
    "result"
   ]
  },
  {
   "cell_type": "markdown",
   "id": "b4e5af7a-46a8-447b-b258-1513460558e2",
   "metadata": {},
   "source": [
    "### K-Neighbor Classifier"
   ]
  },
  {
   "cell_type": "code",
   "execution_count": 98,
   "id": "54f657c6-bacf-4037-97ad-dfcb62396268",
   "metadata": {},
   "outputs": [
    {
     "name": "stdout",
     "output_type": "stream",
     "text": [
      "Fitting 5 folds for each of 18 candidates, totalling 90 fits\n"
     ]
    },
    {
     "data": {
      "text/html": [
       "<div>\n",
       "<style scoped>\n",
       "    .dataframe tbody tr th:only-of-type {\n",
       "        vertical-align: middle;\n",
       "    }\n",
       "\n",
       "    .dataframe tbody tr th {\n",
       "        vertical-align: top;\n",
       "    }\n",
       "\n",
       "    .dataframe thead th {\n",
       "        text-align: right;\n",
       "    }\n",
       "</style>\n",
       "<table border=\"1\" class=\"dataframe\">\n",
       "  <thead>\n",
       "    <tr style=\"text-align: right;\">\n",
       "      <th></th>\n",
       "      <th>Model</th>\n",
       "      <th>Remark</th>\n",
       "      <th>Train Score</th>\n",
       "      <th>Test Score</th>\n",
       "      <th>Precision</th>\n",
       "      <th>Recall</th>\n",
       "      <th>F1 Score</th>\n",
       "    </tr>\n",
       "  </thead>\n",
       "  <tbody>\n",
       "    <tr>\n",
       "      <th>0</th>\n",
       "      <td>K Nearest Neighbor</td>\n",
       "      <td>GSCV</td>\n",
       "      <td>0.512165</td>\n",
       "      <td>0.481988</td>\n",
       "      <td>0.604361</td>\n",
       "      <td>0.400826</td>\n",
       "      <td>0.481988</td>\n",
       "    </tr>\n",
       "  </tbody>\n",
       "</table>\n",
       "</div>"
      ],
      "text/plain": [
       "                Model Remark  Train Score  Test Score  Precision    Recall  \\\n",
       "0  K Nearest Neighbor   GSCV     0.512165    0.481988   0.604361  0.400826   \n",
       "\n",
       "   F1 Score  \n",
       "0  0.481988  "
      ]
     },
     "execution_count": 98,
     "metadata": {},
     "output_type": "execute_result"
    }
   ],
   "source": [
    "# Instantiate model\n",
    "knn_cv =  GridSearchCV(estimator = KNeighborsClassifier(),\n",
    "            param_grid = {'weights': ['uniform', 'distance'],\n",
    "                          'leaf_size': [20, 30, 40],\n",
    "                          'algorithm': ['auto', 'ball_tree', 'kd_tree']},\n",
    "                         cv = 5,\n",
    "                         verbose = 1,\n",
    "                      scoring='f1')\n",
    "\n",
    "# Fit the model\n",
    "knn_cv.fit(m1_Z_train, m1_y_train)\n",
    "\n",
    "# To showcase the result\n",
    "result = pd.DataFrame(sum_score('K Nearest Neighbor', knn_cv, m1_Z_train, m1_Z_test, m1_y_train, m1_y_test, remark))\n",
    "\n",
    "# To join the result into the summary table\n",
    "summ_m1 = pd.concat([summ_m1, result])\n",
    "\n",
    "# To display result\n",
    "result"
   ]
  },
  {
   "cell_type": "markdown",
   "id": "2d6b8498-86d9-4b9e-a5e4-0346e6202487",
   "metadata": {},
   "source": [
    "### Decision Tree Classifier"
   ]
  },
  {
   "cell_type": "code",
   "execution_count": 99,
   "id": "17758375-869f-4cc2-8896-c2bb3972335c",
   "metadata": {},
   "outputs": [
    {
     "name": "stdout",
     "output_type": "stream",
     "text": [
      "Fitting 5 folds for each of 480 candidates, totalling 2400 fits\n"
     ]
    },
    {
     "data": {
      "text/html": [
       "<div>\n",
       "<style scoped>\n",
       "    .dataframe tbody tr th:only-of-type {\n",
       "        vertical-align: middle;\n",
       "    }\n",
       "\n",
       "    .dataframe tbody tr th {\n",
       "        vertical-align: top;\n",
       "    }\n",
       "\n",
       "    .dataframe thead th {\n",
       "        text-align: right;\n",
       "    }\n",
       "</style>\n",
       "<table border=\"1\" class=\"dataframe\">\n",
       "  <thead>\n",
       "    <tr style=\"text-align: right;\">\n",
       "      <th></th>\n",
       "      <th>Model</th>\n",
       "      <th>Remark</th>\n",
       "      <th>Train Score</th>\n",
       "      <th>Test Score</th>\n",
       "      <th>Precision</th>\n",
       "      <th>Recall</th>\n",
       "      <th>F1 Score</th>\n",
       "    </tr>\n",
       "  </thead>\n",
       "  <tbody>\n",
       "    <tr>\n",
       "      <th>0</th>\n",
       "      <td>Decision Tree Classifier</td>\n",
       "      <td>GSCV</td>\n",
       "      <td>0.468694</td>\n",
       "      <td>0.416667</td>\n",
       "      <td>0.744681</td>\n",
       "      <td>0.289256</td>\n",
       "      <td>0.416667</td>\n",
       "    </tr>\n",
       "  </tbody>\n",
       "</table>\n",
       "</div>"
      ],
      "text/plain": [
       "                      Model Remark  Train Score  Test Score  Precision  \\\n",
       "0  Decision Tree Classifier   GSCV     0.468694    0.416667   0.744681   \n",
       "\n",
       "     Recall  F1 Score  \n",
       "0  0.289256  0.416667  "
      ]
     },
     "execution_count": 99,
     "metadata": {},
     "output_type": "execute_result"
    }
   ],
   "source": [
    "# Instantiate model\n",
    "dt_gridcv = GridSearchCV(estimator = DecisionTreeClassifier(),\n",
    "                    param_grid = {'max_depth': [2, 3, 5, 7],\n",
    "                                  'min_samples_split': [5, 10, 15, 20],\n",
    "                                  'min_samples_leaf': [2, 3, 4, 5, 6],\n",
    "                                  'ccp_alpha': [0, 0.001, 0.01, 0.1, 1, 10]},\n",
    "                         cv = 5,\n",
    "                         verbose = 1,\n",
    "                         scoring='f1')\n",
    "\n",
    "# Fit the model\n",
    "dt_gridcv.fit(m1_Z_train, m1_y_train)\n",
    "\n",
    "# To showcase the result\n",
    "result = pd.DataFrame(sum_score('Decision Tree Classifier', dt_gridcv, m1_Z_train, m1_Z_test, m1_y_train, m1_y_test, remark))\n",
    "\n",
    "# To join the result into the summary table\n",
    "summ_m1 = pd.concat([summ_m1, result])\n",
    "\n",
    "# To display result\n",
    "result"
   ]
  },
  {
   "cell_type": "markdown",
   "id": "4345e1f1-900a-4895-8159-33141ee1ad0e",
   "metadata": {},
   "source": [
    "### Bagging Classifier"
   ]
  },
  {
   "cell_type": "code",
   "execution_count": 100,
   "id": "c8599431-67ff-4423-be08-e8d79b96ddf0",
   "metadata": {},
   "outputs": [
    {
     "name": "stdout",
     "output_type": "stream",
     "text": [
      "Fitting 5 folds for each of 6 candidates, totalling 30 fits\n"
     ]
    },
    {
     "data": {
      "text/html": [
       "<div>\n",
       "<style scoped>\n",
       "    .dataframe tbody tr th:only-of-type {\n",
       "        vertical-align: middle;\n",
       "    }\n",
       "\n",
       "    .dataframe tbody tr th {\n",
       "        vertical-align: top;\n",
       "    }\n",
       "\n",
       "    .dataframe thead th {\n",
       "        text-align: right;\n",
       "    }\n",
       "</style>\n",
       "<table border=\"1\" class=\"dataframe\">\n",
       "  <thead>\n",
       "    <tr style=\"text-align: right;\">\n",
       "      <th></th>\n",
       "      <th>Model</th>\n",
       "      <th>Remark</th>\n",
       "      <th>Train Score</th>\n",
       "      <th>Test Score</th>\n",
       "      <th>Precision</th>\n",
       "      <th>Recall</th>\n",
       "      <th>F1 Score</th>\n",
       "    </tr>\n",
       "  </thead>\n",
       "  <tbody>\n",
       "    <tr>\n",
       "      <th>0</th>\n",
       "      <td>Bagging Classifier</td>\n",
       "      <td>GSCV</td>\n",
       "      <td>0.524046</td>\n",
       "      <td>0.487805</td>\n",
       "      <td>0.708661</td>\n",
       "      <td>0.371901</td>\n",
       "      <td>0.487805</td>\n",
       "    </tr>\n",
       "  </tbody>\n",
       "</table>\n",
       "</div>"
      ],
      "text/plain": [
       "                Model Remark  Train Score  Test Score  Precision    Recall  \\\n",
       "0  Bagging Classifier   GSCV     0.524046    0.487805   0.708661  0.371901   \n",
       "\n",
       "   F1 Score  \n",
       "0  0.487805  "
      ]
     },
     "execution_count": 100,
     "metadata": {},
     "output_type": "execute_result"
    }
   ],
   "source": [
    "# Instantiate model\n",
    "bagc_cv =  GridSearchCV(estimator = BaggingClassifier(),\n",
    "            param_grid = {'bootstrap': [True, False],\n",
    "                          'n_estimators': [10, 20, 30]},\n",
    "                         cv = 5,\n",
    "                         verbose = 1,\n",
    "                       scoring='f1')\n",
    "\n",
    "# Fit the model\n",
    "bagc_cv.fit(m1_Z_train, m1_y_train)\n",
    "\n",
    "# To showcase the result\n",
    "result = pd.DataFrame(sum_score('Bagging Classifier', bagc_cv, m1_Z_train, m1_Z_test, m1_y_train, m1_y_test, remark))\n",
    "\n",
    "# To join the result into the summary table\n",
    "summ_m1 = pd.concat([summ_m1, result])\n",
    "\n",
    "# To display result\n",
    "result"
   ]
  },
  {
   "cell_type": "markdown",
   "id": "4a5a1ee6-0326-4598-a6ab-64c2ff4291c5",
   "metadata": {},
   "source": [
    "### Random Forest Classider"
   ]
  },
  {
   "cell_type": "code",
   "execution_count": 101,
   "id": "302b0ebf-a131-46ef-a538-88bd7d573920",
   "metadata": {},
   "outputs": [
    {
     "name": "stdout",
     "output_type": "stream",
     "text": [
      "Fitting 5 folds for each of 18 candidates, totalling 90 fits\n"
     ]
    },
    {
     "data": {
      "text/html": [
       "<div>\n",
       "<style scoped>\n",
       "    .dataframe tbody tr th:only-of-type {\n",
       "        vertical-align: middle;\n",
       "    }\n",
       "\n",
       "    .dataframe tbody tr th {\n",
       "        vertical-align: top;\n",
       "    }\n",
       "\n",
       "    .dataframe thead th {\n",
       "        text-align: right;\n",
       "    }\n",
       "</style>\n",
       "<table border=\"1\" class=\"dataframe\">\n",
       "  <thead>\n",
       "    <tr style=\"text-align: right;\">\n",
       "      <th></th>\n",
       "      <th>Model</th>\n",
       "      <th>Remark</th>\n",
       "      <th>Train Score</th>\n",
       "      <th>Test Score</th>\n",
       "      <th>Precision</th>\n",
       "      <th>Recall</th>\n",
       "      <th>F1 Score</th>\n",
       "    </tr>\n",
       "  </thead>\n",
       "  <tbody>\n",
       "    <tr>\n",
       "      <th>0</th>\n",
       "      <td>Random Foreset Classifier</td>\n",
       "      <td>GSCV</td>\n",
       "      <td>0.524046</td>\n",
       "      <td>0.487805</td>\n",
       "      <td>0.708661</td>\n",
       "      <td>0.371901</td>\n",
       "      <td>0.487805</td>\n",
       "    </tr>\n",
       "  </tbody>\n",
       "</table>\n",
       "</div>"
      ],
      "text/plain": [
       "                       Model Remark  Train Score  Test Score  Precision  \\\n",
       "0  Random Foreset Classifier   GSCV     0.524046    0.487805   0.708661   \n",
       "\n",
       "     Recall  F1 Score  \n",
       "0  0.371901  0.487805  "
      ]
     },
     "execution_count": 101,
     "metadata": {},
     "output_type": "execute_result"
    }
   ],
   "source": [
    "# Instantiate model\n",
    "rfc_cv = GridSearchCV(estimator = RandomForestClassifier(),\n",
    "            param_grid = {'criterion': ['gini', 'entropy'],\n",
    "                          'n_estimators': [100, 200, 300],\n",
    "                          'max_leaf_nodes': [None, 100, 200],\n",
    "                         'random_state': [123]},\n",
    "                         cv = 5,\n",
    "                         verbose = 1,\n",
    "                     scoring='f1')\n",
    "\n",
    "# Fit the model\n",
    "rfc_cv.fit(m1_Z_train, m1_y_train)\n",
    "\n",
    "# To showcase the result\n",
    "result = pd.DataFrame(sum_score('Random Foreset Classifier', rfc_cv, m1_Z_train, m1_Z_test, m1_y_train, m1_y_test, remark))\n",
    "\n",
    "# To join the result into the summary table\n",
    "summ_m1 = pd.concat([summ_m1, result])\n",
    "\n",
    "# To display result\n",
    "result"
   ]
  },
  {
   "cell_type": "markdown",
   "id": "0edfeef7-0bf6-47f3-9620-d5b7c49436a2",
   "metadata": {},
   "source": [
    "### AdaBoost Classificer"
   ]
  },
  {
   "cell_type": "code",
   "execution_count": 102,
   "id": "a99121ae-ea2b-4e6b-8b42-2e35229f5f9a",
   "metadata": {},
   "outputs": [
    {
     "name": "stdout",
     "output_type": "stream",
     "text": [
      "Fitting 5 folds for each of 6 candidates, totalling 30 fits\n"
     ]
    },
    {
     "data": {
      "text/html": [
       "<div>\n",
       "<style scoped>\n",
       "    .dataframe tbody tr th:only-of-type {\n",
       "        vertical-align: middle;\n",
       "    }\n",
       "\n",
       "    .dataframe tbody tr th {\n",
       "        vertical-align: top;\n",
       "    }\n",
       "\n",
       "    .dataframe thead th {\n",
       "        text-align: right;\n",
       "    }\n",
       "</style>\n",
       "<table border=\"1\" class=\"dataframe\">\n",
       "  <thead>\n",
       "    <tr style=\"text-align: right;\">\n",
       "      <th></th>\n",
       "      <th>Model</th>\n",
       "      <th>Remark</th>\n",
       "      <th>Train Score</th>\n",
       "      <th>Test Score</th>\n",
       "      <th>Precision</th>\n",
       "      <th>Recall</th>\n",
       "      <th>F1 Score</th>\n",
       "    </tr>\n",
       "  </thead>\n",
       "  <tbody>\n",
       "    <tr>\n",
       "      <th>0</th>\n",
       "      <td>AdaBoost Classifier</td>\n",
       "      <td>GSCV</td>\n",
       "      <td>0.48686</td>\n",
       "      <td>0.449857</td>\n",
       "      <td>0.733645</td>\n",
       "      <td>0.32438</td>\n",
       "      <td>0.449857</td>\n",
       "    </tr>\n",
       "  </tbody>\n",
       "</table>\n",
       "</div>"
      ],
      "text/plain": [
       "                 Model Remark  Train Score  Test Score  Precision   Recall  \\\n",
       "0  AdaBoost Classifier   GSCV      0.48686    0.449857   0.733645  0.32438   \n",
       "\n",
       "   F1 Score  \n",
       "0  0.449857  "
      ]
     },
     "execution_count": 102,
     "metadata": {},
     "output_type": "execute_result"
    }
   ],
   "source": [
    "# Instantiate model\n",
    "abc_cv = GridSearchCV(estimator = AdaBoostClassifier(),\n",
    "            param_grid = {'learning_rate': [1, 0.9],\n",
    "                          'n_estimators': [50, 100, 200],\n",
    "                         'random_state': [123]},\n",
    "                         cv = 5,\n",
    "                         verbose = 1,\n",
    "                     scoring='f1')\n",
    "\n",
    "# Fit the model\n",
    "abc_cv.fit(m1_Z_train, m1_y_train)\n",
    "\n",
    "# To showcase the result\n",
    "result = pd.DataFrame(sum_score('AdaBoost Classifier', abc_cv, m1_Z_train, m1_Z_test, m1_y_train, m1_y_test, remark))\n",
    "\n",
    "# To join the result into the summary table\n",
    "summ_m1 = pd.concat([summ_m1, result])\n",
    "\n",
    "# To display result\n",
    "result"
   ]
  },
  {
   "cell_type": "markdown",
   "id": "8cc7e14d-db6a-4fb5-b81b-07e810b8e532",
   "metadata": {},
   "source": [
    "### Support Vector Classifier"
   ]
  },
  {
   "cell_type": "code",
   "execution_count": 103,
   "id": "049289a4-5d82-4982-a781-341b79cdaed6",
   "metadata": {},
   "outputs": [
    {
     "name": "stdout",
     "output_type": "stream",
     "text": [
      "Fitting 5 folds for each of 8 candidates, totalling 40 fits\n"
     ]
    },
    {
     "data": {
      "text/html": [
       "<div>\n",
       "<style scoped>\n",
       "    .dataframe tbody tr th:only-of-type {\n",
       "        vertical-align: middle;\n",
       "    }\n",
       "\n",
       "    .dataframe tbody tr th {\n",
       "        vertical-align: top;\n",
       "    }\n",
       "\n",
       "    .dataframe thead th {\n",
       "        text-align: right;\n",
       "    }\n",
       "</style>\n",
       "<table border=\"1\" class=\"dataframe\">\n",
       "  <thead>\n",
       "    <tr style=\"text-align: right;\">\n",
       "      <th></th>\n",
       "      <th>Model</th>\n",
       "      <th>Remark</th>\n",
       "      <th>Train Score</th>\n",
       "      <th>Test Score</th>\n",
       "      <th>Precision</th>\n",
       "      <th>Recall</th>\n",
       "      <th>F1 Score</th>\n",
       "    </tr>\n",
       "  </thead>\n",
       "  <tbody>\n",
       "    <tr>\n",
       "      <th>0</th>\n",
       "      <td>Support Vector Classifier</td>\n",
       "      <td>GSCV</td>\n",
       "      <td>0.29458</td>\n",
       "      <td>0.318033</td>\n",
       "      <td>0.769841</td>\n",
       "      <td>0.200413</td>\n",
       "      <td>0.318033</td>\n",
       "    </tr>\n",
       "  </tbody>\n",
       "</table>\n",
       "</div>"
      ],
      "text/plain": [
       "                       Model Remark  Train Score  Test Score  Precision  \\\n",
       "0  Support Vector Classifier   GSCV      0.29458    0.318033   0.769841   \n",
       "\n",
       "     Recall  F1 Score  \n",
       "0  0.200413  0.318033  "
      ]
     },
     "execution_count": 103,
     "metadata": {},
     "output_type": "execute_result"
    }
   ],
   "source": [
    "# Instantiate model\n",
    "svc_cv = GridSearchCV(estimator = SVC(),\n",
    "            param_grid = {'C': [1, 0.9],\n",
    "                          'degree': [3,4],\n",
    "                          'cache_size': [200, 300],\n",
    "                         'random_state': [123]},\n",
    "                         cv = 5,\n",
    "                         verbose = 1,\n",
    "                     scoring='f1')\n",
    "\n",
    "# Fit the model\n",
    "svc_cv.fit(m1_Z_train, m1_y_train)\n",
    "\n",
    "# To showcase the result\n",
    "result = pd.DataFrame(sum_score('Support Vector Classifier', svc_cv, m1_Z_train, m1_Z_test, m1_y_train, m1_y_test, remark))\n",
    "\n",
    "# To join the result into the summary table\n",
    "summ_m1 = pd.concat([summ_m1, result])\n",
    "\n",
    "# To display result\n",
    "result"
   ]
  },
  {
   "cell_type": "code",
   "execution_count": 104,
   "id": "95613d66-35e8-43db-9cd9-1c0dc354d862",
   "metadata": {},
   "outputs": [
    {
     "data": {
      "text/plain": [
       "0    5537\n",
       "1    2420\n",
       "Name: BreedCond, dtype: int64"
      ]
     },
     "execution_count": 104,
     "metadata": {},
     "output_type": "execute_result"
    }
   ],
   "source": [
    "m1_y.value_counts()"
   ]
  },
  {
   "cell_type": "markdown",
   "id": "c7d4e5c4-b38e-4c11-a692-4e8753c85193",
   "metadata": {
    "tags": []
   },
   "source": [
    "Inference:\n",
    "\n",
    "As we noticed, knowing that the datasets for breeding condition is imbalanced, we would be trying to apply SMOTE oversampling method to train the model"
   ]
  },
  {
   "cell_type": "markdown",
   "id": "6fb71d9b-ae78-415f-8058-8a1e620fb8ad",
   "metadata": {},
   "source": [
    "## Prediction for Breeding Condition with SMOTE Oversampling"
   ]
  },
  {
   "cell_type": "code",
   "execution_count": 105,
   "id": "0afeb1fa-c9f9-4daa-8909-9693a31f6b7d",
   "metadata": {},
   "outputs": [],
   "source": [
    "# Initialize SMOTE\n",
    "smote = SMOTE(random_state = 123)"
   ]
  },
  {
   "cell_type": "code",
   "execution_count": 106,
   "id": "3331a8d5-3aef-4757-bf70-34fa18701f73",
   "metadata": {},
   "outputs": [],
   "source": [
    "m1_X = df_train_m1.drop(['BreedCond','WnvPresent'], axis = 1)\n",
    "m1_y = df_train_m1['BreedCond']"
   ]
  },
  {
   "cell_type": "code",
   "execution_count": 107,
   "id": "6246a27f-e464-493d-8ff7-62e38e606ad1",
   "metadata": {},
   "outputs": [],
   "source": [
    "m1_X_s, m1_y_s = smote.fit_resample(m1_X, m1_y)"
   ]
  },
  {
   "cell_type": "code",
   "execution_count": 108,
   "id": "68a62f38-0b64-45c2-9dea-c975831b01f8",
   "metadata": {},
   "outputs": [
    {
     "data": {
      "text/plain": [
       "0    5537\n",
       "1    5537\n",
       "Name: BreedCond, dtype: int64"
      ]
     },
     "execution_count": 108,
     "metadata": {},
     "output_type": "execute_result"
    }
   ],
   "source": [
    "m1_y_s.value_counts()"
   ]
  },
  {
   "cell_type": "code",
   "execution_count": 109,
   "id": "68b07f0d-b6a0-422f-8d2e-b10327cb931d",
   "metadata": {},
   "outputs": [],
   "source": [
    "# Train Test Split the data for model\n",
    "# m1_X = df_train_m1.drop('BreedCond', axis = 1)\n",
    "# m1_y = df_train_m1['BreedCond']\n",
    "m1_X_train, m1_X_test, m1_y_train, m1_y_test = train_test_split(m1_X_s, m1_y_s, test_size=0.2, random_state=42, stratify = m1_y_s)"
   ]
  },
  {
   "cell_type": "code",
   "execution_count": 110,
   "id": "314bf142-f68e-427a-afe9-30c4d387dcda",
   "metadata": {},
   "outputs": [],
   "source": [
    "# Standard Scallar\n",
    "ss = StandardScaler()\n",
    "m1_Z_train = ss.fit_transform(m1_X_train) \n",
    "m1_Z_test = ss.transform(m1_X_test) "
   ]
  },
  {
   "cell_type": "code",
   "execution_count": 111,
   "id": "a6c1216a-efd8-4098-94d5-9730d79cbc2f",
   "metadata": {},
   "outputs": [],
   "source": [
    "# Set the remark for model\n",
    "remark = 'SMOTE'"
   ]
  },
  {
   "cell_type": "markdown",
   "id": "8a38d4b7-3759-455e-9169-534822fc5fdb",
   "metadata": {},
   "source": [
    "### Logistic Regression"
   ]
  },
  {
   "cell_type": "code",
   "execution_count": 112,
   "id": "bc6f882d-8572-4312-8ca1-8a672ae212f2",
   "metadata": {},
   "outputs": [
    {
     "data": {
      "text/html": [
       "<div>\n",
       "<style scoped>\n",
       "    .dataframe tbody tr th:only-of-type {\n",
       "        vertical-align: middle;\n",
       "    }\n",
       "\n",
       "    .dataframe tbody tr th {\n",
       "        vertical-align: top;\n",
       "    }\n",
       "\n",
       "    .dataframe thead th {\n",
       "        text-align: right;\n",
       "    }\n",
       "</style>\n",
       "<table border=\"1\" class=\"dataframe\">\n",
       "  <thead>\n",
       "    <tr style=\"text-align: right;\">\n",
       "      <th></th>\n",
       "      <th>Model</th>\n",
       "      <th>Remark</th>\n",
       "      <th>Train Score</th>\n",
       "      <th>Test Score</th>\n",
       "      <th>Precision</th>\n",
       "      <th>Recall</th>\n",
       "      <th>F1 Score</th>\n",
       "    </tr>\n",
       "  </thead>\n",
       "  <tbody>\n",
       "    <tr>\n",
       "      <th>0</th>\n",
       "      <td>Logistic Regression</td>\n",
       "      <td>SMOTE</td>\n",
       "      <td>0.636754</td>\n",
       "      <td>0.620767</td>\n",
       "      <td>0.620596</td>\n",
       "      <td>0.620596</td>\n",
       "      <td>0.620596</td>\n",
       "    </tr>\n",
       "  </tbody>\n",
       "</table>\n",
       "</div>"
      ],
      "text/plain": [
       "                 Model Remark  Train Score  Test Score  Precision    Recall  \\\n",
       "0  Logistic Regression  SMOTE     0.636754    0.620767   0.620596  0.620596   \n",
       "\n",
       "   F1 Score  \n",
       "0  0.620596  "
      ]
     },
     "execution_count": 112,
     "metadata": {},
     "output_type": "execute_result"
    }
   ],
   "source": [
    "# Instantiate model\n",
    "logreg_m = LogisticRegression(solver = 'newton-cg', random_state = 123) # changing solver b/c of convergence warning\n",
    "\n",
    "# Fit the model\n",
    "logreg_m.fit(m1_Z_train, m1_y_train)\n",
    "\n",
    "# To showcase the result\n",
    "result = pd.DataFrame(sum_score('Logistic Regression', logreg_m, m1_Z_train, m1_Z_test, m1_y_train, m1_y_test, remark))\n",
    "\n",
    "# To join the result into the summary table\n",
    "summ_m1 = pd.concat([summ_m1, result])\n",
    "\n",
    "# To display result\n",
    "result"
   ]
  },
  {
   "cell_type": "markdown",
   "id": "5e71a194-c88d-49de-aefe-425267c90ef9",
   "metadata": {},
   "source": [
    "### K-Neighbor Classifier"
   ]
  },
  {
   "cell_type": "code",
   "execution_count": 113,
   "id": "d7c5ce4c-9958-449e-aeb2-9eecf9168b2e",
   "metadata": {},
   "outputs": [
    {
     "data": {
      "text/html": [
       "<div>\n",
       "<style scoped>\n",
       "    .dataframe tbody tr th:only-of-type {\n",
       "        vertical-align: middle;\n",
       "    }\n",
       "\n",
       "    .dataframe tbody tr th {\n",
       "        vertical-align: top;\n",
       "    }\n",
       "\n",
       "    .dataframe thead th {\n",
       "        text-align: right;\n",
       "    }\n",
       "</style>\n",
       "<table border=\"1\" class=\"dataframe\">\n",
       "  <thead>\n",
       "    <tr style=\"text-align: right;\">\n",
       "      <th></th>\n",
       "      <th>Model</th>\n",
       "      <th>Remark</th>\n",
       "      <th>Train Score</th>\n",
       "      <th>Test Score</th>\n",
       "      <th>Precision</th>\n",
       "      <th>Recall</th>\n",
       "      <th>F1 Score</th>\n",
       "    </tr>\n",
       "  </thead>\n",
       "  <tbody>\n",
       "    <tr>\n",
       "      <th>0</th>\n",
       "      <td>K Nearest Neighbor</td>\n",
       "      <td>SMOTE</td>\n",
       "      <td>0.668586</td>\n",
       "      <td>0.660045</td>\n",
       "      <td>0.656085</td>\n",
       "      <td>0.672087</td>\n",
       "      <td>0.663989</td>\n",
       "    </tr>\n",
       "  </tbody>\n",
       "</table>\n",
       "</div>"
      ],
      "text/plain": [
       "                Model Remark  Train Score  Test Score  Precision    Recall  \\\n",
       "0  K Nearest Neighbor  SMOTE     0.668586    0.660045   0.656085  0.672087   \n",
       "\n",
       "   F1 Score  \n",
       "0  0.663989  "
      ]
     },
     "execution_count": 113,
     "metadata": {},
     "output_type": "execute_result"
    }
   ],
   "source": [
    "# Instantiate model\n",
    "knn_m = KNeighborsClassifier() # changing solver b/c of convergence warning\n",
    "\n",
    "# Fit the model\n",
    "knn_m.fit(m1_Z_train, m1_y_train)\n",
    "\n",
    "# To showcase the result\n",
    "result = pd.DataFrame(sum_score('K Nearest Neighbor', knn_m, m1_Z_train, m1_Z_test, m1_y_train, m1_y_test, remark))\n",
    "\n",
    "# To join the result into the summary table\n",
    "summ_m1 = pd.concat([summ_m1, result])\n",
    "\n",
    "# To display result\n",
    "result"
   ]
  },
  {
   "cell_type": "markdown",
   "id": "dfd106c5-8d8c-48c2-9bc8-04142c259e4f",
   "metadata": {},
   "source": [
    "### Decision Tree Classifier"
   ]
  },
  {
   "cell_type": "code",
   "execution_count": 114,
   "id": "97433fb3-7b00-4515-9901-7fa20734cad3",
   "metadata": {},
   "outputs": [
    {
     "data": {
      "text/html": [
       "<div>\n",
       "<style scoped>\n",
       "    .dataframe tbody tr th:only-of-type {\n",
       "        vertical-align: middle;\n",
       "    }\n",
       "\n",
       "    .dataframe tbody tr th {\n",
       "        vertical-align: top;\n",
       "    }\n",
       "\n",
       "    .dataframe thead th {\n",
       "        text-align: right;\n",
       "    }\n",
       "</style>\n",
       "<table border=\"1\" class=\"dataframe\">\n",
       "  <thead>\n",
       "    <tr style=\"text-align: right;\">\n",
       "      <th></th>\n",
       "      <th>Model</th>\n",
       "      <th>Remark</th>\n",
       "      <th>Train Score</th>\n",
       "      <th>Test Score</th>\n",
       "      <th>Precision</th>\n",
       "      <th>Recall</th>\n",
       "      <th>F1 Score</th>\n",
       "    </tr>\n",
       "  </thead>\n",
       "  <tbody>\n",
       "    <tr>\n",
       "      <th>0</th>\n",
       "      <td>Decision Tree Classifier</td>\n",
       "      <td>SMOTE</td>\n",
       "      <td>0.713625</td>\n",
       "      <td>0.695711</td>\n",
       "      <td>0.715852</td>\n",
       "      <td>0.6486</td>\n",
       "      <td>0.680569</td>\n",
       "    </tr>\n",
       "  </tbody>\n",
       "</table>\n",
       "</div>"
      ],
      "text/plain": [
       "                      Model Remark  Train Score  Test Score  Precision  \\\n",
       "0  Decision Tree Classifier  SMOTE     0.713625    0.695711   0.715852   \n",
       "\n",
       "   Recall  F1 Score  \n",
       "0  0.6486  0.680569  "
      ]
     },
     "execution_count": 114,
     "metadata": {},
     "output_type": "execute_result"
    }
   ],
   "source": [
    "# Instantiate model\n",
    "dt_m = DecisionTreeClassifier(random_state = 123)\n",
    "\n",
    "# Fit the model\n",
    "dt_m.fit(m1_Z_train, m1_y_train)\n",
    "\n",
    "# To showcase the result\n",
    "result = pd.DataFrame(sum_score('Decision Tree Classifier', dt_m, m1_Z_train, m1_Z_test, m1_y_train, m1_y_test, remark))\n",
    "\n",
    "# To join the result into the summary table\n",
    "summ_m1 = pd.concat([summ_m1, result])\n",
    "\n",
    "# To display result\n",
    "result"
   ]
  },
  {
   "cell_type": "markdown",
   "id": "c1581fb6-1f9f-4be9-af06-8fb8fc0758e6",
   "metadata": {},
   "source": [
    "### Bagging Classifier"
   ]
  },
  {
   "cell_type": "code",
   "execution_count": 115,
   "id": "13956996-2ebf-4973-8338-a0df1aabbc3a",
   "metadata": {},
   "outputs": [
    {
     "data": {
      "text/html": [
       "<div>\n",
       "<style scoped>\n",
       "    .dataframe tbody tr th:only-of-type {\n",
       "        vertical-align: middle;\n",
       "    }\n",
       "\n",
       "    .dataframe tbody tr th {\n",
       "        vertical-align: top;\n",
       "    }\n",
       "\n",
       "    .dataframe thead th {\n",
       "        text-align: right;\n",
       "    }\n",
       "</style>\n",
       "<table border=\"1\" class=\"dataframe\">\n",
       "  <thead>\n",
       "    <tr style=\"text-align: right;\">\n",
       "      <th></th>\n",
       "      <th>Model</th>\n",
       "      <th>Remark</th>\n",
       "      <th>Train Score</th>\n",
       "      <th>Test Score</th>\n",
       "      <th>Precision</th>\n",
       "      <th>Recall</th>\n",
       "      <th>F1 Score</th>\n",
       "    </tr>\n",
       "  </thead>\n",
       "  <tbody>\n",
       "    <tr>\n",
       "      <th>0</th>\n",
       "      <td>Bagging Classifier</td>\n",
       "      <td>SMOTE</td>\n",
       "      <td>0.712383</td>\n",
       "      <td>0.694808</td>\n",
       "      <td>0.692927</td>\n",
       "      <td>0.699187</td>\n",
       "      <td>0.696043</td>\n",
       "    </tr>\n",
       "  </tbody>\n",
       "</table>\n",
       "</div>"
      ],
      "text/plain": [
       "                Model Remark  Train Score  Test Score  Precision    Recall  \\\n",
       "0  Bagging Classifier  SMOTE     0.712383    0.694808   0.692927  0.699187   \n",
       "\n",
       "   F1 Score  \n",
       "0  0.696043  "
      ]
     },
     "execution_count": 115,
     "metadata": {},
     "output_type": "execute_result"
    }
   ],
   "source": [
    "# Instantiate model\n",
    "bagc_m = BaggingClassifier(random_state = 123)\n",
    "\n",
    "# Fit the model\n",
    "bagc_m.fit(m1_Z_train, m1_y_train)\n",
    "\n",
    "# To showcase the result\n",
    "result = pd.DataFrame(sum_score('Bagging Classifier', bagc_m, m1_Z_train, m1_Z_test, m1_y_train, m1_y_test, remark))\n",
    "\n",
    "# To join the result into the summary table\n",
    "summ_m1 = pd.concat([summ_m1, result])\n",
    "\n",
    "# To display result\n",
    "result"
   ]
  },
  {
   "cell_type": "markdown",
   "id": "a6da7aaf-6ad7-447d-8464-8a4cccf4e816",
   "metadata": {},
   "source": [
    "### Random Forest Classider"
   ]
  },
  {
   "cell_type": "code",
   "execution_count": 116,
   "id": "d318b67c-33c0-4dff-81e9-d41fc7c4f7eb",
   "metadata": {},
   "outputs": [
    {
     "data": {
      "text/html": [
       "<div>\n",
       "<style scoped>\n",
       "    .dataframe tbody tr th:only-of-type {\n",
       "        vertical-align: middle;\n",
       "    }\n",
       "\n",
       "    .dataframe tbody tr th {\n",
       "        vertical-align: top;\n",
       "    }\n",
       "\n",
       "    .dataframe thead th {\n",
       "        text-align: right;\n",
       "    }\n",
       "</style>\n",
       "<table border=\"1\" class=\"dataframe\">\n",
       "  <thead>\n",
       "    <tr style=\"text-align: right;\">\n",
       "      <th></th>\n",
       "      <th>Model</th>\n",
       "      <th>Remark</th>\n",
       "      <th>Train Score</th>\n",
       "      <th>Test Score</th>\n",
       "      <th>Precision</th>\n",
       "      <th>Recall</th>\n",
       "      <th>F1 Score</th>\n",
       "    </tr>\n",
       "  </thead>\n",
       "  <tbody>\n",
       "    <tr>\n",
       "      <th>0</th>\n",
       "      <td>Random Foreset Classifier</td>\n",
       "      <td>SMOTE</td>\n",
       "      <td>0.713625</td>\n",
       "      <td>0.695711</td>\n",
       "      <td>0.715852</td>\n",
       "      <td>0.6486</td>\n",
       "      <td>0.680569</td>\n",
       "    </tr>\n",
       "  </tbody>\n",
       "</table>\n",
       "</div>"
      ],
      "text/plain": [
       "                       Model Remark  Train Score  Test Score  Precision  \\\n",
       "0  Random Foreset Classifier  SMOTE     0.713625    0.695711   0.715852   \n",
       "\n",
       "   Recall  F1 Score  \n",
       "0  0.6486  0.680569  "
      ]
     },
     "execution_count": 116,
     "metadata": {},
     "output_type": "execute_result"
    }
   ],
   "source": [
    "# Instantiate model\n",
    "rfc_m = RandomForestClassifier(random_state = 123)\n",
    "\n",
    "# Fit the model\n",
    "rfc_m.fit(m1_Z_train, m1_y_train)\n",
    "\n",
    "# To showcase the result\n",
    "result = pd.DataFrame(sum_score('Random Foreset Classifier', rfc_m, m1_Z_train, m1_Z_test, m1_y_train, m1_y_test, remark))\n",
    "\n",
    "# To join the result into the summary table\n",
    "summ_m1 = pd.concat([summ_m1, result])\n",
    "\n",
    "# To display result\n",
    "result"
   ]
  },
  {
   "cell_type": "markdown",
   "id": "1e0c41b7-31a9-4402-88ed-2c01697b9ca1",
   "metadata": {},
   "source": [
    "### AdaBoost Classificer"
   ]
  },
  {
   "cell_type": "code",
   "execution_count": 117,
   "id": "732d1c71-5ba3-40c7-8223-2bc28c508d61",
   "metadata": {},
   "outputs": [
    {
     "data": {
      "text/html": [
       "<div>\n",
       "<style scoped>\n",
       "    .dataframe tbody tr th:only-of-type {\n",
       "        vertical-align: middle;\n",
       "    }\n",
       "\n",
       "    .dataframe tbody tr th {\n",
       "        vertical-align: top;\n",
       "    }\n",
       "\n",
       "    .dataframe thead th {\n",
       "        text-align: right;\n",
       "    }\n",
       "</style>\n",
       "<table border=\"1\" class=\"dataframe\">\n",
       "  <thead>\n",
       "    <tr style=\"text-align: right;\">\n",
       "      <th></th>\n",
       "      <th>Model</th>\n",
       "      <th>Remark</th>\n",
       "      <th>Train Score</th>\n",
       "      <th>Test Score</th>\n",
       "      <th>Precision</th>\n",
       "      <th>Recall</th>\n",
       "      <th>F1 Score</th>\n",
       "    </tr>\n",
       "  </thead>\n",
       "  <tbody>\n",
       "    <tr>\n",
       "      <th>0</th>\n",
       "      <td>AdaBoost Classifier</td>\n",
       "      <td>SMOTE</td>\n",
       "      <td>0.67818</td>\n",
       "      <td>0.65237</td>\n",
       "      <td>0.665358</td>\n",
       "      <td>0.612466</td>\n",
       "      <td>0.637817</td>\n",
       "    </tr>\n",
       "  </tbody>\n",
       "</table>\n",
       "</div>"
      ],
      "text/plain": [
       "                 Model Remark  Train Score  Test Score  Precision    Recall  \\\n",
       "0  AdaBoost Classifier  SMOTE      0.67818     0.65237   0.665358  0.612466   \n",
       "\n",
       "   F1 Score  \n",
       "0  0.637817  "
      ]
     },
     "execution_count": 117,
     "metadata": {},
     "output_type": "execute_result"
    }
   ],
   "source": [
    "# Instantiate model\n",
    "abc_m = AdaBoostClassifier(random_state = 123)\n",
    "\n",
    "# Fit the model\n",
    "abc_m.fit(m1_Z_train, m1_y_train)\n",
    "\n",
    "# To showcase the result\n",
    "result = pd.DataFrame(sum_score('AdaBoost Classifier', abc_m, m1_Z_train, m1_Z_test, m1_y_train, m1_y_test, remark))\n",
    "\n",
    "# To join the result into the summary table\n",
    "summ_m1 = pd.concat([summ_m1, result])\n",
    "\n",
    "# To display result\n",
    "result"
   ]
  },
  {
   "cell_type": "markdown",
   "id": "ad8390e6-6a1a-494c-a5a8-dfe26b7d2527",
   "metadata": {},
   "source": [
    "### Support Vector Classificer"
   ]
  },
  {
   "cell_type": "code",
   "execution_count": 118,
   "id": "36255307-43ec-4acc-a1fe-f364071bfcbc",
   "metadata": {},
   "outputs": [
    {
     "data": {
      "text/html": [
       "<div>\n",
       "<style scoped>\n",
       "    .dataframe tbody tr th:only-of-type {\n",
       "        vertical-align: middle;\n",
       "    }\n",
       "\n",
       "    .dataframe tbody tr th {\n",
       "        vertical-align: top;\n",
       "    }\n",
       "\n",
       "    .dataframe thead th {\n",
       "        text-align: right;\n",
       "    }\n",
       "</style>\n",
       "<table border=\"1\" class=\"dataframe\">\n",
       "  <thead>\n",
       "    <tr style=\"text-align: right;\">\n",
       "      <th></th>\n",
       "      <th>Model</th>\n",
       "      <th>Remark</th>\n",
       "      <th>Train Score</th>\n",
       "      <th>Test Score</th>\n",
       "      <th>Precision</th>\n",
       "      <th>Recall</th>\n",
       "      <th>F1 Score</th>\n",
       "    </tr>\n",
       "  </thead>\n",
       "  <tbody>\n",
       "    <tr>\n",
       "      <th>0</th>\n",
       "      <td>Support Vector Classifier</td>\n",
       "      <td>SMOTE</td>\n",
       "      <td>0.641156</td>\n",
       "      <td>0.632054</td>\n",
       "      <td>0.627622</td>\n",
       "      <td>0.6486</td>\n",
       "      <td>0.637939</td>\n",
       "    </tr>\n",
       "  </tbody>\n",
       "</table>\n",
       "</div>"
      ],
      "text/plain": [
       "                       Model Remark  Train Score  Test Score  Precision  \\\n",
       "0  Support Vector Classifier  SMOTE     0.641156    0.632054   0.627622   \n",
       "\n",
       "   Recall  F1 Score  \n",
       "0  0.6486  0.637939  "
      ]
     },
     "execution_count": 118,
     "metadata": {},
     "output_type": "execute_result"
    }
   ],
   "source": [
    "# Instantiate model\n",
    "svc_m = SVC(random_state = 123)\n",
    "\n",
    "# Fit the model\n",
    "svc_m.fit(m1_Z_train, m1_y_train)\n",
    "\n",
    "# To showcase the result\n",
    "result = pd.DataFrame(sum_score('Support Vector Classifier', svc_m, m1_Z_train, m1_Z_test, m1_y_train, m1_y_test, remark))\n",
    "\n",
    "# To join the result into the summary table\n",
    "summ_m1 = pd.concat([summ_m1, result])\n",
    "\n",
    "# To display result\n",
    "result"
   ]
  },
  {
   "cell_type": "markdown",
   "id": "a0549ead-10ba-462f-9d19-79cca2b9e10a",
   "metadata": {},
   "source": [
    "## Prediction for Breeding Condition with SMOTE Oversampling and Gridsearch CV"
   ]
  },
  {
   "cell_type": "code",
   "execution_count": 119,
   "id": "b43448d6-e28d-4a3e-982e-943a069e2748",
   "metadata": {},
   "outputs": [],
   "source": [
    "# Initialize SMOTE\n",
    "smote = SMOTE(random_state = 123)"
   ]
  },
  {
   "cell_type": "code",
   "execution_count": 120,
   "id": "bc271847-fcce-4fba-b5f9-410aa47a0d4d",
   "metadata": {},
   "outputs": [],
   "source": [
    "m1_X = df_train_m1.drop(['BreedCond','WnvPresent'], axis = 1)\n",
    "m1_y = df_train_m1['BreedCond']"
   ]
  },
  {
   "cell_type": "code",
   "execution_count": 121,
   "id": "6b8767c4-1c54-41fe-9eac-6b578ccc3ac5",
   "metadata": {},
   "outputs": [],
   "source": [
    "m1_X_s, m1_y_s = smote.fit_resample(m1_X, m1_y)"
   ]
  },
  {
   "cell_type": "code",
   "execution_count": 122,
   "id": "36b06042-3598-431b-a675-b7a2a42d57ec",
   "metadata": {},
   "outputs": [
    {
     "data": {
      "text/plain": [
       "0    5537\n",
       "1    5537\n",
       "Name: BreedCond, dtype: int64"
      ]
     },
     "execution_count": 122,
     "metadata": {},
     "output_type": "execute_result"
    }
   ],
   "source": [
    "m1_y_s.value_counts()"
   ]
  },
  {
   "cell_type": "code",
   "execution_count": 123,
   "id": "89edb684-6b00-43f6-a5ca-184dfafd52c4",
   "metadata": {},
   "outputs": [],
   "source": [
    "# Train Test Split the data for model\n",
    "# m1_X = df_train_m1.drop('BreedCond', axis = 1)\n",
    "# m1_y = df_train_m1['BreedCond']\n",
    "m1_X_train, m1_X_test, m1_y_train, m1_y_test = train_test_split(m1_X_s, m1_y_s, test_size=0.2, random_state=42, stratify = m1_y_s)"
   ]
  },
  {
   "cell_type": "code",
   "execution_count": 124,
   "id": "020eeeda-5634-48b2-bb02-2be9b92ecca6",
   "metadata": {},
   "outputs": [],
   "source": [
    "# Standard Scallar\n",
    "ss = StandardScaler()\n",
    "m1_Z_train = ss.fit_transform(m1_X_train) \n",
    "m1_Z_test = ss.transform(m1_X_test) "
   ]
  },
  {
   "cell_type": "code",
   "execution_count": 125,
   "id": "b10ed69f-7f3c-4ef7-80e5-6c11ef9b1a8a",
   "metadata": {},
   "outputs": [],
   "source": [
    "# Set the remark for model\n",
    "remark = 'SMOTE & GSCV'"
   ]
  },
  {
   "cell_type": "markdown",
   "id": "2ebaffd9-8c95-4369-8e3a-120266c05647",
   "metadata": {},
   "source": [
    "### Logistic Regression"
   ]
  },
  {
   "cell_type": "code",
   "execution_count": 126,
   "id": "ea7a0ccd-3631-4876-b82f-f7b0208d3096",
   "metadata": {},
   "outputs": [
    {
     "name": "stdout",
     "output_type": "stream",
     "text": [
      "Fitting 5 folds for each of 9 candidates, totalling 45 fits\n"
     ]
    },
    {
     "data": {
      "text/html": [
       "<div>\n",
       "<style scoped>\n",
       "    .dataframe tbody tr th:only-of-type {\n",
       "        vertical-align: middle;\n",
       "    }\n",
       "\n",
       "    .dataframe tbody tr th {\n",
       "        vertical-align: top;\n",
       "    }\n",
       "\n",
       "    .dataframe thead th {\n",
       "        text-align: right;\n",
       "    }\n",
       "</style>\n",
       "<table border=\"1\" class=\"dataframe\">\n",
       "  <thead>\n",
       "    <tr style=\"text-align: right;\">\n",
       "      <th></th>\n",
       "      <th>Model</th>\n",
       "      <th>Remark</th>\n",
       "      <th>Train Score</th>\n",
       "      <th>Test Score</th>\n",
       "      <th>Precision</th>\n",
       "      <th>Recall</th>\n",
       "      <th>F1 Score</th>\n",
       "    </tr>\n",
       "  </thead>\n",
       "  <tbody>\n",
       "    <tr>\n",
       "      <th>0</th>\n",
       "      <td>Logistic Regression</td>\n",
       "      <td>SMOTE &amp; GSCV</td>\n",
       "      <td>0.630977</td>\n",
       "      <td>0.614964</td>\n",
       "      <td>0.621198</td>\n",
       "      <td>0.608853</td>\n",
       "      <td>0.614964</td>\n",
       "    </tr>\n",
       "  </tbody>\n",
       "</table>\n",
       "</div>"
      ],
      "text/plain": [
       "                 Model        Remark  Train Score  Test Score  Precision  \\\n",
       "0  Logistic Regression  SMOTE & GSCV     0.630977    0.614964   0.621198   \n",
       "\n",
       "     Recall  F1 Score  \n",
       "0  0.608853  0.614964  "
      ]
     },
     "execution_count": 126,
     "metadata": {},
     "output_type": "execute_result"
    }
   ],
   "source": [
    "# Instantiate model\n",
    "logreg_cv_s = GridSearchCV(estimator = LogisticRegression(),\n",
    "            param_grid = {'max_iter': [50, 100, 200],\n",
    "                          'solver': ['newton-cg', 'liblinear', 'saga']},\n",
    "                         cv = 5,\n",
    "                         verbose = 1,\n",
    "                          scoring='f1')\n",
    "\n",
    "# Fit the model\n",
    "logreg_cv_s.fit(m1_Z_train, m1_y_train)\n",
    "\n",
    "# To showcase the result\n",
    "result = pd.DataFrame(sum_score('Logistic Regression', logreg_cv_s, m1_Z_train, m1_Z_test, m1_y_train, m1_y_test, remark))\n",
    "\n",
    "# To join the result into the summary table\n",
    "summ_m1 = pd.concat([summ_m1, result])\n",
    "\n",
    "# To display result\n",
    "result"
   ]
  },
  {
   "cell_type": "markdown",
   "id": "73f04e34-5c83-4a5f-bcea-4881c0fe9ff2",
   "metadata": {},
   "source": [
    "### K-Neighbor Classifier"
   ]
  },
  {
   "cell_type": "code",
   "execution_count": 127,
   "id": "2c724dda-298d-45f8-846a-5eceff807b9e",
   "metadata": {},
   "outputs": [
    {
     "name": "stdout",
     "output_type": "stream",
     "text": [
      "Fitting 5 folds for each of 18 candidates, totalling 90 fits\n"
     ]
    },
    {
     "data": {
      "text/html": [
       "<div>\n",
       "<style scoped>\n",
       "    .dataframe tbody tr th:only-of-type {\n",
       "        vertical-align: middle;\n",
       "    }\n",
       "\n",
       "    .dataframe tbody tr th {\n",
       "        vertical-align: top;\n",
       "    }\n",
       "\n",
       "    .dataframe thead th {\n",
       "        text-align: right;\n",
       "    }\n",
       "</style>\n",
       "<table border=\"1\" class=\"dataframe\">\n",
       "  <thead>\n",
       "    <tr style=\"text-align: right;\">\n",
       "      <th></th>\n",
       "      <th>Model</th>\n",
       "      <th>Remark</th>\n",
       "      <th>Train Score</th>\n",
       "      <th>Test Score</th>\n",
       "      <th>Precision</th>\n",
       "      <th>Recall</th>\n",
       "      <th>F1 Score</th>\n",
       "    </tr>\n",
       "  </thead>\n",
       "  <tbody>\n",
       "    <tr>\n",
       "      <th>0</th>\n",
       "      <td>K Nearest Neighbor</td>\n",
       "      <td>SMOTE &amp; GSCV</td>\n",
       "      <td>0.673599</td>\n",
       "      <td>0.664882</td>\n",
       "      <td>0.656966</td>\n",
       "      <td>0.67299</td>\n",
       "      <td>0.664882</td>\n",
       "    </tr>\n",
       "  </tbody>\n",
       "</table>\n",
       "</div>"
      ],
      "text/plain": [
       "                Model        Remark  Train Score  Test Score  Precision  \\\n",
       "0  K Nearest Neighbor  SMOTE & GSCV     0.673599    0.664882   0.656966   \n",
       "\n",
       "    Recall  F1 Score  \n",
       "0  0.67299  0.664882  "
      ]
     },
     "execution_count": 127,
     "metadata": {},
     "output_type": "execute_result"
    }
   ],
   "source": [
    "# Instantiate model\n",
    "knn_cv_s =  GridSearchCV(estimator = KNeighborsClassifier(),\n",
    "            param_grid = {'weights': ['uniform', 'distance'],\n",
    "                          'leaf_size': [20, 30, 40],\n",
    "                          'algorithm': ['auto', 'ball_tree', 'kd_tree']},\n",
    "                         cv = 5,\n",
    "                         verbose = 1,\n",
    "                        scoring='f1')\n",
    "\n",
    "# Fit the model\n",
    "knn_cv_s.fit(m1_Z_train, m1_y_train)\n",
    "\n",
    "# To showcase the result\n",
    "result = pd.DataFrame(sum_score('K Nearest Neighbor', knn_cv_s, m1_Z_train, m1_Z_test, m1_y_train, m1_y_test, remark))\n",
    "\n",
    "# To join the result into the summary table\n",
    "summ_m1 = pd.concat([summ_m1, result])\n",
    "\n",
    "# To display result\n",
    "result"
   ]
  },
  {
   "cell_type": "markdown",
   "id": "8d77c921-6d1f-4523-8f0e-7ba220f58206",
   "metadata": {},
   "source": [
    "### Decision Tree Classifier"
   ]
  },
  {
   "cell_type": "code",
   "execution_count": 128,
   "id": "335513e0-04e9-4164-9176-30c64b2972f5",
   "metadata": {},
   "outputs": [
    {
     "name": "stdout",
     "output_type": "stream",
     "text": [
      "Fitting 5 folds for each of 480 candidates, totalling 2400 fits\n"
     ]
    },
    {
     "data": {
      "text/html": [
       "<div>\n",
       "<style scoped>\n",
       "    .dataframe tbody tr th:only-of-type {\n",
       "        vertical-align: middle;\n",
       "    }\n",
       "\n",
       "    .dataframe tbody tr th {\n",
       "        vertical-align: top;\n",
       "    }\n",
       "\n",
       "    .dataframe thead th {\n",
       "        text-align: right;\n",
       "    }\n",
       "</style>\n",
       "<table border=\"1\" class=\"dataframe\">\n",
       "  <thead>\n",
       "    <tr style=\"text-align: right;\">\n",
       "      <th></th>\n",
       "      <th>Model</th>\n",
       "      <th>Remark</th>\n",
       "      <th>Train Score</th>\n",
       "      <th>Test Score</th>\n",
       "      <th>Precision</th>\n",
       "      <th>Recall</th>\n",
       "      <th>F1 Score</th>\n",
       "    </tr>\n",
       "  </thead>\n",
       "  <tbody>\n",
       "    <tr>\n",
       "      <th>0</th>\n",
       "      <td>Decision Tree Classifier</td>\n",
       "      <td>SMOTE &amp; GSCV</td>\n",
       "      <td>0.674957</td>\n",
       "      <td>0.676143</td>\n",
       "      <td>0.588235</td>\n",
       "      <td>0.794941</td>\n",
       "      <td>0.676143</td>\n",
       "    </tr>\n",
       "  </tbody>\n",
       "</table>\n",
       "</div>"
      ],
      "text/plain": [
       "                      Model        Remark  Train Score  Test Score  Precision  \\\n",
       "0  Decision Tree Classifier  SMOTE & GSCV     0.674957    0.676143   0.588235   \n",
       "\n",
       "     Recall  F1 Score  \n",
       "0  0.794941  0.676143  "
      ]
     },
     "execution_count": 128,
     "metadata": {},
     "output_type": "execute_result"
    }
   ],
   "source": [
    "# Instantiate model\n",
    "dt_cv_s = GridSearchCV(estimator = DecisionTreeClassifier(),\n",
    "                    param_grid = {'max_depth': [2, 3, 5, 7],\n",
    "                                  'min_samples_split': [5, 10, 15, 20],\n",
    "                                  'min_samples_leaf': [2, 3, 4, 5, 6],\n",
    "                                  'ccp_alpha': [0, 0.001, 0.01, 0.1, 1, 10]},\n",
    "                    cv = 5,\n",
    "                    verbose = 1,\n",
    "                      scoring='f1')\n",
    "\n",
    "# Fit the model\n",
    "dt_cv_s.fit(m1_Z_train, m1_y_train)\n",
    "\n",
    "# To showcase the result\n",
    "result = pd.DataFrame(sum_score('Decision Tree Classifier', dt_cv_s, m1_Z_train, m1_Z_test, m1_y_train, m1_y_test, remark))\n",
    "\n",
    "# To join the result into the summary table\n",
    "summ_m1 = pd.concat([summ_m1, result])\n",
    "\n",
    "# To display result\n",
    "result"
   ]
  },
  {
   "cell_type": "markdown",
   "id": "19a46e76-7cf4-4a8d-ac6e-8d0b3df23bc6",
   "metadata": {},
   "source": [
    "### Bagging Classifier"
   ]
  },
  {
   "cell_type": "code",
   "execution_count": 129,
   "id": "a7673384-c712-4aed-8f57-be5de52491ed",
   "metadata": {},
   "outputs": [
    {
     "name": "stdout",
     "output_type": "stream",
     "text": [
      "Fitting 5 folds for each of 6 candidates, totalling 30 fits\n"
     ]
    },
    {
     "data": {
      "text/html": [
       "<div>\n",
       "<style scoped>\n",
       "    .dataframe tbody tr th:only-of-type {\n",
       "        vertical-align: middle;\n",
       "    }\n",
       "\n",
       "    .dataframe tbody tr th {\n",
       "        vertical-align: top;\n",
       "    }\n",
       "\n",
       "    .dataframe thead th {\n",
       "        text-align: right;\n",
       "    }\n",
       "</style>\n",
       "<table border=\"1\" class=\"dataframe\">\n",
       "  <thead>\n",
       "    <tr style=\"text-align: right;\">\n",
       "      <th></th>\n",
       "      <th>Model</th>\n",
       "      <th>Remark</th>\n",
       "      <th>Train Score</th>\n",
       "      <th>Test Score</th>\n",
       "      <th>Precision</th>\n",
       "      <th>Recall</th>\n",
       "      <th>F1 Score</th>\n",
       "    </tr>\n",
       "  </thead>\n",
       "  <tbody>\n",
       "    <tr>\n",
       "      <th>0</th>\n",
       "      <td>Bagging Classifier</td>\n",
       "      <td>SMOTE &amp; GSCV</td>\n",
       "      <td>0.696399</td>\n",
       "      <td>0.679426</td>\n",
       "      <td>0.722279</td>\n",
       "      <td>0.641373</td>\n",
       "      <td>0.679426</td>\n",
       "    </tr>\n",
       "  </tbody>\n",
       "</table>\n",
       "</div>"
      ],
      "text/plain": [
       "                Model        Remark  Train Score  Test Score  Precision  \\\n",
       "0  Bagging Classifier  SMOTE & GSCV     0.696399    0.679426   0.722279   \n",
       "\n",
       "     Recall  F1 Score  \n",
       "0  0.641373  0.679426  "
      ]
     },
     "execution_count": 129,
     "metadata": {},
     "output_type": "execute_result"
    }
   ],
   "source": [
    "# Instantiate model\n",
    "bagc_cv_s =  GridSearchCV(estimator = BaggingClassifier(),\n",
    "            param_grid = {'bootstrap': [True, False],\n",
    "                          'n_estimators': [10, 20, 30]},\n",
    "                         cv = 5,\n",
    "                         verbose = 1,\n",
    "                         scoring='f1')\n",
    "\n",
    "# Fit the model\n",
    "bagc_cv_s.fit(m1_Z_train, m1_y_train)\n",
    "\n",
    "# To showcase the result\n",
    "result = pd.DataFrame(sum_score('Bagging Classifier', bagc_cv_s, m1_Z_train, m1_Z_test, m1_y_train, m1_y_test, remark))\n",
    "\n",
    "# To join the result into the summary table\n",
    "summ_m1 = pd.concat([summ_m1, result])\n",
    "\n",
    "# To display result\n",
    "result"
   ]
  },
  {
   "cell_type": "markdown",
   "id": "1ea25a2d-0c19-4494-91c5-be8bcf81114d",
   "metadata": {},
   "source": [
    "### Random Forest Classider"
   ]
  },
  {
   "cell_type": "code",
   "execution_count": 130,
   "id": "7fc21244-0716-42b6-8944-a6560f33f499",
   "metadata": {},
   "outputs": [
    {
     "name": "stdout",
     "output_type": "stream",
     "text": [
      "Fitting 5 folds for each of 18 candidates, totalling 90 fits\n"
     ]
    },
    {
     "data": {
      "text/html": [
       "<div>\n",
       "<style scoped>\n",
       "    .dataframe tbody tr th:only-of-type {\n",
       "        vertical-align: middle;\n",
       "    }\n",
       "\n",
       "    .dataframe tbody tr th {\n",
       "        vertical-align: top;\n",
       "    }\n",
       "\n",
       "    .dataframe thead th {\n",
       "        text-align: right;\n",
       "    }\n",
       "</style>\n",
       "<table border=\"1\" class=\"dataframe\">\n",
       "  <thead>\n",
       "    <tr style=\"text-align: right;\">\n",
       "      <th></th>\n",
       "      <th>Model</th>\n",
       "      <th>Remark</th>\n",
       "      <th>Train Score</th>\n",
       "      <th>Test Score</th>\n",
       "      <th>Precision</th>\n",
       "      <th>Recall</th>\n",
       "      <th>F1 Score</th>\n",
       "    </tr>\n",
       "  </thead>\n",
       "  <tbody>\n",
       "    <tr>\n",
       "      <th>0</th>\n",
       "      <td>Random Foreset Classifier</td>\n",
       "      <td>SMOTE &amp; GSCV</td>\n",
       "      <td>0.71276</td>\n",
       "      <td>0.691858</td>\n",
       "      <td>0.689068</td>\n",
       "      <td>0.69467</td>\n",
       "      <td>0.691858</td>\n",
       "    </tr>\n",
       "  </tbody>\n",
       "</table>\n",
       "</div>"
      ],
      "text/plain": [
       "                       Model        Remark  Train Score  Test Score  \\\n",
       "0  Random Foreset Classifier  SMOTE & GSCV      0.71276    0.691858   \n",
       "\n",
       "   Precision   Recall  F1 Score  \n",
       "0   0.689068  0.69467  0.691858  "
      ]
     },
     "execution_count": 130,
     "metadata": {},
     "output_type": "execute_result"
    }
   ],
   "source": [
    "# Instantiate model\n",
    "rfc_cv_s = GridSearchCV(estimator = RandomForestClassifier(),\n",
    "            param_grid = {'criterion': ['gini', 'entropy'],\n",
    "                          'n_estimators': [100, 200, 300],\n",
    "                          'max_leaf_nodes': [None, 100, 200],\n",
    "                         'random_state': [123]},\n",
    "                         cv = 5,\n",
    "                         verbose = 1,\n",
    "                       scoring='f1')\n",
    "\n",
    "# Fit the model\n",
    "rfc_cv_s.fit(m1_Z_train, m1_y_train)\n",
    "\n",
    "# To showcase the result\n",
    "result = pd.DataFrame(sum_score('Random Foreset Classifier', rfc_cv_s, m1_Z_train, m1_Z_test, m1_y_train, m1_y_test, remark))\n",
    "\n",
    "# To join the result into the summary table\n",
    "summ_m1 = pd.concat([summ_m1, result])\n",
    "\n",
    "# To display result\n",
    "result"
   ]
  },
  {
   "cell_type": "markdown",
   "id": "6ea7a435-a5a1-4609-8fe5-c298dbc0926e",
   "metadata": {},
   "source": [
    "### AdaBoost Classificer"
   ]
  },
  {
   "cell_type": "code",
   "execution_count": 131,
   "id": "bc2be79c-dddd-4acb-b36c-d5701a8343f0",
   "metadata": {},
   "outputs": [
    {
     "name": "stdout",
     "output_type": "stream",
     "text": [
      "Fitting 5 folds for each of 6 candidates, totalling 30 fits\n"
     ]
    },
    {
     "data": {
      "text/html": [
       "<div>\n",
       "<style scoped>\n",
       "    .dataframe tbody tr th:only-of-type {\n",
       "        vertical-align: middle;\n",
       "    }\n",
       "\n",
       "    .dataframe tbody tr th {\n",
       "        vertical-align: top;\n",
       "    }\n",
       "\n",
       "    .dataframe thead th {\n",
       "        text-align: right;\n",
       "    }\n",
       "</style>\n",
       "<table border=\"1\" class=\"dataframe\">\n",
       "  <thead>\n",
       "    <tr style=\"text-align: right;\">\n",
       "      <th></th>\n",
       "      <th>Model</th>\n",
       "      <th>Remark</th>\n",
       "      <th>Train Score</th>\n",
       "      <th>Test Score</th>\n",
       "      <th>Precision</th>\n",
       "      <th>Recall</th>\n",
       "      <th>F1 Score</th>\n",
       "    </tr>\n",
       "  </thead>\n",
       "  <tbody>\n",
       "    <tr>\n",
       "      <th>0</th>\n",
       "      <td>AdaBoost Classifier</td>\n",
       "      <td>SMOTE &amp; GSCV</td>\n",
       "      <td>0.682716</td>\n",
       "      <td>0.662438</td>\n",
       "      <td>0.664545</td>\n",
       "      <td>0.660343</td>\n",
       "      <td>0.662438</td>\n",
       "    </tr>\n",
       "  </tbody>\n",
       "</table>\n",
       "</div>"
      ],
      "text/plain": [
       "                 Model        Remark  Train Score  Test Score  Precision  \\\n",
       "0  AdaBoost Classifier  SMOTE & GSCV     0.682716    0.662438   0.664545   \n",
       "\n",
       "     Recall  F1 Score  \n",
       "0  0.660343  0.662438  "
      ]
     },
     "execution_count": 131,
     "metadata": {},
     "output_type": "execute_result"
    }
   ],
   "source": [
    "# Instantiate model\n",
    "abc_cv_s = GridSearchCV(estimator = AdaBoostClassifier(),\n",
    "            param_grid = {'learning_rate': [1, 0.9],\n",
    "                          'n_estimators': [50, 100, 200],\n",
    "                         'random_state': [123]},\n",
    "                         cv = 5,\n",
    "                         verbose = 1,\n",
    "                       scoring='f1')\n",
    "# Fit the model\n",
    "abc_cv_s.fit(m1_Z_train, m1_y_train)\n",
    "\n",
    "# To showcase the result\n",
    "result = pd.DataFrame(sum_score('AdaBoost Classifier', abc_cv_s, m1_Z_train, m1_Z_test, m1_y_train, m1_y_test, remark))\n",
    "\n",
    "# To join the result into the summary table\n",
    "summ_m1 = pd.concat([summ_m1, result])\n",
    "\n",
    "# To display result\n",
    "result"
   ]
  },
  {
   "cell_type": "markdown",
   "id": "2cf3e255-aaae-47fc-aa78-b60988674ad1",
   "metadata": {},
   "source": [
    "### Support Vector Classifier"
   ]
  },
  {
   "cell_type": "code",
   "execution_count": 132,
   "id": "7f005769-b921-4467-9663-3982ea9c7f66",
   "metadata": {},
   "outputs": [
    {
     "name": "stdout",
     "output_type": "stream",
     "text": [
      "Fitting 5 folds for each of 8 candidates, totalling 40 fits\n"
     ]
    },
    {
     "data": {
      "text/html": [
       "<div>\n",
       "<style scoped>\n",
       "    .dataframe tbody tr th:only-of-type {\n",
       "        vertical-align: middle;\n",
       "    }\n",
       "\n",
       "    .dataframe tbody tr th {\n",
       "        vertical-align: top;\n",
       "    }\n",
       "\n",
       "    .dataframe thead th {\n",
       "        text-align: right;\n",
       "    }\n",
       "</style>\n",
       "<table border=\"1\" class=\"dataframe\">\n",
       "  <thead>\n",
       "    <tr style=\"text-align: right;\">\n",
       "      <th></th>\n",
       "      <th>Model</th>\n",
       "      <th>Remark</th>\n",
       "      <th>Train Score</th>\n",
       "      <th>Test Score</th>\n",
       "      <th>Precision</th>\n",
       "      <th>Recall</th>\n",
       "      <th>F1 Score</th>\n",
       "    </tr>\n",
       "  </thead>\n",
       "  <tbody>\n",
       "    <tr>\n",
       "      <th>0</th>\n",
       "      <td>Support Vector Classifier</td>\n",
       "      <td>SMOTE &amp; GSCV</td>\n",
       "      <td>0.645952</td>\n",
       "      <td>0.637939</td>\n",
       "      <td>0.627622</td>\n",
       "      <td>0.6486</td>\n",
       "      <td>0.637939</td>\n",
       "    </tr>\n",
       "  </tbody>\n",
       "</table>\n",
       "</div>"
      ],
      "text/plain": [
       "                       Model        Remark  Train Score  Test Score  \\\n",
       "0  Support Vector Classifier  SMOTE & GSCV     0.645952    0.637939   \n",
       "\n",
       "   Precision  Recall  F1 Score  \n",
       "0   0.627622  0.6486  0.637939  "
      ]
     },
     "execution_count": 132,
     "metadata": {},
     "output_type": "execute_result"
    }
   ],
   "source": [
    "# Instantiate model\n",
    "svc_cv_s = GridSearchCV(estimator = SVC(),\n",
    "            param_grid = {'C': [1, 0.9],\n",
    "                          'degree': [3,4],\n",
    "                          'cache_size': [200, 300],\n",
    "                         'random_state': [123]},\n",
    "                         cv = 5,\n",
    "                         verbose = 1,\n",
    "                       scoring='f1')\n",
    "\n",
    "# Fit the model\n",
    "svc_cv_s.fit(m1_Z_train, m1_y_train)\n",
    "\n",
    "# To showcase the result\n",
    "result = pd.DataFrame(sum_score('Support Vector Classifier', svc_cv_s, m1_Z_train, m1_Z_test, m1_y_train, m1_y_test, remark))\n",
    "\n",
    "# To join the result into the summary table\n",
    "summ_m1 = pd.concat([summ_m1, result])\n",
    "\n",
    "# To display result\n",
    "result"
   ]
  },
  {
   "cell_type": "code",
   "execution_count": 133,
   "id": "e488e075-2511-439a-a14b-d9954cb142a1",
   "metadata": {},
   "outputs": [
    {
     "data": {
      "text/html": [
       "<div>\n",
       "<style scoped>\n",
       "    .dataframe tbody tr th:only-of-type {\n",
       "        vertical-align: middle;\n",
       "    }\n",
       "\n",
       "    .dataframe tbody tr th {\n",
       "        vertical-align: top;\n",
       "    }\n",
       "\n",
       "    .dataframe thead th {\n",
       "        text-align: right;\n",
       "    }\n",
       "</style>\n",
       "<table border=\"1\" class=\"dataframe\">\n",
       "  <thead>\n",
       "    <tr style=\"text-align: right;\">\n",
       "      <th></th>\n",
       "      <th>Model</th>\n",
       "      <th>Remark</th>\n",
       "      <th>Train Score</th>\n",
       "      <th>Test Score</th>\n",
       "      <th>Precision</th>\n",
       "      <th>Recall</th>\n",
       "      <th>F1 Score</th>\n",
       "    </tr>\n",
       "  </thead>\n",
       "  <tbody>\n",
       "    <tr>\n",
       "      <th>0</th>\n",
       "      <td>Base Model | Logistic Regression</td>\n",
       "      <td>None</td>\n",
       "      <td>0.714533</td>\n",
       "      <td>0.720477</td>\n",
       "      <td>0.714286</td>\n",
       "      <td>0.134298</td>\n",
       "      <td>0.226087</td>\n",
       "    </tr>\n",
       "    <tr>\n",
       "      <th>1</th>\n",
       "      <td>K Nearest Neighbor</td>\n",
       "      <td>None</td>\n",
       "      <td>0.747997</td>\n",
       "      <td>0.738065</td>\n",
       "      <td>0.604361</td>\n",
       "      <td>0.400826</td>\n",
       "      <td>0.481988</td>\n",
       "    </tr>\n",
       "    <tr>\n",
       "      <th>2</th>\n",
       "      <td>Decision Tree Classifier</td>\n",
       "      <td>None</td>\n",
       "      <td>0.774548</td>\n",
       "      <td>0.766332</td>\n",
       "      <td>0.739316</td>\n",
       "      <td>0.357438</td>\n",
       "      <td>0.481894</td>\n",
       "    </tr>\n",
       "    <tr>\n",
       "      <th>3</th>\n",
       "      <td>Bagging Classifier</td>\n",
       "      <td>None</td>\n",
       "      <td>0.774234</td>\n",
       "      <td>0.762563</td>\n",
       "      <td>0.681507</td>\n",
       "      <td>0.411157</td>\n",
       "      <td>0.512887</td>\n",
       "    </tr>\n",
       "    <tr>\n",
       "      <th>4</th>\n",
       "      <td>Random Foreset Classifier</td>\n",
       "      <td>None</td>\n",
       "      <td>0.774548</td>\n",
       "      <td>0.761935</td>\n",
       "      <td>0.696629</td>\n",
       "      <td>0.384298</td>\n",
       "      <td>0.495340</td>\n",
       "    </tr>\n",
       "    <tr>\n",
       "      <th>5</th>\n",
       "      <td>AdaBoost Classifier</td>\n",
       "      <td>None</td>\n",
       "      <td>0.738256</td>\n",
       "      <td>0.734925</td>\n",
       "      <td>0.738462</td>\n",
       "      <td>0.198347</td>\n",
       "      <td>0.312704</td>\n",
       "    </tr>\n",
       "    <tr>\n",
       "      <th>6</th>\n",
       "      <td>Support Vector Classifier</td>\n",
       "      <td>None</td>\n",
       "      <td>0.732129</td>\n",
       "      <td>0.738693</td>\n",
       "      <td>0.769841</td>\n",
       "      <td>0.200413</td>\n",
       "      <td>0.318033</td>\n",
       "    </tr>\n",
       "    <tr>\n",
       "      <th>7</th>\n",
       "      <td>Logistic Regression</td>\n",
       "      <td>GSCV</td>\n",
       "      <td>0.211714</td>\n",
       "      <td>0.226087</td>\n",
       "      <td>0.714286</td>\n",
       "      <td>0.134298</td>\n",
       "      <td>0.226087</td>\n",
       "    </tr>\n",
       "    <tr>\n",
       "      <th>8</th>\n",
       "      <td>K Nearest Neighbor</td>\n",
       "      <td>GSCV</td>\n",
       "      <td>0.512165</td>\n",
       "      <td>0.481988</td>\n",
       "      <td>0.604361</td>\n",
       "      <td>0.400826</td>\n",
       "      <td>0.481988</td>\n",
       "    </tr>\n",
       "    <tr>\n",
       "      <th>9</th>\n",
       "      <td>Decision Tree Classifier</td>\n",
       "      <td>GSCV</td>\n",
       "      <td>0.468694</td>\n",
       "      <td>0.416667</td>\n",
       "      <td>0.744681</td>\n",
       "      <td>0.289256</td>\n",
       "      <td>0.416667</td>\n",
       "    </tr>\n",
       "    <tr>\n",
       "      <th>10</th>\n",
       "      <td>Bagging Classifier</td>\n",
       "      <td>GSCV</td>\n",
       "      <td>0.524046</td>\n",
       "      <td>0.487805</td>\n",
       "      <td>0.708661</td>\n",
       "      <td>0.371901</td>\n",
       "      <td>0.487805</td>\n",
       "    </tr>\n",
       "    <tr>\n",
       "      <th>11</th>\n",
       "      <td>Random Foreset Classifier</td>\n",
       "      <td>GSCV</td>\n",
       "      <td>0.524046</td>\n",
       "      <td>0.487805</td>\n",
       "      <td>0.708661</td>\n",
       "      <td>0.371901</td>\n",
       "      <td>0.487805</td>\n",
       "    </tr>\n",
       "    <tr>\n",
       "      <th>12</th>\n",
       "      <td>AdaBoost Classifier</td>\n",
       "      <td>GSCV</td>\n",
       "      <td>0.486860</td>\n",
       "      <td>0.449857</td>\n",
       "      <td>0.733645</td>\n",
       "      <td>0.324380</td>\n",
       "      <td>0.449857</td>\n",
       "    </tr>\n",
       "    <tr>\n",
       "      <th>13</th>\n",
       "      <td>Support Vector Classifier</td>\n",
       "      <td>GSCV</td>\n",
       "      <td>0.294580</td>\n",
       "      <td>0.318033</td>\n",
       "      <td>0.769841</td>\n",
       "      <td>0.200413</td>\n",
       "      <td>0.318033</td>\n",
       "    </tr>\n",
       "    <tr>\n",
       "      <th>14</th>\n",
       "      <td>Logistic Regression</td>\n",
       "      <td>SMOTE</td>\n",
       "      <td>0.636754</td>\n",
       "      <td>0.620767</td>\n",
       "      <td>0.620596</td>\n",
       "      <td>0.620596</td>\n",
       "      <td>0.620596</td>\n",
       "    </tr>\n",
       "    <tr>\n",
       "      <th>15</th>\n",
       "      <td>K Nearest Neighbor</td>\n",
       "      <td>SMOTE</td>\n",
       "      <td>0.668586</td>\n",
       "      <td>0.660045</td>\n",
       "      <td>0.656085</td>\n",
       "      <td>0.672087</td>\n",
       "      <td>0.663989</td>\n",
       "    </tr>\n",
       "    <tr>\n",
       "      <th>16</th>\n",
       "      <td>Decision Tree Classifier</td>\n",
       "      <td>SMOTE</td>\n",
       "      <td>0.713625</td>\n",
       "      <td>0.695711</td>\n",
       "      <td>0.715852</td>\n",
       "      <td>0.648600</td>\n",
       "      <td>0.680569</td>\n",
       "    </tr>\n",
       "    <tr>\n",
       "      <th>17</th>\n",
       "      <td>Bagging Classifier</td>\n",
       "      <td>SMOTE</td>\n",
       "      <td>0.712383</td>\n",
       "      <td>0.694808</td>\n",
       "      <td>0.692927</td>\n",
       "      <td>0.699187</td>\n",
       "      <td>0.696043</td>\n",
       "    </tr>\n",
       "    <tr>\n",
       "      <th>18</th>\n",
       "      <td>Random Foreset Classifier</td>\n",
       "      <td>SMOTE</td>\n",
       "      <td>0.713625</td>\n",
       "      <td>0.695711</td>\n",
       "      <td>0.715852</td>\n",
       "      <td>0.648600</td>\n",
       "      <td>0.680569</td>\n",
       "    </tr>\n",
       "    <tr>\n",
       "      <th>19</th>\n",
       "      <td>AdaBoost Classifier</td>\n",
       "      <td>SMOTE</td>\n",
       "      <td>0.678180</td>\n",
       "      <td>0.652370</td>\n",
       "      <td>0.665358</td>\n",
       "      <td>0.612466</td>\n",
       "      <td>0.637817</td>\n",
       "    </tr>\n",
       "    <tr>\n",
       "      <th>20</th>\n",
       "      <td>Support Vector Classifier</td>\n",
       "      <td>SMOTE</td>\n",
       "      <td>0.641156</td>\n",
       "      <td>0.632054</td>\n",
       "      <td>0.627622</td>\n",
       "      <td>0.648600</td>\n",
       "      <td>0.637939</td>\n",
       "    </tr>\n",
       "    <tr>\n",
       "      <th>21</th>\n",
       "      <td>Logistic Regression</td>\n",
       "      <td>SMOTE &amp; GSCV</td>\n",
       "      <td>0.630977</td>\n",
       "      <td>0.614964</td>\n",
       "      <td>0.621198</td>\n",
       "      <td>0.608853</td>\n",
       "      <td>0.614964</td>\n",
       "    </tr>\n",
       "    <tr>\n",
       "      <th>22</th>\n",
       "      <td>K Nearest Neighbor</td>\n",
       "      <td>SMOTE &amp; GSCV</td>\n",
       "      <td>0.673599</td>\n",
       "      <td>0.664882</td>\n",
       "      <td>0.656966</td>\n",
       "      <td>0.672990</td>\n",
       "      <td>0.664882</td>\n",
       "    </tr>\n",
       "    <tr>\n",
       "      <th>23</th>\n",
       "      <td>Decision Tree Classifier</td>\n",
       "      <td>SMOTE &amp; GSCV</td>\n",
       "      <td>0.674957</td>\n",
       "      <td>0.676143</td>\n",
       "      <td>0.588235</td>\n",
       "      <td>0.794941</td>\n",
       "      <td>0.676143</td>\n",
       "    </tr>\n",
       "    <tr>\n",
       "      <th>24</th>\n",
       "      <td>Bagging Classifier</td>\n",
       "      <td>SMOTE &amp; GSCV</td>\n",
       "      <td>0.696399</td>\n",
       "      <td>0.679426</td>\n",
       "      <td>0.722279</td>\n",
       "      <td>0.641373</td>\n",
       "      <td>0.679426</td>\n",
       "    </tr>\n",
       "    <tr>\n",
       "      <th>25</th>\n",
       "      <td>Random Foreset Classifier</td>\n",
       "      <td>SMOTE &amp; GSCV</td>\n",
       "      <td>0.712760</td>\n",
       "      <td>0.691858</td>\n",
       "      <td>0.689068</td>\n",
       "      <td>0.694670</td>\n",
       "      <td>0.691858</td>\n",
       "    </tr>\n",
       "    <tr>\n",
       "      <th>26</th>\n",
       "      <td>AdaBoost Classifier</td>\n",
       "      <td>SMOTE &amp; GSCV</td>\n",
       "      <td>0.682716</td>\n",
       "      <td>0.662438</td>\n",
       "      <td>0.664545</td>\n",
       "      <td>0.660343</td>\n",
       "      <td>0.662438</td>\n",
       "    </tr>\n",
       "    <tr>\n",
       "      <th>27</th>\n",
       "      <td>Support Vector Classifier</td>\n",
       "      <td>SMOTE &amp; GSCV</td>\n",
       "      <td>0.645952</td>\n",
       "      <td>0.637939</td>\n",
       "      <td>0.627622</td>\n",
       "      <td>0.648600</td>\n",
       "      <td>0.637939</td>\n",
       "    </tr>\n",
       "  </tbody>\n",
       "</table>\n",
       "</div>"
      ],
      "text/plain": [
       "                               Model        Remark  Train Score  Test Score  \\\n",
       "0   Base Model | Logistic Regression          None     0.714533    0.720477   \n",
       "1                 K Nearest Neighbor          None     0.747997    0.738065   \n",
       "2           Decision Tree Classifier          None     0.774548    0.766332   \n",
       "3                 Bagging Classifier          None     0.774234    0.762563   \n",
       "4          Random Foreset Classifier          None     0.774548    0.761935   \n",
       "5                AdaBoost Classifier          None     0.738256    0.734925   \n",
       "6          Support Vector Classifier          None     0.732129    0.738693   \n",
       "7                Logistic Regression          GSCV     0.211714    0.226087   \n",
       "8                 K Nearest Neighbor          GSCV     0.512165    0.481988   \n",
       "9           Decision Tree Classifier          GSCV     0.468694    0.416667   \n",
       "10                Bagging Classifier          GSCV     0.524046    0.487805   \n",
       "11         Random Foreset Classifier          GSCV     0.524046    0.487805   \n",
       "12               AdaBoost Classifier          GSCV     0.486860    0.449857   \n",
       "13         Support Vector Classifier          GSCV     0.294580    0.318033   \n",
       "14               Logistic Regression         SMOTE     0.636754    0.620767   \n",
       "15                K Nearest Neighbor         SMOTE     0.668586    0.660045   \n",
       "16          Decision Tree Classifier         SMOTE     0.713625    0.695711   \n",
       "17                Bagging Classifier         SMOTE     0.712383    0.694808   \n",
       "18         Random Foreset Classifier         SMOTE     0.713625    0.695711   \n",
       "19               AdaBoost Classifier         SMOTE     0.678180    0.652370   \n",
       "20         Support Vector Classifier         SMOTE     0.641156    0.632054   \n",
       "21               Logistic Regression  SMOTE & GSCV     0.630977    0.614964   \n",
       "22                K Nearest Neighbor  SMOTE & GSCV     0.673599    0.664882   \n",
       "23          Decision Tree Classifier  SMOTE & GSCV     0.674957    0.676143   \n",
       "24                Bagging Classifier  SMOTE & GSCV     0.696399    0.679426   \n",
       "25         Random Foreset Classifier  SMOTE & GSCV     0.712760    0.691858   \n",
       "26               AdaBoost Classifier  SMOTE & GSCV     0.682716    0.662438   \n",
       "27         Support Vector Classifier  SMOTE & GSCV     0.645952    0.637939   \n",
       "\n",
       "    Precision    Recall  F1 Score  \n",
       "0    0.714286  0.134298  0.226087  \n",
       "1    0.604361  0.400826  0.481988  \n",
       "2    0.739316  0.357438  0.481894  \n",
       "3    0.681507  0.411157  0.512887  \n",
       "4    0.696629  0.384298  0.495340  \n",
       "5    0.738462  0.198347  0.312704  \n",
       "6    0.769841  0.200413  0.318033  \n",
       "7    0.714286  0.134298  0.226087  \n",
       "8    0.604361  0.400826  0.481988  \n",
       "9    0.744681  0.289256  0.416667  \n",
       "10   0.708661  0.371901  0.487805  \n",
       "11   0.708661  0.371901  0.487805  \n",
       "12   0.733645  0.324380  0.449857  \n",
       "13   0.769841  0.200413  0.318033  \n",
       "14   0.620596  0.620596  0.620596  \n",
       "15   0.656085  0.672087  0.663989  \n",
       "16   0.715852  0.648600  0.680569  \n",
       "17   0.692927  0.699187  0.696043  \n",
       "18   0.715852  0.648600  0.680569  \n",
       "19   0.665358  0.612466  0.637817  \n",
       "20   0.627622  0.648600  0.637939  \n",
       "21   0.621198  0.608853  0.614964  \n",
       "22   0.656966  0.672990  0.664882  \n",
       "23   0.588235  0.794941  0.676143  \n",
       "24   0.722279  0.641373  0.679426  \n",
       "25   0.689068  0.694670  0.691858  \n",
       "26   0.664545  0.660343  0.662438  \n",
       "27   0.627622  0.648600  0.637939  "
      ]
     },
     "execution_count": 133,
     "metadata": {},
     "output_type": "execute_result"
    }
   ],
   "source": [
    "summ_m1.reset_index(inplace = True)\n",
    "summ_m1.drop(columns = 'index', inplace = True)\n",
    "summ_m1"
   ]
  },
  {
   "cell_type": "code",
   "execution_count": 134,
   "id": "e7c90274-1992-49fd-9846-b3c1021d508f",
   "metadata": {},
   "outputs": [],
   "source": [
    "# Define a new dataframe for plotting\n",
    "summ_1_plot = summ_m1.copy()\n",
    "\n",
    "# Replace the remark for consistency\n",
    "summ_1_plot.at[0, 'Model']= 'Logistic Regression'\n",
    "summ_1_plot['Remark'].replace(np.nan , 'Normal Sampling', inplace = True)"
   ]
  },
  {
   "cell_type": "code",
   "execution_count": 135,
   "id": "486eadd7-4d84-4b7a-be57-bd2540722134",
   "metadata": {},
   "outputs": [
    {
     "data": {
      "image/png": "[encoded data removed]",
      "text/plain": [
       "<Figure size 1008x648 with 1 Axes>"
      ]
     },
     "metadata": {
      "needs_background": "light"
     },
     "output_type": "display_data"
    }
   ],
   "source": [
    "plt.figure(figsize = (14, 9))\n",
    "sns.lineplot(data=summ_1_plot, x='Model', y=\"F1 Score\", hue=\"Remark\", ci = None, palette = \"Set2\",  linewidth = 5, alpha = 0.6)\n",
    "plt.title(\"Model 1 - F1 Score Summary\", fontsize = 20)\n",
    "\n",
    "plt.grid(color='g', linestyle=':', linewidth=0.5, visible = bool )\n",
    "plt.legend()\n",
    "plt.ylabel('F1-Score', fontsize = 16)\n",
    "plt.xlabel('Model', fontsize = 16)\n",
    "plt.savefig('./image/m1_score_summary.jpg')\n",
    "plt.tight_layout()\n",
    "plt.show()"
   ]
  },
  {
   "cell_type": "markdown",
   "id": "870235c0-7947-47d3-ba7d-30c1867c7ddc",
   "metadata": {},
   "source": [
    "Inference:\n",
    "\n",
    "Based on the summary score above, we would use the metric of F1-Score to measure the performance of our models. \n",
    "We could see that the F1-score for Adaboost Model performs the best on both original cleaned dataset and SMOTE oversampling methods. \n",
    "\n",
    "To acertain on the F1-score, GridSearchCV was also done on both sampling methods. From the result, we could see that the SMOTE oversampling methods indeed performed better than normal sampling. The scores are around the range of 0.65.\n",
    "Out of the models, we have narrowed down to Bagging Classifier with SMOTE sampling and Bagging Classider with SMOTE & GridSearch CV. Both scores are really close but the train and test score for the Bagging Classifier with SMOTE is slightly higher. \n",
    "\n",
    "Hence, Bagging Calssification will be used to predict the Breeding Condition on both train and test datasets for Model 2 deployment."
   ]
  },
  {
   "cell_type": "markdown",
   "id": "1cc56b3d-5800-4c36-98dd-41fd13674de2",
   "metadata": {},
   "source": [
    "## Model 1 Prediction"
   ]
  },
  {
   "cell_type": "code",
   "execution_count": 136,
   "id": "7ef8bf71-d5ef-4a5c-a18f-d5b4a08eba26",
   "metadata": {},
   "outputs": [],
   "source": [
    "test_m1 = df_test_m1.copy()"
   ]
  },
  {
   "cell_type": "code",
   "execution_count": 137,
   "id": "fc124f3f-f3d1-49c5-95b4-51370e759fcb",
   "metadata": {},
   "outputs": [
    {
     "data": {
      "text/plain": [
       "Index(['CodeSum_BRHZ', 'CodeSum_HZ', 'CodeSum_RA', 'CodeSum_RABR',\n",
       "       'CodeSum_RABRHZ', 'CodeSum_RADZBR', 'CodeSum_TSRABR',\n",
       "       'CodeSum_TSRABRHZ', 'CodeSum_TSRAHZ', 'CodeSum_TSRARA',\n",
       "       'CodeSum_TSRARABR', 'CodeSum_TSRARADZBRHZ', 'CodeSum_TSTSRARABR',\n",
       "       'CodeSum_TSTSRARABRHZVCTS', 'CodeSum_TSTSRARAFGBRHZ', 'CodeSum_VCTS',\n",
       "       'CodeSum_moderate', 'Cool', 'DewPoint', 'Id', 'PrecipTotal', 'Tavg',\n",
       "       'Tmax', 'Tmin', 'WetBulb'],\n",
       "      dtype='object')"
      ]
     },
     "execution_count": 137,
     "metadata": {},
     "output_type": "execute_result"
    }
   ],
   "source": [
    "# To verify on the columns in test datasets\n",
    "test_m1.columns"
   ]
  },
  {
   "cell_type": "code",
   "execution_count": 138,
   "id": "a7af31c7-8385-44f2-975f-f7772e7b9cb8",
   "metadata": {},
   "outputs": [],
   "source": [
    "# 'Id' column will be dropped here for model prediction\n",
    "test_m1 = test_m1.drop('Id', axis = 1)"
   ]
  },
  {
   "cell_type": "code",
   "execution_count": 139,
   "id": "5610728d-87f7-4939-aa88-8c890a80a92c",
   "metadata": {},
   "outputs": [
    {
     "data": {
      "text/plain": [
       "Index(['CodeSum_BRHZ', 'CodeSum_HZ', 'CodeSum_RA', 'CodeSum_RABR',\n",
       "       'CodeSum_RABRHZ', 'CodeSum_RADZBR', 'CodeSum_TSRABR',\n",
       "       'CodeSum_TSRABRHZ', 'CodeSum_TSRAHZ', 'CodeSum_TSRARA',\n",
       "       'CodeSum_TSRARABR', 'CodeSum_TSRARADZBRHZ', 'CodeSum_TSTSRARABR',\n",
       "       'CodeSum_TSTSRARABRHZVCTS', 'CodeSum_TSTSRARAFGBRHZ', 'CodeSum_VCTS',\n",
       "       'CodeSum_moderate', 'Cool', 'DewPoint', 'PrecipTotal', 'Tavg', 'Tmax',\n",
       "       'Tmin', 'WetBulb'],\n",
       "      dtype='object')"
      ]
     },
     "execution_count": 139,
     "metadata": {},
     "output_type": "execute_result"
    }
   ],
   "source": [
    "test_m1.columns"
   ]
  },
  {
   "cell_type": "code",
   "execution_count": 140,
   "id": "15de8c49-1eef-4626-93b1-e7fed5aadb55",
   "metadata": {},
   "outputs": [],
   "source": [
    "# Standard Scaler the test dataset\n",
    "test_m1_ss = ss.transform(test_m1)\n",
    "\n",
    "# Model Prediction on Train dataset\n",
    "test_m1_pred = bagc_cv_s.predict(test_m1_ss)"
   ]
  },
  {
   "cell_type": "code",
   "execution_count": 141,
   "id": "f412733b-1bf8-43f1-8428-111ad5868616",
   "metadata": {},
   "outputs": [],
   "source": [
    "test_m1['BreedCond'] = test_m1_pred"
   ]
  },
  {
   "cell_type": "code",
   "execution_count": 142,
   "id": "dfb054fa-fbbe-45ef-a0f7-d0a031b07fb3",
   "metadata": {},
   "outputs": [],
   "source": [
    "test_m1['Id'] = df_test_m1['Id']"
   ]
  },
  {
   "cell_type": "code",
   "execution_count": 143,
   "id": "1b8e8edd-3ada-494c-85de-ee9345211a8b",
   "metadata": {},
   "outputs": [],
   "source": [
    "df_test_m2['BreedCond'] = test_m1_pred"
   ]
  },
  {
   "cell_type": "code",
   "execution_count": 144,
   "id": "81cb7025-8b5b-4f7a-a91f-152b09f9b0f7",
   "metadata": {},
   "outputs": [],
   "source": [
    "# test_m1.to_csv('./assets/test_m1_pred.csv', index=False)"
   ]
  },
  {
   "cell_type": "code",
   "execution_count": 145,
   "id": "c02af1fc-7466-4bcf-a679-b9f075a92949",
   "metadata": {},
   "outputs": [],
   "source": [
    "# df_test_m2.to_csv('./assets/test_m2_pred.csv', index=False)"
   ]
  },
  {
   "cell_type": "markdown",
   "id": "a60420a9-d68d-4008-9be3-b5e2b3ce2fa8",
   "metadata": {},
   "source": [
    "# Model 2 - Prediction for WNV Present"
   ]
  },
  {
   "cell_type": "code",
   "execution_count": 146,
   "id": "9ffb5b5b-cc51-4ca6-818d-594c3f672bd2",
   "metadata": {},
   "outputs": [],
   "source": [
    "summ_m2 = pd.DataFrame()    "
   ]
  },
  {
   "cell_type": "code",
   "execution_count": 147,
   "id": "bcfa5796-1f06-4947-bf01-8493f1dd9421",
   "metadata": {},
   "outputs": [],
   "source": [
    "# Train Test Split the data for model\n",
    "m2_X = df_train_m2.drop(['Species', 'WnvPresent'], axis = 1)\n",
    "m2_y = df_train_m2['WnvPresent']\n",
    "m2_X_train, m2_X_test, m2_y_train, m2_y_test = train_test_split(m2_X, m2_y, test_size=0.2, random_state=42, stratify = m2_y)"
   ]
  },
  {
   "cell_type": "code",
   "execution_count": 148,
   "id": "c6eab1d1-57f2-46bf-ba4e-f2672dde4b0e",
   "metadata": {},
   "outputs": [],
   "source": [
    "# Standard Scallar\n",
    "ss_2 = StandardScaler()\n",
    "m2_Z_train = ss_2.fit_transform(m2_X_train) \n",
    "m2_Z_test = ss_2.transform(m2_X_test) "
   ]
  },
  {
   "cell_type": "markdown",
   "id": "e84df179-b0e4-4e0d-b3b8-475348e902d1",
   "metadata": {},
   "source": [
    "## Normal Sampling Datasets"
   ]
  },
  {
   "cell_type": "markdown",
   "id": "00f10f3d-09ce-4151-b29e-aa99bb937388",
   "metadata": {},
   "source": [
    "### Logistic Regression"
   ]
  },
  {
   "cell_type": "code",
   "execution_count": 149,
   "id": "1ec1e716-2700-43df-8572-b301571ccb8c",
   "metadata": {},
   "outputs": [
    {
     "data": {
      "text/html": [
       "<div>\n",
       "<style scoped>\n",
       "    .dataframe tbody tr th:only-of-type {\n",
       "        vertical-align: middle;\n",
       "    }\n",
       "\n",
       "    .dataframe tbody tr th {\n",
       "        vertical-align: top;\n",
       "    }\n",
       "\n",
       "    .dataframe thead th {\n",
       "        text-align: right;\n",
       "    }\n",
       "</style>\n",
       "<table border=\"1\" class=\"dataframe\">\n",
       "  <thead>\n",
       "    <tr style=\"text-align: right;\">\n",
       "      <th></th>\n",
       "      <th>Model</th>\n",
       "      <th>Remark</th>\n",
       "      <th>Train Score</th>\n",
       "      <th>Test Score</th>\n",
       "      <th>Precision</th>\n",
       "      <th>Recall</th>\n",
       "      <th>F1 Score</th>\n",
       "    </tr>\n",
       "  </thead>\n",
       "  <tbody>\n",
       "    <tr>\n",
       "      <th>0</th>\n",
       "      <td>Base Model | Logistic Regression</td>\n",
       "      <td>None</td>\n",
       "      <td>0.958995</td>\n",
       "      <td>0.959171</td>\n",
       "      <td>0.0</td>\n",
       "      <td>0.0</td>\n",
       "      <td>0.0</td>\n",
       "    </tr>\n",
       "  </tbody>\n",
       "</table>\n",
       "</div>"
      ],
      "text/plain": [
       "                              Model Remark  Train Score  Test Score  \\\n",
       "0  Base Model | Logistic Regression   None     0.958995    0.959171   \n",
       "\n",
       "   Precision  Recall  F1 Score  \n",
       "0        0.0     0.0       0.0  "
      ]
     },
     "execution_count": 149,
     "metadata": {},
     "output_type": "execute_result"
    }
   ],
   "source": [
    "# Instantiate model\n",
    "logreg_2 = LogisticRegression(solver = 'newton-cg', random_state = 123) # changing solver b/c of convergence warning\n",
    "\n",
    "# Fit the model\n",
    "logreg_2.fit(m2_Z_train, m2_y_train)\n",
    "\n",
    "# To showcase the result\n",
    "result = pd.DataFrame(sum_score('Base Model | Logistic Regression', logreg_2, m2_Z_train, m2_Z_test, m2_y_train, m2_y_test))\n",
    "\n",
    "# To join the result into the summary table\n",
    "summ_m2 = pd.concat([summ_m2, result])\n",
    "\n",
    "# To display result\n",
    "result"
   ]
  },
  {
   "cell_type": "markdown",
   "id": "e2ba458e-0a22-4c4b-8ec1-908702b759b7",
   "metadata": {},
   "source": [
    "### K-Neighbor Classifier"
   ]
  },
  {
   "cell_type": "code",
   "execution_count": 150,
   "id": "4a17313b-e33a-47c3-805e-532bbefaeb75",
   "metadata": {},
   "outputs": [
    {
     "data": {
      "text/html": [
       "<div>\n",
       "<style scoped>\n",
       "    .dataframe tbody tr th:only-of-type {\n",
       "        vertical-align: middle;\n",
       "    }\n",
       "\n",
       "    .dataframe tbody tr th {\n",
       "        vertical-align: top;\n",
       "    }\n",
       "\n",
       "    .dataframe thead th {\n",
       "        text-align: right;\n",
       "    }\n",
       "</style>\n",
       "<table border=\"1\" class=\"dataframe\">\n",
       "  <thead>\n",
       "    <tr style=\"text-align: right;\">\n",
       "      <th></th>\n",
       "      <th>Model</th>\n",
       "      <th>Remark</th>\n",
       "      <th>Train Score</th>\n",
       "      <th>Test Score</th>\n",
       "      <th>Precision</th>\n",
       "      <th>Recall</th>\n",
       "      <th>F1 Score</th>\n",
       "    </tr>\n",
       "  </thead>\n",
       "  <tbody>\n",
       "    <tr>\n",
       "      <th>0</th>\n",
       "      <td>K Nearest Neighbor</td>\n",
       "      <td>None</td>\n",
       "      <td>0.959309</td>\n",
       "      <td>0.960427</td>\n",
       "      <td>1.0</td>\n",
       "      <td>0.030769</td>\n",
       "      <td>0.059701</td>\n",
       "    </tr>\n",
       "  </tbody>\n",
       "</table>\n",
       "</div>"
      ],
      "text/plain": [
       "                Model Remark  Train Score  Test Score  Precision    Recall  \\\n",
       "0  K Nearest Neighbor   None     0.959309    0.960427        1.0  0.030769   \n",
       "\n",
       "   F1 Score  \n",
       "0  0.059701  "
      ]
     },
     "execution_count": 150,
     "metadata": {},
     "output_type": "execute_result"
    }
   ],
   "source": [
    "# Instantiate model\n",
    "knn_2 = KNeighborsClassifier() # changing solver b/c of convergence warning\n",
    "\n",
    "# Fit the model\n",
    "knn_2.fit(m2_Z_train, m2_y_train)\n",
    "\n",
    "# To showcase the result\n",
    "result = pd.DataFrame(sum_score('K Nearest Neighbor', knn_2, m2_Z_train, m2_Z_test, m2_y_train, m2_y_test))\n",
    "\n",
    "# To join the result into the summary table\n",
    "summ_m2 = pd.concat([summ_m2, result])\n",
    "\n",
    "# To display result\n",
    "result"
   ]
  },
  {
   "cell_type": "markdown",
   "id": "07d38253-8359-44ac-853b-010223f38bdd",
   "metadata": {},
   "source": [
    "### Decision Tree Classifier"
   ]
  },
  {
   "cell_type": "code",
   "execution_count": 151,
   "id": "d0a66b6b-2008-4b68-8d6c-877a9a8dab1c",
   "metadata": {},
   "outputs": [
    {
     "data": {
      "text/html": [
       "<div>\n",
       "<style scoped>\n",
       "    .dataframe tbody tr th:only-of-type {\n",
       "        vertical-align: middle;\n",
       "    }\n",
       "\n",
       "    .dataframe tbody tr th {\n",
       "        vertical-align: top;\n",
       "    }\n",
       "\n",
       "    .dataframe thead th {\n",
       "        text-align: right;\n",
       "    }\n",
       "</style>\n",
       "<table border=\"1\" class=\"dataframe\">\n",
       "  <thead>\n",
       "    <tr style=\"text-align: right;\">\n",
       "      <th></th>\n",
       "      <th>Model</th>\n",
       "      <th>Remark</th>\n",
       "      <th>Train Score</th>\n",
       "      <th>Test Score</th>\n",
       "      <th>Precision</th>\n",
       "      <th>Recall</th>\n",
       "      <th>F1 Score</th>\n",
       "    </tr>\n",
       "  </thead>\n",
       "  <tbody>\n",
       "    <tr>\n",
       "      <th>0</th>\n",
       "      <td>Decision Tree Classifier</td>\n",
       "      <td>None</td>\n",
       "      <td>0.959466</td>\n",
       "      <td>0.960427</td>\n",
       "      <td>1.0</td>\n",
       "      <td>0.030769</td>\n",
       "      <td>0.059701</td>\n",
       "    </tr>\n",
       "  </tbody>\n",
       "</table>\n",
       "</div>"
      ],
      "text/plain": [
       "                      Model Remark  Train Score  Test Score  Precision  \\\n",
       "0  Decision Tree Classifier   None     0.959466    0.960427        1.0   \n",
       "\n",
       "     Recall  F1 Score  \n",
       "0  0.030769  0.059701  "
      ]
     },
     "execution_count": 151,
     "metadata": {},
     "output_type": "execute_result"
    }
   ],
   "source": [
    "# Instantiate model\n",
    "dt_2 = DecisionTreeClassifier(random_state = 123)\n",
    "\n",
    "# Fit the model\n",
    "dt_2.fit(m2_Z_train, m2_y_train)\n",
    "\n",
    "# To showcase the result\n",
    "result = pd.DataFrame(sum_score('Decision Tree Classifier', dt_2, m2_Z_train, m2_Z_test, m2_y_train, m2_y_test))\n",
    "\n",
    "# To join the result into the summary table\n",
    "summ_m2 = pd.concat([summ_m2, result])\n",
    "\n",
    "# To display result\n",
    "result"
   ]
  },
  {
   "cell_type": "markdown",
   "id": "13f370f5-d39c-44c7-818f-d9a1854b52f7",
   "metadata": {},
   "source": [
    "### Bagging Classifier"
   ]
  },
  {
   "cell_type": "code",
   "execution_count": 152,
   "id": "535e9633-aa18-4d48-93fc-e87b70cb02a2",
   "metadata": {},
   "outputs": [
    {
     "data": {
      "text/html": [
       "<div>\n",
       "<style scoped>\n",
       "    .dataframe tbody tr th:only-of-type {\n",
       "        vertical-align: middle;\n",
       "    }\n",
       "\n",
       "    .dataframe tbody tr th {\n",
       "        vertical-align: top;\n",
       "    }\n",
       "\n",
       "    .dataframe thead th {\n",
       "        text-align: right;\n",
       "    }\n",
       "</style>\n",
       "<table border=\"1\" class=\"dataframe\">\n",
       "  <thead>\n",
       "    <tr style=\"text-align: right;\">\n",
       "      <th></th>\n",
       "      <th>Model</th>\n",
       "      <th>Remark</th>\n",
       "      <th>Train Score</th>\n",
       "      <th>Test Score</th>\n",
       "      <th>Precision</th>\n",
       "      <th>Recall</th>\n",
       "      <th>F1 Score</th>\n",
       "    </tr>\n",
       "  </thead>\n",
       "  <tbody>\n",
       "    <tr>\n",
       "      <th>0</th>\n",
       "      <td>Bagging Classifier</td>\n",
       "      <td>None</td>\n",
       "      <td>0.959466</td>\n",
       "      <td>0.960427</td>\n",
       "      <td>1.0</td>\n",
       "      <td>0.030769</td>\n",
       "      <td>0.059701</td>\n",
       "    </tr>\n",
       "  </tbody>\n",
       "</table>\n",
       "</div>"
      ],
      "text/plain": [
       "                Model Remark  Train Score  Test Score  Precision    Recall  \\\n",
       "0  Bagging Classifier   None     0.959466    0.960427        1.0  0.030769   \n",
       "\n",
       "   F1 Score  \n",
       "0  0.059701  "
      ]
     },
     "execution_count": 152,
     "metadata": {},
     "output_type": "execute_result"
    }
   ],
   "source": [
    "# Instantiate model\n",
    "bagc_2 = BaggingClassifier(random_state = 123)\n",
    "\n",
    "# Fit the model\n",
    "bagc_2.fit(m2_Z_train, m2_y_train)\n",
    "\n",
    "# To showcase the result\n",
    "result = pd.DataFrame(sum_score('Bagging Classifier', bagc_2, m2_Z_train, m2_Z_test, m2_y_train, m2_y_test))\n",
    "\n",
    "# To join the result into the summary table\n",
    "summ_m2 = pd.concat([summ_m2, result])\n",
    "\n",
    "# To display result\n",
    "result"
   ]
  },
  {
   "cell_type": "markdown",
   "id": "16e0732a-4447-41a7-a932-f5777afa3a94",
   "metadata": {},
   "source": [
    "### Random Forest Classider"
   ]
  },
  {
   "cell_type": "code",
   "execution_count": 153,
   "id": "0fc63b24-9ad7-4666-943b-fe3f2f55c801",
   "metadata": {},
   "outputs": [
    {
     "data": {
      "text/html": [
       "<div>\n",
       "<style scoped>\n",
       "    .dataframe tbody tr th:only-of-type {\n",
       "        vertical-align: middle;\n",
       "    }\n",
       "\n",
       "    .dataframe tbody tr th {\n",
       "        vertical-align: top;\n",
       "    }\n",
       "\n",
       "    .dataframe thead th {\n",
       "        text-align: right;\n",
       "    }\n",
       "</style>\n",
       "<table border=\"1\" class=\"dataframe\">\n",
       "  <thead>\n",
       "    <tr style=\"text-align: right;\">\n",
       "      <th></th>\n",
       "      <th>Model</th>\n",
       "      <th>Remark</th>\n",
       "      <th>Train Score</th>\n",
       "      <th>Test Score</th>\n",
       "      <th>Precision</th>\n",
       "      <th>Recall</th>\n",
       "      <th>F1 Score</th>\n",
       "    </tr>\n",
       "  </thead>\n",
       "  <tbody>\n",
       "    <tr>\n",
       "      <th>0</th>\n",
       "      <td>Random Foreset Classifier</td>\n",
       "      <td>None</td>\n",
       "      <td>0.959466</td>\n",
       "      <td>0.960427</td>\n",
       "      <td>1.0</td>\n",
       "      <td>0.030769</td>\n",
       "      <td>0.059701</td>\n",
       "    </tr>\n",
       "  </tbody>\n",
       "</table>\n",
       "</div>"
      ],
      "text/plain": [
       "                       Model Remark  Train Score  Test Score  Precision  \\\n",
       "0  Random Foreset Classifier   None     0.959466    0.960427        1.0   \n",
       "\n",
       "     Recall  F1 Score  \n",
       "0  0.030769  0.059701  "
      ]
     },
     "execution_count": 153,
     "metadata": {},
     "output_type": "execute_result"
    }
   ],
   "source": [
    "# Instantiate model\n",
    "rfc_2 = RandomForestClassifier(random_state = 123)\n",
    "\n",
    "# Fit the model\n",
    "rfc_2.fit(m2_Z_train, m2_y_train)\n",
    "\n",
    "# To showcase the result\n",
    "result = pd.DataFrame(sum_score('Random Foreset Classifier', rfc_2, m2_Z_train, m2_Z_test, m2_y_train, m2_y_test))\n",
    "\n",
    "# To join the result into the summary table\n",
    "summ_m2 = pd.concat([summ_m2, result])\n",
    "\n",
    "# To display result\n",
    "result"
   ]
  },
  {
   "cell_type": "markdown",
   "id": "3fba3dab-88ce-49ea-a139-b551ed031098",
   "metadata": {},
   "source": [
    "### AdaBoost Classificer"
   ]
  },
  {
   "cell_type": "code",
   "execution_count": 154,
   "id": "880562ee-8902-4a9d-a3f5-66d84bce3674",
   "metadata": {},
   "outputs": [
    {
     "data": {
      "text/html": [
       "<div>\n",
       "<style scoped>\n",
       "    .dataframe tbody tr th:only-of-type {\n",
       "        vertical-align: middle;\n",
       "    }\n",
       "\n",
       "    .dataframe tbody tr th {\n",
       "        vertical-align: top;\n",
       "    }\n",
       "\n",
       "    .dataframe thead th {\n",
       "        text-align: right;\n",
       "    }\n",
       "</style>\n",
       "<table border=\"1\" class=\"dataframe\">\n",
       "  <thead>\n",
       "    <tr style=\"text-align: right;\">\n",
       "      <th></th>\n",
       "      <th>Model</th>\n",
       "      <th>Remark</th>\n",
       "      <th>Train Score</th>\n",
       "      <th>Test Score</th>\n",
       "      <th>Precision</th>\n",
       "      <th>Recall</th>\n",
       "      <th>F1 Score</th>\n",
       "    </tr>\n",
       "  </thead>\n",
       "  <tbody>\n",
       "    <tr>\n",
       "      <th>0</th>\n",
       "      <td>AdaBoost Classifier</td>\n",
       "      <td>None</td>\n",
       "      <td>0.958995</td>\n",
       "      <td>0.959171</td>\n",
       "      <td>0.0</td>\n",
       "      <td>0.0</td>\n",
       "      <td>0.0</td>\n",
       "    </tr>\n",
       "  </tbody>\n",
       "</table>\n",
       "</div>"
      ],
      "text/plain": [
       "                 Model Remark  Train Score  Test Score  Precision  Recall  \\\n",
       "0  AdaBoost Classifier   None     0.958995    0.959171        0.0     0.0   \n",
       "\n",
       "   F1 Score  \n",
       "0       0.0  "
      ]
     },
     "execution_count": 154,
     "metadata": {},
     "output_type": "execute_result"
    }
   ],
   "source": [
    "# Instantiate model\n",
    "abc_2 = AdaBoostClassifier(random_state = 123)\n",
    "\n",
    "# Fit the model\n",
    "abc_2.fit(m2_Z_train, m2_y_train)\n",
    "\n",
    "# To showcase the result\n",
    "result = pd.DataFrame(sum_score('AdaBoost Classifier', abc_2, m2_Z_train, m2_Z_test, m2_y_train, m2_y_test))\n",
    "\n",
    "# To join the result into the summary table\n",
    "summ_m2 = pd.concat([summ_m2, result])\n",
    "\n",
    "# To display result\n",
    "result"
   ]
  },
  {
   "cell_type": "markdown",
   "id": "0436c334-a65d-42d4-affc-6f09b0835065",
   "metadata": {},
   "source": [
    "### Support Vector Classificer"
   ]
  },
  {
   "cell_type": "code",
   "execution_count": 155,
   "id": "409328d9-6197-4c09-8cbd-ad0d0ed30b16",
   "metadata": {},
   "outputs": [
    {
     "data": {
      "text/html": [
       "<div>\n",
       "<style scoped>\n",
       "    .dataframe tbody tr th:only-of-type {\n",
       "        vertical-align: middle;\n",
       "    }\n",
       "\n",
       "    .dataframe tbody tr th {\n",
       "        vertical-align: top;\n",
       "    }\n",
       "\n",
       "    .dataframe thead th {\n",
       "        text-align: right;\n",
       "    }\n",
       "</style>\n",
       "<table border=\"1\" class=\"dataframe\">\n",
       "  <thead>\n",
       "    <tr style=\"text-align: right;\">\n",
       "      <th></th>\n",
       "      <th>Model</th>\n",
       "      <th>Remark</th>\n",
       "      <th>Train Score</th>\n",
       "      <th>Test Score</th>\n",
       "      <th>Precision</th>\n",
       "      <th>Recall</th>\n",
       "      <th>F1 Score</th>\n",
       "    </tr>\n",
       "  </thead>\n",
       "  <tbody>\n",
       "    <tr>\n",
       "      <th>0</th>\n",
       "      <td>Support Vector Classifier</td>\n",
       "      <td>None</td>\n",
       "      <td>0.958995</td>\n",
       "      <td>0.959171</td>\n",
       "      <td>0.0</td>\n",
       "      <td>0.0</td>\n",
       "      <td>0.0</td>\n",
       "    </tr>\n",
       "  </tbody>\n",
       "</table>\n",
       "</div>"
      ],
      "text/plain": [
       "                       Model Remark  Train Score  Test Score  Precision  \\\n",
       "0  Support Vector Classifier   None     0.958995    0.959171        0.0   \n",
       "\n",
       "   Recall  F1 Score  \n",
       "0     0.0       0.0  "
      ]
     },
     "execution_count": 155,
     "metadata": {},
     "output_type": "execute_result"
    }
   ],
   "source": [
    "# Instantiate model\n",
    "svc_2 = SVC(random_state = 123)\n",
    "\n",
    "# Fit the model\n",
    "svc_2.fit(m2_Z_train, m2_y_train)\n",
    "\n",
    "# To showcase the result\n",
    "result = pd.DataFrame(sum_score('Support Vector Classifier', svc_2, m2_Z_train, m2_Z_test, m2_y_train, m2_y_test))\n",
    "\n",
    "# To join the result into the summary table\n",
    "summ_m2 = pd.concat([summ_m2, result])\n",
    "\n",
    "# To display result\n",
    "result"
   ]
  },
  {
   "cell_type": "code",
   "execution_count": 156,
   "id": "c0c4146b-bb87-446e-bc1d-01dbf49dff21",
   "metadata": {},
   "outputs": [
    {
     "data": {
      "text/html": [
       "<div>\n",
       "<style scoped>\n",
       "    .dataframe tbody tr th:only-of-type {\n",
       "        vertical-align: middle;\n",
       "    }\n",
       "\n",
       "    .dataframe tbody tr th {\n",
       "        vertical-align: top;\n",
       "    }\n",
       "\n",
       "    .dataframe thead th {\n",
       "        text-align: right;\n",
       "    }\n",
       "</style>\n",
       "<table border=\"1\" class=\"dataframe\">\n",
       "  <thead>\n",
       "    <tr style=\"text-align: right;\">\n",
       "      <th></th>\n",
       "      <th>Model</th>\n",
       "      <th>Remark</th>\n",
       "      <th>Train Score</th>\n",
       "      <th>Test Score</th>\n",
       "      <th>Precision</th>\n",
       "      <th>Recall</th>\n",
       "      <th>F1 Score</th>\n",
       "    </tr>\n",
       "  </thead>\n",
       "  <tbody>\n",
       "    <tr>\n",
       "      <th>0</th>\n",
       "      <td>Base Model | Logistic Regression</td>\n",
       "      <td>None</td>\n",
       "      <td>0.958995</td>\n",
       "      <td>0.959171</td>\n",
       "      <td>0.0</td>\n",
       "      <td>0.000000</td>\n",
       "      <td>0.000000</td>\n",
       "    </tr>\n",
       "    <tr>\n",
       "      <th>1</th>\n",
       "      <td>K Nearest Neighbor</td>\n",
       "      <td>None</td>\n",
       "      <td>0.959309</td>\n",
       "      <td>0.960427</td>\n",
       "      <td>1.0</td>\n",
       "      <td>0.030769</td>\n",
       "      <td>0.059701</td>\n",
       "    </tr>\n",
       "    <tr>\n",
       "      <th>2</th>\n",
       "      <td>Decision Tree Classifier</td>\n",
       "      <td>None</td>\n",
       "      <td>0.959466</td>\n",
       "      <td>0.960427</td>\n",
       "      <td>1.0</td>\n",
       "      <td>0.030769</td>\n",
       "      <td>0.059701</td>\n",
       "    </tr>\n",
       "    <tr>\n",
       "      <th>3</th>\n",
       "      <td>Bagging Classifier</td>\n",
       "      <td>None</td>\n",
       "      <td>0.959466</td>\n",
       "      <td>0.960427</td>\n",
       "      <td>1.0</td>\n",
       "      <td>0.030769</td>\n",
       "      <td>0.059701</td>\n",
       "    </tr>\n",
       "    <tr>\n",
       "      <th>4</th>\n",
       "      <td>Random Foreset Classifier</td>\n",
       "      <td>None</td>\n",
       "      <td>0.959466</td>\n",
       "      <td>0.960427</td>\n",
       "      <td>1.0</td>\n",
       "      <td>0.030769</td>\n",
       "      <td>0.059701</td>\n",
       "    </tr>\n",
       "    <tr>\n",
       "      <th>5</th>\n",
       "      <td>AdaBoost Classifier</td>\n",
       "      <td>None</td>\n",
       "      <td>0.958995</td>\n",
       "      <td>0.959171</td>\n",
       "      <td>0.0</td>\n",
       "      <td>0.000000</td>\n",
       "      <td>0.000000</td>\n",
       "    </tr>\n",
       "    <tr>\n",
       "      <th>6</th>\n",
       "      <td>Support Vector Classifier</td>\n",
       "      <td>None</td>\n",
       "      <td>0.958995</td>\n",
       "      <td>0.959171</td>\n",
       "      <td>0.0</td>\n",
       "      <td>0.000000</td>\n",
       "      <td>0.000000</td>\n",
       "    </tr>\n",
       "  </tbody>\n",
       "</table>\n",
       "</div>"
      ],
      "text/plain": [
       "                              Model Remark  Train Score  Test Score  \\\n",
       "0  Base Model | Logistic Regression   None     0.958995    0.959171   \n",
       "1                K Nearest Neighbor   None     0.959309    0.960427   \n",
       "2          Decision Tree Classifier   None     0.959466    0.960427   \n",
       "3                Bagging Classifier   None     0.959466    0.960427   \n",
       "4         Random Foreset Classifier   None     0.959466    0.960427   \n",
       "5               AdaBoost Classifier   None     0.958995    0.959171   \n",
       "6         Support Vector Classifier   None     0.958995    0.959171   \n",
       "\n",
       "   Precision    Recall  F1 Score  \n",
       "0        0.0  0.000000  0.000000  \n",
       "1        1.0  0.030769  0.059701  \n",
       "2        1.0  0.030769  0.059701  \n",
       "3        1.0  0.030769  0.059701  \n",
       "4        1.0  0.030769  0.059701  \n",
       "5        0.0  0.000000  0.000000  \n",
       "6        0.0  0.000000  0.000000  "
      ]
     },
     "execution_count": 156,
     "metadata": {},
     "output_type": "execute_result"
    }
   ],
   "source": [
    "summ_m2.reset_index(inplace = True)\n",
    "summ_m2.drop(columns = 'index', inplace = True)\n",
    "summ_m2"
   ]
  },
  {
   "cell_type": "markdown",
   "id": "bd1e1bc6-dc00-4ad5-966a-fe3d0d6d1f65",
   "metadata": {},
   "source": [
    "## Normal Sampling Datasets with GridSearch CV"
   ]
  },
  {
   "cell_type": "code",
   "execution_count": 157,
   "id": "ee91c2f8-c99a-49c8-80ba-2c0f1c3a5234",
   "metadata": {},
   "outputs": [],
   "source": [
    "remark = 'GSCV'"
   ]
  },
  {
   "cell_type": "markdown",
   "id": "c20d635f-7c79-4a8c-bc73-2df205a27348",
   "metadata": {},
   "source": [
    "### Logistic Regression"
   ]
  },
  {
   "cell_type": "code",
   "execution_count": 158,
   "id": "40af9df4-5995-41e0-8537-66e9cfc0d940",
   "metadata": {},
   "outputs": [
    {
     "name": "stdout",
     "output_type": "stream",
     "text": [
      "Fitting 5 folds for each of 9 candidates, totalling 45 fits\n"
     ]
    },
    {
     "data": {
      "text/html": [
       "<div>\n",
       "<style scoped>\n",
       "    .dataframe tbody tr th:only-of-type {\n",
       "        vertical-align: middle;\n",
       "    }\n",
       "\n",
       "    .dataframe tbody tr th {\n",
       "        vertical-align: top;\n",
       "    }\n",
       "\n",
       "    .dataframe thead th {\n",
       "        text-align: right;\n",
       "    }\n",
       "</style>\n",
       "<table border=\"1\" class=\"dataframe\">\n",
       "  <thead>\n",
       "    <tr style=\"text-align: right;\">\n",
       "      <th></th>\n",
       "      <th>Model</th>\n",
       "      <th>Remark</th>\n",
       "      <th>Train Score</th>\n",
       "      <th>Test Score</th>\n",
       "      <th>Precision</th>\n",
       "      <th>Recall</th>\n",
       "      <th>F1 Score</th>\n",
       "    </tr>\n",
       "  </thead>\n",
       "  <tbody>\n",
       "    <tr>\n",
       "      <th>0</th>\n",
       "      <td>Logistic Regression</td>\n",
       "      <td>GSCV</td>\n",
       "      <td>0.958995</td>\n",
       "      <td>0.959171</td>\n",
       "      <td>0.0</td>\n",
       "      <td>0.0</td>\n",
       "      <td>0.0</td>\n",
       "    </tr>\n",
       "  </tbody>\n",
       "</table>\n",
       "</div>"
      ],
      "text/plain": [
       "                 Model Remark  Train Score  Test Score  Precision  Recall  \\\n",
       "0  Logistic Regression   GSCV     0.958995    0.959171        0.0     0.0   \n",
       "\n",
       "   F1 Score  \n",
       "0       0.0  "
      ]
     },
     "execution_count": 158,
     "metadata": {},
     "output_type": "execute_result"
    }
   ],
   "source": [
    "# Instantiate model\n",
    "logreg_2_cv = GridSearchCV(estimator = LogisticRegression(),\n",
    "            param_grid = {'max_iter': [50, 100, 200],\n",
    "                          'solver': ['newton-cg', 'liblinear', 'saga']},\n",
    "                         cv = 5,\n",
    "                         verbose = 1)\n",
    "\n",
    "# Fit the model\n",
    "logreg_2_cv.fit(m2_Z_train, m2_y_train)\n",
    "\n",
    "# To showcase the result\n",
    "result = pd.DataFrame(sum_score('Logistic Regression', logreg_2_cv, m2_Z_train, m2_Z_test, m2_y_train, m2_y_test, remark))\n",
    "\n",
    "# To join the result into the summary table\n",
    "summ_m2 = pd.concat([summ_m2, result])\n",
    "\n",
    "# To display result\n",
    "result"
   ]
  },
  {
   "cell_type": "markdown",
   "id": "c0c21e21-e761-4d41-9c36-44cfdb895d18",
   "metadata": {},
   "source": [
    "### K-Neighbor Classifier"
   ]
  },
  {
   "cell_type": "code",
   "execution_count": 159,
   "id": "a026c582-a607-48a7-9655-71d990c1888c",
   "metadata": {},
   "outputs": [
    {
     "name": "stdout",
     "output_type": "stream",
     "text": [
      "Fitting 5 folds for each of 18 candidates, totalling 90 fits\n"
     ]
    },
    {
     "data": {
      "text/html": [
       "<div>\n",
       "<style scoped>\n",
       "    .dataframe tbody tr th:only-of-type {\n",
       "        vertical-align: middle;\n",
       "    }\n",
       "\n",
       "    .dataframe tbody tr th {\n",
       "        vertical-align: top;\n",
       "    }\n",
       "\n",
       "    .dataframe thead th {\n",
       "        text-align: right;\n",
       "    }\n",
       "</style>\n",
       "<table border=\"1\" class=\"dataframe\">\n",
       "  <thead>\n",
       "    <tr style=\"text-align: right;\">\n",
       "      <th></th>\n",
       "      <th>Model</th>\n",
       "      <th>Remark</th>\n",
       "      <th>Train Score</th>\n",
       "      <th>Test Score</th>\n",
       "      <th>Precision</th>\n",
       "      <th>Recall</th>\n",
       "      <th>F1 Score</th>\n",
       "    </tr>\n",
       "  </thead>\n",
       "  <tbody>\n",
       "    <tr>\n",
       "      <th>0</th>\n",
       "      <td>K Nearest Neighbor</td>\n",
       "      <td>GSCV</td>\n",
       "      <td>0.958052</td>\n",
       "      <td>0.956658</td>\n",
       "      <td>0.3</td>\n",
       "      <td>0.046154</td>\n",
       "      <td>0.08</td>\n",
       "    </tr>\n",
       "  </tbody>\n",
       "</table>\n",
       "</div>"
      ],
      "text/plain": [
       "                Model Remark  Train Score  Test Score  Precision    Recall  \\\n",
       "0  K Nearest Neighbor   GSCV     0.958052    0.956658        0.3  0.046154   \n",
       "\n",
       "   F1 Score  \n",
       "0      0.08  "
      ]
     },
     "execution_count": 159,
     "metadata": {},
     "output_type": "execute_result"
    }
   ],
   "source": [
    "# Instantiate model\n",
    "knn_2_cv =  GridSearchCV(estimator = KNeighborsClassifier(),\n",
    "            param_grid = {'weights': ['uniform', 'distance'],\n",
    "                          'leaf_size': [20, 30, 40],\n",
    "                          'algorithm': ['auto', 'ball_tree', 'kd_tree']},\n",
    "                         cv = 5,\n",
    "                         verbose = 1)\n",
    "\n",
    "# Fit the model\n",
    "knn_2_cv.fit(m2_Z_train, m2_y_train)\n",
    "\n",
    "# To showcase the result\n",
    "result = pd.DataFrame(sum_score('K Nearest Neighbor', knn_2_cv, m2_Z_train, m2_Z_test, m2_y_train, m2_y_test, remark))\n",
    "\n",
    "# To join the result into the summary table\n",
    "summ_m2 = pd.concat([summ_m2, result])\n",
    "\n",
    "# To display result\n",
    "result"
   ]
  },
  {
   "cell_type": "markdown",
   "id": "83a49169-6744-4b6c-93f2-928c7f6f61b1",
   "metadata": {},
   "source": [
    "### Decision Tree Classifier"
   ]
  },
  {
   "cell_type": "code",
   "execution_count": 160,
   "id": "d9dc0f22-ddcf-4e87-b907-2b234285b696",
   "metadata": {},
   "outputs": [
    {
     "name": "stdout",
     "output_type": "stream",
     "text": [
      "Fitting 5 folds for each of 480 candidates, totalling 2400 fits\n"
     ]
    },
    {
     "data": {
      "text/html": [
       "<div>\n",
       "<style scoped>\n",
       "    .dataframe tbody tr th:only-of-type {\n",
       "        vertical-align: middle;\n",
       "    }\n",
       "\n",
       "    .dataframe tbody tr th {\n",
       "        vertical-align: top;\n",
       "    }\n",
       "\n",
       "    .dataframe thead th {\n",
       "        text-align: right;\n",
       "    }\n",
       "</style>\n",
       "<table border=\"1\" class=\"dataframe\">\n",
       "  <thead>\n",
       "    <tr style=\"text-align: right;\">\n",
       "      <th></th>\n",
       "      <th>Model</th>\n",
       "      <th>Remark</th>\n",
       "      <th>Train Score</th>\n",
       "      <th>Test Score</th>\n",
       "      <th>Precision</th>\n",
       "      <th>Recall</th>\n",
       "      <th>F1 Score</th>\n",
       "    </tr>\n",
       "  </thead>\n",
       "  <tbody>\n",
       "    <tr>\n",
       "      <th>0</th>\n",
       "      <td>Decision Tree Classifier</td>\n",
       "      <td>GSCV</td>\n",
       "      <td>0.959309</td>\n",
       "      <td>0.960427</td>\n",
       "      <td>1.0</td>\n",
       "      <td>0.030769</td>\n",
       "      <td>0.059701</td>\n",
       "    </tr>\n",
       "  </tbody>\n",
       "</table>\n",
       "</div>"
      ],
      "text/plain": [
       "                      Model Remark  Train Score  Test Score  Precision  \\\n",
       "0  Decision Tree Classifier   GSCV     0.959309    0.960427        1.0   \n",
       "\n",
       "     Recall  F1 Score  \n",
       "0  0.030769  0.059701  "
      ]
     },
     "execution_count": 160,
     "metadata": {},
     "output_type": "execute_result"
    }
   ],
   "source": [
    "# Instantiate model\n",
    "dt_2_cv = GridSearchCV(estimator = DecisionTreeClassifier(),\n",
    "                    param_grid = {'max_depth': [2, 3, 5, 7],\n",
    "                                  'min_samples_split': [5, 10, 15, 20],\n",
    "                                  'min_samples_leaf': [2, 3, 4, 5, 6],\n",
    "                                  'ccp_alpha': [0, 0.001, 0.01, 0.1, 1, 10]},\n",
    "                    cv = 5,\n",
    "                    verbose = 1)\n",
    "\n",
    "# Fit the model\n",
    "dt_2_cv.fit(m2_Z_train, m2_y_train)\n",
    "\n",
    "# To showcase the result\n",
    "result = pd.DataFrame(sum_score('Decision Tree Classifier', dt_2_cv, m2_Z_train, m2_Z_test, m2_y_train, m2_y_test, remark))\n",
    "\n",
    "# To join the result into the summary table\n",
    "summ_m2 = pd.concat([summ_m2, result])\n",
    "\n",
    "# To display result\n",
    "result"
   ]
  },
  {
   "cell_type": "markdown",
   "id": "fe6438f6-f7b0-4896-9f5e-ee65f4cbaa5f",
   "metadata": {},
   "source": [
    "### Bagging Classifier"
   ]
  },
  {
   "cell_type": "code",
   "execution_count": 161,
   "id": "b677b0aa-84cd-4553-b31f-67abafbfc707",
   "metadata": {},
   "outputs": [
    {
     "name": "stdout",
     "output_type": "stream",
     "text": [
      "Fitting 5 folds for each of 6 candidates, totalling 30 fits\n"
     ]
    },
    {
     "data": {
      "text/html": [
       "<div>\n",
       "<style scoped>\n",
       "    .dataframe tbody tr th:only-of-type {\n",
       "        vertical-align: middle;\n",
       "    }\n",
       "\n",
       "    .dataframe tbody tr th {\n",
       "        vertical-align: top;\n",
       "    }\n",
       "\n",
       "    .dataframe thead th {\n",
       "        text-align: right;\n",
       "    }\n",
       "</style>\n",
       "<table border=\"1\" class=\"dataframe\">\n",
       "  <thead>\n",
       "    <tr style=\"text-align: right;\">\n",
       "      <th></th>\n",
       "      <th>Model</th>\n",
       "      <th>Remark</th>\n",
       "      <th>Train Score</th>\n",
       "      <th>Test Score</th>\n",
       "      <th>Precision</th>\n",
       "      <th>Recall</th>\n",
       "      <th>F1 Score</th>\n",
       "    </tr>\n",
       "  </thead>\n",
       "  <tbody>\n",
       "    <tr>\n",
       "      <th>0</th>\n",
       "      <td>Bagging Classifier</td>\n",
       "      <td>GSCV</td>\n",
       "      <td>0.959466</td>\n",
       "      <td>0.960427</td>\n",
       "      <td>1.0</td>\n",
       "      <td>0.030769</td>\n",
       "      <td>0.059701</td>\n",
       "    </tr>\n",
       "  </tbody>\n",
       "</table>\n",
       "</div>"
      ],
      "text/plain": [
       "                Model Remark  Train Score  Test Score  Precision    Recall  \\\n",
       "0  Bagging Classifier   GSCV     0.959466    0.960427        1.0  0.030769   \n",
       "\n",
       "   F1 Score  \n",
       "0  0.059701  "
      ]
     },
     "execution_count": 161,
     "metadata": {},
     "output_type": "execute_result"
    }
   ],
   "source": [
    "# Instantiate model\n",
    "bagc_2_cv =  GridSearchCV(estimator = BaggingClassifier(),\n",
    "            param_grid = {'bootstrap': [True, False],\n",
    "                          'n_estimators': [10, 20, 30]},\n",
    "                         cv = 5,\n",
    "                         verbose = 1)\n",
    "\n",
    "# Fit the model\n",
    "bagc_2_cv.fit(m2_Z_train, m2_y_train)\n",
    "\n",
    "# To showcase the result\n",
    "result = pd.DataFrame(sum_score('Bagging Classifier', bagc_2_cv, m2_Z_train, m2_Z_test, m2_y_train, m2_y_test, remark))\n",
    "\n",
    "# To join the result into the summary table\n",
    "summ_m2 = pd.concat([summ_m2, result])\n",
    "\n",
    "# To display result\n",
    "result"
   ]
  },
  {
   "cell_type": "markdown",
   "id": "e4dd0a45-cc0e-410f-bfeb-b62a353e7db2",
   "metadata": {},
   "source": [
    "### Random Forest Classider"
   ]
  },
  {
   "cell_type": "code",
   "execution_count": 162,
   "id": "d331f817-454c-4951-bccc-1dd35b61cf7c",
   "metadata": {},
   "outputs": [
    {
     "name": "stdout",
     "output_type": "stream",
     "text": [
      "Fitting 5 folds for each of 18 candidates, totalling 90 fits\n"
     ]
    },
    {
     "data": {
      "text/html": [
       "<div>\n",
       "<style scoped>\n",
       "    .dataframe tbody tr th:only-of-type {\n",
       "        vertical-align: middle;\n",
       "    }\n",
       "\n",
       "    .dataframe tbody tr th {\n",
       "        vertical-align: top;\n",
       "    }\n",
       "\n",
       "    .dataframe thead th {\n",
       "        text-align: right;\n",
       "    }\n",
       "</style>\n",
       "<table border=\"1\" class=\"dataframe\">\n",
       "  <thead>\n",
       "    <tr style=\"text-align: right;\">\n",
       "      <th></th>\n",
       "      <th>Model</th>\n",
       "      <th>Remark</th>\n",
       "      <th>Train Score</th>\n",
       "      <th>Test Score</th>\n",
       "      <th>Precision</th>\n",
       "      <th>Recall</th>\n",
       "      <th>F1 Score</th>\n",
       "    </tr>\n",
       "  </thead>\n",
       "  <tbody>\n",
       "    <tr>\n",
       "      <th>0</th>\n",
       "      <td>Random Foreset Classifier</td>\n",
       "      <td>GSCV</td>\n",
       "      <td>0.959466</td>\n",
       "      <td>0.960427</td>\n",
       "      <td>1.0</td>\n",
       "      <td>0.030769</td>\n",
       "      <td>0.059701</td>\n",
       "    </tr>\n",
       "  </tbody>\n",
       "</table>\n",
       "</div>"
      ],
      "text/plain": [
       "                       Model Remark  Train Score  Test Score  Precision  \\\n",
       "0  Random Foreset Classifier   GSCV     0.959466    0.960427        1.0   \n",
       "\n",
       "     Recall  F1 Score  \n",
       "0  0.030769  0.059701  "
      ]
     },
     "execution_count": 162,
     "metadata": {},
     "output_type": "execute_result"
    }
   ],
   "source": [
    "# Instantiate model\n",
    "rfc_2_cv = GridSearchCV(estimator = RandomForestClassifier(),\n",
    "            param_grid = {'criterion': ['gini', 'entropy'],\n",
    "                          'n_estimators': [100, 200, 300],\n",
    "                          'max_leaf_nodes': [None, 100, 200],\n",
    "                         'random_state': [123]},\n",
    "                         cv = 5,\n",
    "                         verbose = 1)\n",
    "\n",
    "# Fit the model\n",
    "rfc_2_cv.fit(m2_Z_train, m2_y_train)\n",
    "\n",
    "# To showcase the result\n",
    "result = pd.DataFrame(sum_score('Random Foreset Classifier', rfc_2_cv, m2_Z_train, m2_Z_test, m2_y_train, m2_y_test, remark))\n",
    "\n",
    "# To join the result into the summary table\n",
    "summ_m2 = pd.concat([summ_m2, result])\n",
    "\n",
    "# To display result\n",
    "result"
   ]
  },
  {
   "cell_type": "markdown",
   "id": "37f4da55-02f5-44ee-9794-ce3646e3b7db",
   "metadata": {},
   "source": [
    "### AdaBoost Classificer"
   ]
  },
  {
   "cell_type": "code",
   "execution_count": 163,
   "id": "84bca268-8759-4851-b8f5-7ce4976a243d",
   "metadata": {},
   "outputs": [
    {
     "name": "stdout",
     "output_type": "stream",
     "text": [
      "Fitting 5 folds for each of 6 candidates, totalling 30 fits\n"
     ]
    },
    {
     "data": {
      "text/html": [
       "<div>\n",
       "<style scoped>\n",
       "    .dataframe tbody tr th:only-of-type {\n",
       "        vertical-align: middle;\n",
       "    }\n",
       "\n",
       "    .dataframe tbody tr th {\n",
       "        vertical-align: top;\n",
       "    }\n",
       "\n",
       "    .dataframe thead th {\n",
       "        text-align: right;\n",
       "    }\n",
       "</style>\n",
       "<table border=\"1\" class=\"dataframe\">\n",
       "  <thead>\n",
       "    <tr style=\"text-align: right;\">\n",
       "      <th></th>\n",
       "      <th>Model</th>\n",
       "      <th>Remark</th>\n",
       "      <th>Train Score</th>\n",
       "      <th>Test Score</th>\n",
       "      <th>Precision</th>\n",
       "      <th>Recall</th>\n",
       "      <th>F1 Score</th>\n",
       "    </tr>\n",
       "  </thead>\n",
       "  <tbody>\n",
       "    <tr>\n",
       "      <th>0</th>\n",
       "      <td>AdaBoost Classifier</td>\n",
       "      <td>GSCV</td>\n",
       "      <td>0.958995</td>\n",
       "      <td>0.959171</td>\n",
       "      <td>0.0</td>\n",
       "      <td>0.0</td>\n",
       "      <td>0.0</td>\n",
       "    </tr>\n",
       "  </tbody>\n",
       "</table>\n",
       "</div>"
      ],
      "text/plain": [
       "                 Model Remark  Train Score  Test Score  Precision  Recall  \\\n",
       "0  AdaBoost Classifier   GSCV     0.958995    0.959171        0.0     0.0   \n",
       "\n",
       "   F1 Score  \n",
       "0       0.0  "
      ]
     },
     "execution_count": 163,
     "metadata": {},
     "output_type": "execute_result"
    }
   ],
   "source": [
    "# Instantiate model\n",
    "abc_2_cv = GridSearchCV(estimator = AdaBoostClassifier(),\n",
    "            param_grid = {'learning_rate': [1, 0.9],\n",
    "                          'n_estimators': [50, 100, 200],\n",
    "                         'random_state': [123]},\n",
    "                         cv = 5,\n",
    "                         verbose = 1)\n",
    "# Fit the model\n",
    "abc_2_cv.fit(m2_Z_train, m2_y_train)\n",
    "\n",
    "# To showcase the result\n",
    "result = pd.DataFrame(sum_score('AdaBoost Classifier', abc_2_cv, m2_Z_train, m2_Z_test, m2_y_train, m2_y_test, remark))\n",
    "\n",
    "# To join the result into the summary table\n",
    "summ_m2 = pd.concat([summ_m2, result])\n",
    "\n",
    "# To display result\n",
    "result"
   ]
  },
  {
   "cell_type": "markdown",
   "id": "25a1313b-bd38-4496-9e21-a3d7ed7cd84d",
   "metadata": {},
   "source": [
    "### Support Vector Classifier"
   ]
  },
  {
   "cell_type": "code",
   "execution_count": 164,
   "id": "9ff30647-6a28-4bbd-8d22-c20d44a70890",
   "metadata": {},
   "outputs": [
    {
     "name": "stdout",
     "output_type": "stream",
     "text": [
      "Fitting 5 folds for each of 8 candidates, totalling 40 fits\n"
     ]
    },
    {
     "data": {
      "text/html": [
       "<div>\n",
       "<style scoped>\n",
       "    .dataframe tbody tr th:only-of-type {\n",
       "        vertical-align: middle;\n",
       "    }\n",
       "\n",
       "    .dataframe tbody tr th {\n",
       "        vertical-align: top;\n",
       "    }\n",
       "\n",
       "    .dataframe thead th {\n",
       "        text-align: right;\n",
       "    }\n",
       "</style>\n",
       "<table border=\"1\" class=\"dataframe\">\n",
       "  <thead>\n",
       "    <tr style=\"text-align: right;\">\n",
       "      <th></th>\n",
       "      <th>Model</th>\n",
       "      <th>Remark</th>\n",
       "      <th>Train Score</th>\n",
       "      <th>Test Score</th>\n",
       "      <th>Precision</th>\n",
       "      <th>Recall</th>\n",
       "      <th>F1 Score</th>\n",
       "    </tr>\n",
       "  </thead>\n",
       "  <tbody>\n",
       "    <tr>\n",
       "      <th>0</th>\n",
       "      <td>Support Vector Classifier</td>\n",
       "      <td>GSCV</td>\n",
       "      <td>0.958995</td>\n",
       "      <td>0.959171</td>\n",
       "      <td>0.0</td>\n",
       "      <td>0.0</td>\n",
       "      <td>0.0</td>\n",
       "    </tr>\n",
       "  </tbody>\n",
       "</table>\n",
       "</div>"
      ],
      "text/plain": [
       "                       Model Remark  Train Score  Test Score  Precision  \\\n",
       "0  Support Vector Classifier   GSCV     0.958995    0.959171        0.0   \n",
       "\n",
       "   Recall  F1 Score  \n",
       "0     0.0       0.0  "
      ]
     },
     "execution_count": 164,
     "metadata": {},
     "output_type": "execute_result"
    }
   ],
   "source": [
    "# Instantiate model\n",
    "svc_2_cv = GridSearchCV(estimator = SVC(),\n",
    "            param_grid = {'C': [1, 0.9],\n",
    "                          'degree': [3,4],\n",
    "                          'cache_size': [200, 300],\n",
    "                         'random_state': [123]},\n",
    "                         cv = 5,\n",
    "                         verbose = 1)\n",
    "\n",
    "# Fit the model\n",
    "svc_2_cv.fit(m2_Z_train, m2_y_train)\n",
    "\n",
    "# To showcase the result\n",
    "result = pd.DataFrame(sum_score('Support Vector Classifier', svc_2_cv, m2_Z_train, m2_Z_test, m2_y_train, m2_y_test, remark))\n",
    "\n",
    "# To join the result into the summary table\n",
    "summ_m2 = pd.concat([summ_m2, result])\n",
    "\n",
    "# To display result\n",
    "result"
   ]
  },
  {
   "cell_type": "markdown",
   "id": "ebcabdad-57cf-49e4-af98-9cd03dea8c0f",
   "metadata": {},
   "source": [
    "## SMOTE oversampling Datasets"
   ]
  },
  {
   "cell_type": "code",
   "execution_count": 165,
   "id": "6e5972ca-dea7-48a6-98b9-9a329b1612b7",
   "metadata": {},
   "outputs": [],
   "source": [
    "# Initialize SMOTE\n",
    "smote = SMOTE(random_state = 123)"
   ]
  },
  {
   "cell_type": "code",
   "execution_count": 166,
   "id": "1f4b8094-a84b-4927-9ab3-43b09ed227f3",
   "metadata": {},
   "outputs": [],
   "source": [
    "# Train Test Split the data for model\n",
    "m2_X = df_train_m2.drop(['Species', 'WnvPresent'], axis = 1)\n",
    "m2_y = df_train_m2['WnvPresent']"
   ]
  },
  {
   "cell_type": "code",
   "execution_count": 167,
   "id": "ddbf0b86-3c7a-4c4d-af7c-4e2c326746e1",
   "metadata": {},
   "outputs": [],
   "source": [
    "m2_X_s, m2_y_s = smote.fit_resample(m2_X, m2_y)"
   ]
  },
  {
   "cell_type": "code",
   "execution_count": 168,
   "id": "4e606af6-a052-484a-9167-725842a68ddb",
   "metadata": {},
   "outputs": [
    {
     "data": {
      "text/plain": [
       "0    7631\n",
       "1    7631\n",
       "Name: WnvPresent, dtype: int64"
      ]
     },
     "execution_count": 168,
     "metadata": {},
     "output_type": "execute_result"
    }
   ],
   "source": [
    "m2_y_s.value_counts()"
   ]
  },
  {
   "cell_type": "code",
   "execution_count": 169,
   "id": "936f7cb7-e6fc-450d-aea8-9375674adad9",
   "metadata": {},
   "outputs": [],
   "source": [
    "# Train Test Split the data for model\n",
    "# m1_X = df_train_m1.drop('BreedCond', axis = 1)\n",
    "# m1_y = df_train_m1['BreedCond']\n",
    "m2_X_train, m2_X_test, m2_y_train, m2_y_test = train_test_split(m2_X_s, m2_y_s, test_size=0.2, random_state=42, stratify = m2_y_s)"
   ]
  },
  {
   "cell_type": "code",
   "execution_count": 170,
   "id": "03415873-dffb-415b-bfa2-e99ff5d78287",
   "metadata": {},
   "outputs": [],
   "source": [
    "# Standard Scallar\n",
    "ss_2 = StandardScaler()\n",
    "m2_Z_train = ss_2.fit_transform(m2_X_train) \n",
    "m2_Z_test = ss_2.transform(m2_X_test) "
   ]
  },
  {
   "cell_type": "code",
   "execution_count": 171,
   "id": "29c8dc96-7995-4bec-8736-50c601cbb740",
   "metadata": {},
   "outputs": [],
   "source": [
    "# Set the remark for model\n",
    "remark = 'SMOTE'"
   ]
  },
  {
   "cell_type": "markdown",
   "id": "a1cc159d-d327-4d0b-9bcc-b966103350dc",
   "metadata": {},
   "source": [
    "### Logistic Regression"
   ]
  },
  {
   "cell_type": "code",
   "execution_count": 172,
   "id": "1e5bfde6-f1ed-482c-a426-5b9698ecb38b",
   "metadata": {},
   "outputs": [
    {
     "data": {
      "text/html": [
       "<div>\n",
       "<style scoped>\n",
       "    .dataframe tbody tr th:only-of-type {\n",
       "        vertical-align: middle;\n",
       "    }\n",
       "\n",
       "    .dataframe tbody tr th {\n",
       "        vertical-align: top;\n",
       "    }\n",
       "\n",
       "    .dataframe thead th {\n",
       "        text-align: right;\n",
       "    }\n",
       "</style>\n",
       "<table border=\"1\" class=\"dataframe\">\n",
       "  <thead>\n",
       "    <tr style=\"text-align: right;\">\n",
       "      <th></th>\n",
       "      <th>Model</th>\n",
       "      <th>Remark</th>\n",
       "      <th>Train Score</th>\n",
       "      <th>Test Score</th>\n",
       "      <th>Precision</th>\n",
       "      <th>Recall</th>\n",
       "      <th>F1 Score</th>\n",
       "    </tr>\n",
       "  </thead>\n",
       "  <tbody>\n",
       "    <tr>\n",
       "      <th>0</th>\n",
       "      <td>Logistic Regression</td>\n",
       "      <td>SMOTE</td>\n",
       "      <td>0.783766</td>\n",
       "      <td>0.787095</td>\n",
       "      <td>0.755245</td>\n",
       "      <td>0.849279</td>\n",
       "      <td>0.799506</td>\n",
       "    </tr>\n",
       "  </tbody>\n",
       "</table>\n",
       "</div>"
      ],
      "text/plain": [
       "                 Model Remark  Train Score  Test Score  Precision    Recall  \\\n",
       "0  Logistic Regression  SMOTE     0.783766    0.787095   0.755245  0.849279   \n",
       "\n",
       "   F1 Score  \n",
       "0  0.799506  "
      ]
     },
     "execution_count": 172,
     "metadata": {},
     "output_type": "execute_result"
    }
   ],
   "source": [
    "# Instantiate model\n",
    "logreg_2_s = LogisticRegression(solver = 'newton-cg', random_state = 123) # changing solver b/c of convergence warning\n",
    "\n",
    "# Fit the model\n",
    "logreg_2_s.fit(m2_Z_train, m2_y_train)\n",
    "\n",
    "# To showcase the result\n",
    "result = pd.DataFrame(sum_score('Logistic Regression', logreg_2_s, m2_Z_train, m2_Z_test, m2_y_train, m2_y_test, remark))\n",
    "\n",
    "# To join the result into the summary table\n",
    "summ_m2 = pd.concat([summ_m2, result])\n",
    "\n",
    "# To display result\n",
    "result"
   ]
  },
  {
   "cell_type": "markdown",
   "id": "365c3e7d-31f7-44f2-8651-882d9419f393",
   "metadata": {},
   "source": [
    "### K-Neighbor Classifier"
   ]
  },
  {
   "cell_type": "code",
   "execution_count": 173,
   "id": "0117021b-2792-404e-ae3d-1a44953d693c",
   "metadata": {},
   "outputs": [
    {
     "data": {
      "text/html": [
       "<div>\n",
       "<style scoped>\n",
       "    .dataframe tbody tr th:only-of-type {\n",
       "        vertical-align: middle;\n",
       "    }\n",
       "\n",
       "    .dataframe tbody tr th {\n",
       "        vertical-align: top;\n",
       "    }\n",
       "\n",
       "    .dataframe thead th {\n",
       "        text-align: right;\n",
       "    }\n",
       "</style>\n",
       "<table border=\"1\" class=\"dataframe\">\n",
       "  <thead>\n",
       "    <tr style=\"text-align: right;\">\n",
       "      <th></th>\n",
       "      <th>Model</th>\n",
       "      <th>Remark</th>\n",
       "      <th>Train Score</th>\n",
       "      <th>Test Score</th>\n",
       "      <th>Precision</th>\n",
       "      <th>Recall</th>\n",
       "      <th>F1 Score</th>\n",
       "    </tr>\n",
       "  </thead>\n",
       "  <tbody>\n",
       "    <tr>\n",
       "      <th>0</th>\n",
       "      <td>K Nearest Neighbor</td>\n",
       "      <td>SMOTE</td>\n",
       "      <td>0.764682</td>\n",
       "      <td>0.771372</td>\n",
       "      <td>0.740698</td>\n",
       "      <td>0.834862</td>\n",
       "      <td>0.784966</td>\n",
       "    </tr>\n",
       "  </tbody>\n",
       "</table>\n",
       "</div>"
      ],
      "text/plain": [
       "                Model Remark  Train Score  Test Score  Precision    Recall  \\\n",
       "0  K Nearest Neighbor  SMOTE     0.764682    0.771372   0.740698  0.834862   \n",
       "\n",
       "   F1 Score  \n",
       "0  0.784966  "
      ]
     },
     "execution_count": 173,
     "metadata": {},
     "output_type": "execute_result"
    }
   ],
   "source": [
    "# Instantiate model\n",
    "knn_2_s = KNeighborsClassifier() # changing solver b/c of convergence warning\n",
    "\n",
    "# Fit the model\n",
    "knn_2_s.fit(m2_Z_train, m2_y_train)\n",
    "\n",
    "# To showcase the result\n",
    "result = pd.DataFrame(sum_score('K Nearest Neighbor', knn_2_s, m2_Z_train, m2_Z_test, m2_y_train, m2_y_test, remark))\n",
    "\n",
    "# To join the result into the summary table\n",
    "summ_m2 = pd.concat([summ_m2, result])\n",
    "\n",
    "# To display result\n",
    "result"
   ]
  },
  {
   "cell_type": "markdown",
   "id": "16dc58a9-ae69-4f94-870e-e0fd1b109cfb",
   "metadata": {},
   "source": [
    "### Decision Tree Classifier"
   ]
  },
  {
   "cell_type": "code",
   "execution_count": 174,
   "id": "c0a6191d-dbf1-4be7-bc5a-96749b0fe76d",
   "metadata": {},
   "outputs": [
    {
     "data": {
      "text/html": [
       "<div>\n",
       "<style scoped>\n",
       "    .dataframe tbody tr th:only-of-type {\n",
       "        vertical-align: middle;\n",
       "    }\n",
       "\n",
       "    .dataframe tbody tr th {\n",
       "        vertical-align: top;\n",
       "    }\n",
       "\n",
       "    .dataframe thead th {\n",
       "        text-align: right;\n",
       "    }\n",
       "</style>\n",
       "<table border=\"1\" class=\"dataframe\">\n",
       "  <thead>\n",
       "    <tr style=\"text-align: right;\">\n",
       "      <th></th>\n",
       "      <th>Model</th>\n",
       "      <th>Remark</th>\n",
       "      <th>Train Score</th>\n",
       "      <th>Test Score</th>\n",
       "      <th>Precision</th>\n",
       "      <th>Recall</th>\n",
       "      <th>F1 Score</th>\n",
       "    </tr>\n",
       "  </thead>\n",
       "  <tbody>\n",
       "    <tr>\n",
       "      <th>0</th>\n",
       "      <td>Decision Tree Classifier</td>\n",
       "      <td>SMOTE</td>\n",
       "      <td>0.801048</td>\n",
       "      <td>0.792663</td>\n",
       "      <td>0.755289</td>\n",
       "      <td>0.865662</td>\n",
       "      <td>0.806718</td>\n",
       "    </tr>\n",
       "  </tbody>\n",
       "</table>\n",
       "</div>"
      ],
      "text/plain": [
       "                      Model Remark  Train Score  Test Score  Precision  \\\n",
       "0  Decision Tree Classifier  SMOTE     0.801048    0.792663   0.755289   \n",
       "\n",
       "     Recall  F1 Score  \n",
       "0  0.865662  0.806718  "
      ]
     },
     "execution_count": 174,
     "metadata": {},
     "output_type": "execute_result"
    }
   ],
   "source": [
    "# Instantiate model\n",
    "dt_2_s = DecisionTreeClassifier(random_state = 123)\n",
    "\n",
    "# Fit the model\n",
    "dt_2_s.fit(m2_Z_train, m2_y_train)\n",
    "\n",
    "# To showcase the result\n",
    "result = pd.DataFrame(sum_score('Decision Tree Classifier', dt_2_s, m2_Z_train, m2_Z_test, m2_y_train, m2_y_test, remark))\n",
    "\n",
    "# To join the result into the summary table\n",
    "summ_m2 = pd.concat([summ_m2, result])\n",
    "\n",
    "# To display result\n",
    "result"
   ]
  },
  {
   "cell_type": "markdown",
   "id": "aef4bd41-148a-416a-8a70-0c06aea8774f",
   "metadata": {},
   "source": [
    "### Bagging Classifier"
   ]
  },
  {
   "cell_type": "code",
   "execution_count": 175,
   "id": "d52c0a84-ea18-43d8-82fb-bdeda0c559e1",
   "metadata": {},
   "outputs": [
    {
     "data": {
      "text/html": [
       "<div>\n",
       "<style scoped>\n",
       "    .dataframe tbody tr th:only-of-type {\n",
       "        vertical-align: middle;\n",
       "    }\n",
       "\n",
       "    .dataframe tbody tr th {\n",
       "        vertical-align: top;\n",
       "    }\n",
       "\n",
       "    .dataframe thead th {\n",
       "        text-align: right;\n",
       "    }\n",
       "</style>\n",
       "<table border=\"1\" class=\"dataframe\">\n",
       "  <thead>\n",
       "    <tr style=\"text-align: right;\">\n",
       "      <th></th>\n",
       "      <th>Model</th>\n",
       "      <th>Remark</th>\n",
       "      <th>Train Score</th>\n",
       "      <th>Test Score</th>\n",
       "      <th>Precision</th>\n",
       "      <th>Recall</th>\n",
       "      <th>F1 Score</th>\n",
       "    </tr>\n",
       "  </thead>\n",
       "  <tbody>\n",
       "    <tr>\n",
       "      <th>0</th>\n",
       "      <td>Bagging Classifier</td>\n",
       "      <td>SMOTE</td>\n",
       "      <td>0.800557</td>\n",
       "      <td>0.792335</td>\n",
       "      <td>0.754857</td>\n",
       "      <td>0.865662</td>\n",
       "      <td>0.806471</td>\n",
       "    </tr>\n",
       "  </tbody>\n",
       "</table>\n",
       "</div>"
      ],
      "text/plain": [
       "                Model Remark  Train Score  Test Score  Precision    Recall  \\\n",
       "0  Bagging Classifier  SMOTE     0.800557    0.792335   0.754857  0.865662   \n",
       "\n",
       "   F1 Score  \n",
       "0  0.806471  "
      ]
     },
     "execution_count": 175,
     "metadata": {},
     "output_type": "execute_result"
    }
   ],
   "source": [
    "# Instantiate model\n",
    "bagc_2_s = BaggingClassifier(random_state = 123)\n",
    "\n",
    "# Fit the model\n",
    "bagc_2_s.fit(m2_Z_train, m2_y_train)\n",
    "\n",
    "# To showcase the result\n",
    "result = pd.DataFrame(sum_score('Bagging Classifier', bagc_2_s, m2_Z_train, m2_Z_test, m2_y_train, m2_y_test, remark))\n",
    "\n",
    "# To join the result into the summary table\n",
    "summ_m2 = pd.concat([summ_m2, result])\n",
    "\n",
    "# To display result\n",
    "result"
   ]
  },
  {
   "cell_type": "markdown",
   "id": "b5dbef80-006b-4482-a7bb-65c3641da04f",
   "metadata": {},
   "source": [
    "### Random Forest Classider"
   ]
  },
  {
   "cell_type": "code",
   "execution_count": 176,
   "id": "74fc86c7-39dd-4133-ad86-6e082c075503",
   "metadata": {},
   "outputs": [
    {
     "data": {
      "text/html": [
       "<div>\n",
       "<style scoped>\n",
       "    .dataframe tbody tr th:only-of-type {\n",
       "        vertical-align: middle;\n",
       "    }\n",
       "\n",
       "    .dataframe tbody tr th {\n",
       "        vertical-align: top;\n",
       "    }\n",
       "\n",
       "    .dataframe thead th {\n",
       "        text-align: right;\n",
       "    }\n",
       "</style>\n",
       "<table border=\"1\" class=\"dataframe\">\n",
       "  <thead>\n",
       "    <tr style=\"text-align: right;\">\n",
       "      <th></th>\n",
       "      <th>Model</th>\n",
       "      <th>Remark</th>\n",
       "      <th>Train Score</th>\n",
       "      <th>Test Score</th>\n",
       "      <th>Precision</th>\n",
       "      <th>Recall</th>\n",
       "      <th>F1 Score</th>\n",
       "    </tr>\n",
       "  </thead>\n",
       "  <tbody>\n",
       "    <tr>\n",
       "      <th>0</th>\n",
       "      <td>Random Foreset Classifier</td>\n",
       "      <td>SMOTE</td>\n",
       "      <td>0.800967</td>\n",
       "      <td>0.792991</td>\n",
       "      <td>0.758382</td>\n",
       "      <td>0.859764</td>\n",
       "      <td>0.805897</td>\n",
       "    </tr>\n",
       "  </tbody>\n",
       "</table>\n",
       "</div>"
      ],
      "text/plain": [
       "                       Model Remark  Train Score  Test Score  Precision  \\\n",
       "0  Random Foreset Classifier  SMOTE     0.800967    0.792991   0.758382   \n",
       "\n",
       "     Recall  F1 Score  \n",
       "0  0.859764  0.805897  "
      ]
     },
     "execution_count": 176,
     "metadata": {},
     "output_type": "execute_result"
    }
   ],
   "source": [
    "# Instantiate model\n",
    "rfc_2_s = RandomForestClassifier(random_state = 123)\n",
    "\n",
    "# Fit the model\n",
    "rfc_2_s.fit(m2_Z_train, m2_y_train)\n",
    "\n",
    "# To showcase the result\n",
    "result = pd.DataFrame(sum_score('Random Foreset Classifier', rfc_2_s, m2_Z_train, m2_Z_test, m2_y_train, m2_y_test, remark))\n",
    "\n",
    "# To join the result into the summary table\n",
    "summ_m2 = pd.concat([summ_m2, result])\n",
    "\n",
    "# To display result\n",
    "result"
   ]
  },
  {
   "cell_type": "markdown",
   "id": "d55cdbd4-5bd0-444e-8bdb-d534c4968824",
   "metadata": {},
   "source": [
    "### AdaBoost Classificer"
   ]
  },
  {
   "cell_type": "code",
   "execution_count": 177,
   "id": "382b7ab9-ea37-41ef-89d9-ca666a98103a",
   "metadata": {},
   "outputs": [
    {
     "data": {
      "text/html": [
       "<div>\n",
       "<style scoped>\n",
       "    .dataframe tbody tr th:only-of-type {\n",
       "        vertical-align: middle;\n",
       "    }\n",
       "\n",
       "    .dataframe tbody tr th {\n",
       "        vertical-align: top;\n",
       "    }\n",
       "\n",
       "    .dataframe thead th {\n",
       "        text-align: right;\n",
       "    }\n",
       "</style>\n",
       "<table border=\"1\" class=\"dataframe\">\n",
       "  <thead>\n",
       "    <tr style=\"text-align: right;\">\n",
       "      <th></th>\n",
       "      <th>Model</th>\n",
       "      <th>Remark</th>\n",
       "      <th>Train Score</th>\n",
       "      <th>Test Score</th>\n",
       "      <th>Precision</th>\n",
       "      <th>Recall</th>\n",
       "      <th>F1 Score</th>\n",
       "    </tr>\n",
       "  </thead>\n",
       "  <tbody>\n",
       "    <tr>\n",
       "      <th>0</th>\n",
       "      <td>AdaBoost Classifier</td>\n",
       "      <td>SMOTE</td>\n",
       "      <td>0.701859</td>\n",
       "      <td>0.707173</td>\n",
       "      <td>0.736173</td>\n",
       "      <td>0.645478</td>\n",
       "      <td>0.687849</td>\n",
       "    </tr>\n",
       "  </tbody>\n",
       "</table>\n",
       "</div>"
      ],
      "text/plain": [
       "                 Model Remark  Train Score  Test Score  Precision    Recall  \\\n",
       "0  AdaBoost Classifier  SMOTE     0.701859    0.707173   0.736173  0.645478   \n",
       "\n",
       "   F1 Score  \n",
       "0  0.687849  "
      ]
     },
     "execution_count": 177,
     "metadata": {},
     "output_type": "execute_result"
    }
   ],
   "source": [
    "# Instantiate model\n",
    "abc_2_s = AdaBoostClassifier(random_state = 123)\n",
    "\n",
    "# Fit the model\n",
    "abc_2_s.fit(m2_Z_train, m2_y_train)\n",
    "\n",
    "# To showcase the result\n",
    "result = pd.DataFrame(sum_score('AdaBoost Classifier', abc_2_s, m2_Z_train, m2_Z_test, m2_y_train, m2_y_test, remark))\n",
    "\n",
    "# To join the result into the summary table\n",
    "summ_m2 = pd.concat([summ_m2, result])\n",
    "\n",
    "# To display result\n",
    "result"
   ]
  },
  {
   "cell_type": "markdown",
   "id": "014f7d44-ee09-44b7-9e10-829043a93eca",
   "metadata": {},
   "source": [
    "### Support Vector Classificer"
   ]
  },
  {
   "cell_type": "code",
   "execution_count": 178,
   "id": "1a8d3e56-373e-4017-84ae-46a2d315b131",
   "metadata": {},
   "outputs": [
    {
     "data": {
      "text/html": [
       "<div>\n",
       "<style scoped>\n",
       "    .dataframe tbody tr th:only-of-type {\n",
       "        vertical-align: middle;\n",
       "    }\n",
       "\n",
       "    .dataframe tbody tr th {\n",
       "        vertical-align: top;\n",
       "    }\n",
       "\n",
       "    .dataframe thead th {\n",
       "        text-align: right;\n",
       "    }\n",
       "</style>\n",
       "<table border=\"1\" class=\"dataframe\">\n",
       "  <thead>\n",
       "    <tr style=\"text-align: right;\">\n",
       "      <th></th>\n",
       "      <th>Model</th>\n",
       "      <th>Remark</th>\n",
       "      <th>Train Score</th>\n",
       "      <th>Test Score</th>\n",
       "      <th>Precision</th>\n",
       "      <th>Recall</th>\n",
       "      <th>F1 Score</th>\n",
       "    </tr>\n",
       "  </thead>\n",
       "  <tbody>\n",
       "    <tr>\n",
       "      <th>0</th>\n",
       "      <td>Support Vector Classifier</td>\n",
       "      <td>SMOTE</td>\n",
       "      <td>0.796052</td>\n",
       "      <td>0.79168</td>\n",
       "      <td>0.76115</td>\n",
       "      <td>0.849934</td>\n",
       "      <td>0.803096</td>\n",
       "    </tr>\n",
       "  </tbody>\n",
       "</table>\n",
       "</div>"
      ],
      "text/plain": [
       "                       Model Remark  Train Score  Test Score  Precision  \\\n",
       "0  Support Vector Classifier  SMOTE     0.796052     0.79168    0.76115   \n",
       "\n",
       "     Recall  F1 Score  \n",
       "0  0.849934  0.803096  "
      ]
     },
     "execution_count": 178,
     "metadata": {},
     "output_type": "execute_result"
    }
   ],
   "source": [
    "# Instantiate model\n",
    "svc_2_s = SVC(random_state = 123)\n",
    "\n",
    "# Fit the model\n",
    "svc_2_s.fit(m2_Z_train, m2_y_train)\n",
    "\n",
    "# To showcase the result\n",
    "result = pd.DataFrame(sum_score('Support Vector Classifier', svc_2_s, m2_Z_train, m2_Z_test, m2_y_train, m2_y_test, remark))\n",
    "\n",
    "# To join the result into the summary table\n",
    "summ_m2 = pd.concat([summ_m2, result])\n",
    "\n",
    "# To display result\n",
    "result"
   ]
  },
  {
   "cell_type": "markdown",
   "id": "eb0ee2b6-b26e-4c96-81b4-91d7a2fe2968",
   "metadata": {},
   "source": [
    "## SMOTE Oversampling Datasets with GridSearch CV"
   ]
  },
  {
   "cell_type": "code",
   "execution_count": 179,
   "id": "c8a308de-bef9-46c5-bbac-11f82fb3f5a1",
   "metadata": {},
   "outputs": [],
   "source": [
    "remark = 'SMOTE & GSCV'"
   ]
  },
  {
   "cell_type": "markdown",
   "id": "7b383e10-f3f3-419f-ac38-a92ad4774f1a",
   "metadata": {},
   "source": [
    "### Logistic Regression"
   ]
  },
  {
   "cell_type": "code",
   "execution_count": 180,
   "id": "7ed28913-c4b6-4aad-ad15-48d1ad8b5aa1",
   "metadata": {},
   "outputs": [
    {
     "name": "stdout",
     "output_type": "stream",
     "text": [
      "Fitting 5 folds for each of 9 candidates, totalling 45 fits\n"
     ]
    },
    {
     "data": {
      "text/html": [
       "<div>\n",
       "<style scoped>\n",
       "    .dataframe tbody tr th:only-of-type {\n",
       "        vertical-align: middle;\n",
       "    }\n",
       "\n",
       "    .dataframe tbody tr th {\n",
       "        vertical-align: top;\n",
       "    }\n",
       "\n",
       "    .dataframe thead th {\n",
       "        text-align: right;\n",
       "    }\n",
       "</style>\n",
       "<table border=\"1\" class=\"dataframe\">\n",
       "  <thead>\n",
       "    <tr style=\"text-align: right;\">\n",
       "      <th></th>\n",
       "      <th>Model</th>\n",
       "      <th>Remark</th>\n",
       "      <th>Train Score</th>\n",
       "      <th>Test Score</th>\n",
       "      <th>Precision</th>\n",
       "      <th>Recall</th>\n",
       "      <th>F1 Score</th>\n",
       "    </tr>\n",
       "  </thead>\n",
       "  <tbody>\n",
       "    <tr>\n",
       "      <th>0</th>\n",
       "      <td>Logistic Regression</td>\n",
       "      <td>SMOTE &amp; GSCV</td>\n",
       "      <td>0.79736</td>\n",
       "      <td>0.799506</td>\n",
       "      <td>0.755245</td>\n",
       "      <td>0.849279</td>\n",
       "      <td>0.799506</td>\n",
       "    </tr>\n",
       "  </tbody>\n",
       "</table>\n",
       "</div>"
      ],
      "text/plain": [
       "                 Model        Remark  Train Score  Test Score  Precision  \\\n",
       "0  Logistic Regression  SMOTE & GSCV      0.79736    0.799506   0.755245   \n",
       "\n",
       "     Recall  F1 Score  \n",
       "0  0.849279  0.799506  "
      ]
     },
     "execution_count": 180,
     "metadata": {},
     "output_type": "execute_result"
    }
   ],
   "source": [
    "# Instantiate model\n",
    "logreg_2_cv_s = GridSearchCV(estimator = LogisticRegression(),\n",
    "            param_grid = {'max_iter': [50, 100, 200],\n",
    "                          'solver': ['newton-cg', 'liblinear', 'saga']},\n",
    "                         cv = 5,\n",
    "                         verbose = 1, \n",
    "                             scoring='f1')\n",
    "\n",
    "# Fit the model\n",
    "logreg_2_cv_s.fit(m2_Z_train, m2_y_train)\n",
    "\n",
    "# To showcase the result\n",
    "result = pd.DataFrame(sum_score('Logistic Regression', logreg_2_cv_s, m2_Z_train, m2_Z_test, m2_y_train, m2_y_test, remark))\n",
    "\n",
    "# To join the result into the summary table\n",
    "summ_m2 = pd.concat([summ_m2, result])\n",
    "\n",
    "# To display result\n",
    "result"
   ]
  },
  {
   "cell_type": "markdown",
   "id": "20d3460e-d448-49ba-8d86-3973af827677",
   "metadata": {},
   "source": [
    "### K-Neighbor Classifier"
   ]
  },
  {
   "cell_type": "code",
   "execution_count": 181,
   "id": "09df7389-5a68-4aca-a0ea-7263fd3c038c",
   "metadata": {},
   "outputs": [
    {
     "name": "stdout",
     "output_type": "stream",
     "text": [
      "Fitting 5 folds for each of 18 candidates, totalling 90 fits\n"
     ]
    },
    {
     "data": {
      "text/html": [
       "<div>\n",
       "<style scoped>\n",
       "    .dataframe tbody tr th:only-of-type {\n",
       "        vertical-align: middle;\n",
       "    }\n",
       "\n",
       "    .dataframe tbody tr th {\n",
       "        vertical-align: top;\n",
       "    }\n",
       "\n",
       "    .dataframe thead th {\n",
       "        text-align: right;\n",
       "    }\n",
       "</style>\n",
       "<table border=\"1\" class=\"dataframe\">\n",
       "  <thead>\n",
       "    <tr style=\"text-align: right;\">\n",
       "      <th></th>\n",
       "      <th>Model</th>\n",
       "      <th>Remark</th>\n",
       "      <th>Train Score</th>\n",
       "      <th>Test Score</th>\n",
       "      <th>Precision</th>\n",
       "      <th>Recall</th>\n",
       "      <th>F1 Score</th>\n",
       "    </tr>\n",
       "  </thead>\n",
       "  <tbody>\n",
       "    <tr>\n",
       "      <th>0</th>\n",
       "      <td>K Nearest Neighbor</td>\n",
       "      <td>SMOTE &amp; GSCV</td>\n",
       "      <td>0.78114</td>\n",
       "      <td>0.78545</td>\n",
       "      <td>0.74156</td>\n",
       "      <td>0.834862</td>\n",
       "      <td>0.78545</td>\n",
       "    </tr>\n",
       "  </tbody>\n",
       "</table>\n",
       "</div>"
      ],
      "text/plain": [
       "                Model        Remark  Train Score  Test Score  Precision  \\\n",
       "0  K Nearest Neighbor  SMOTE & GSCV      0.78114     0.78545    0.74156   \n",
       "\n",
       "     Recall  F1 Score  \n",
       "0  0.834862   0.78545  "
      ]
     },
     "execution_count": 181,
     "metadata": {},
     "output_type": "execute_result"
    }
   ],
   "source": [
    "# Instantiate model\n",
    "knn_2_cv_s =  GridSearchCV(estimator = KNeighborsClassifier(),\n",
    "            param_grid = {'weights': ['uniform', 'distance'],\n",
    "                          'leaf_size': [20, 30, 40],\n",
    "                          'algorithm': ['auto', 'ball_tree', 'kd_tree']},\n",
    "                         cv = 5,\n",
    "                         verbose = 1,\n",
    "                          scoring='f1')\n",
    "\n",
    "# Fit the model\n",
    "knn_2_cv_s.fit(m2_Z_train, m2_y_train)\n",
    "\n",
    "# To showcase the result\n",
    "result = pd.DataFrame(sum_score('K Nearest Neighbor', knn_2_cv_s, m2_Z_train, m2_Z_test, m2_y_train, m2_y_test, remark))\n",
    "\n",
    "# To join the result into the summary table\n",
    "summ_m2 = pd.concat([summ_m2, result])\n",
    "\n",
    "# To display result\n",
    "result"
   ]
  },
  {
   "cell_type": "markdown",
   "id": "160ae8d4-0e6f-4aa0-9103-924ceae05e5a",
   "metadata": {},
   "source": [
    "### Decision Tree Classifier"
   ]
  },
  {
   "cell_type": "code",
   "execution_count": 182,
   "id": "497c7605-74ad-46f0-b19b-5b79ea6e049e",
   "metadata": {},
   "outputs": [
    {
     "name": "stdout",
     "output_type": "stream",
     "text": [
      "Fitting 5 folds for each of 480 candidates, totalling 2400 fits\n"
     ]
    },
    {
     "data": {
      "text/html": [
       "<div>\n",
       "<style scoped>\n",
       "    .dataframe tbody tr th:only-of-type {\n",
       "        vertical-align: middle;\n",
       "    }\n",
       "\n",
       "    .dataframe tbody tr th {\n",
       "        vertical-align: top;\n",
       "    }\n",
       "\n",
       "    .dataframe thead th {\n",
       "        text-align: right;\n",
       "    }\n",
       "</style>\n",
       "<table border=\"1\" class=\"dataframe\">\n",
       "  <thead>\n",
       "    <tr style=\"text-align: right;\">\n",
       "      <th></th>\n",
       "      <th>Model</th>\n",
       "      <th>Remark</th>\n",
       "      <th>Train Score</th>\n",
       "      <th>Test Score</th>\n",
       "      <th>Precision</th>\n",
       "      <th>Recall</th>\n",
       "      <th>F1 Score</th>\n",
       "    </tr>\n",
       "  </thead>\n",
       "  <tbody>\n",
       "    <tr>\n",
       "      <th>0</th>\n",
       "      <td>Decision Tree Classifier</td>\n",
       "      <td>SMOTE &amp; GSCV</td>\n",
       "      <td>0.693832</td>\n",
       "      <td>0.696692</td>\n",
       "      <td>0.694553</td>\n",
       "      <td>0.701835</td>\n",
       "      <td>0.698175</td>\n",
       "    </tr>\n",
       "  </tbody>\n",
       "</table>\n",
       "</div>"
      ],
      "text/plain": [
       "                      Model        Remark  Train Score  Test Score  Precision  \\\n",
       "0  Decision Tree Classifier  SMOTE & GSCV     0.693832    0.696692   0.694553   \n",
       "\n",
       "     Recall  F1 Score  \n",
       "0  0.701835  0.698175  "
      ]
     },
     "execution_count": 182,
     "metadata": {},
     "output_type": "execute_result"
    }
   ],
   "source": [
    "# Instantiate model\n",
    "dt_2_cv_s = GridSearchCV(estimator = DecisionTreeClassifier(),\n",
    "                    param_grid = {'max_depth': [2, 3, 5, 7],\n",
    "                                  'min_samples_split': [5, 10, 15, 20],\n",
    "                                  'min_samples_leaf': [2, 3, 4, 5, 6],\n",
    "                                  'ccp_alpha': [0, 0.001, 0.01, 0.1, 1, 10]},\n",
    "                    cv = 5,\n",
    "                    verbose = 1)\n",
    "\n",
    "# Fit the model\n",
    "dt_2_cv_s.fit(m2_Z_train, m2_y_train)\n",
    "\n",
    "# To showcase the result\n",
    "result = pd.DataFrame(sum_score('Decision Tree Classifier', dt_2_cv_s, m2_Z_train, m2_Z_test, m2_y_train, m2_y_test, remark))\n",
    "\n",
    "# To join the result into the summary table\n",
    "summ_m2 = pd.concat([summ_m2, result])\n",
    "\n",
    "# To display result\n",
    "result"
   ]
  },
  {
   "cell_type": "markdown",
   "id": "b3780ba0-310b-4e55-9fd9-87b85ab6d1c1",
   "metadata": {},
   "source": [
    "### Bagging Classifier"
   ]
  },
  {
   "cell_type": "code",
   "execution_count": 183,
   "id": "d58df4ac-64d6-4531-8124-7b4c9212bbb9",
   "metadata": {},
   "outputs": [
    {
     "name": "stdout",
     "output_type": "stream",
     "text": [
      "Fitting 5 folds for each of 6 candidates, totalling 30 fits\n"
     ]
    },
    {
     "data": {
      "text/html": [
       "<div>\n",
       "<style scoped>\n",
       "    .dataframe tbody tr th:only-of-type {\n",
       "        vertical-align: middle;\n",
       "    }\n",
       "\n",
       "    .dataframe tbody tr th {\n",
       "        vertical-align: top;\n",
       "    }\n",
       "\n",
       "    .dataframe thead th {\n",
       "        text-align: right;\n",
       "    }\n",
       "</style>\n",
       "<table border=\"1\" class=\"dataframe\">\n",
       "  <thead>\n",
       "    <tr style=\"text-align: right;\">\n",
       "      <th></th>\n",
       "      <th>Model</th>\n",
       "      <th>Remark</th>\n",
       "      <th>Train Score</th>\n",
       "      <th>Test Score</th>\n",
       "      <th>Precision</th>\n",
       "      <th>Recall</th>\n",
       "      <th>F1 Score</th>\n",
       "    </tr>\n",
       "  </thead>\n",
       "  <tbody>\n",
       "    <tr>\n",
       "      <th>0</th>\n",
       "      <td>Bagging Classifier</td>\n",
       "      <td>SMOTE &amp; GSCV</td>\n",
       "      <td>0.800967</td>\n",
       "      <td>0.792991</td>\n",
       "      <td>0.758382</td>\n",
       "      <td>0.859764</td>\n",
       "      <td>0.805897</td>\n",
       "    </tr>\n",
       "  </tbody>\n",
       "</table>\n",
       "</div>"
      ],
      "text/plain": [
       "                Model        Remark  Train Score  Test Score  Precision  \\\n",
       "0  Bagging Classifier  SMOTE & GSCV     0.800967    0.792991   0.758382   \n",
       "\n",
       "     Recall  F1 Score  \n",
       "0  0.859764  0.805897  "
      ]
     },
     "execution_count": 183,
     "metadata": {},
     "output_type": "execute_result"
    }
   ],
   "source": [
    "# Instantiate model\n",
    "bagc_2_cv_s =  GridSearchCV(estimator = BaggingClassifier(),\n",
    "            param_grid = {'bootstrap': [True, False],\n",
    "                          'n_estimators': [10, 20, 30]},\n",
    "                         cv = 5,\n",
    "                         verbose = 1)\n",
    "\n",
    "# Fit the model\n",
    "bagc_2_cv_s.fit(m2_Z_train, m2_y_train)\n",
    "\n",
    "# To showcase the result\n",
    "result = pd.DataFrame(sum_score('Bagging Classifier', bagc_2_cv_s, m2_Z_train, m2_Z_test, m2_y_train, m2_y_test, remark))\n",
    "\n",
    "# To join the result into the summary table\n",
    "summ_m2 = pd.concat([summ_m2, result])\n",
    "\n",
    "# To display result\n",
    "result"
   ]
  },
  {
   "cell_type": "markdown",
   "id": "863d881e-09a0-4a12-a615-4600c09d709b",
   "metadata": {},
   "source": [
    "### Random Forest Classider"
   ]
  },
  {
   "cell_type": "code",
   "execution_count": 184,
   "id": "10e990f3-2781-4b56-b5ad-eeb84a3725bb",
   "metadata": {},
   "outputs": [
    {
     "name": "stdout",
     "output_type": "stream",
     "text": [
      "Fitting 5 folds for each of 18 candidates, totalling 90 fits\n"
     ]
    },
    {
     "data": {
      "text/html": [
       "<div>\n",
       "<style scoped>\n",
       "    .dataframe tbody tr th:only-of-type {\n",
       "        vertical-align: middle;\n",
       "    }\n",
       "\n",
       "    .dataframe tbody tr th {\n",
       "        vertical-align: top;\n",
       "    }\n",
       "\n",
       "    .dataframe thead th {\n",
       "        text-align: right;\n",
       "    }\n",
       "</style>\n",
       "<table border=\"1\" class=\"dataframe\">\n",
       "  <thead>\n",
       "    <tr style=\"text-align: right;\">\n",
       "      <th></th>\n",
       "      <th>Model</th>\n",
       "      <th>Remark</th>\n",
       "      <th>Train Score</th>\n",
       "      <th>Test Score</th>\n",
       "      <th>Precision</th>\n",
       "      <th>Recall</th>\n",
       "      <th>F1 Score</th>\n",
       "    </tr>\n",
       "  </thead>\n",
       "  <tbody>\n",
       "    <tr>\n",
       "      <th>0</th>\n",
       "      <td>Random Foreset Classifier</td>\n",
       "      <td>SMOTE &amp; GSCV</td>\n",
       "      <td>0.799246</td>\n",
       "      <td>0.792663</td>\n",
       "      <td>0.752402</td>\n",
       "      <td>0.872215</td>\n",
       "      <td>0.807891</td>\n",
       "    </tr>\n",
       "  </tbody>\n",
       "</table>\n",
       "</div>"
      ],
      "text/plain": [
       "                       Model        Remark  Train Score  Test Score  \\\n",
       "0  Random Foreset Classifier  SMOTE & GSCV     0.799246    0.792663   \n",
       "\n",
       "   Precision    Recall  F1 Score  \n",
       "0   0.752402  0.872215  0.807891  "
      ]
     },
     "execution_count": 184,
     "metadata": {},
     "output_type": "execute_result"
    }
   ],
   "source": [
    "# Instantiate model\n",
    "rfc_2_cv_s = GridSearchCV(estimator = RandomForestClassifier(),\n",
    "            param_grid = {'criterion': ['gini', 'entropy'],\n",
    "                          'n_estimators': [100, 200, 300],\n",
    "                          'max_leaf_nodes': [None, 100, 200],\n",
    "                         'random_state': [123]},\n",
    "                         cv = 5,\n",
    "                         verbose = 1)\n",
    "\n",
    "# Fit the model\n",
    "rfc_2_cv_s.fit(m2_Z_train, m2_y_train)\n",
    "\n",
    "# To showcase the result\n",
    "result = pd.DataFrame(sum_score('Random Foreset Classifier', rfc_2_cv_s, m2_Z_train, m2_Z_test, m2_y_train, m2_y_test, remark))\n",
    "\n",
    "# To join the result into the summary table\n",
    "summ_m2 = pd.concat([summ_m2, result])\n",
    "\n",
    "# To display result\n",
    "result"
   ]
  },
  {
   "cell_type": "markdown",
   "id": "797321dc-27a5-45a2-a374-a20e63481354",
   "metadata": {},
   "source": [
    "### AdaBoost Classificer"
   ]
  },
  {
   "cell_type": "code",
   "execution_count": 185,
   "id": "cbf0ef68-0655-406b-82c4-6cc39090b53e",
   "metadata": {},
   "outputs": [
    {
     "name": "stdout",
     "output_type": "stream",
     "text": [
      "Fitting 5 folds for each of 6 candidates, totalling 30 fits\n"
     ]
    },
    {
     "data": {
      "text/html": [
       "<div>\n",
       "<style scoped>\n",
       "    .dataframe tbody tr th:only-of-type {\n",
       "        vertical-align: middle;\n",
       "    }\n",
       "\n",
       "    .dataframe tbody tr th {\n",
       "        vertical-align: top;\n",
       "    }\n",
       "\n",
       "    .dataframe thead th {\n",
       "        text-align: right;\n",
       "    }\n",
       "</style>\n",
       "<table border=\"1\" class=\"dataframe\">\n",
       "  <thead>\n",
       "    <tr style=\"text-align: right;\">\n",
       "      <th></th>\n",
       "      <th>Model</th>\n",
       "      <th>Remark</th>\n",
       "      <th>Train Score</th>\n",
       "      <th>Test Score</th>\n",
       "      <th>Precision</th>\n",
       "      <th>Recall</th>\n",
       "      <th>F1 Score</th>\n",
       "    </tr>\n",
       "  </thead>\n",
       "  <tbody>\n",
       "    <tr>\n",
       "      <th>0</th>\n",
       "      <td>AdaBoost Classifier</td>\n",
       "      <td>SMOTE &amp; GSCV</td>\n",
       "      <td>0.7818</td>\n",
       "      <td>0.784802</td>\n",
       "      <td>0.744789</td>\n",
       "      <td>0.866317</td>\n",
       "      <td>0.800969</td>\n",
       "    </tr>\n",
       "  </tbody>\n",
       "</table>\n",
       "</div>"
      ],
      "text/plain": [
       "                 Model        Remark  Train Score  Test Score  Precision  \\\n",
       "0  AdaBoost Classifier  SMOTE & GSCV       0.7818    0.784802   0.744789   \n",
       "\n",
       "     Recall  F1 Score  \n",
       "0  0.866317  0.800969  "
      ]
     },
     "execution_count": 185,
     "metadata": {},
     "output_type": "execute_result"
    }
   ],
   "source": [
    "# Instantiate model\n",
    "abc_2_cv_s = GridSearchCV(estimator = AdaBoostClassifier(),\n",
    "            param_grid = {'learning_rate': [1, 0.9],\n",
    "                          'n_estimators': [50, 100, 200],\n",
    "                         'random_state': [123]},\n",
    "                         cv = 5,\n",
    "                         verbose = 1)\n",
    "# Fit the model\n",
    "abc_2_cv_s.fit(m2_Z_train, m2_y_train)\n",
    "\n",
    "# To showcase the result\n",
    "result = pd.DataFrame(sum_score('AdaBoost Classifier', abc_2_cv_s, m2_Z_train, m2_Z_test, m2_y_train, m2_y_test, remark))\n",
    "\n",
    "# To join the result into the summary table\n",
    "summ_m2 = pd.concat([summ_m2, result])\n",
    "\n",
    "# To display result\n",
    "result"
   ]
  },
  {
   "cell_type": "markdown",
   "id": "7d110880-fa29-478d-9cf4-a0e24d1d340a",
   "metadata": {},
   "source": [
    "### Support Vector Classifier"
   ]
  },
  {
   "cell_type": "code",
   "execution_count": 186,
   "id": "efab8aba-a6aa-448c-89ab-24eefd53be6a",
   "metadata": {},
   "outputs": [
    {
     "name": "stdout",
     "output_type": "stream",
     "text": [
      "Fitting 5 folds for each of 8 candidates, totalling 40 fits\n"
     ]
    },
    {
     "data": {
      "text/html": [
       "<div>\n",
       "<style scoped>\n",
       "    .dataframe tbody tr th:only-of-type {\n",
       "        vertical-align: middle;\n",
       "    }\n",
       "\n",
       "    .dataframe tbody tr th {\n",
       "        vertical-align: top;\n",
       "    }\n",
       "\n",
       "    .dataframe thead th {\n",
       "        text-align: right;\n",
       "    }\n",
       "</style>\n",
       "<table border=\"1\" class=\"dataframe\">\n",
       "  <thead>\n",
       "    <tr style=\"text-align: right;\">\n",
       "      <th></th>\n",
       "      <th>Model</th>\n",
       "      <th>Remark</th>\n",
       "      <th>Train Score</th>\n",
       "      <th>Test Score</th>\n",
       "      <th>Precision</th>\n",
       "      <th>Recall</th>\n",
       "      <th>F1 Score</th>\n",
       "    </tr>\n",
       "  </thead>\n",
       "  <tbody>\n",
       "    <tr>\n",
       "      <th>0</th>\n",
       "      <td>Support Vector Classifier</td>\n",
       "      <td>SMOTE &amp; GSCV</td>\n",
       "      <td>0.795806</td>\n",
       "      <td>0.79168</td>\n",
       "      <td>0.764252</td>\n",
       "      <td>0.843381</td>\n",
       "      <td>0.801869</td>\n",
       "    </tr>\n",
       "  </tbody>\n",
       "</table>\n",
       "</div>"
      ],
      "text/plain": [
       "                       Model        Remark  Train Score  Test Score  \\\n",
       "0  Support Vector Classifier  SMOTE & GSCV     0.795806     0.79168   \n",
       "\n",
       "   Precision    Recall  F1 Score  \n",
       "0   0.764252  0.843381  0.801869  "
      ]
     },
     "execution_count": 186,
     "metadata": {},
     "output_type": "execute_result"
    }
   ],
   "source": [
    "# Instantiate model\n",
    "svc_2_cv_s = GridSearchCV(estimator = SVC(),\n",
    "            param_grid = {'C': [1, 0.9],\n",
    "                          'degree': [3,4],\n",
    "                          'cache_size': [200, 300],\n",
    "                         'random_state': [123]},\n",
    "                         cv = 5,\n",
    "                         verbose = 1)\n",
    "\n",
    "# Fit the model\n",
    "svc_2_cv_s.fit(m2_Z_train, m2_y_train)\n",
    "\n",
    "# To showcase the result\n",
    "result = pd.DataFrame(sum_score('Support Vector Classifier', svc_2_cv_s, m2_Z_train, m2_Z_test, m2_y_train, m2_y_test, remark))\n",
    "\n",
    "# To join the result into the summary table\n",
    "summ_m2 = pd.concat([summ_m2, result])\n",
    "\n",
    "# To display result\n",
    "result"
   ]
  },
  {
   "cell_type": "code",
   "execution_count": 187,
   "id": "e1bffa3d-deb9-494b-b514-fddb87cc7952",
   "metadata": {},
   "outputs": [
    {
     "data": {
      "text/html": [
       "<div>\n",
       "<style scoped>\n",
       "    .dataframe tbody tr th:only-of-type {\n",
       "        vertical-align: middle;\n",
       "    }\n",
       "\n",
       "    .dataframe tbody tr th {\n",
       "        vertical-align: top;\n",
       "    }\n",
       "\n",
       "    .dataframe thead th {\n",
       "        text-align: right;\n",
       "    }\n",
       "</style>\n",
       "<table border=\"1\" class=\"dataframe\">\n",
       "  <thead>\n",
       "    <tr style=\"text-align: right;\">\n",
       "      <th></th>\n",
       "      <th>Model</th>\n",
       "      <th>Remark</th>\n",
       "      <th>Train Score</th>\n",
       "      <th>Test Score</th>\n",
       "      <th>Precision</th>\n",
       "      <th>Recall</th>\n",
       "      <th>F1 Score</th>\n",
       "    </tr>\n",
       "  </thead>\n",
       "  <tbody>\n",
       "    <tr>\n",
       "      <th>0</th>\n",
       "      <td>Base Model | Logistic Regression</td>\n",
       "      <td>None</td>\n",
       "      <td>0.958995</td>\n",
       "      <td>0.959171</td>\n",
       "      <td>0.000000</td>\n",
       "      <td>0.000000</td>\n",
       "      <td>0.000000</td>\n",
       "    </tr>\n",
       "    <tr>\n",
       "      <th>1</th>\n",
       "      <td>K Nearest Neighbor</td>\n",
       "      <td>None</td>\n",
       "      <td>0.959309</td>\n",
       "      <td>0.960427</td>\n",
       "      <td>1.000000</td>\n",
       "      <td>0.030769</td>\n",
       "      <td>0.059701</td>\n",
       "    </tr>\n",
       "    <tr>\n",
       "      <th>2</th>\n",
       "      <td>Decision Tree Classifier</td>\n",
       "      <td>None</td>\n",
       "      <td>0.959466</td>\n",
       "      <td>0.960427</td>\n",
       "      <td>1.000000</td>\n",
       "      <td>0.030769</td>\n",
       "      <td>0.059701</td>\n",
       "    </tr>\n",
       "    <tr>\n",
       "      <th>3</th>\n",
       "      <td>Bagging Classifier</td>\n",
       "      <td>None</td>\n",
       "      <td>0.959466</td>\n",
       "      <td>0.960427</td>\n",
       "      <td>1.000000</td>\n",
       "      <td>0.030769</td>\n",
       "      <td>0.059701</td>\n",
       "    </tr>\n",
       "    <tr>\n",
       "      <th>4</th>\n",
       "      <td>Random Foreset Classifier</td>\n",
       "      <td>None</td>\n",
       "      <td>0.959466</td>\n",
       "      <td>0.960427</td>\n",
       "      <td>1.000000</td>\n",
       "      <td>0.030769</td>\n",
       "      <td>0.059701</td>\n",
       "    </tr>\n",
       "    <tr>\n",
       "      <th>5</th>\n",
       "      <td>AdaBoost Classifier</td>\n",
       "      <td>None</td>\n",
       "      <td>0.958995</td>\n",
       "      <td>0.959171</td>\n",
       "      <td>0.000000</td>\n",
       "      <td>0.000000</td>\n",
       "      <td>0.000000</td>\n",
       "    </tr>\n",
       "    <tr>\n",
       "      <th>6</th>\n",
       "      <td>Support Vector Classifier</td>\n",
       "      <td>None</td>\n",
       "      <td>0.958995</td>\n",
       "      <td>0.959171</td>\n",
       "      <td>0.000000</td>\n",
       "      <td>0.000000</td>\n",
       "      <td>0.000000</td>\n",
       "    </tr>\n",
       "    <tr>\n",
       "      <th>7</th>\n",
       "      <td>Logistic Regression</td>\n",
       "      <td>GSCV</td>\n",
       "      <td>0.958995</td>\n",
       "      <td>0.959171</td>\n",
       "      <td>0.000000</td>\n",
       "      <td>0.000000</td>\n",
       "      <td>0.000000</td>\n",
       "    </tr>\n",
       "    <tr>\n",
       "      <th>8</th>\n",
       "      <td>K Nearest Neighbor</td>\n",
       "      <td>GSCV</td>\n",
       "      <td>0.958052</td>\n",
       "      <td>0.956658</td>\n",
       "      <td>0.300000</td>\n",
       "      <td>0.046154</td>\n",
       "      <td>0.080000</td>\n",
       "    </tr>\n",
       "    <tr>\n",
       "      <th>9</th>\n",
       "      <td>Decision Tree Classifier</td>\n",
       "      <td>GSCV</td>\n",
       "      <td>0.959309</td>\n",
       "      <td>0.960427</td>\n",
       "      <td>1.000000</td>\n",
       "      <td>0.030769</td>\n",
       "      <td>0.059701</td>\n",
       "    </tr>\n",
       "    <tr>\n",
       "      <th>10</th>\n",
       "      <td>Bagging Classifier</td>\n",
       "      <td>GSCV</td>\n",
       "      <td>0.959466</td>\n",
       "      <td>0.960427</td>\n",
       "      <td>1.000000</td>\n",
       "      <td>0.030769</td>\n",
       "      <td>0.059701</td>\n",
       "    </tr>\n",
       "    <tr>\n",
       "      <th>11</th>\n",
       "      <td>Random Foreset Classifier</td>\n",
       "      <td>GSCV</td>\n",
       "      <td>0.959466</td>\n",
       "      <td>0.960427</td>\n",
       "      <td>1.000000</td>\n",
       "      <td>0.030769</td>\n",
       "      <td>0.059701</td>\n",
       "    </tr>\n",
       "    <tr>\n",
       "      <th>12</th>\n",
       "      <td>AdaBoost Classifier</td>\n",
       "      <td>GSCV</td>\n",
       "      <td>0.958995</td>\n",
       "      <td>0.959171</td>\n",
       "      <td>0.000000</td>\n",
       "      <td>0.000000</td>\n",
       "      <td>0.000000</td>\n",
       "    </tr>\n",
       "    <tr>\n",
       "      <th>13</th>\n",
       "      <td>Support Vector Classifier</td>\n",
       "      <td>GSCV</td>\n",
       "      <td>0.958995</td>\n",
       "      <td>0.959171</td>\n",
       "      <td>0.000000</td>\n",
       "      <td>0.000000</td>\n",
       "      <td>0.000000</td>\n",
       "    </tr>\n",
       "    <tr>\n",
       "      <th>14</th>\n",
       "      <td>Logistic Regression</td>\n",
       "      <td>SMOTE</td>\n",
       "      <td>0.783766</td>\n",
       "      <td>0.787095</td>\n",
       "      <td>0.755245</td>\n",
       "      <td>0.849279</td>\n",
       "      <td>0.799506</td>\n",
       "    </tr>\n",
       "    <tr>\n",
       "      <th>15</th>\n",
       "      <td>K Nearest Neighbor</td>\n",
       "      <td>SMOTE</td>\n",
       "      <td>0.764682</td>\n",
       "      <td>0.771372</td>\n",
       "      <td>0.740698</td>\n",
       "      <td>0.834862</td>\n",
       "      <td>0.784966</td>\n",
       "    </tr>\n",
       "    <tr>\n",
       "      <th>16</th>\n",
       "      <td>Decision Tree Classifier</td>\n",
       "      <td>SMOTE</td>\n",
       "      <td>0.801048</td>\n",
       "      <td>0.792663</td>\n",
       "      <td>0.755289</td>\n",
       "      <td>0.865662</td>\n",
       "      <td>0.806718</td>\n",
       "    </tr>\n",
       "    <tr>\n",
       "      <th>17</th>\n",
       "      <td>Bagging Classifier</td>\n",
       "      <td>SMOTE</td>\n",
       "      <td>0.800557</td>\n",
       "      <td>0.792335</td>\n",
       "      <td>0.754857</td>\n",
       "      <td>0.865662</td>\n",
       "      <td>0.806471</td>\n",
       "    </tr>\n",
       "    <tr>\n",
       "      <th>18</th>\n",
       "      <td>Random Foreset Classifier</td>\n",
       "      <td>SMOTE</td>\n",
       "      <td>0.800967</td>\n",
       "      <td>0.792991</td>\n",
       "      <td>0.758382</td>\n",
       "      <td>0.859764</td>\n",
       "      <td>0.805897</td>\n",
       "    </tr>\n",
       "    <tr>\n",
       "      <th>19</th>\n",
       "      <td>AdaBoost Classifier</td>\n",
       "      <td>SMOTE</td>\n",
       "      <td>0.701859</td>\n",
       "      <td>0.707173</td>\n",
       "      <td>0.736173</td>\n",
       "      <td>0.645478</td>\n",
       "      <td>0.687849</td>\n",
       "    </tr>\n",
       "    <tr>\n",
       "      <th>20</th>\n",
       "      <td>Support Vector Classifier</td>\n",
       "      <td>SMOTE</td>\n",
       "      <td>0.796052</td>\n",
       "      <td>0.791680</td>\n",
       "      <td>0.761150</td>\n",
       "      <td>0.849934</td>\n",
       "      <td>0.803096</td>\n",
       "    </tr>\n",
       "    <tr>\n",
       "      <th>21</th>\n",
       "      <td>Logistic Regression</td>\n",
       "      <td>SMOTE &amp; GSCV</td>\n",
       "      <td>0.797360</td>\n",
       "      <td>0.799506</td>\n",
       "      <td>0.755245</td>\n",
       "      <td>0.849279</td>\n",
       "      <td>0.799506</td>\n",
       "    </tr>\n",
       "    <tr>\n",
       "      <th>22</th>\n",
       "      <td>K Nearest Neighbor</td>\n",
       "      <td>SMOTE &amp; GSCV</td>\n",
       "      <td>0.781140</td>\n",
       "      <td>0.785450</td>\n",
       "      <td>0.741560</td>\n",
       "      <td>0.834862</td>\n",
       "      <td>0.785450</td>\n",
       "    </tr>\n",
       "    <tr>\n",
       "      <th>23</th>\n",
       "      <td>Decision Tree Classifier</td>\n",
       "      <td>SMOTE &amp; GSCV</td>\n",
       "      <td>0.693832</td>\n",
       "      <td>0.696692</td>\n",
       "      <td>0.694553</td>\n",
       "      <td>0.701835</td>\n",
       "      <td>0.698175</td>\n",
       "    </tr>\n",
       "    <tr>\n",
       "      <th>24</th>\n",
       "      <td>Bagging Classifier</td>\n",
       "      <td>SMOTE &amp; GSCV</td>\n",
       "      <td>0.800967</td>\n",
       "      <td>0.792991</td>\n",
       "      <td>0.758382</td>\n",
       "      <td>0.859764</td>\n",
       "      <td>0.805897</td>\n",
       "    </tr>\n",
       "    <tr>\n",
       "      <th>25</th>\n",
       "      <td>Random Foreset Classifier</td>\n",
       "      <td>SMOTE &amp; GSCV</td>\n",
       "      <td>0.799246</td>\n",
       "      <td>0.792663</td>\n",
       "      <td>0.752402</td>\n",
       "      <td>0.872215</td>\n",
       "      <td>0.807891</td>\n",
       "    </tr>\n",
       "    <tr>\n",
       "      <th>26</th>\n",
       "      <td>AdaBoost Classifier</td>\n",
       "      <td>SMOTE &amp; GSCV</td>\n",
       "      <td>0.781800</td>\n",
       "      <td>0.784802</td>\n",
       "      <td>0.744789</td>\n",
       "      <td>0.866317</td>\n",
       "      <td>0.800969</td>\n",
       "    </tr>\n",
       "    <tr>\n",
       "      <th>27</th>\n",
       "      <td>Support Vector Classifier</td>\n",
       "      <td>SMOTE &amp; GSCV</td>\n",
       "      <td>0.795806</td>\n",
       "      <td>0.791680</td>\n",
       "      <td>0.764252</td>\n",
       "      <td>0.843381</td>\n",
       "      <td>0.801869</td>\n",
       "    </tr>\n",
       "  </tbody>\n",
       "</table>\n",
       "</div>"
      ],
      "text/plain": [
       "                               Model        Remark  Train Score  Test Score  \\\n",
       "0   Base Model | Logistic Regression          None     0.958995    0.959171   \n",
       "1                 K Nearest Neighbor          None     0.959309    0.960427   \n",
       "2           Decision Tree Classifier          None     0.959466    0.960427   \n",
       "3                 Bagging Classifier          None     0.959466    0.960427   \n",
       "4          Random Foreset Classifier          None     0.959466    0.960427   \n",
       "5                AdaBoost Classifier          None     0.958995    0.959171   \n",
       "6          Support Vector Classifier          None     0.958995    0.959171   \n",
       "7                Logistic Regression          GSCV     0.958995    0.959171   \n",
       "8                 K Nearest Neighbor          GSCV     0.958052    0.956658   \n",
       "9           Decision Tree Classifier          GSCV     0.959309    0.960427   \n",
       "10                Bagging Classifier          GSCV     0.959466    0.960427   \n",
       "11         Random Foreset Classifier          GSCV     0.959466    0.960427   \n",
       "12               AdaBoost Classifier          GSCV     0.958995    0.959171   \n",
       "13         Support Vector Classifier          GSCV     0.958995    0.959171   \n",
       "14               Logistic Regression         SMOTE     0.783766    0.787095   \n",
       "15                K Nearest Neighbor         SMOTE     0.764682    0.771372   \n",
       "16          Decision Tree Classifier         SMOTE     0.801048    0.792663   \n",
       "17                Bagging Classifier         SMOTE     0.800557    0.792335   \n",
       "18         Random Foreset Classifier         SMOTE     0.800967    0.792991   \n",
       "19               AdaBoost Classifier         SMOTE     0.701859    0.707173   \n",
       "20         Support Vector Classifier         SMOTE     0.796052    0.791680   \n",
       "21               Logistic Regression  SMOTE & GSCV     0.797360    0.799506   \n",
       "22                K Nearest Neighbor  SMOTE & GSCV     0.781140    0.785450   \n",
       "23          Decision Tree Classifier  SMOTE & GSCV     0.693832    0.696692   \n",
       "24                Bagging Classifier  SMOTE & GSCV     0.800967    0.792991   \n",
       "25         Random Foreset Classifier  SMOTE & GSCV     0.799246    0.792663   \n",
       "26               AdaBoost Classifier  SMOTE & GSCV     0.781800    0.784802   \n",
       "27         Support Vector Classifier  SMOTE & GSCV     0.795806    0.791680   \n",
       "\n",
       "    Precision    Recall  F1 Score  \n",
       "0    0.000000  0.000000  0.000000  \n",
       "1    1.000000  0.030769  0.059701  \n",
       "2    1.000000  0.030769  0.059701  \n",
       "3    1.000000  0.030769  0.059701  \n",
       "4    1.000000  0.030769  0.059701  \n",
       "5    0.000000  0.000000  0.000000  \n",
       "6    0.000000  0.000000  0.000000  \n",
       "7    0.000000  0.000000  0.000000  \n",
       "8    0.300000  0.046154  0.080000  \n",
       "9    1.000000  0.030769  0.059701  \n",
       "10   1.000000  0.030769  0.059701  \n",
       "11   1.000000  0.030769  0.059701  \n",
       "12   0.000000  0.000000  0.000000  \n",
       "13   0.000000  0.000000  0.000000  \n",
       "14   0.755245  0.849279  0.799506  \n",
       "15   0.740698  0.834862  0.784966  \n",
       "16   0.755289  0.865662  0.806718  \n",
       "17   0.754857  0.865662  0.806471  \n",
       "18   0.758382  0.859764  0.805897  \n",
       "19   0.736173  0.645478  0.687849  \n",
       "20   0.761150  0.849934  0.803096  \n",
       "21   0.755245  0.849279  0.799506  \n",
       "22   0.741560  0.834862  0.785450  \n",
       "23   0.694553  0.701835  0.698175  \n",
       "24   0.758382  0.859764  0.805897  \n",
       "25   0.752402  0.872215  0.807891  \n",
       "26   0.744789  0.866317  0.800969  \n",
       "27   0.764252  0.843381  0.801869  "
      ]
     },
     "execution_count": 187,
     "metadata": {},
     "output_type": "execute_result"
    }
   ],
   "source": [
    "summ_m2.reset_index(inplace = True)\n",
    "summ_m2.drop(columns = 'index', inplace = True)\n",
    "summ_m2"
   ]
  },
  {
   "cell_type": "code",
   "execution_count": 188,
   "id": "4c138594-1f6e-46fc-9481-87efb490aa64",
   "metadata": {},
   "outputs": [
    {
     "data": {
      "text/plain": [
       "0    7631\n",
       "1     326\n",
       "Name: WnvPresent, dtype: int64"
      ]
     },
     "execution_count": 188,
     "metadata": {},
     "output_type": "execute_result"
    }
   ],
   "source": [
    "df_train_m2['WnvPresent'].value_counts()"
   ]
  },
  {
   "cell_type": "code",
   "execution_count": 189,
   "id": "df83a80b-6a44-47d7-aa0d-8c905504d0fb",
   "metadata": {},
   "outputs": [
    {
     "data": {
      "text/plain": [
       "0    0.95903\n",
       "1    0.04097\n",
       "Name: WnvPresent, dtype: float64"
      ]
     },
     "execution_count": 189,
     "metadata": {},
     "output_type": "execute_result"
    }
   ],
   "source": [
    "df_train_m2['WnvPresent'].value_counts(normalize = True)"
   ]
  },
  {
   "cell_type": "code",
   "execution_count": 190,
   "id": "a8574c7d-b06c-4ecb-b040-11b84de077f2",
   "metadata": {},
   "outputs": [],
   "source": [
    "# Define a new dataframe for plotting\n",
    "summ_2_plot = summ_m2.copy()\n",
    "\n",
    "# Replace the remark for consistency\n",
    "summ_2_plot.at[0, 'Model']= 'Logistic Regression'\n",
    "summ_2_plot['Remark'].replace(np.nan , 'Normal Sampling', inplace = True)"
   ]
  },
  {
   "cell_type": "code",
   "execution_count": 191,
   "id": "ee0ac3c1-2674-47b1-ba14-7488df90eeb0",
   "metadata": {},
   "outputs": [
    {
     "data": {
      "image/png": "[encoded data removed]",
      "text/plain": [
       "<Figure size 1008x720 with 1 Axes>"
      ]
     },
     "metadata": {
      "needs_background": "light"
     },
     "output_type": "display_data"
    }
   ],
   "source": [
    "plt.figure(figsize = (14, 10))\n",
    "sns.lineplot(data=summ_2_plot, x='Model', y=\"F1 Score\", hue=\"Remark\", ci = None, palette = \"Set2\",  linewidth = 5, alpha = 0.6)\n",
    "plt.title(\"Model 2 - F1 Score Summary\", fontsize = 20)\n",
    "\n",
    "plt.grid(color='g', linestyle=':', linewidth=0.5, visible = bool )\n",
    "plt.legend()\n",
    "plt.ylabel('F1-Score', fontsize = 16)\n",
    "plt.xlabel('Model', fontsize = 16)\n",
    "plt.savefig('./image/m2_score_summary.jpg')\n",
    "plt.tight_layout()\n",
    "plt.show()"
   ]
  },
  {
   "cell_type": "markdown",
   "id": "f8f83c4a-4d36-4178-bdbe-c785d9831954",
   "metadata": {},
   "source": [
    "Inference:\n",
    "\n",
    "Based on the model performance above, we would be looking at F1-score again due to very unbalanced datasets of 96% vs 4%. Despite performing the feature selection and engineering on removing the features that are not related to cultivating WNV, we still see a badly performed F1-Score on the initial datasets. This shows that the models did not accurately predict the wanted class which is the present of WNV.\n",
    "\n",
    "With some models has F1-score similar to Base Model, those models will not be considered to going further.\n",
    "\n",
    "At here, we decided to select the models with SMOTE Oversampling with GridSearchCV. We noticed that the F1-scores for `Bagging Classifier`, `Random Forest Classifier`, `AdaBoost Classifier` and `Support Vector Classifier` are really closed to one another which is 0.80. To further select down to only 1 model, we look at the Train and Test Score of the 4 models. Basing on the Train and Test Score, it seems that Decision Tree Classifier had a better train and test score which shows that the model is able to predict well. Despite the model is slightly overfit, but the scores is quite negligible. \n",
    "\n",
    "Thus, `Bagging Classifier` would be used to do the prediction"
   ]
  },
  {
   "cell_type": "markdown",
   "id": "23b6381d-ddda-4565-bca5-910cb4ca47da",
   "metadata": {},
   "source": [
    "## Model 2 Prediction"
   ]
  },
  {
   "cell_type": "code",
   "execution_count": 192,
   "id": "37193707-f488-4c44-9528-a9d13465eff7",
   "metadata": {},
   "outputs": [],
   "source": [
    "test_m2 = df_test_m2.copy()"
   ]
  },
  {
   "cell_type": "code",
   "execution_count": 193,
   "id": "905178c5-03ee-4cda-8cd6-59f48f229fc9",
   "metadata": {},
   "outputs": [
    {
     "data": {
      "text/plain": [
       "Index(['Id', 'Species', 'Trap_T002', 'Trap_T002A', 'Trap_T002B', 'Trap_T003',\n",
       "       'Trap_T004', 'Trap_T005', 'Trap_T006', 'Trap_T007',\n",
       "       ...\n",
       "       'Trap_T232', 'Trap_T233', 'Trap_T234', 'Trap_T235', 'Trap_T236',\n",
       "       'Trap_T237', 'Trap_T238', 'Trap_T900', 'Trap_T903', 'BreedCond'],\n",
       "      dtype='object', length=151)"
      ]
     },
     "execution_count": 193,
     "metadata": {},
     "output_type": "execute_result"
    }
   ],
   "source": [
    "# To check on the columns in the datasets\n",
    "test_m2.columns"
   ]
  },
  {
   "cell_type": "code",
   "execution_count": 194,
   "id": "54bd45e9-b31e-4496-8844-a3b0799d55df",
   "metadata": {},
   "outputs": [],
   "source": [
    "# To drop `Id` and `Species` features from the test set for prediction\n",
    "test_m2.drop(['Id', 'Species'], axis = 1, inplace = True)"
   ]
  },
  {
   "cell_type": "code",
   "execution_count": 195,
   "id": "38601b60-d943-4529-a272-5af31b408b82",
   "metadata": {},
   "outputs": [],
   "source": [
    "# Standard Scaler the test dataset\n",
    "test_m2_ss = ss_2.transform(test_m2)\n",
    "\n",
    "# Model Prediction on Train dataset\n",
    "test_m2_pred = bagc_2_cv_s.predict(test_m2_ss)"
   ]
  },
  {
   "cell_type": "code",
   "execution_count": 196,
   "id": "ca380d3c-f6be-4abd-991f-9e91afc3e0ae",
   "metadata": {},
   "outputs": [],
   "source": [
    "test_m2['WnvPresent'] = test_m2_pred"
   ]
  },
  {
   "cell_type": "code",
   "execution_count": 197,
   "id": "b7dbb8ef-67eb-4baf-8005-fe9df2ca6bc5",
   "metadata": {},
   "outputs": [],
   "source": [
    "test_m2['Id'] = df_test_m2['Id']"
   ]
  },
  {
   "cell_type": "code",
   "execution_count": 198,
   "id": "08305d1a-58f2-4642-b8b8-c7f6b153fdbf",
   "metadata": {},
   "outputs": [
    {
     "data": {
      "text/html": [
       "<div>\n",
       "<style scoped>\n",
       "    .dataframe tbody tr th:only-of-type {\n",
       "        vertical-align: middle;\n",
       "    }\n",
       "\n",
       "    .dataframe tbody tr th {\n",
       "        vertical-align: top;\n",
       "    }\n",
       "\n",
       "    .dataframe thead th {\n",
       "        text-align: right;\n",
       "    }\n",
       "</style>\n",
       "<table border=\"1\" class=\"dataframe\">\n",
       "  <thead>\n",
       "    <tr style=\"text-align: right;\">\n",
       "      <th></th>\n",
       "      <th>Trap_T002</th>\n",
       "      <th>Trap_T002A</th>\n",
       "      <th>Trap_T002B</th>\n",
       "      <th>Trap_T003</th>\n",
       "      <th>Trap_T004</th>\n",
       "      <th>Trap_T005</th>\n",
       "      <th>Trap_T006</th>\n",
       "      <th>Trap_T007</th>\n",
       "      <th>Trap_T008</th>\n",
       "      <th>Trap_T009</th>\n",
       "      <th>Trap_T011</th>\n",
       "      <th>Trap_T012</th>\n",
       "      <th>Trap_T013</th>\n",
       "      <th>Trap_T014</th>\n",
       "      <th>Trap_T015</th>\n",
       "      <th>Trap_T016</th>\n",
       "      <th>Trap_T017</th>\n",
       "      <th>Trap_T018</th>\n",
       "      <th>Trap_T019</th>\n",
       "      <th>Trap_T025</th>\n",
       "      <th>Trap_T027</th>\n",
       "      <th>Trap_T028</th>\n",
       "      <th>Trap_T030</th>\n",
       "      <th>Trap_T031</th>\n",
       "      <th>Trap_T033</th>\n",
       "      <th>Trap_T034</th>\n",
       "      <th>Trap_T035</th>\n",
       "      <th>Trap_T036</th>\n",
       "      <th>Trap_T037</th>\n",
       "      <th>Trap_T039</th>\n",
       "      <th>Trap_T040</th>\n",
       "      <th>Trap_T043</th>\n",
       "      <th>Trap_T044</th>\n",
       "      <th>Trap_T045</th>\n",
       "      <th>Trap_T046</th>\n",
       "      <th>Trap_T047</th>\n",
       "      <th>Trap_T048</th>\n",
       "      <th>Trap_T049</th>\n",
       "      <th>Trap_T050</th>\n",
       "      <th>Trap_T051</th>\n",
       "      <th>Trap_T054</th>\n",
       "      <th>Trap_T054C</th>\n",
       "      <th>Trap_T060</th>\n",
       "      <th>Trap_T061</th>\n",
       "      <th>Trap_T062</th>\n",
       "      <th>Trap_T063</th>\n",
       "      <th>Trap_T065</th>\n",
       "      <th>Trap_T065A</th>\n",
       "      <th>Trap_T066</th>\n",
       "      <th>Trap_T067</th>\n",
       "      <th>Trap_T069</th>\n",
       "      <th>Trap_T070</th>\n",
       "      <th>Trap_T071</th>\n",
       "      <th>Trap_T072</th>\n",
       "      <th>Trap_T073</th>\n",
       "      <th>Trap_T074</th>\n",
       "      <th>Trap_T075</th>\n",
       "      <th>Trap_T076</th>\n",
       "      <th>Trap_T077</th>\n",
       "      <th>Trap_T078</th>\n",
       "      <th>Trap_T079</th>\n",
       "      <th>Trap_T080</th>\n",
       "      <th>Trap_T081</th>\n",
       "      <th>Trap_T082</th>\n",
       "      <th>Trap_T083</th>\n",
       "      <th>Trap_T084</th>\n",
       "      <th>Trap_T085</th>\n",
       "      <th>Trap_T086</th>\n",
       "      <th>Trap_T088</th>\n",
       "      <th>Trap_T089</th>\n",
       "      <th>Trap_T090</th>\n",
       "      <th>Trap_T090A</th>\n",
       "      <th>Trap_T090B</th>\n",
       "      <th>Trap_T090C</th>\n",
       "      <th>Trap_T091</th>\n",
       "      <th>Trap_T092</th>\n",
       "      <th>Trap_T094</th>\n",
       "      <th>Trap_T094B</th>\n",
       "      <th>Trap_T095</th>\n",
       "      <th>Trap_T096</th>\n",
       "      <th>Trap_T097</th>\n",
       "      <th>Trap_T099</th>\n",
       "      <th>Trap_T100</th>\n",
       "      <th>Trap_T102</th>\n",
       "      <th>Trap_T103</th>\n",
       "      <th>Trap_T107</th>\n",
       "      <th>Trap_T114</th>\n",
       "      <th>Trap_T115</th>\n",
       "      <th>Trap_T128</th>\n",
       "      <th>Trap_T128A</th>\n",
       "      <th>Trap_T129</th>\n",
       "      <th>Trap_T135</th>\n",
       "      <th>Trap_T138</th>\n",
       "      <th>Trap_T141</th>\n",
       "      <th>Trap_T142</th>\n",
       "      <th>Trap_T143</th>\n",
       "      <th>Trap_T144</th>\n",
       "      <th>Trap_T145</th>\n",
       "      <th>Trap_T146</th>\n",
       "      <th>Trap_T147</th>\n",
       "      <th>Trap_T148</th>\n",
       "      <th>Trap_T149</th>\n",
       "      <th>Trap_T150</th>\n",
       "      <th>Trap_T151</th>\n",
       "      <th>Trap_T152</th>\n",
       "      <th>Trap_T153</th>\n",
       "      <th>Trap_T154</th>\n",
       "      <th>Trap_T155</th>\n",
       "      <th>Trap_T156</th>\n",
       "      <th>Trap_T157</th>\n",
       "      <th>Trap_T158</th>\n",
       "      <th>Trap_T159</th>\n",
       "      <th>Trap_T160</th>\n",
       "      <th>Trap_T161</th>\n",
       "      <th>Trap_T162</th>\n",
       "      <th>Trap_T200</th>\n",
       "      <th>Trap_T200A</th>\n",
       "      <th>Trap_T200B</th>\n",
       "      <th>Trap_T206</th>\n",
       "      <th>Trap_T209</th>\n",
       "      <th>Trap_T212</th>\n",
       "      <th>Trap_T215</th>\n",
       "      <th>Trap_T218</th>\n",
       "      <th>Trap_T218A</th>\n",
       "      <th>Trap_T218B</th>\n",
       "      <th>Trap_T218C</th>\n",
       "      <th>Trap_T219</th>\n",
       "      <th>Trap_T220</th>\n",
       "      <th>Trap_T221</th>\n",
       "      <th>Trap_T222</th>\n",
       "      <th>Trap_T223</th>\n",
       "      <th>Trap_T224</th>\n",
       "      <th>Trap_T225</th>\n",
       "      <th>Trap_T226</th>\n",
       "      <th>Trap_T227</th>\n",
       "      <th>Trap_T228</th>\n",
       "      <th>Trap_T229</th>\n",
       "      <th>Trap_T230</th>\n",
       "      <th>Trap_T231</th>\n",
       "      <th>Trap_T232</th>\n",
       "      <th>Trap_T233</th>\n",
       "      <th>Trap_T234</th>\n",
       "      <th>Trap_T235</th>\n",
       "      <th>Trap_T236</th>\n",
       "      <th>Trap_T237</th>\n",
       "      <th>Trap_T238</th>\n",
       "      <th>Trap_T900</th>\n",
       "      <th>Trap_T903</th>\n",
       "      <th>BreedCond</th>\n",
       "      <th>WnvPresent</th>\n",
       "      <th>Id</th>\n",
       "    </tr>\n",
       "    <tr>\n",
       "      <th>Date</th>\n",
       "      <th></th>\n",
       "      <th></th>\n",
       "      <th></th>\n",
       "      <th></th>\n",
       "      <th></th>\n",
       "      <th></th>\n",
       "      <th></th>\n",
       "      <th></th>\n",
       "      <th></th>\n",
       "      <th></th>\n",
       "      <th></th>\n",
       "      <th></th>\n",
       "      <th></th>\n",
       "      <th></th>\n",
       "      <th></th>\n",
       "      <th></th>\n",
       "      <th></th>\n",
       "      <th></th>\n",
       "      <th></th>\n",
       "      <th></th>\n",
       "      <th></th>\n",
       "      <th></th>\n",
       "      <th></th>\n",
       "      <th></th>\n",
       "      <th></th>\n",
       "      <th></th>\n",
       "      <th></th>\n",
       "      <th></th>\n",
       "      <th></th>\n",
       "      <th></th>\n",
       "      <th></th>\n",
       "      <th></th>\n",
       "      <th></th>\n",
       "      <th></th>\n",
       "      <th></th>\n",
       "      <th></th>\n",
       "      <th></th>\n",
       "      <th></th>\n",
       "      <th></th>\n",
       "      <th></th>\n",
       "      <th></th>\n",
       "      <th></th>\n",
       "      <th></th>\n",
       "      <th></th>\n",
       "      <th></th>\n",
       "      <th></th>\n",
       "      <th></th>\n",
       "      <th></th>\n",
       "      <th></th>\n",
       "      <th></th>\n",
       "      <th></th>\n",
       "      <th></th>\n",
       "      <th></th>\n",
       "      <th></th>\n",
       "      <th></th>\n",
       "      <th></th>\n",
       "      <th></th>\n",
       "      <th></th>\n",
       "      <th></th>\n",
       "      <th></th>\n",
       "      <th></th>\n",
       "      <th></th>\n",
       "      <th></th>\n",
       "      <th></th>\n",
       "      <th></th>\n",
       "      <th></th>\n",
       "      <th></th>\n",
       "      <th></th>\n",
       "      <th></th>\n",
       "      <th></th>\n",
       "      <th></th>\n",
       "      <th></th>\n",
       "      <th></th>\n",
       "      <th></th>\n",
       "      <th></th>\n",
       "      <th></th>\n",
       "      <th></th>\n",
       "      <th></th>\n",
       "      <th></th>\n",
       "      <th></th>\n",
       "      <th></th>\n",
       "      <th></th>\n",
       "      <th></th>\n",
       "      <th></th>\n",
       "      <th></th>\n",
       "      <th></th>\n",
       "      <th></th>\n",
       "      <th></th>\n",
       "      <th></th>\n",
       "      <th></th>\n",
       "      <th></th>\n",
       "      <th></th>\n",
       "      <th></th>\n",
       "      <th></th>\n",
       "      <th></th>\n",
       "      <th></th>\n",
       "      <th></th>\n",
       "      <th></th>\n",
       "      <th></th>\n",
       "      <th></th>\n",
       "      <th></th>\n",
       "      <th></th>\n",
       "      <th></th>\n",
       "      <th></th>\n",
       "      <th></th>\n",
       "      <th></th>\n",
       "      <th></th>\n",
       "      <th></th>\n",
       "      <th></th>\n",
       "      <th></th>\n",
       "      <th></th>\n",
       "      <th></th>\n",
       "      <th></th>\n",
       "      <th></th>\n",
       "      <th></th>\n",
       "      <th></th>\n",
       "      <th></th>\n",
       "      <th></th>\n",
       "      <th></th>\n",
       "      <th></th>\n",
       "      <th></th>\n",
       "      <th></th>\n",
       "      <th></th>\n",
       "      <th></th>\n",
       "      <th></th>\n",
       "      <th></th>\n",
       "      <th></th>\n",
       "      <th></th>\n",
       "      <th></th>\n",
       "      <th></th>\n",
       "      <th></th>\n",
       "      <th></th>\n",
       "      <th></th>\n",
       "      <th></th>\n",
       "      <th></th>\n",
       "      <th></th>\n",
       "      <th></th>\n",
       "      <th></th>\n",
       "      <th></th>\n",
       "      <th></th>\n",
       "      <th></th>\n",
       "      <th></th>\n",
       "      <th></th>\n",
       "      <th></th>\n",
       "      <th></th>\n",
       "      <th></th>\n",
       "      <th></th>\n",
       "      <th></th>\n",
       "      <th></th>\n",
       "      <th></th>\n",
       "      <th></th>\n",
       "    </tr>\n",
       "  </thead>\n",
       "  <tbody>\n",
       "    <tr>\n",
       "      <th>2008-06-11</th>\n",
       "      <td>1</td>\n",
       "      <td>0</td>\n",
       "      <td>0</td>\n",
       "      <td>0</td>\n",
       "      <td>0</td>\n",
       "      <td>0</td>\n",
       "      <td>0</td>\n",
       "      <td>0</td>\n",
       "      <td>0</td>\n",
       "      <td>0</td>\n",
       "      <td>0</td>\n",
       "      <td>0</td>\n",
       "      <td>0</td>\n",
       "      <td>0</td>\n",
       "      <td>0</td>\n",
       "      <td>0</td>\n",
       "      <td>0</td>\n",
       "      <td>0</td>\n",
       "      <td>0</td>\n",
       "      <td>0</td>\n",
       "      <td>0</td>\n",
       "      <td>0</td>\n",
       "      <td>0</td>\n",
       "      <td>0</td>\n",
       "      <td>0</td>\n",
       "      <td>0</td>\n",
       "      <td>0</td>\n",
       "      <td>0</td>\n",
       "      <td>0</td>\n",
       "      <td>0</td>\n",
       "      <td>0</td>\n",
       "      <td>0</td>\n",
       "      <td>0</td>\n",
       "      <td>0</td>\n",
       "      <td>0</td>\n",
       "      <td>0</td>\n",
       "      <td>0</td>\n",
       "      <td>0</td>\n",
       "      <td>0</td>\n",
       "      <td>0</td>\n",
       "      <td>0</td>\n",
       "      <td>0</td>\n",
       "      <td>0</td>\n",
       "      <td>0</td>\n",
       "      <td>0</td>\n",
       "      <td>0</td>\n",
       "      <td>0</td>\n",
       "      <td>0</td>\n",
       "      <td>0</td>\n",
       "      <td>0</td>\n",
       "      <td>0</td>\n",
       "      <td>0</td>\n",
       "      <td>0</td>\n",
       "      <td>0</td>\n",
       "      <td>0</td>\n",
       "      <td>0</td>\n",
       "      <td>0</td>\n",
       "      <td>0</td>\n",
       "      <td>0</td>\n",
       "      <td>0</td>\n",
       "      <td>0</td>\n",
       "      <td>0</td>\n",
       "      <td>0</td>\n",
       "      <td>0</td>\n",
       "      <td>0</td>\n",
       "      <td>0</td>\n",
       "      <td>0</td>\n",
       "      <td>0</td>\n",
       "      <td>0</td>\n",
       "      <td>0</td>\n",
       "      <td>0</td>\n",
       "      <td>0</td>\n",
       "      <td>0</td>\n",
       "      <td>0</td>\n",
       "      <td>0</td>\n",
       "      <td>0</td>\n",
       "      <td>0</td>\n",
       "      <td>0</td>\n",
       "      <td>0</td>\n",
       "      <td>0</td>\n",
       "      <td>0</td>\n",
       "      <td>0</td>\n",
       "      <td>0</td>\n",
       "      <td>0</td>\n",
       "      <td>0</td>\n",
       "      <td>0</td>\n",
       "      <td>0</td>\n",
       "      <td>0</td>\n",
       "      <td>0</td>\n",
       "      <td>0</td>\n",
       "      <td>0</td>\n",
       "      <td>0</td>\n",
       "      <td>0</td>\n",
       "      <td>0</td>\n",
       "      <td>0</td>\n",
       "      <td>0</td>\n",
       "      <td>0</td>\n",
       "      <td>0</td>\n",
       "      <td>0</td>\n",
       "      <td>0</td>\n",
       "      <td>0</td>\n",
       "      <td>0</td>\n",
       "      <td>0</td>\n",
       "      <td>0</td>\n",
       "      <td>0</td>\n",
       "      <td>0</td>\n",
       "      <td>0</td>\n",
       "      <td>0</td>\n",
       "      <td>0</td>\n",
       "      <td>0</td>\n",
       "      <td>0</td>\n",
       "      <td>0</td>\n",
       "      <td>0</td>\n",
       "      <td>0</td>\n",
       "      <td>0</td>\n",
       "      <td>0</td>\n",
       "      <td>0</td>\n",
       "      <td>0</td>\n",
       "      <td>0</td>\n",
       "      <td>0</td>\n",
       "      <td>0</td>\n",
       "      <td>0</td>\n",
       "      <td>0</td>\n",
       "      <td>0</td>\n",
       "      <td>0</td>\n",
       "      <td>0</td>\n",
       "      <td>0</td>\n",
       "      <td>0</td>\n",
       "      <td>0</td>\n",
       "      <td>0</td>\n",
       "      <td>0</td>\n",
       "      <td>0</td>\n",
       "      <td>0</td>\n",
       "      <td>0</td>\n",
       "      <td>0</td>\n",
       "      <td>0</td>\n",
       "      <td>0</td>\n",
       "      <td>0</td>\n",
       "      <td>0</td>\n",
       "      <td>0</td>\n",
       "      <td>0</td>\n",
       "      <td>0</td>\n",
       "      <td>0</td>\n",
       "      <td>0</td>\n",
       "      <td>0</td>\n",
       "      <td>0</td>\n",
       "      <td>0</td>\n",
       "      <td>0</td>\n",
       "      <td>0</td>\n",
       "      <td>1</td>\n",
       "      <td>1</td>\n",
       "    </tr>\n",
       "    <tr>\n",
       "      <th>2008-06-11</th>\n",
       "      <td>1</td>\n",
       "      <td>0</td>\n",
       "      <td>0</td>\n",
       "      <td>0</td>\n",
       "      <td>0</td>\n",
       "      <td>0</td>\n",
       "      <td>0</td>\n",
       "      <td>0</td>\n",
       "      <td>0</td>\n",
       "      <td>0</td>\n",
       "      <td>0</td>\n",
       "      <td>0</td>\n",
       "      <td>0</td>\n",
       "      <td>0</td>\n",
       "      <td>0</td>\n",
       "      <td>0</td>\n",
       "      <td>0</td>\n",
       "      <td>0</td>\n",
       "      <td>0</td>\n",
       "      <td>0</td>\n",
       "      <td>0</td>\n",
       "      <td>0</td>\n",
       "      <td>0</td>\n",
       "      <td>0</td>\n",
       "      <td>0</td>\n",
       "      <td>0</td>\n",
       "      <td>0</td>\n",
       "      <td>0</td>\n",
       "      <td>0</td>\n",
       "      <td>0</td>\n",
       "      <td>0</td>\n",
       "      <td>0</td>\n",
       "      <td>0</td>\n",
       "      <td>0</td>\n",
       "      <td>0</td>\n",
       "      <td>0</td>\n",
       "      <td>0</td>\n",
       "      <td>0</td>\n",
       "      <td>0</td>\n",
       "      <td>0</td>\n",
       "      <td>0</td>\n",
       "      <td>0</td>\n",
       "      <td>0</td>\n",
       "      <td>0</td>\n",
       "      <td>0</td>\n",
       "      <td>0</td>\n",
       "      <td>0</td>\n",
       "      <td>0</td>\n",
       "      <td>0</td>\n",
       "      <td>0</td>\n",
       "      <td>0</td>\n",
       "      <td>0</td>\n",
       "      <td>0</td>\n",
       "      <td>0</td>\n",
       "      <td>0</td>\n",
       "      <td>0</td>\n",
       "      <td>0</td>\n",
       "      <td>0</td>\n",
       "      <td>0</td>\n",
       "      <td>0</td>\n",
       "      <td>0</td>\n",
       "      <td>0</td>\n",
       "      <td>0</td>\n",
       "      <td>0</td>\n",
       "      <td>0</td>\n",
       "      <td>0</td>\n",
       "      <td>0</td>\n",
       "      <td>0</td>\n",
       "      <td>0</td>\n",
       "      <td>0</td>\n",
       "      <td>0</td>\n",
       "      <td>0</td>\n",
       "      <td>0</td>\n",
       "      <td>0</td>\n",
       "      <td>0</td>\n",
       "      <td>0</td>\n",
       "      <td>0</td>\n",
       "      <td>0</td>\n",
       "      <td>0</td>\n",
       "      <td>0</td>\n",
       "      <td>0</td>\n",
       "      <td>0</td>\n",
       "      <td>0</td>\n",
       "      <td>0</td>\n",
       "      <td>0</td>\n",
       "      <td>0</td>\n",
       "      <td>0</td>\n",
       "      <td>0</td>\n",
       "      <td>0</td>\n",
       "      <td>0</td>\n",
       "      <td>0</td>\n",
       "      <td>0</td>\n",
       "      <td>0</td>\n",
       "      <td>0</td>\n",
       "      <td>0</td>\n",
       "      <td>0</td>\n",
       "      <td>0</td>\n",
       "      <td>0</td>\n",
       "      <td>0</td>\n",
       "      <td>0</td>\n",
       "      <td>0</td>\n",
       "      <td>0</td>\n",
       "      <td>0</td>\n",
       "      <td>0</td>\n",
       "      <td>0</td>\n",
       "      <td>0</td>\n",
       "      <td>0</td>\n",
       "      <td>0</td>\n",
       "      <td>0</td>\n",
       "      <td>0</td>\n",
       "      <td>0</td>\n",
       "      <td>0</td>\n",
       "      <td>0</td>\n",
       "      <td>0</td>\n",
       "      <td>0</td>\n",
       "      <td>0</td>\n",
       "      <td>0</td>\n",
       "      <td>0</td>\n",
       "      <td>0</td>\n",
       "      <td>0</td>\n",
       "      <td>0</td>\n",
       "      <td>0</td>\n",
       "      <td>0</td>\n",
       "      <td>0</td>\n",
       "      <td>0</td>\n",
       "      <td>0</td>\n",
       "      <td>0</td>\n",
       "      <td>0</td>\n",
       "      <td>0</td>\n",
       "      <td>0</td>\n",
       "      <td>0</td>\n",
       "      <td>0</td>\n",
       "      <td>0</td>\n",
       "      <td>0</td>\n",
       "      <td>0</td>\n",
       "      <td>0</td>\n",
       "      <td>0</td>\n",
       "      <td>0</td>\n",
       "      <td>0</td>\n",
       "      <td>0</td>\n",
       "      <td>0</td>\n",
       "      <td>0</td>\n",
       "      <td>0</td>\n",
       "      <td>0</td>\n",
       "      <td>0</td>\n",
       "      <td>0</td>\n",
       "      <td>0</td>\n",
       "      <td>0</td>\n",
       "      <td>0</td>\n",
       "      <td>1</td>\n",
       "      <td>2</td>\n",
       "    </tr>\n",
       "    <tr>\n",
       "      <th>2008-06-11</th>\n",
       "      <td>1</td>\n",
       "      <td>0</td>\n",
       "      <td>0</td>\n",
       "      <td>0</td>\n",
       "      <td>0</td>\n",
       "      <td>0</td>\n",
       "      <td>0</td>\n",
       "      <td>0</td>\n",
       "      <td>0</td>\n",
       "      <td>0</td>\n",
       "      <td>0</td>\n",
       "      <td>0</td>\n",
       "      <td>0</td>\n",
       "      <td>0</td>\n",
       "      <td>0</td>\n",
       "      <td>0</td>\n",
       "      <td>0</td>\n",
       "      <td>0</td>\n",
       "      <td>0</td>\n",
       "      <td>0</td>\n",
       "      <td>0</td>\n",
       "      <td>0</td>\n",
       "      <td>0</td>\n",
       "      <td>0</td>\n",
       "      <td>0</td>\n",
       "      <td>0</td>\n",
       "      <td>0</td>\n",
       "      <td>0</td>\n",
       "      <td>0</td>\n",
       "      <td>0</td>\n",
       "      <td>0</td>\n",
       "      <td>0</td>\n",
       "      <td>0</td>\n",
       "      <td>0</td>\n",
       "      <td>0</td>\n",
       "      <td>0</td>\n",
       "      <td>0</td>\n",
       "      <td>0</td>\n",
       "      <td>0</td>\n",
       "      <td>0</td>\n",
       "      <td>0</td>\n",
       "      <td>0</td>\n",
       "      <td>0</td>\n",
       "      <td>0</td>\n",
       "      <td>0</td>\n",
       "      <td>0</td>\n",
       "      <td>0</td>\n",
       "      <td>0</td>\n",
       "      <td>0</td>\n",
       "      <td>0</td>\n",
       "      <td>0</td>\n",
       "      <td>0</td>\n",
       "      <td>0</td>\n",
       "      <td>0</td>\n",
       "      <td>0</td>\n",
       "      <td>0</td>\n",
       "      <td>0</td>\n",
       "      <td>0</td>\n",
       "      <td>0</td>\n",
       "      <td>0</td>\n",
       "      <td>0</td>\n",
       "      <td>0</td>\n",
       "      <td>0</td>\n",
       "      <td>0</td>\n",
       "      <td>0</td>\n",
       "      <td>0</td>\n",
       "      <td>0</td>\n",
       "      <td>0</td>\n",
       "      <td>0</td>\n",
       "      <td>0</td>\n",
       "      <td>0</td>\n",
       "      <td>0</td>\n",
       "      <td>0</td>\n",
       "      <td>0</td>\n",
       "      <td>0</td>\n",
       "      <td>0</td>\n",
       "      <td>0</td>\n",
       "      <td>0</td>\n",
       "      <td>0</td>\n",
       "      <td>0</td>\n",
       "      <td>0</td>\n",
       "      <td>0</td>\n",
       "      <td>0</td>\n",
       "      <td>0</td>\n",
       "      <td>0</td>\n",
       "      <td>0</td>\n",
       "      <td>0</td>\n",
       "      <td>0</td>\n",
       "      <td>0</td>\n",
       "      <td>0</td>\n",
       "      <td>0</td>\n",
       "      <td>0</td>\n",
       "      <td>0</td>\n",
       "      <td>0</td>\n",
       "      <td>0</td>\n",
       "      <td>0</td>\n",
       "      <td>0</td>\n",
       "      <td>0</td>\n",
       "      <td>0</td>\n",
       "      <td>0</td>\n",
       "      <td>0</td>\n",
       "      <td>0</td>\n",
       "      <td>0</td>\n",
       "      <td>0</td>\n",
       "      <td>0</td>\n",
       "      <td>0</td>\n",
       "      <td>0</td>\n",
       "      <td>0</td>\n",
       "      <td>0</td>\n",
       "      <td>0</td>\n",
       "      <td>0</td>\n",
       "      <td>0</td>\n",
       "      <td>0</td>\n",
       "      <td>0</td>\n",
       "      <td>0</td>\n",
       "      <td>0</td>\n",
       "      <td>0</td>\n",
       "      <td>0</td>\n",
       "      <td>0</td>\n",
       "      <td>0</td>\n",
       "      <td>0</td>\n",
       "      <td>0</td>\n",
       "      <td>0</td>\n",
       "      <td>0</td>\n",
       "      <td>0</td>\n",
       "      <td>0</td>\n",
       "      <td>0</td>\n",
       "      <td>0</td>\n",
       "      <td>0</td>\n",
       "      <td>0</td>\n",
       "      <td>0</td>\n",
       "      <td>0</td>\n",
       "      <td>0</td>\n",
       "      <td>0</td>\n",
       "      <td>0</td>\n",
       "      <td>0</td>\n",
       "      <td>0</td>\n",
       "      <td>0</td>\n",
       "      <td>0</td>\n",
       "      <td>0</td>\n",
       "      <td>0</td>\n",
       "      <td>0</td>\n",
       "      <td>0</td>\n",
       "      <td>0</td>\n",
       "      <td>0</td>\n",
       "      <td>0</td>\n",
       "      <td>0</td>\n",
       "      <td>0</td>\n",
       "      <td>0</td>\n",
       "      <td>1</td>\n",
       "      <td>3</td>\n",
       "    </tr>\n",
       "    <tr>\n",
       "      <th>2008-06-11</th>\n",
       "      <td>0</td>\n",
       "      <td>0</td>\n",
       "      <td>0</td>\n",
       "      <td>0</td>\n",
       "      <td>0</td>\n",
       "      <td>0</td>\n",
       "      <td>0</td>\n",
       "      <td>1</td>\n",
       "      <td>0</td>\n",
       "      <td>0</td>\n",
       "      <td>0</td>\n",
       "      <td>0</td>\n",
       "      <td>0</td>\n",
       "      <td>0</td>\n",
       "      <td>0</td>\n",
       "      <td>0</td>\n",
       "      <td>0</td>\n",
       "      <td>0</td>\n",
       "      <td>0</td>\n",
       "      <td>0</td>\n",
       "      <td>0</td>\n",
       "      <td>0</td>\n",
       "      <td>0</td>\n",
       "      <td>0</td>\n",
       "      <td>0</td>\n",
       "      <td>0</td>\n",
       "      <td>0</td>\n",
       "      <td>0</td>\n",
       "      <td>0</td>\n",
       "      <td>0</td>\n",
       "      <td>0</td>\n",
       "      <td>0</td>\n",
       "      <td>0</td>\n",
       "      <td>0</td>\n",
       "      <td>0</td>\n",
       "      <td>0</td>\n",
       "      <td>0</td>\n",
       "      <td>0</td>\n",
       "      <td>0</td>\n",
       "      <td>0</td>\n",
       "      <td>0</td>\n",
       "      <td>0</td>\n",
       "      <td>0</td>\n",
       "      <td>0</td>\n",
       "      <td>0</td>\n",
       "      <td>0</td>\n",
       "      <td>0</td>\n",
       "      <td>0</td>\n",
       "      <td>0</td>\n",
       "      <td>0</td>\n",
       "      <td>0</td>\n",
       "      <td>0</td>\n",
       "      <td>0</td>\n",
       "      <td>0</td>\n",
       "      <td>0</td>\n",
       "      <td>0</td>\n",
       "      <td>0</td>\n",
       "      <td>0</td>\n",
       "      <td>0</td>\n",
       "      <td>0</td>\n",
       "      <td>0</td>\n",
       "      <td>0</td>\n",
       "      <td>0</td>\n",
       "      <td>0</td>\n",
       "      <td>0</td>\n",
       "      <td>0</td>\n",
       "      <td>0</td>\n",
       "      <td>0</td>\n",
       "      <td>0</td>\n",
       "      <td>0</td>\n",
       "      <td>0</td>\n",
       "      <td>0</td>\n",
       "      <td>0</td>\n",
       "      <td>0</td>\n",
       "      <td>0</td>\n",
       "      <td>0</td>\n",
       "      <td>0</td>\n",
       "      <td>0</td>\n",
       "      <td>0</td>\n",
       "      <td>0</td>\n",
       "      <td>0</td>\n",
       "      <td>0</td>\n",
       "      <td>0</td>\n",
       "      <td>0</td>\n",
       "      <td>0</td>\n",
       "      <td>0</td>\n",
       "      <td>0</td>\n",
       "      <td>0</td>\n",
       "      <td>0</td>\n",
       "      <td>0</td>\n",
       "      <td>0</td>\n",
       "      <td>0</td>\n",
       "      <td>0</td>\n",
       "      <td>0</td>\n",
       "      <td>0</td>\n",
       "      <td>0</td>\n",
       "      <td>0</td>\n",
       "      <td>0</td>\n",
       "      <td>0</td>\n",
       "      <td>0</td>\n",
       "      <td>0</td>\n",
       "      <td>0</td>\n",
       "      <td>0</td>\n",
       "      <td>0</td>\n",
       "      <td>0</td>\n",
       "      <td>0</td>\n",
       "      <td>0</td>\n",
       "      <td>0</td>\n",
       "      <td>0</td>\n",
       "      <td>0</td>\n",
       "      <td>0</td>\n",
       "      <td>0</td>\n",
       "      <td>0</td>\n",
       "      <td>0</td>\n",
       "      <td>0</td>\n",
       "      <td>0</td>\n",
       "      <td>0</td>\n",
       "      <td>0</td>\n",
       "      <td>0</td>\n",
       "      <td>0</td>\n",
       "      <td>0</td>\n",
       "      <td>0</td>\n",
       "      <td>0</td>\n",
       "      <td>0</td>\n",
       "      <td>0</td>\n",
       "      <td>0</td>\n",
       "      <td>0</td>\n",
       "      <td>0</td>\n",
       "      <td>0</td>\n",
       "      <td>0</td>\n",
       "      <td>0</td>\n",
       "      <td>0</td>\n",
       "      <td>0</td>\n",
       "      <td>0</td>\n",
       "      <td>0</td>\n",
       "      <td>0</td>\n",
       "      <td>0</td>\n",
       "      <td>0</td>\n",
       "      <td>0</td>\n",
       "      <td>0</td>\n",
       "      <td>0</td>\n",
       "      <td>0</td>\n",
       "      <td>0</td>\n",
       "      <td>0</td>\n",
       "      <td>0</td>\n",
       "      <td>0</td>\n",
       "      <td>0</td>\n",
       "      <td>0</td>\n",
       "      <td>0</td>\n",
       "      <td>1</td>\n",
       "      <td>9</td>\n",
       "    </tr>\n",
       "    <tr>\n",
       "      <th>2008-06-11</th>\n",
       "      <td>0</td>\n",
       "      <td>0</td>\n",
       "      <td>0</td>\n",
       "      <td>0</td>\n",
       "      <td>0</td>\n",
       "      <td>0</td>\n",
       "      <td>0</td>\n",
       "      <td>1</td>\n",
       "      <td>0</td>\n",
       "      <td>0</td>\n",
       "      <td>0</td>\n",
       "      <td>0</td>\n",
       "      <td>0</td>\n",
       "      <td>0</td>\n",
       "      <td>0</td>\n",
       "      <td>0</td>\n",
       "      <td>0</td>\n",
       "      <td>0</td>\n",
       "      <td>0</td>\n",
       "      <td>0</td>\n",
       "      <td>0</td>\n",
       "      <td>0</td>\n",
       "      <td>0</td>\n",
       "      <td>0</td>\n",
       "      <td>0</td>\n",
       "      <td>0</td>\n",
       "      <td>0</td>\n",
       "      <td>0</td>\n",
       "      <td>0</td>\n",
       "      <td>0</td>\n",
       "      <td>0</td>\n",
       "      <td>0</td>\n",
       "      <td>0</td>\n",
       "      <td>0</td>\n",
       "      <td>0</td>\n",
       "      <td>0</td>\n",
       "      <td>0</td>\n",
       "      <td>0</td>\n",
       "      <td>0</td>\n",
       "      <td>0</td>\n",
       "      <td>0</td>\n",
       "      <td>0</td>\n",
       "      <td>0</td>\n",
       "      <td>0</td>\n",
       "      <td>0</td>\n",
       "      <td>0</td>\n",
       "      <td>0</td>\n",
       "      <td>0</td>\n",
       "      <td>0</td>\n",
       "      <td>0</td>\n",
       "      <td>0</td>\n",
       "      <td>0</td>\n",
       "      <td>0</td>\n",
       "      <td>0</td>\n",
       "      <td>0</td>\n",
       "      <td>0</td>\n",
       "      <td>0</td>\n",
       "      <td>0</td>\n",
       "      <td>0</td>\n",
       "      <td>0</td>\n",
       "      <td>0</td>\n",
       "      <td>0</td>\n",
       "      <td>0</td>\n",
       "      <td>0</td>\n",
       "      <td>0</td>\n",
       "      <td>0</td>\n",
       "      <td>0</td>\n",
       "      <td>0</td>\n",
       "      <td>0</td>\n",
       "      <td>0</td>\n",
       "      <td>0</td>\n",
       "      <td>0</td>\n",
       "      <td>0</td>\n",
       "      <td>0</td>\n",
       "      <td>0</td>\n",
       "      <td>0</td>\n",
       "      <td>0</td>\n",
       "      <td>0</td>\n",
       "      <td>0</td>\n",
       "      <td>0</td>\n",
       "      <td>0</td>\n",
       "      <td>0</td>\n",
       "      <td>0</td>\n",
       "      <td>0</td>\n",
       "      <td>0</td>\n",
       "      <td>0</td>\n",
       "      <td>0</td>\n",
       "      <td>0</td>\n",
       "      <td>0</td>\n",
       "      <td>0</td>\n",
       "      <td>0</td>\n",
       "      <td>0</td>\n",
       "      <td>0</td>\n",
       "      <td>0</td>\n",
       "      <td>0</td>\n",
       "      <td>0</td>\n",
       "      <td>0</td>\n",
       "      <td>0</td>\n",
       "      <td>0</td>\n",
       "      <td>0</td>\n",
       "      <td>0</td>\n",
       "      <td>0</td>\n",
       "      <td>0</td>\n",
       "      <td>0</td>\n",
       "      <td>0</td>\n",
       "      <td>0</td>\n",
       "      <td>0</td>\n",
       "      <td>0</td>\n",
       "      <td>0</td>\n",
       "      <td>0</td>\n",
       "      <td>0</td>\n",
       "      <td>0</td>\n",
       "      <td>0</td>\n",
       "      <td>0</td>\n",
       "      <td>0</td>\n",
       "      <td>0</td>\n",
       "      <td>0</td>\n",
       "      <td>0</td>\n",
       "      <td>0</td>\n",
       "      <td>0</td>\n",
       "      <td>0</td>\n",
       "      <td>0</td>\n",
       "      <td>0</td>\n",
       "      <td>0</td>\n",
       "      <td>0</td>\n",
       "      <td>0</td>\n",
       "      <td>0</td>\n",
       "      <td>0</td>\n",
       "      <td>0</td>\n",
       "      <td>0</td>\n",
       "      <td>0</td>\n",
       "      <td>0</td>\n",
       "      <td>0</td>\n",
       "      <td>0</td>\n",
       "      <td>0</td>\n",
       "      <td>0</td>\n",
       "      <td>0</td>\n",
       "      <td>0</td>\n",
       "      <td>0</td>\n",
       "      <td>0</td>\n",
       "      <td>0</td>\n",
       "      <td>0</td>\n",
       "      <td>0</td>\n",
       "      <td>0</td>\n",
       "      <td>0</td>\n",
       "      <td>0</td>\n",
       "      <td>0</td>\n",
       "      <td>0</td>\n",
       "      <td>0</td>\n",
       "      <td>1</td>\n",
       "      <td>10</td>\n",
       "    </tr>\n",
       "  </tbody>\n",
       "</table>\n",
       "</div>"
      ],
      "text/plain": [
       "            Trap_T002  Trap_T002A  Trap_T002B  Trap_T003  Trap_T004  \\\n",
       "Date                                                                  \n",
       "2008-06-11          1           0           0          0          0   \n",
       "2008-06-11          1           0           0          0          0   \n",
       "2008-06-11          1           0           0          0          0   \n",
       "2008-06-11          0           0           0          0          0   \n",
       "2008-06-11          0           0           0          0          0   \n",
       "\n",
       "            Trap_T005  Trap_T006  Trap_T007  Trap_T008  Trap_T009  Trap_T011  \\\n",
       "Date                                                                           \n",
       "2008-06-11          0          0          0          0          0          0   \n",
       "2008-06-11          0          0          0          0          0          0   \n",
       "2008-06-11          0          0          0          0          0          0   \n",
       "2008-06-11          0          0          1          0          0          0   \n",
       "2008-06-11          0          0          1          0          0          0   \n",
       "\n",
       "            Trap_T012  Trap_T013  Trap_T014  Trap_T015  Trap_T016  Trap_T017  \\\n",
       "Date                                                                           \n",
       "2008-06-11          0          0          0          0          0          0   \n",
       "2008-06-11          0          0          0          0          0          0   \n",
       "2008-06-11          0          0          0          0          0          0   \n",
       "2008-06-11          0          0          0          0          0          0   \n",
       "2008-06-11          0          0          0          0          0          0   \n",
       "\n",
       "            Trap_T018  Trap_T019  Trap_T025  Trap_T027  Trap_T028  Trap_T030  \\\n",
       "Date                                                                           \n",
       "2008-06-11          0          0          0          0          0          0   \n",
       "2008-06-11          0          0          0          0          0          0   \n",
       "2008-06-11          0          0          0          0          0          0   \n",
       "2008-06-11          0          0          0          0          0          0   \n",
       "2008-06-11          0          0          0          0          0          0   \n",
       "\n",
       "            Trap_T031  Trap_T033  Trap_T034  Trap_T035  Trap_T036  Trap_T037  \\\n",
       "Date                                                                           \n",
       "2008-06-11          0          0          0          0          0          0   \n",
       "2008-06-11          0          0          0          0          0          0   \n",
       "2008-06-11          0          0          0          0          0          0   \n",
       "2008-06-11          0          0          0          0          0          0   \n",
       "2008-06-11          0          0          0          0          0          0   \n",
       "\n",
       "            Trap_T039  Trap_T040  Trap_T043  Trap_T044  Trap_T045  Trap_T046  \\\n",
       "Date                                                                           \n",
       "2008-06-11          0          0          0          0          0          0   \n",
       "2008-06-11          0          0          0          0          0          0   \n",
       "2008-06-11          0          0          0          0          0          0   \n",
       "2008-06-11          0          0          0          0          0          0   \n",
       "2008-06-11          0          0          0          0          0          0   \n",
       "\n",
       "            Trap_T047  Trap_T048  Trap_T049  Trap_T050  Trap_T051  Trap_T054  \\\n",
       "Date                                                                           \n",
       "2008-06-11          0          0          0          0          0          0   \n",
       "2008-06-11          0          0          0          0          0          0   \n",
       "2008-06-11          0          0          0          0          0          0   \n",
       "2008-06-11          0          0          0          0          0          0   \n",
       "2008-06-11          0          0          0          0          0          0   \n",
       "\n",
       "            Trap_T054C  Trap_T060  Trap_T061  Trap_T062  Trap_T063  Trap_T065  \\\n",
       "Date                                                                            \n",
       "2008-06-11           0          0          0          0          0          0   \n",
       "2008-06-11           0          0          0          0          0          0   \n",
       "2008-06-11           0          0          0          0          0          0   \n",
       "2008-06-11           0          0          0          0          0          0   \n",
       "2008-06-11           0          0          0          0          0          0   \n",
       "\n",
       "            Trap_T065A  Trap_T066  Trap_T067  Trap_T069  Trap_T070  Trap_T071  \\\n",
       "Date                                                                            \n",
       "2008-06-11           0          0          0          0          0          0   \n",
       "2008-06-11           0          0          0          0          0          0   \n",
       "2008-06-11           0          0          0          0          0          0   \n",
       "2008-06-11           0          0          0          0          0          0   \n",
       "2008-06-11           0          0          0          0          0          0   \n",
       "\n",
       "            Trap_T072  Trap_T073  Trap_T074  Trap_T075  Trap_T076  Trap_T077  \\\n",
       "Date                                                                           \n",
       "2008-06-11          0          0          0          0          0          0   \n",
       "2008-06-11          0          0          0          0          0          0   \n",
       "2008-06-11          0          0          0          0          0          0   \n",
       "2008-06-11          0          0          0          0          0          0   \n",
       "2008-06-11          0          0          0          0          0          0   \n",
       "\n",
       "            Trap_T078  Trap_T079  Trap_T080  Trap_T081  Trap_T082  Trap_T083  \\\n",
       "Date                                                                           \n",
       "2008-06-11          0          0          0          0          0          0   \n",
       "2008-06-11          0          0          0          0          0          0   \n",
       "2008-06-11          0          0          0          0          0          0   \n",
       "2008-06-11          0          0          0          0          0          0   \n",
       "2008-06-11          0          0          0          0          0          0   \n",
       "\n",
       "            Trap_T084  Trap_T085  Trap_T086  Trap_T088  Trap_T089  Trap_T090  \\\n",
       "Date                                                                           \n",
       "2008-06-11          0          0          0          0          0          0   \n",
       "2008-06-11          0          0          0          0          0          0   \n",
       "2008-06-11          0          0          0          0          0          0   \n",
       "2008-06-11          0          0          0          0          0          0   \n",
       "2008-06-11          0          0          0          0          0          0   \n",
       "\n",
       "            Trap_T090A  Trap_T090B  Trap_T090C  Trap_T091  Trap_T092  \\\n",
       "Date                                                                   \n",
       "2008-06-11           0           0           0          0          0   \n",
       "2008-06-11           0           0           0          0          0   \n",
       "2008-06-11           0           0           0          0          0   \n",
       "2008-06-11           0           0           0          0          0   \n",
       "2008-06-11           0           0           0          0          0   \n",
       "\n",
       "            Trap_T094  Trap_T094B  Trap_T095  Trap_T096  Trap_T097  Trap_T099  \\\n",
       "Date                                                                            \n",
       "2008-06-11          0           0          0          0          0          0   \n",
       "2008-06-11          0           0          0          0          0          0   \n",
       "2008-06-11          0           0          0          0          0          0   \n",
       "2008-06-11          0           0          0          0          0          0   \n",
       "2008-06-11          0           0          0          0          0          0   \n",
       "\n",
       "            Trap_T100  Trap_T102  Trap_T103  Trap_T107  Trap_T114  Trap_T115  \\\n",
       "Date                                                                           \n",
       "2008-06-11          0          0          0          0          0          0   \n",
       "2008-06-11          0          0          0          0          0          0   \n",
       "2008-06-11          0          0          0          0          0          0   \n",
       "2008-06-11          0          0          0          0          0          0   \n",
       "2008-06-11          0          0          0          0          0          0   \n",
       "\n",
       "            Trap_T128  Trap_T128A  Trap_T129  Trap_T135  Trap_T138  Trap_T141  \\\n",
       "Date                                                                            \n",
       "2008-06-11          0           0          0          0          0          0   \n",
       "2008-06-11          0           0          0          0          0          0   \n",
       "2008-06-11          0           0          0          0          0          0   \n",
       "2008-06-11          0           0          0          0          0          0   \n",
       "2008-06-11          0           0          0          0          0          0   \n",
       "\n",
       "            Trap_T142  Trap_T143  Trap_T144  Trap_T145  Trap_T146  Trap_T147  \\\n",
       "Date                                                                           \n",
       "2008-06-11          0          0          0          0          0          0   \n",
       "2008-06-11          0          0          0          0          0          0   \n",
       "2008-06-11          0          0          0          0          0          0   \n",
       "2008-06-11          0          0          0          0          0          0   \n",
       "2008-06-11          0          0          0          0          0          0   \n",
       "\n",
       "            Trap_T148  Trap_T149  Trap_T150  Trap_T151  Trap_T152  Trap_T153  \\\n",
       "Date                                                                           \n",
       "2008-06-11          0          0          0          0          0          0   \n",
       "2008-06-11          0          0          0          0          0          0   \n",
       "2008-06-11          0          0          0          0          0          0   \n",
       "2008-06-11          0          0          0          0          0          0   \n",
       "2008-06-11          0          0          0          0          0          0   \n",
       "\n",
       "            Trap_T154  Trap_T155  Trap_T156  Trap_T157  Trap_T158  Trap_T159  \\\n",
       "Date                                                                           \n",
       "2008-06-11          0          0          0          0          0          0   \n",
       "2008-06-11          0          0          0          0          0          0   \n",
       "2008-06-11          0          0          0          0          0          0   \n",
       "2008-06-11          0          0          0          0          0          0   \n",
       "2008-06-11          0          0          0          0          0          0   \n",
       "\n",
       "            Trap_T160  Trap_T161  Trap_T162  Trap_T200  Trap_T200A  \\\n",
       "Date                                                                 \n",
       "2008-06-11          0          0          0          0           0   \n",
       "2008-06-11          0          0          0          0           0   \n",
       "2008-06-11          0          0          0          0           0   \n",
       "2008-06-11          0          0          0          0           0   \n",
       "2008-06-11          0          0          0          0           0   \n",
       "\n",
       "            Trap_T200B  Trap_T206  Trap_T209  Trap_T212  Trap_T215  Trap_T218  \\\n",
       "Date                                                                            \n",
       "2008-06-11           0          0          0          0          0          0   \n",
       "2008-06-11           0          0          0          0          0          0   \n",
       "2008-06-11           0          0          0          0          0          0   \n",
       "2008-06-11           0          0          0          0          0          0   \n",
       "2008-06-11           0          0          0          0          0          0   \n",
       "\n",
       "            Trap_T218A  Trap_T218B  Trap_T218C  Trap_T219  Trap_T220  \\\n",
       "Date                                                                   \n",
       "2008-06-11           0           0           0          0          0   \n",
       "2008-06-11           0           0           0          0          0   \n",
       "2008-06-11           0           0           0          0          0   \n",
       "2008-06-11           0           0           0          0          0   \n",
       "2008-06-11           0           0           0          0          0   \n",
       "\n",
       "            Trap_T221  Trap_T222  Trap_T223  Trap_T224  Trap_T225  Trap_T226  \\\n",
       "Date                                                                           \n",
       "2008-06-11          0          0          0          0          0          0   \n",
       "2008-06-11          0          0          0          0          0          0   \n",
       "2008-06-11          0          0          0          0          0          0   \n",
       "2008-06-11          0          0          0          0          0          0   \n",
       "2008-06-11          0          0          0          0          0          0   \n",
       "\n",
       "            Trap_T227  Trap_T228  Trap_T229  Trap_T230  Trap_T231  Trap_T232  \\\n",
       "Date                                                                           \n",
       "2008-06-11          0          0          0          0          0          0   \n",
       "2008-06-11          0          0          0          0          0          0   \n",
       "2008-06-11          0          0          0          0          0          0   \n",
       "2008-06-11          0          0          0          0          0          0   \n",
       "2008-06-11          0          0          0          0          0          0   \n",
       "\n",
       "            Trap_T233  Trap_T234  Trap_T235  Trap_T236  Trap_T237  Trap_T238  \\\n",
       "Date                                                                           \n",
       "2008-06-11          0          0          0          0          0          0   \n",
       "2008-06-11          0          0          0          0          0          0   \n",
       "2008-06-11          0          0          0          0          0          0   \n",
       "2008-06-11          0          0          0          0          0          0   \n",
       "2008-06-11          0          0          0          0          0          0   \n",
       "\n",
       "            Trap_T900  Trap_T903  BreedCond  WnvPresent  Id  \n",
       "Date                                                         \n",
       "2008-06-11          0          0          0           1   1  \n",
       "2008-06-11          0          0          0           1   2  \n",
       "2008-06-11          0          0          0           1   3  \n",
       "2008-06-11          0          0          0           1   9  \n",
       "2008-06-11          0          0          0           1  10  "
      ]
     },
     "execution_count": 198,
     "metadata": {},
     "output_type": "execute_result"
    }
   ],
   "source": [
    "test_m2.head()"
   ]
  },
  {
   "cell_type": "markdown",
   "id": "a2ee9e89-0bbd-49fd-b63d-ee8912d2fa40",
   "metadata": {},
   "source": [
    "# Feature Importance"
   ]
  },
  {
   "cell_type": "markdown",
   "id": "7a2bc3c5-6a60-4ec8-8c9d-ffa41ba0587d",
   "metadata": {},
   "source": [
    "## Model 1 - Prediction of Breeding Condition for Mosquito"
   ]
  },
  {
   "cell_type": "code",
   "execution_count": 199,
   "id": "be945645-cca2-4178-af1e-bec053cc0874",
   "metadata": {},
   "outputs": [],
   "source": [
    "m1_feature = bagc_cv_s.best_estimator_"
   ]
  },
  {
   "cell_type": "code",
   "execution_count": 200,
   "id": "d2bd3ac7-d57e-4cec-94ae-8452f30db3dd",
   "metadata": {},
   "outputs": [],
   "source": [
    "feature_importances_m1 = np.mean([\n",
    "    tree.feature_importances_ for tree in m1_feature.estimators_\n",
    "], axis=0)"
   ]
  },
  {
   "cell_type": "code",
   "execution_count": 201,
   "id": "d60d8ba7-53af-4b19-9ef8-7a45839d643b",
   "metadata": {},
   "outputs": [],
   "source": [
    "feature_names = m1_X.columns\n",
    "features_1 = pd.DataFrame(np.squeeze(feature_names), columns=['Features']) "
   ]
  },
  {
   "cell_type": "code",
   "execution_count": 202,
   "id": "98f6244c-f972-4587-8c3f-dfddf61e07d9",
   "metadata": {},
   "outputs": [],
   "source": [
    "features_1['Coeff'] = feature_importances_m1"
   ]
  },
  {
   "cell_type": "code",
   "execution_count": 203,
   "id": "357db3cc-3880-4051-b23e-5a5319f5f234",
   "metadata": {},
   "outputs": [],
   "source": [
    "feature_m1_t10 = features_1.sort_values(by ='Coeff', ascending = False).head(10)"
   ]
  },
  {
   "cell_type": "markdown",
   "id": "f8997b29-5898-4a84-b521-580f1d84bd08",
   "metadata": {},
   "source": [
    "## Model 2 - Prediction of WNV Present"
   ]
  },
  {
   "cell_type": "code",
   "execution_count": 204,
   "id": "d4a091c9-d7d1-484b-ae0c-93e4632c5181",
   "metadata": {},
   "outputs": [],
   "source": [
    "m2_feature = bagc_2_cv_s.best_estimator_"
   ]
  },
  {
   "cell_type": "code",
   "execution_count": 205,
   "id": "deaa41a5-5026-436d-80c6-00cf323c1c45",
   "metadata": {},
   "outputs": [],
   "source": [
    "feature_importances_m2 = np.mean([\n",
    "    tree.feature_importances_ for tree in m2_feature.estimators_\n",
    "], axis=0)"
   ]
  },
  {
   "cell_type": "code",
   "execution_count": 206,
   "id": "128e38d9-e0a6-4631-b839-c51ac97e292f",
   "metadata": {},
   "outputs": [],
   "source": [
    "feature_names = m2_X.columns\n",
    "features_2 = pd.DataFrame(np.squeeze(feature_names), columns=['Features']) "
   ]
  },
  {
   "cell_type": "code",
   "execution_count": 207,
   "id": "6e8d8b05-5d42-47c4-8625-9762aa285448",
   "metadata": {},
   "outputs": [],
   "source": [
    "features_2['Coeff'] = feature_importances_m2"
   ]
  },
  {
   "cell_type": "code",
   "execution_count": 208,
   "id": "22fce24a-3653-4c4a-b9fb-1ec2515f5b9f",
   "metadata": {},
   "outputs": [],
   "source": [
    "feature_m2_t10 = features_2.sort_values(by ='Coeff', ascending = False).head(10)"
   ]
  },
  {
   "cell_type": "code",
   "execution_count": 224,
   "id": "bf148118-1ea1-433e-946f-854ec310fc68",
   "metadata": {},
   "outputs": [
    {
     "data": {
      "image/png": "[encoded data removed]",
      "text/plain": [
       "<Figure size 1008x432 with 2 Axes>"
      ]
     },
     "metadata": {
      "needs_background": "light"
     },
     "output_type": "display_data"
    }
   ],
   "source": [
    "# setting up a subplot to display the top 10 words in each subreddit\n",
    "fig, ax = plt.subplots(nrows=1,ncols=2,\n",
    "                       figsize=(14,6),\n",
    "                       sharex=False,sharey=False\n",
    "                      )\n",
    "\n",
    "fig.suptitle('Feature Importance')\n",
    "\n",
    "# plotting the r/wallstreetbets bar-plot\n",
    "ax[0].set_title('Model 1')\n",
    "sns.barplot(ax=ax[0],\n",
    "            data=feature_m1_t10,\n",
    "            x='Coeff',\n",
    "            y='Features',\n",
    "            color = 'red',\n",
    "            linewidth=0\n",
    "           )\n",
    "\n",
    "\n",
    "# plotting the right (stocks) bar-plot\n",
    "ax[1].set_title('Model 2')\n",
    "sns.barplot(ax=ax[1],\n",
    "            data=feature_m2_t10,\n",
    "            x='Coeff',\n",
    "            y='Features',\n",
    "            color = 'blue'\n",
    "            ,linewidth=0\n",
    "           )\n",
    "\n",
    "# setting the x-label\n",
    "ax[0].set(xlabel='Importances', ylabel='Feature')\n",
    "ax[1].set(xlabel='Importances', ylabel='')\n",
    "\n",
    "\n",
    "plt.savefig('./image/feature_importance.jpg')\n",
    "plt.tight_layout()"
   ]
  },
  {
   "cell_type": "markdown",
   "id": "d4e11e17-7fab-4512-9aba-3d75bf0ea820",
   "metadata": {},
   "source": [
    "Inference:\n",
    "\n",
    "In model 1 where prediciton of Breeding Condition of Mosquito, we could see `DewPoint`, `Tmin`, `Tmax`, `PrecipTotal`, `Cool`, `Tavg` & `WetBulb` are the importance features we see in Model 1. We could imply that these weather parameters are highly related in contributing for breeding mosquitos.\n",
    "\n",
    "As for Model 2, seems like Breeding Condition is the main reason why WNV present. Traps are also shown in the Top 10 features but the scores are relatively lower compared with Breeding Condition. We could see top 9 traps that have higher importance in having WNV. These could be the target for spray.\n",
    "\n",
    "From these 2 models, we could conclude that weather is an importance factors in contributing WNV. We are see some 9 traps stated here and these could be the locations with higher WNV. "
   ]
  },
  {
   "cell_type": "markdown",
   "id": "959e0457-b35c-4f3f-a139-da4dc77a8404",
   "metadata": {},
   "source": [
    "# Test Datasets Adjustment"
   ]
  },
  {
   "cell_type": "code",
   "execution_count": 210,
   "id": "a61d3e1f-b554-443c-a19a-0d6719fbd06c",
   "metadata": {},
   "outputs": [
    {
     "name": "stdout",
     "output_type": "stream",
     "text": [
      "(116293, 27)\n",
      "(38869, 151)\n"
     ]
    }
   ],
   "source": [
    "# Cross check on the rows for both original test and predicted test set\n",
    "print(df_test.shape)\n",
    "print(test_m2.shape)"
   ]
  },
  {
   "cell_type": "code",
   "execution_count": 211,
   "id": "402dcaac-c821-4671-bc50-1acd5a9334b1",
   "metadata": {},
   "outputs": [
    {
     "data": {
      "text/plain": [
       "1    24158\n",
       "0    14711\n",
       "Name: WnvPresent, dtype: int64"
      ]
     },
     "execution_count": 211,
     "metadata": {},
     "output_type": "execute_result"
    }
   ],
   "source": [
    "test_m2['WnvPresent'].value_counts()"
   ]
  },
  {
   "cell_type": "code",
   "execution_count": 212,
   "id": "ff4f7bd6-9bbe-4efa-a321-a79a3627f090",
   "metadata": {},
   "outputs": [
    {
     "data": {
      "text/plain": [
       "77424"
      ]
     },
     "execution_count": 212,
     "metadata": {},
     "output_type": "execute_result"
    }
   ],
   "source": [
    "# Identify the ID that are not present in the predicted set\n",
    "ori_test_diff = list(set(df_test['Id']).difference(set(test_m2['Id'])))\n",
    "len(ori_test_diff)"
   ]
  },
  {
   "cell_type": "code",
   "execution_count": 213,
   "id": "4f1ec9d9-1822-43ca-833a-d992a6a7cc31",
   "metadata": {},
   "outputs": [
    {
     "name": "stdout",
     "output_type": "stream",
     "text": [
      "(116293, 29)\n"
     ]
    }
   ],
   "source": [
    "# merging the datasets from the original test set to the prediction\n",
    "final_test = pd.merge(df_test, test_m2[['Id', 'WnvPresent', 'BreedCond']], on = 'Id', how = 'left').set_axis(df_test.index)\n",
    "\n",
    "print(final_test.shape)"
   ]
  },
  {
   "cell_type": "code",
   "execution_count": 214,
   "id": "35d653c4-2664-4a91-86d7-b01e9c3a23f2",
   "metadata": {},
   "outputs": [
    {
     "data": {
      "text/plain": [
       "77424"
      ]
     },
     "execution_count": 214,
     "metadata": {},
     "output_type": "execute_result"
    }
   ],
   "source": [
    "# Identify if there is any null values\n",
    "final_test['WnvPresent'].isnull().sum()"
   ]
  },
  {
   "cell_type": "code",
   "execution_count": 215,
   "id": "e7eda0f0-55ea-4e07-870b-72e1f9940e07",
   "metadata": {},
   "outputs": [],
   "source": [
    "# to replace the null values with 0 as these are the rows that are deemend to be not carrying WNV\n",
    "final_test['WnvPresent'].replace(np.nan, '0', inplace = True)\n",
    "\n",
    "# To convert the feature to integer\n",
    "final_test['WnvPresent'] = final_test['WnvPresent'].astype(int)"
   ]
  },
  {
   "cell_type": "code",
   "execution_count": 216,
   "id": "229e38fa-23a2-4c86-97a1-41ce3fc64dfa",
   "metadata": {},
   "outputs": [],
   "source": [
    "submission = final_test[['Id','WnvPresent']]"
   ]
  },
  {
   "cell_type": "code",
   "execution_count": 217,
   "id": "959f4543-cae5-473a-bca5-b76118860e18",
   "metadata": {},
   "outputs": [],
   "source": [
    "submission.to_csv('./assets/submission_221027.csv', index=False)"
   ]
  },
  {
   "cell_type": "code",
   "execution_count": 218,
   "id": "7e8890aa-ac62-4d0d-aaac-de21e956ab60",
   "metadata": {},
   "outputs": [
    {
     "data": {
      "text/plain": [
       "0    92135\n",
       "1    24158\n",
       "Name: WnvPresent, dtype: int64"
      ]
     },
     "execution_count": 218,
     "metadata": {},
     "output_type": "execute_result"
    }
   ],
   "source": [
    "submission['WnvPresent'].value_counts()"
   ]
  },
  {
   "cell_type": "markdown",
   "id": "bfed3030-a8df-41f1-a5c4-a348d76d6def",
   "metadata": {},
   "source": [
    "# Exporting Combined Datasets"
   ]
  },
  {
   "cell_type": "code",
   "execution_count": 219,
   "id": "10be1e66-0bac-4a10-bcfd-a668f1303775",
   "metadata": {},
   "outputs": [],
   "source": [
    "# To set date as index for train datset\n",
    "train['Date'] = pd.to_datetime(train['Date'])\n",
    "train = train.set_index('Date')"
   ]
  },
  {
   "cell_type": "code",
   "execution_count": 220,
   "id": "b403a616-dca3-408c-a377-848f82844867",
   "metadata": {},
   "outputs": [],
   "source": [
    "# to set the BreedCondition threshold\n",
    "train['BreedCond'] = train['NumMosquitos'].apply(lambda x: 1 if x >= 13 else 0)"
   ]
  },
  {
   "cell_type": "code",
   "execution_count": 221,
   "id": "76c3f5b0-9993-430e-86cc-52b81e70f420",
   "metadata": {},
   "outputs": [],
   "source": [
    "# To extract the rows of data from both original train and test with prediction\n",
    "train_for_merge = train[['Species', 'Trap', 'Latitude', 'Longitude','WnvPresent','BreedCond']]\n",
    "test_for_merge = final_test[['Species', 'Trap', 'Latitude', 'Longitude','WnvPresent','BreedCond']]"
   ]
  },
  {
   "cell_type": "code",
   "execution_count": 222,
   "id": "dc97796a-838f-455e-b4a2-aa9dfd0a86ec",
   "metadata": {},
   "outputs": [],
   "source": [
    "# To Merge both train and test datasets\n",
    "df_merged = pd.concat([train_for_merge, test_for_merge])"
   ]
  },
  {
   "cell_type": "code",
   "execution_count": 223,
   "id": "3b167a2b-0f9a-41a9-8874-95c82f3d5601",
   "metadata": {},
   "outputs": [],
   "source": [
    "df_merged.to_csv('./assets/df_merged.csv', index=False)"
   ]
  }
 ],
 "metadata": {
  "kernelspec": {
   "display_name": "Python 3 (ipykernel)",
   "language": "python",
   "name": "python3"
  },
  "language_info": {
   "codemirror_mode": {
    "name": "ipython",
    "version": 3
   },
   "file_extension": ".py",
   "mimetype": "text/x-python",
   "name": "python",
   "nbconvert_exporter": "python",
   "pygments_lexer": "ipython3",
   "version": "3.8.13"
  }
 },
 "nbformat": 4,
 "nbformat_minor": 5
}
