{
 "cells": [
  {
   "cell_type": "markdown",
   "id": "4ecd3610-c4c5-46ea-bc0a-1c3cb0823918",
   "metadata": {},
   "source": [
    "# Problem statement\n",
    "\n",
    "The goal of the project to help car enthusiast correctly identify which of the two car brands, Toyota and Honda, does his post belong to. In addition to that, it also helps beginnner car ethusiast identify the brand of the car that the subreddit post is writing about, since both cars are Japanese brand, it can be quite confusing for such beginners. \n",
    "\n",
    "The type of model that will be developed is a classification model. The model will classify the post into the two different categories, which are Toyota and Honda. The success of the models will be evaluated with two metrics, the accuracy and the f1 score of the model. Accuracy is considered here because we will be using a balanced number of classes in the training and test dateset. F1 score takes into account precision and recall which are vital in identify the true positive in different scenarios which will be further explained in the modelling notebook. \n",
    "\n",
    "The audience of this investigation will be the people that are viewing the two subreddits. The primary stakeholders are the car enthusiast and the subreddit moderators who might want to rightly separate the two subreddits since they have many similarities in terms of where the car comes from and the pricing of the cars. The secondary stakeholders would be the moderators running the reddit website that might want a model to automatically sort the post according to the rightful subreddits without having the user to manually input one."
   ]
  },
  {
   "cell_type": "code",
   "execution_count": 2,
   "id": "d207da96-57ca-4a2e-b1df-ce2969e1b4ec",
   "metadata": {},
   "outputs": [],
   "source": [
    "import requests\n",
    "import pandas as pd\n",
    "from sklearn.feature_extraction.text import CountVectorizer\n",
    "from sklearn.feature_extraction import text \n",
    "import re\n",
    "import warnings\n",
    "warnings.filterwarnings('ignore')"
   ]
  },
  {
   "cell_type": "code",
   "execution_count": 1,
   "id": "5ff9d2c5-5a1c-4af7-af37-55d674530031",
   "metadata": {},
   "outputs": [],
   "source": [
    "def dataretrive(subreddit,length):\n",
    "    url = \"https://api.pushshift.io/reddit/search/submission\"\n",
    "    params = {\n",
    "    \"subreddit\" : subreddit,\n",
    "    \"size\": 100}\n",
    "    res = requests.get(url,params)\n",
    "    data = res.json()\n",
    "    datadf = pd.DataFrame(data[\"data\"])\n",
    "    #Check if requests is successful\n",
    "    if res.status_code != 200:\n",
    "        return \"Try again with another subreddit\"\n",
    "        \n",
    "    \n",
    "    #Getting batches of the last retrieved date\n",
    "    while len(datadf)<length:\n",
    "        lastdate = datadf.iloc[-1][\"created_utc\"]\n",
    "        updateparams = {\"subreddit\" : subreddit, \n",
    "                  \"size\": 100, #Requesting the size of 100 (Maximum size is 250) \n",
    "                  \"before\": lastdate\n",
    "                 }\n",
    "        tempres = requests.get(url,updateparams)\n",
    "        data = tempres.json()\n",
    "        datadf = pd.concat([datadf,pd.DataFrame(data[\"data\"])])\n",
    "    #Getting the time difference \n",
    "    \n",
    "    return datadf"
   ]
  },
  {
   "cell_type": "code",
   "execution_count": 1,
   "id": "b5b921d8-395c-4b94-bccd-220d1a3b3dfd",
   "metadata": {
    "tags": []
   },
   "outputs": [],
   "source": [
    "def emptytester(df):\n",
    "    selftextseries = df[\"selftext\"].value_counts(normalize = True)\n",
    "\n",
    "    emptycount = 0\n",
    "    removecount = 0\n",
    "    deletedcount = 0\n",
    "    cleandata = df[~df[\"selftext\"].isin([\"\",\"[removed]\",\"[deleted]\"])]\n",
    "    if \"\" in selftextseries.index:\n",
    "        emptycount = round(selftextseries[\"\"]*100,3)\n",
    "    if \"[removed]\" in selftextseries.index:\n",
    "        removecount = round(selftextseries[\"[removed]\"]*100,3)\n",
    "    if \"[deleted]\" in selftextseries.index:\n",
    "        deletedcount = round(selftextseries[\"[deleted]\"]*100,3)\n",
    "    \n",
    "    print(f'The percentage of empty text cell is {emptycount}%.\\nThe percentage of removed text cell is {removecount}%.\\nThe percentage of deleted text cell is {deletedcount}%.\\nThe total number of clean rows is {len(cleandata)}')\n",
    "    #Removing Hyperlinks (Datacleaning)\n",
    "    cleandata.loc[:,\"selftext\"] = cleandata.loc[:,\"selftext\"].apply(lambda x: re.sub(r'http\\S+', '', str(x)))\n",
    "    #Removing any entries with no text\n",
    "    cleandata.dropna(subset=[\"selftext\"],inplace = True)\n",
    "    #Adding both the title and the self text as both provides information\n",
    "    cleandata[\"combined\"] = cleandata[\"selftext\"] + \" \" +cleandata[\"title\"]\n",
    "    #REmoving /n for line breaks\n",
    "    cleandata[\"combined\"] = cleandata[\"combined\"].apply(lambda x: x.replace(\"/n\", \" \"))\n",
    "    return cleandata.reset_index()"
   ]
  },
  {
   "cell_type": "code",
   "execution_count": 4,
   "id": "86b8a9bd-3aa3-4ac9-85a2-0388a07e9d50",
   "metadata": {},
   "outputs": [],
   "source": [
    "def checkwords(df,additionalStopWords = [], maxfeatures = 500):\n",
    "    stop_words = text.ENGLISH_STOP_WORDS.union(additionalStopWords)\n",
    "    tempdf = df[\"selftext\"] + \" \" +df[\"title\"]\n",
    "    cvec = CountVectorizer(max_features = maxfeatures, max_df = 0.98, stop_words = stop_words)\n",
    "    wordvec = cvec.fit_transform(tempdf)\n",
    "    vecdf = pd.DataFrame(wordvec.toarray(), columns=cvec.get_feature_names_out())\n",
    "    vecdf.sum().sort_values(ascending= False).head(10).plot(kind = \"barh\")\n",
    "    print(f'The number of words is {len(cvec.get_feature_names_out())}')\n",
    "    return vecdf"
   ]
  },
  {
   "cell_type": "markdown",
   "id": "2fae7906-f171-4609-bf4a-334c92de4b7e",
   "metadata": {
    "tags": []
   },
   "source": [
    "# Honda"
   ]
  },
  {
   "cell_type": "code",
   "execution_count": 5,
   "id": "46d6b16d-0cac-4e25-91f0-d0af422b8d11",
   "metadata": {},
   "outputs": [],
   "source": [
    "#Scraping 1901 number of clean rows without any [removed], [deleted] or empty entries\n",
    "Honda = dataretrive(\"Honda\",5000)"
   ]
  },
  {
   "cell_type": "code",
   "execution_count": 6,
   "id": "1a6aa200-9b25-4012-a0c6-64172c6799c5",
   "metadata": {},
   "outputs": [
    {
     "name": "stdout",
     "output_type": "stream",
     "text": [
      "The percentage of empty text cell is 61.46%.\n",
      "The percentage of removed text cell is 0.42%.\n",
      "The percentage of deleted text cell is 0.1%.\n",
      "The total number of clean rows is 1901\n"
     ]
    }
   ],
   "source": [
    "cleanHonda = emptytester(Honda)"
   ]
  },
  {
   "cell_type": "markdown",
   "id": "39cf530c-5872-4b6e-b1f8-b1f9824f6971",
   "metadata": {},
   "source": [
    ">The number of clean rows is quite healthy and is above 1000, therefore we will proceed with this amount of data pulled"
   ]
  },
  {
   "cell_type": "code",
   "execution_count": 9,
   "id": "c360a607-d235-491d-8bb7-8908f871c6ad",
   "metadata": {},
   "outputs": [],
   "source": [
    "cleanHonda[\"isHonda\"] = 1"
   ]
  },
  {
   "cell_type": "code",
   "execution_count": 10,
   "id": "eaaabce9-ec6c-4db3-b0a3-ba30e9275b53",
   "metadata": {},
   "outputs": [
    {
     "name": "stdout",
     "output_type": "stream",
     "text": [
      "The number of words is 500\n"
     ]
    },
    {
     "data": {
      "image/png": "[encoded data removed]",
      "text/plain": [
       "<Figure size 432x288 with 1 Axes>"
      ]
     },
     "metadata": {
      "needs_background": "light"
     },
     "output_type": "display_data"
    }
   ],
   "source": [
    "hondaVec = checkwords(cleanHonda)"
   ]
  },
  {
   "cell_type": "code",
   "execution_count": 11,
   "id": "ac95f8f8-8553-49dd-8565-356d71e54f88",
   "metadata": {},
   "outputs": [
    {
     "name": "stdout",
     "output_type": "stream",
     "text": [
      "The number of words is 500\n"
     ]
    },
    {
     "data": {
      "image/png": "[encoded data removed]",
      "text/plain": [
       "<Figure size 432x288 with 1 Axes>"
      ]
     },
     "metadata": {
      "needs_background": "light"
     },
     "output_type": "display_data"
    }
   ],
   "source": [
    "#Adding this stopword that did not get filtered out\n",
    "stopwords = [\"ve\",\"just\",\"new\",\"know\",\"like\"]\n",
    "hondaVec = checkwords(cleanHonda,additionalStopWords = stopwords)"
   ]
  },
  {
   "cell_type": "markdown",
   "id": "69958622-9362-4170-814d-8bc42da5a811",
   "metadata": {},
   "source": [
    "# Toyota"
   ]
  },
  {
   "cell_type": "code",
   "execution_count": null,
   "id": "5354d904-2c98-46d4-ae96-abb45d06adbe",
   "metadata": {},
   "outputs": [],
   "source": [
    "Toyota = dataretrive(\"Toyota\",5000)"
   ]
  },
  {
   "cell_type": "code",
   "execution_count": null,
   "id": "33996cf3-e35b-4a3a-bdcf-acdcf5443a5a",
   "metadata": {},
   "outputs": [],
   "source": [
    "cleanToyota = emptytester(Toyota)"
   ]
  },
  {
   "cell_type": "code",
   "execution_count": null,
   "id": "34c84d65-9ec8-42a7-96ca-57f7e3ea1f3c",
   "metadata": {},
   "outputs": [],
   "source": [
    "cleanToyota[\"isHonda\"] = 0"
   ]
  },
  {
   "cell_type": "code",
   "execution_count": null,
   "id": "0d1ef2d3-d5e0-4b87-a72b-007548ac643b",
   "metadata": {
    "tags": []
   },
   "outputs": [],
   "source": [
    "toyotaVec = checkwords(cleanToyota)"
   ]
  },
  {
   "cell_type": "code",
   "execution_count": null,
   "id": "3c6182f5-b2b1-4503-aa88-5570cfb9cc77",
   "metadata": {
    "tags": []
   },
   "outputs": [],
   "source": [
    "combinedf = pd.concat([cleanHonda,cleanToyota]).reset_index()"
   ]
  },
  {
   "cell_type": "code",
   "execution_count": null,
   "id": "dd07b4de-8eaa-40f8-99fe-6c4ea55c0d89",
   "metadata": {},
   "outputs": [],
   "source": [
    "combinedf.to_csv(\"Dataset/HondaToyotadf.csv\",index = False)"
   ]
  },
  {
   "cell_type": "code",
   "execution_count": null,
   "id": "51a586d9-1214-4cdc-9fbd-c9ea4b6f41f7",
   "metadata": {},
   "outputs": [],
   "source": [
    "X = combinedf.combined\n",
    "y = combinedf.isHonda"
   ]
  },
  {
   "cell_type": "code",
   "execution_count": null,
   "id": "f28069ff-66a1-4d9d-9f73-cb3883ccc70e",
   "metadata": {},
   "outputs": [],
   "source": [
    "y.value_counts()"
   ]
  },
  {
   "cell_type": "code",
   "execution_count": null,
   "id": "675003fc-488a-4134-bf32-cbafc6d9dabe",
   "metadata": {},
   "outputs": [],
   "source": [
    "from sklearn.model_selection import train_test_split, GridSearchCV, cross_val_score \n",
    "from sklearn.pipeline import Pipeline \n",
    "from sklearn.naive_bayes import MultinomialNB \n",
    "\n",
    "from sklearn.feature_extraction.text import TfidfVectorizer\n",
    "from sklearn.metrics import f1_score\n",
    "from sklearn.metrics import confusion_matrix, ConfusionMatrixDisplay"
   ]
  },
  {
   "cell_type": "code",
   "execution_count": null,
   "id": "a53c4292-16fb-4057-9718-27188b511c85",
   "metadata": {},
   "outputs": [],
   "source": [
    "X_train, X_test, y_train, y_test = train_test_split(X,\n",
    "                                                    y,\n",
    "                                                    stratify=y,\n",
    "                                                    random_state=1)"
   ]
  },
  {
   "cell_type": "code",
   "execution_count": null,
   "id": "db269c04-c23a-4304-b6d2-a6be39353059",
   "metadata": {},
   "outputs": [],
   "source": [
    "pipe = Pipeline([\n",
    "    ('cvec', CountVectorizer(stop_words = \"english\")), # tuple for transformer object, class\n",
    "    ('nb', MultinomialNB()) # tuple for estimator object, class\n",
    "])"
   ]
  },
  {
   "cell_type": "code",
   "execution_count": null,
   "id": "25292646-e398-4a1a-93a7-e511a9c5b3d4",
   "metadata": {},
   "outputs": [],
   "source": [
    "cross_val_score(pipe, X_train, y_train, cv=3).mean() "
   ]
  },
  {
   "cell_type": "code",
   "execution_count": null,
   "id": "cb1eca79-b474-4bf3-84c0-a16182fcd57d",
   "metadata": {},
   "outputs": [],
   "source": [
    "stop_words = text.ENGLISH_STOP_WORDS.union(stopwords)"
   ]
  },
  {
   "cell_type": "code",
   "execution_count": null,
   "id": "9bc0f178-3a24-4cf5-8555-f2c58d73ed38",
   "metadata": {},
   "outputs": [],
   "source": [
    "pipe_params = {\n",
    "    'cvec__max_features': [2_000, 3_000, 4_000, 5_000], # start with CountVectorizer() class' object cvec__CountVectorizer()'s hyperparameter\n",
    "    'cvec__min_df': [2, 3],\n",
    "    'cvec__max_df': [.9, .95, None],\n",
    "    'cvec__ngram_range': [(1,1), (1,2)],\n",
    "    'cvec__stop_words': [\"english\",stop_words]}"
   ]
  },
  {
   "cell_type": "code",
   "execution_count": null,
   "id": "905ffa2d-9344-43ff-b253-6250ff8b0220",
   "metadata": {},
   "outputs": [],
   "source": [
    "gs = GridSearchCV(pipe, \n",
    "                  param_grid=pipe_params, \n",
    "                  cv=5,\n",
    "                  verbose = 1)"
   ]
  },
  {
   "cell_type": "code",
   "execution_count": null,
   "id": "1c582df9-221a-45cc-9354-fd59e24e0113",
   "metadata": {},
   "outputs": [],
   "source": [
    "gs.fit(X_train, y_train)"
   ]
  },
  {
   "cell_type": "code",
   "execution_count": null,
   "id": "3b761adb-14d9-4f20-a6d6-5bea34090ed0",
   "metadata": {},
   "outputs": [],
   "source": [
    "print(gs.best_score_)"
   ]
  },
  {
   "cell_type": "code",
   "execution_count": null,
   "id": "189f7e0b-68c5-4a34-b428-d336a63d954d",
   "metadata": {},
   "outputs": [],
   "source": [
    "gs.score(X_train,y_train)"
   ]
  },
  {
   "cell_type": "code",
   "execution_count": null,
   "id": "45e49b77-436a-437b-8049-5981d240d118",
   "metadata": {},
   "outputs": [],
   "source": [
    "gs.score(X_test, y_test)"
   ]
  },
  {
   "cell_type": "code",
   "execution_count": 129,
   "id": "d9672006-698b-430e-9bdd-f62a1041622d",
   "metadata": {},
   "outputs": [
    {
     "data": {
      "text/plain": [
       "0.9282051282051282"
      ]
     },
     "execution_count": 129,
     "metadata": {},
     "output_type": "execute_result"
    }
   ],
   "source": [
    "f1_score(y_test, gs.predict(X_test))"
   ]
  },
  {
   "cell_type": "code",
   "execution_count": 131,
   "id": "6722cabf-2f23-45ba-afe6-54171e69ce7f",
   "metadata": {},
   "outputs": [
    {
     "data": {
      "text/plain": [
       "<sklearn.metrics._plot.confusion_matrix.ConfusionMatrixDisplay at 0x13f38cd6df0>"
      ]
     },
     "execution_count": 131,
     "metadata": {},
     "output_type": "execute_result"
    },
    {
     "data": {
      "image/png": "[encoded data removed]",
      "text/plain": [
       "<Figure size 432x288 with 2 Axes>"
      ]
     },
     "metadata": {
      "needs_background": "light"
     },
     "output_type": "display_data"
    }
   ],
   "source": [
    "cm = confusion_matrix(y_test, gs.predict(X_test))\n",
    "disp = ConfusionMatrixDisplay(confusion_matrix=cm, display_labels=['Honda', 'Toyota'])\n",
    "disp.plot()"
   ]
  },
  {
   "cell_type": "code",
   "execution_count": 173,
   "id": "c53ba6e9-a15a-484e-9a46-cc5c921230ce",
   "metadata": {
    "collapsed": true,
    "jupyter": {
     "outputs_hidden": true
    },
    "tags": []
   },
   "outputs": [
    {
     "data": {
      "text/plain": [
       "469     The same Kia dealership (same owner as Pembrok...\n",
       "684     In good condition but the box is beat up Anybo...\n",
       "1650    I ordered this to replace it. To anyone who ha...\n",
       "2030    The indicator reads half full during my normal...\n",
       "2069    Thoughts on a Daihatsu Cuore turbo avanzanto a...\n",
       "363     Bit of a shameless plug, not selling anything,...\n",
       "612     Reminded how great this car looks inside and o...\n",
       "999     Hi all. I currently have a 2019 Passport which...\n",
       "3150    Also, Would I harm the engine if I ran it a da...\n",
       "1760    I got a Toyota Avensis 1998 (1.6 engine,manual...\n",
       "1001     Does anyone have 1 for sale?? MOATES OSTRICH 2.0\n",
       "766     Hi I gave my car to my dad as he needed it and...\n",
       "2222    doing research online about reliability and su...\n",
       "1609    So I keep smelling my trans fluid when I lift ...\n",
       "2184    The guy says it has 90,000 miles but it has a ...\n",
       "660     I've been using android auto with a Pixel 4a s...\n",
       "2023    I’ve had my car back from Toyota for a couple ...\n",
       "2120    I’m going out of town soon, and I’m in need of...\n",
       "575     I’m looking into getting a new si from my loca...\n",
       "1695    Got the code stated in the title and was wonde...\n",
       "2704    I’ve got an 07 tundra and I’ve had the TPMS se...\n",
       "1575    Son in law has a 2010 Corolla w/ manual trans ...\n",
       "778     slsia Does the remote start on the 2023 HR-V r...\n",
       "1102    Hey all, I'm currently in the market for a new...\n",
       "1062    Has anyone else seen these articles yet? I'm s...\n",
       "2718    I'm going to be getting my first manual car ho...\n",
       "3064    Why is this oil so hard to find at a good pric...\n",
       "1730    I recently took my 2019 gt86 for service to a ...\n",
       "2893    Hello everyone\\n\\nI've consulted in a couple d...\n",
       "2137    Hi, i've got a 1998 Corolla with a rather pecu...\n",
       "2745      \\n\\n[View Poll]( which oil for engine 1.6d4d ??\n",
       "686                                      WoW! RedBull NSX\n",
       "908     Those who have it, do you use Apple Carplay or...\n",
       "2766    Not sure if this is the right place to post bu...\n",
       "3249    Hello all, as the title goes, I’m looking to k...\n",
       "1118    Can’t wait to get some details on the new Pilo...\n",
       "2401    I was changing the transmission fluid and i dr...\n",
       "77      I’m looking at buying a 96 gsr that has 200,00...\n",
       "3116    Hey y'all. I've got some small problems, and a...\n",
       "1395    For the hybrid . Let's say u get in the car wi...\n",
       "168     Does the engine shut off after you open the do...\n",
       "2450    I have a 2004 Sequoia SR5. It is gold with the...\n",
       "711                                    WoW!!! RedBull NSX\n",
       "29      Get in the vehicle,my phone will automatically...\n",
       "2593    Hey guys, I've run into an issue with my Auto ...\n",
       "653     I’m looking at buying this cargo box but it la...\n",
       "3223    Just had to jump start the car and when I got ...\n",
       "807                             Title. Is this worth 15k?\n",
       "2303    I’m not sure if anyone could possibly help me ...\n",
       "465     already scratched under front bumper at parkin...\n",
       "2271    2022/2023 NEW\\n\\nWhat do you guys think makes ...\n",
       "944             Please subscribe my channel Syed Bilal 88\n",
       "309        [\\n\\n&amp;#x200B;\\n\\n[ gotta love the EF hatch\n",
       "1312    Hey everyone. I recently purchased a 2022 CR-V...\n",
       "1807    I heard airbags create a sound of 160-178decib...\n",
       "1525    hi guys i have been stuck with this issue for ...\n",
       "dtype: object"
      ]
     },
     "execution_count": 173,
     "metadata": {},
     "output_type": "execute_result"
    }
   ],
   "source": [
    "X_test[y_test != gs.predict(X_test)]"
   ]
  },
  {
   "cell_type": "code",
   "execution_count": 170,
   "id": "87be2321-dc12-4a88-ab73-ab5c2026d9c6",
   "metadata": {},
   "outputs": [
    {
     "data": {
      "text/plain": [
       "3078    I'm told I have Toyota Care, I did not pay for...\n",
       "101     I drive a 2009 accord. The battery died about ...\n",
       "886     I’m looking at replacing my headlights on my 2...\n",
       "dtype: object"
      ]
     },
     "execution_count": 170,
     "metadata": {},
     "output_type": "execute_result"
    }
   ],
   "source": [
    "X_test[X_test.str.contains(\"/n\")]"
   ]
  },
  {
   "cell_type": "code",
   "execution_count": 174,
   "id": "7f345073-72e7-40bb-9323-12eeb16572ed",
   "metadata": {},
   "outputs": [
    {
     "data": {
      "text/plain": [
       "\"I'm told I have Toyota Care, I did not pay for anything additional that I'm aware of. What exactly does Toyota Care cover?\\n\\nThe sticker on the inside of my car says to take it to a Toyota dealership within 6 months or 5k miles for first service. What I'm wanting to know is when I take it in, are they going to handle what needs to be handled without me having to tell them what I want/need or are they going to try and charge me for a bunch of stuff that should be covered? Bought 22 Corolla SE back in February\""
      ]
     },
     "execution_count": 174,
     "metadata": {},
     "output_type": "execute_result"
    }
   ],
   "source": [
    "X_test[3078]"
   ]
  },
  {
   "cell_type": "code",
   "execution_count": 164,
   "id": "ff59604c-0129-4342-a544-f985e1e6bb23",
   "metadata": {
    "collapsed": true,
    "jupyter": {
     "outputs_hidden": true
    },
    "tags": []
   },
   "outputs": [
    {
     "data": {
      "text/plain": [
       "469     1\n",
       "684     1\n",
       "1650    0\n",
       "2030    0\n",
       "2069    0\n",
       "363     1\n",
       "612     1\n",
       "999     1\n",
       "3150    0\n",
       "1760    0\n",
       "1001    1\n",
       "766     1\n",
       "2222    0\n",
       "1609    0\n",
       "2184    0\n",
       "660     1\n",
       "2023    0\n",
       "2120    0\n",
       "575     1\n",
       "1695    0\n",
       "2704    0\n",
       "1575    0\n",
       "778     1\n",
       "1102    1\n",
       "1062    1\n",
       "2718    0\n",
       "3064    0\n",
       "1730    0\n",
       "2893    0\n",
       "2137    0\n",
       "2745    0\n",
       "686     1\n",
       "908     1\n",
       "2766    0\n",
       "3249    0\n",
       "1118    1\n",
       "2401    0\n",
       "77      1\n",
       "3116    0\n",
       "1395    1\n",
       "168     1\n",
       "2450    0\n",
       "711     1\n",
       "29      1\n",
       "2593    0\n",
       "653     1\n",
       "3223    0\n",
       "807     1\n",
       "2303    0\n",
       "465     1\n",
       "2271    0\n",
       "944     1\n",
       "309     1\n",
       "1312    1\n",
       "1807    0\n",
       "1525    1\n",
       "Name: isHonda, dtype: int64"
      ]
     },
     "execution_count": 164,
     "metadata": {},
     "output_type": "execute_result"
    }
   ],
   "source": [
    "y_test[y_test != gs.predict(X_test)]"
   ]
  },
  {
   "cell_type": "code",
   "execution_count": 130,
   "id": "cc5eb587-c3f0-4e93-ad7b-ff855e329f27",
   "metadata": {
    "tags": []
   },
   "outputs": [
    {
     "data": {
      "text/html": [
       "<style>#sk-container-id-11 {color: black;background-color: white;}#sk-container-id-11 pre{padding: 0;}#sk-container-id-11 div.sk-toggleable {background-color: white;}#sk-container-id-11 label.sk-toggleable__label {cursor: pointer;display: block;width: 100%;margin-bottom: 0;padding: 0.3em;box-sizing: border-box;text-align: center;}#sk-container-id-11 label.sk-toggleable__label-arrow:before {content: \"▸\";float: left;margin-right: 0.25em;color: #696969;}#sk-container-id-11 label.sk-toggleable__label-arrow:hover:before {color: black;}#sk-container-id-11 div.sk-estimator:hover label.sk-toggleable__label-arrow:before {color: black;}#sk-container-id-11 div.sk-toggleable__content {max-height: 0;max-width: 0;overflow: hidden;text-align: left;background-color: #f0f8ff;}#sk-container-id-11 div.sk-toggleable__content pre {margin: 0.2em;color: black;border-radius: 0.25em;background-color: #f0f8ff;}#sk-container-id-11 input.sk-toggleable__control:checked~div.sk-toggleable__content {max-height: 200px;max-width: 100%;overflow: auto;}#sk-container-id-11 input.sk-toggleable__control:checked~label.sk-toggleable__label-arrow:before {content: \"▾\";}#sk-container-id-11 div.sk-estimator input.sk-toggleable__control:checked~label.sk-toggleable__label {background-color: #d4ebff;}#sk-container-id-11 div.sk-label input.sk-toggleable__control:checked~label.sk-toggleable__label {background-color: #d4ebff;}#sk-container-id-11 input.sk-hidden--visually {border: 0;clip: rect(1px 1px 1px 1px);clip: rect(1px, 1px, 1px, 1px);height: 1px;margin: -1px;overflow: hidden;padding: 0;position: absolute;width: 1px;}#sk-container-id-11 div.sk-estimator {font-family: monospace;background-color: #f0f8ff;border: 1px dotted black;border-radius: 0.25em;box-sizing: border-box;margin-bottom: 0.5em;}#sk-container-id-11 div.sk-estimator:hover {background-color: #d4ebff;}#sk-container-id-11 div.sk-parallel-item::after {content: \"\";width: 100%;border-bottom: 1px solid gray;flex-grow: 1;}#sk-container-id-11 div.sk-label:hover label.sk-toggleable__label {background-color: #d4ebff;}#sk-container-id-11 div.sk-serial::before {content: \"\";position: absolute;border-left: 1px solid gray;box-sizing: border-box;top: 0;bottom: 0;left: 50%;z-index: 0;}#sk-container-id-11 div.sk-serial {display: flex;flex-direction: column;align-items: center;background-color: white;padding-right: 0.2em;padding-left: 0.2em;position: relative;}#sk-container-id-11 div.sk-item {position: relative;z-index: 1;}#sk-container-id-11 div.sk-parallel {display: flex;align-items: stretch;justify-content: center;background-color: white;position: relative;}#sk-container-id-11 div.sk-item::before, #sk-container-id-11 div.sk-parallel-item::before {content: \"\";position: absolute;border-left: 1px solid gray;box-sizing: border-box;top: 0;bottom: 0;left: 50%;z-index: -1;}#sk-container-id-11 div.sk-parallel-item {display: flex;flex-direction: column;z-index: 1;position: relative;background-color: white;}#sk-container-id-11 div.sk-parallel-item:first-child::after {align-self: flex-end;width: 50%;}#sk-container-id-11 div.sk-parallel-item:last-child::after {align-self: flex-start;width: 50%;}#sk-container-id-11 div.sk-parallel-item:only-child::after {width: 0;}#sk-container-id-11 div.sk-dashed-wrapped {border: 1px dashed gray;margin: 0 0.4em 0.5em 0.4em;box-sizing: border-box;padding-bottom: 0.4em;background-color: white;}#sk-container-id-11 div.sk-label label {font-family: monospace;font-weight: bold;display: inline-block;line-height: 1.2em;}#sk-container-id-11 div.sk-label-container {text-align: center;}#sk-container-id-11 div.sk-container {/* jupyter's `normalize.less` sets `[hidden] { display: none; }` but bootstrap.min.css set `[hidden] { display: none !important; }` so we also need the `!important` here to be able to override the default hidden behavior on the sphinx rendered scikit-learn.org. See: https://github.com/scikit-learn/scikit-learn/issues/21755 */display: inline-block !important;position: relative;}#sk-container-id-11 div.sk-text-repr-fallback {display: none;}</style><div id=\"sk-container-id-11\" class=\"sk-top-container\"><div class=\"sk-text-repr-fallback\"><pre>Pipeline(steps=[(&#x27;cvec&#x27;,\n",
       "                 CountVectorizer(max_df=0.9, max_features=4000, min_df=2,\n",
       "                                 ngram_range=(1, 2), stop_words=&#x27;english&#x27;)),\n",
       "                (&#x27;nb&#x27;, MultinomialNB())])</pre><b>In a Jupyter environment, please rerun this cell to show the HTML representation or trust the notebook. <br />On GitHub, the HTML representation is unable to render, please try loading this page with nbviewer.org.</b></div><div class=\"sk-container\" hidden><div class=\"sk-item sk-dashed-wrapped\"><div class=\"sk-label-container\"><div class=\"sk-label sk-toggleable\"><input class=\"sk-toggleable__control sk-hidden--visually\" id=\"sk-estimator-id-39\" type=\"checkbox\" ><label for=\"sk-estimator-id-39\" class=\"sk-toggleable__label sk-toggleable__label-arrow\">Pipeline</label><div class=\"sk-toggleable__content\"><pre>Pipeline(steps=[(&#x27;cvec&#x27;,\n",
       "                 CountVectorizer(max_df=0.9, max_features=4000, min_df=2,\n",
       "                                 ngram_range=(1, 2), stop_words=&#x27;english&#x27;)),\n",
       "                (&#x27;nb&#x27;, MultinomialNB())])</pre></div></div></div><div class=\"sk-serial\"><div class=\"sk-item\"><div class=\"sk-estimator sk-toggleable\"><input class=\"sk-toggleable__control sk-hidden--visually\" id=\"sk-estimator-id-40\" type=\"checkbox\" ><label for=\"sk-estimator-id-40\" class=\"sk-toggleable__label sk-toggleable__label-arrow\">CountVectorizer</label><div class=\"sk-toggleable__content\"><pre>CountVectorizer(max_df=0.9, max_features=4000, min_df=2, ngram_range=(1, 2),\n",
       "                stop_words=&#x27;english&#x27;)</pre></div></div></div><div class=\"sk-item\"><div class=\"sk-estimator sk-toggleable\"><input class=\"sk-toggleable__control sk-hidden--visually\" id=\"sk-estimator-id-41\" type=\"checkbox\" ><label for=\"sk-estimator-id-41\" class=\"sk-toggleable__label sk-toggleable__label-arrow\">MultinomialNB</label><div class=\"sk-toggleable__content\"><pre>MultinomialNB()</pre></div></div></div></div></div></div></div>"
      ],
      "text/plain": [
       "Pipeline(steps=[('cvec',\n",
       "                 CountVectorizer(max_df=0.9, max_features=4000, min_df=2,\n",
       "                                 ngram_range=(1, 2), stop_words='english')),\n",
       "                ('nb', MultinomialNB())])"
      ]
     },
     "execution_count": 130,
     "metadata": {},
     "output_type": "execute_result"
    }
   ],
   "source": [
    "gs.best_estimator_"
   ]
  },
  {
   "cell_type": "code",
   "execution_count": 91,
   "id": "ca8c751f-6a62-4035-9a5e-f28e33a269b5",
   "metadata": {},
   "outputs": [],
   "source": [
    "pipe_tvec = Pipeline([\n",
    "    ('tvec', TfidfVectorizer()), \n",
    "    ('nb', MultinomialNB()) \n",
    "])"
   ]
  },
  {
   "cell_type": "code",
   "execution_count": 92,
   "id": "74007da2-b3e7-4962-b122-b14ed7799cdc",
   "metadata": {},
   "outputs": [],
   "source": [
    "pipe_tvec_params = {\n",
    "    'tvec__max_features': [2_000, 3_000, 4_000, 5_000],\n",
    "    'tvec__min_df': [2, 3],\n",
    "    'tvec__max_df': [.9, .95],\n",
    "    'tvec__stop_words': [None, 'english',stop_words], # let's try both with and without stopwords\n",
    "    'tvec__ngram_range': [(1,1), (1,2)] # let's try both unigrams and uni+bi-grams\n",
    "}"
   ]
  },
  {
   "cell_type": "code",
   "execution_count": 93,
   "id": "cf3ab047-9596-49e8-a5cb-1c46afb99f38",
   "metadata": {},
   "outputs": [],
   "source": [
    "gs_tvec = GridSearchCV(pipe_tvec, # what object are we optimizing?\n",
    "                        param_grid = pipe_tvec_params, # what parameters values are we searching?\n",
    "                        cv=5, n_jobs=-1, verbose = 2)"
   ]
  },
  {
   "cell_type": "code",
   "execution_count": 94,
   "id": "a9dadde9-3a16-47ea-bf4e-c65d69e8287d",
   "metadata": {},
   "outputs": [
    {
     "name": "stdout",
     "output_type": "stream",
     "text": [
      "Fitting 5 folds for each of 96 candidates, totalling 480 fits\n"
     ]
    },
    {
     "data": {
      "text/html": [
       "<style>#sk-container-id-8 {color: black;background-color: white;}#sk-container-id-8 pre{padding: 0;}#sk-container-id-8 div.sk-toggleable {background-color: white;}#sk-container-id-8 label.sk-toggleable__label {cursor: pointer;display: block;width: 100%;margin-bottom: 0;padding: 0.3em;box-sizing: border-box;text-align: center;}#sk-container-id-8 label.sk-toggleable__label-arrow:before {content: \"▸\";float: left;margin-right: 0.25em;color: #696969;}#sk-container-id-8 label.sk-toggleable__label-arrow:hover:before {color: black;}#sk-container-id-8 div.sk-estimator:hover label.sk-toggleable__label-arrow:before {color: black;}#sk-container-id-8 div.sk-toggleable__content {max-height: 0;max-width: 0;overflow: hidden;text-align: left;background-color: #f0f8ff;}#sk-container-id-8 div.sk-toggleable__content pre {margin: 0.2em;color: black;border-radius: 0.25em;background-color: #f0f8ff;}#sk-container-id-8 input.sk-toggleable__control:checked~div.sk-toggleable__content {max-height: 200px;max-width: 100%;overflow: auto;}#sk-container-id-8 input.sk-toggleable__control:checked~label.sk-toggleable__label-arrow:before {content: \"▾\";}#sk-container-id-8 div.sk-estimator input.sk-toggleable__control:checked~label.sk-toggleable__label {background-color: #d4ebff;}#sk-container-id-8 div.sk-label input.sk-toggleable__control:checked~label.sk-toggleable__label {background-color: #d4ebff;}#sk-container-id-8 input.sk-hidden--visually {border: 0;clip: rect(1px 1px 1px 1px);clip: rect(1px, 1px, 1px, 1px);height: 1px;margin: -1px;overflow: hidden;padding: 0;position: absolute;width: 1px;}#sk-container-id-8 div.sk-estimator {font-family: monospace;background-color: #f0f8ff;border: 1px dotted black;border-radius: 0.25em;box-sizing: border-box;margin-bottom: 0.5em;}#sk-container-id-8 div.sk-estimator:hover {background-color: #d4ebff;}#sk-container-id-8 div.sk-parallel-item::after {content: \"\";width: 100%;border-bottom: 1px solid gray;flex-grow: 1;}#sk-container-id-8 div.sk-label:hover label.sk-toggleable__label {background-color: #d4ebff;}#sk-container-id-8 div.sk-serial::before {content: \"\";position: absolute;border-left: 1px solid gray;box-sizing: border-box;top: 0;bottom: 0;left: 50%;z-index: 0;}#sk-container-id-8 div.sk-serial {display: flex;flex-direction: column;align-items: center;background-color: white;padding-right: 0.2em;padding-left: 0.2em;position: relative;}#sk-container-id-8 div.sk-item {position: relative;z-index: 1;}#sk-container-id-8 div.sk-parallel {display: flex;align-items: stretch;justify-content: center;background-color: white;position: relative;}#sk-container-id-8 div.sk-item::before, #sk-container-id-8 div.sk-parallel-item::before {content: \"\";position: absolute;border-left: 1px solid gray;box-sizing: border-box;top: 0;bottom: 0;left: 50%;z-index: -1;}#sk-container-id-8 div.sk-parallel-item {display: flex;flex-direction: column;z-index: 1;position: relative;background-color: white;}#sk-container-id-8 div.sk-parallel-item:first-child::after {align-self: flex-end;width: 50%;}#sk-container-id-8 div.sk-parallel-item:last-child::after {align-self: flex-start;width: 50%;}#sk-container-id-8 div.sk-parallel-item:only-child::after {width: 0;}#sk-container-id-8 div.sk-dashed-wrapped {border: 1px dashed gray;margin: 0 0.4em 0.5em 0.4em;box-sizing: border-box;padding-bottom: 0.4em;background-color: white;}#sk-container-id-8 div.sk-label label {font-family: monospace;font-weight: bold;display: inline-block;line-height: 1.2em;}#sk-container-id-8 div.sk-label-container {text-align: center;}#sk-container-id-8 div.sk-container {/* jupyter's `normalize.less` sets `[hidden] { display: none; }` but bootstrap.min.css set `[hidden] { display: none !important; }` so we also need the `!important` here to be able to override the default hidden behavior on the sphinx rendered scikit-learn.org. See: https://github.com/scikit-learn/scikit-learn/issues/21755 */display: inline-block !important;position: relative;}#sk-container-id-8 div.sk-text-repr-fallback {display: none;}</style><div id=\"sk-container-id-8\" class=\"sk-top-container\"><div class=\"sk-text-repr-fallback\"><pre>GridSearchCV(cv=5,\n",
       "             estimator=Pipeline(steps=[(&#x27;tvec&#x27;, TfidfVectorizer()),\n",
       "                                       (&#x27;nb&#x27;, MultinomialNB())]),\n",
       "             n_jobs=-1,\n",
       "             param_grid={&#x27;tvec__max_df&#x27;: [0.9, 0.95],\n",
       "                         &#x27;tvec__max_features&#x27;: [2000, 3000, 4000, 5000],\n",
       "                         &#x27;tvec__min_df&#x27;: [2, 3],\n",
       "                         &#x27;tvec__ngram_range&#x27;: [(1, 1), (1, 2)],\n",
       "                         &#x27;tvec__stop_words&#x27;: [None, &#x27;english&#x27;,\n",
       "                                              frozenset({&#x27;a&#x27;, &#x27;about&#x27;, &#x27;above&#x27;,\n",
       "                                                         &#x27;across&#x27;, &#x27;after&#x27;,\n",
       "                                                         &#x27;afterwards&#x27;, &#x27;again&#x27;,\n",
       "                                                         &#x27;against&#x27;, &#x27;all&#x27;,\n",
       "                                                         &#x27;almost&#x27;, &#x27;alone&#x27;,\n",
       "                                                         &#x27;along&#x27;, &#x27;already&#x27;,\n",
       "                                                         &#x27;also&#x27;, &#x27;although&#x27;,\n",
       "                                                         &#x27;always&#x27;, &#x27;am&#x27;,\n",
       "                                                         &#x27;among&#x27;, &#x27;amongst&#x27;,\n",
       "                                                         &#x27;amoungst&#x27;, &#x27;amount&#x27;,\n",
       "                                                         &#x27;an&#x27;, &#x27;and&#x27;, &#x27;another&#x27;,\n",
       "                                                         &#x27;any&#x27;, &#x27;anyhow&#x27;,\n",
       "                                                         &#x27;anyone&#x27;, &#x27;anything&#x27;,\n",
       "                                                         &#x27;anyway&#x27;, &#x27;anywhere&#x27;, ...})]},\n",
       "             verbose=2)</pre><b>In a Jupyter environment, please rerun this cell to show the HTML representation or trust the notebook. <br />On GitHub, the HTML representation is unable to render, please try loading this page with nbviewer.org.</b></div><div class=\"sk-container\" hidden><div class=\"sk-item sk-dashed-wrapped\"><div class=\"sk-label-container\"><div class=\"sk-label sk-toggleable\"><input class=\"sk-toggleable__control sk-hidden--visually\" id=\"sk-estimator-id-27\" type=\"checkbox\" ><label for=\"sk-estimator-id-27\" class=\"sk-toggleable__label sk-toggleable__label-arrow\">GridSearchCV</label><div class=\"sk-toggleable__content\"><pre>GridSearchCV(cv=5,\n",
       "             estimator=Pipeline(steps=[(&#x27;tvec&#x27;, TfidfVectorizer()),\n",
       "                                       (&#x27;nb&#x27;, MultinomialNB())]),\n",
       "             n_jobs=-1,\n",
       "             param_grid={&#x27;tvec__max_df&#x27;: [0.9, 0.95],\n",
       "                         &#x27;tvec__max_features&#x27;: [2000, 3000, 4000, 5000],\n",
       "                         &#x27;tvec__min_df&#x27;: [2, 3],\n",
       "                         &#x27;tvec__ngram_range&#x27;: [(1, 1), (1, 2)],\n",
       "                         &#x27;tvec__stop_words&#x27;: [None, &#x27;english&#x27;,\n",
       "                                              frozenset({&#x27;a&#x27;, &#x27;about&#x27;, &#x27;above&#x27;,\n",
       "                                                         &#x27;across&#x27;, &#x27;after&#x27;,\n",
       "                                                         &#x27;afterwards&#x27;, &#x27;again&#x27;,\n",
       "                                                         &#x27;against&#x27;, &#x27;all&#x27;,\n",
       "                                                         &#x27;almost&#x27;, &#x27;alone&#x27;,\n",
       "                                                         &#x27;along&#x27;, &#x27;already&#x27;,\n",
       "                                                         &#x27;also&#x27;, &#x27;although&#x27;,\n",
       "                                                         &#x27;always&#x27;, &#x27;am&#x27;,\n",
       "                                                         &#x27;among&#x27;, &#x27;amongst&#x27;,\n",
       "                                                         &#x27;amoungst&#x27;, &#x27;amount&#x27;,\n",
       "                                                         &#x27;an&#x27;, &#x27;and&#x27;, &#x27;another&#x27;,\n",
       "                                                         &#x27;any&#x27;, &#x27;anyhow&#x27;,\n",
       "                                                         &#x27;anyone&#x27;, &#x27;anything&#x27;,\n",
       "                                                         &#x27;anyway&#x27;, &#x27;anywhere&#x27;, ...})]},\n",
       "             verbose=2)</pre></div></div></div><div class=\"sk-parallel\"><div class=\"sk-parallel-item\"><div class=\"sk-item\"><div class=\"sk-label-container\"><div class=\"sk-label sk-toggleable\"><input class=\"sk-toggleable__control sk-hidden--visually\" id=\"sk-estimator-id-28\" type=\"checkbox\" ><label for=\"sk-estimator-id-28\" class=\"sk-toggleable__label sk-toggleable__label-arrow\">estimator: Pipeline</label><div class=\"sk-toggleable__content\"><pre>Pipeline(steps=[(&#x27;tvec&#x27;, TfidfVectorizer()), (&#x27;nb&#x27;, MultinomialNB())])</pre></div></div></div><div class=\"sk-serial\"><div class=\"sk-item\"><div class=\"sk-serial\"><div class=\"sk-item\"><div class=\"sk-estimator sk-toggleable\"><input class=\"sk-toggleable__control sk-hidden--visually\" id=\"sk-estimator-id-29\" type=\"checkbox\" ><label for=\"sk-estimator-id-29\" class=\"sk-toggleable__label sk-toggleable__label-arrow\">TfidfVectorizer</label><div class=\"sk-toggleable__content\"><pre>TfidfVectorizer()</pre></div></div></div><div class=\"sk-item\"><div class=\"sk-estimator sk-toggleable\"><input class=\"sk-toggleable__control sk-hidden--visually\" id=\"sk-estimator-id-30\" type=\"checkbox\" ><label for=\"sk-estimator-id-30\" class=\"sk-toggleable__label sk-toggleable__label-arrow\">MultinomialNB</label><div class=\"sk-toggleable__content\"><pre>MultinomialNB()</pre></div></div></div></div></div></div></div></div></div></div></div></div>"
      ],
      "text/plain": [
       "GridSearchCV(cv=5,\n",
       "             estimator=Pipeline(steps=[('tvec', TfidfVectorizer()),\n",
       "                                       ('nb', MultinomialNB())]),\n",
       "             n_jobs=-1,\n",
       "             param_grid={'tvec__max_df': [0.9, 0.95],\n",
       "                         'tvec__max_features': [2000, 3000, 4000, 5000],\n",
       "                         'tvec__min_df': [2, 3],\n",
       "                         'tvec__ngram_range': [(1, 1), (1, 2)],\n",
       "                         'tvec__stop_words': [None, 'english',\n",
       "                                              frozenset({'a', 'about', 'above',\n",
       "                                                         'across', 'after',\n",
       "                                                         'afterwards', 'again',\n",
       "                                                         'against', 'all',\n",
       "                                                         'almost', 'alone',\n",
       "                                                         'along', 'already',\n",
       "                                                         'also', 'although',\n",
       "                                                         'always', 'am',\n",
       "                                                         'among', 'amongst',\n",
       "                                                         'amoungst', 'amount',\n",
       "                                                         'an', 'and', 'another',\n",
       "                                                         'any', 'anyhow',\n",
       "                                                         'anyone', 'anything',\n",
       "                                                         'anyway', 'anywhere', ...})]},\n",
       "             verbose=2)"
      ]
     },
     "execution_count": 94,
     "metadata": {},
     "output_type": "execute_result"
    }
   ],
   "source": [
    "gs_tvec.fit(X_train, y_train)"
   ]
  },
  {
   "cell_type": "code",
   "execution_count": 95,
   "id": "cba09db5-a28e-48de-a9ea-71f2d34696a1",
   "metadata": {},
   "outputs": [
    {
     "data": {
      "text/plain": [
       "0.9768647786198644"
      ]
     },
     "execution_count": 95,
     "metadata": {},
     "output_type": "execute_result"
    }
   ],
   "source": [
    "gs_tvec.score(X_train, y_train)"
   ]
  },
  {
   "cell_type": "code",
   "execution_count": 96,
   "id": "d2b843f3-aa92-40ac-8af1-2028ee7cc2ca",
   "metadata": {},
   "outputs": [
    {
     "data": {
      "text/plain": [
       "0.9174641148325359"
      ]
     },
     "execution_count": 96,
     "metadata": {},
     "output_type": "execute_result"
    }
   ],
   "source": [
    "gs_tvec.score(X_test, y_test)"
   ]
  },
  {
   "cell_type": "code",
   "execution_count": 97,
   "id": "c98d7626-f54d-4e31-81b9-6c4679f38ed8",
   "metadata": {},
   "outputs": [
    {
     "data": {
      "text/plain": [
       "0.9093298291721419"
      ]
     },
     "execution_count": 97,
     "metadata": {},
     "output_type": "execute_result"
    }
   ],
   "source": [
    "f1_score(y_test, gs_tvec.predict(X_test))"
   ]
  },
  {
   "cell_type": "code",
   "execution_count": 47,
   "id": "28be7c2e-f1a2-45c8-a50b-18cccbe5db27",
   "metadata": {},
   "outputs": [
    {
     "data": {
      "text/plain": [
       "{'tvec__max_df': 0.9,\n",
       " 'tvec__max_features': 3000,\n",
       " 'tvec__min_df': 2,\n",
       " 'tvec__ngram_range': (1, 1),\n",
       " 'tvec__stop_words': 'english'}"
      ]
     },
     "execution_count": 47,
     "metadata": {},
     "output_type": "execute_result"
    }
   ],
   "source": [
    "gs_tvec.best_params_"
   ]
  },
  {
   "cell_type": "markdown",
   "id": "4cfec6a4-29cf-4aba-9740-3fa4c5873218",
   "metadata": {},
   "source": [
    "## Parameters\n",
    "1. Transformers\n",
    "    1. Count\n",
    "    2. TF IDF\n",
    "    3. BERT\n",
    "2. Classifers\n",
    "    1. Naives Bayes\n",
    "    2. **Random Forest**\n",
    "        > Get feature importances"
   ]
  },
  {
   "cell_type": "code",
   "execution_count": null,
   "id": "b72e64af-7683-48e3-8403-7545f85ee161",
   "metadata": {},
   "outputs": [],
   "source": []
  }
 ],
 "metadata": {
  "kernelspec": {
   "display_name": "Python 3 (ipykernel)",
   "language": "python",
   "name": "python3"
  },
  "language_info": {
   "codemirror_mode": {
    "name": "ipython",
    "version": 3
   },
   "file_extension": ".py",
   "mimetype": "text/x-python",
   "name": "python",
   "nbconvert_exporter": "python",
   "pygments_lexer": "ipython3",
   "version": "3.9.7"
  }
 },
 "nbformat": 4,
 "nbformat_minor": 5
}
