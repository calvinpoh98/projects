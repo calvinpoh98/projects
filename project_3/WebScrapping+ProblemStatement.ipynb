{
 "cells": [
  {
   "cell_type": "markdown",
   "id": "4ecd3610-c4c5-46ea-bc0a-1c3cb0823918",
   "metadata": {},
   "source": [
    "# Problem statement\n",
    "\n",
    "The goal of the project to help car enthusiast correctly identify which of the two car brands, Toyota and Honda, does his post belong to. In addition to that, it also helps beginnner car ethusiast identify the brand of the car that the subreddit post is writing about, since both cars are Japanese brand, it can be quite confusing for such beginners. \n",
    "\n",
    "The type of model that will be developed is a classification model. The model will classify the post into the two different categories, which are Toyota and Honda. The success of the models will be evaluated with two metrics, the accuracy and the f1 score of the model. Accuracy is considered here because we will be using a balanced number of classes in the training and test dateset. F1 score takes into account precision and recall which are vital in identify the true positive in different scenarios which will be further explained in the modelling notebook. \n",
    "\n",
    "The audience of this investigation will be the people that are viewing the two subreddits. The primary stakeholders are the car enthusiast and the subreddit moderators who might want to rightly separate the two subreddits since they have many similarities in terms of where the car comes from and the pricing of the cars. The secondary stakeholders would be the moderators running the reddit website that might want a model to automatically sort the post according to the rightful subreddits without having the user to manually input one."
   ]
  },
  {
   "cell_type": "code",
   "execution_count": 2,
   "id": "d207da96-57ca-4a2e-b1df-ce2969e1b4ec",
   "metadata": {},
   "outputs": [],
   "source": [
    "import requests\n",
    "import pandas as pd\n",
    "from sklearn.feature_extraction.text import CountVectorizer\n",
    "from sklearn.feature_extraction import text \n",
    "import re\n",
    "import warnings\n",
    "warnings.filterwarnings('ignore')"
   ]
  },
  {
   "cell_type": "code",
   "execution_count": 1,
   "id": "5ff9d2c5-5a1c-4af7-af37-55d674530031",
   "metadata": {},
   "outputs": [],
   "source": [
    "def dataretrive(subreddit,length):\n",
    "    url = \"https://api.pushshift.io/reddit/search/submission\"\n",
    "    params = {\n",
    "    \"subreddit\" : subreddit,\n",
    "    \"size\": 100}\n",
    "    res = requests.get(url,params)\n",
    "    data = res.json()\n",
    "    datadf = pd.DataFrame(data[\"data\"])\n",
    "    #Check if requests is successful\n",
    "    if res.status_code != 200:\n",
    "        return \"Try again with another subreddit\"\n",
    "        \n",
    "    \n",
    "    #Getting batches of the last retrieved date\n",
    "    while len(datadf)<length:\n",
    "        lastdate = datadf.iloc[-1][\"created_utc\"]\n",
    "        updateparams = {\"subreddit\" : subreddit, \n",
    "                  \"size\": 100, #Requesting the size of 100 (Maximum size is 250) \n",
    "                  \"before\": lastdate\n",
    "                 }\n",
    "        tempres = requests.get(url,updateparams)\n",
    "        data = tempres.json()\n",
    "        datadf = pd.concat([datadf,pd.DataFrame(data[\"data\"])])\n",
    "    #Getting the time difference \n",
    "    \n",
    "    return datadf"
   ]
  },
  {
   "cell_type": "code",
   "execution_count": 1,
   "id": "b5b921d8-395c-4b94-bccd-220d1a3b3dfd",
   "metadata": {
    "tags": []
   },
   "outputs": [],
   "source": [
    "def emptytester(df):\n",
    "    selftextseries = df[\"selftext\"].value_counts(normalize = True)\n",
    "\n",
    "    emptycount = 0\n",
    "    removecount = 0\n",
    "    deletedcount = 0\n",
    "    cleandata = df[~df[\"selftext\"].isin([\"\",\"[removed]\",\"[deleted]\"])]\n",
    "    if \"\" in selftextseries.index:\n",
    "        emptycount = round(selftextseries[\"\"]*100,3)\n",
    "    if \"[removed]\" in selftextseries.index:\n",
    "        removecount = round(selftextseries[\"[removed]\"]*100,3)\n",
    "    if \"[deleted]\" in selftextseries.index:\n",
    "        deletedcount = round(selftextseries[\"[deleted]\"]*100,3)\n",
    "    \n",
    "    print(f'The percentage of empty text cell is {emptycount}%.\\nThe percentage of removed text cell is {removecount}%.\\nThe percentage of deleted text cell is {deletedcount}%.\\nThe total number of clean rows is {len(cleandata)}')\n",
    "    #Removing Hyperlinks (Datacleaning)\n",
    "    cleandata.loc[:,\"selftext\"] = cleandata.loc[:,\"selftext\"].apply(lambda x: re.sub(r'http\\S+', '', str(x)))\n",
    "    #Removing any entries with no text\n",
    "    cleandata.dropna(subset=[\"selftext\"],inplace = True)\n",
    "    #Adding both the title and the self text as both provides information\n",
    "    cleandata[\"combined\"] = cleandata[\"selftext\"] + \" \" +cleandata[\"title\"]\n",
    "    #Removing /n for line breaks\n",
    "    cleandata[\"combined\"] = cleandata[\"combined\"].apply(lambda x: x.replace(\"/n\", \" \"))\n",
    "    return cleandata.reset_index()"
   ]
  },
  {
   "cell_type": "code",
   "execution_count": 4,
   "id": "86b8a9bd-3aa3-4ac9-85a2-0388a07e9d50",
   "metadata": {},
   "outputs": [],
   "source": [
    "def checkwords(df,additionalStopWords = [], maxfeatures = 500):\n",
    "    stop_words = text.ENGLISH_STOP_WORDS.union(additionalStopWords)\n",
    "    tempdf = df[\"selftext\"] + \" \" +df[\"title\"]\n",
    "    cvec = CountVectorizer(max_features = maxfeatures, max_df = 0.98, stop_words = stop_words)\n",
    "    wordvec = cvec.fit_transform(tempdf)\n",
    "    vecdf = pd.DataFrame(wordvec.toarray(), columns=cvec.get_feature_names_out())\n",
    "    vecdf.sum().sort_values(ascending= False).head(10).plot(kind = \"barh\")\n",
    "    print(f'The number of words is {len(cvec.get_feature_names_out())}')\n",
    "    return vecdf"
   ]
  },
  {
   "cell_type": "markdown",
   "id": "2fae7906-f171-4609-bf4a-334c92de4b7e",
   "metadata": {
    "tags": []
   },
   "source": [
    "# Honda"
   ]
  },
  {
   "cell_type": "code",
   "execution_count": 5,
   "id": "46d6b16d-0cac-4e25-91f0-d0af422b8d11",
   "metadata": {},
   "outputs": [],
   "source": [
    "#Scraping 1901 number of clean rows without any [removed], [deleted] or empty entries\n",
    "Honda = dataretrive(\"Honda\",5000)"
   ]
  },
  {
   "cell_type": "code",
   "execution_count": 6,
   "id": "1a6aa200-9b25-4012-a0c6-64172c6799c5",
   "metadata": {},
   "outputs": [
    {
     "name": "stdout",
     "output_type": "stream",
     "text": [
      "The percentage of empty text cell is 61.46%.\n",
      "The percentage of removed text cell is 0.42%.\n",
      "The percentage of deleted text cell is 0.1%.\n",
      "The total number of clean rows is 1901\n"
     ]
    }
   ],
   "source": [
    "cleanHonda = emptytester(Honda)"
   ]
  },
  {
   "cell_type": "markdown",
   "id": "39cf530c-5872-4b6e-b1f8-b1f9824f6971",
   "metadata": {},
   "source": [
    ">The number of clean rows is quite healthy and is above 1000, therefore we will proceed with this amount of data pulled"
   ]
  },
  {
   "cell_type": "code",
   "execution_count": 9,
   "id": "c360a607-d235-491d-8bb7-8908f871c6ad",
   "metadata": {},
   "outputs": [],
   "source": [
    "cleanHonda[\"isHonda\"] = 1"
   ]
  },
  {
   "cell_type": "code",
   "execution_count": 10,
   "id": "eaaabce9-ec6c-4db3-b0a3-ba30e9275b53",
   "metadata": {},
   "outputs": [
    {
     "name": "stdout",
     "output_type": "stream",
     "text": [
      "The number of words is 500\n"
     ]
    },
    {
     "data": {
      "image/png": "[encoded data removed]",
      "text/plain": [
       "<Figure size 432x288 with 1 Axes>"
      ]
     },
     "metadata": {
      "needs_background": "light"
     },
     "output_type": "display_data"
    }
   ],
   "source": [
    "hondaVec = checkwords(cleanHonda)"
   ]
  },
  {
   "cell_type": "code",
   "execution_count": 11,
   "id": "ac95f8f8-8553-49dd-8565-356d71e54f88",
   "metadata": {},
   "outputs": [
    {
     "name": "stdout",
     "output_type": "stream",
     "text": [
      "The number of words is 500\n"
     ]
    },
    {
     "data": {
      "image/png": "[encoded data removed]",
      "text/plain": [
       "<Figure size 432x288 with 1 Axes>"
      ]
     },
     "metadata": {
      "needs_background": "light"
     },
     "output_type": "display_data"
    }
   ],
   "source": [
    "#Adding this stopword that did not get filtered out\n",
    "stopwords = [\"ve\",\"just\",\"new\",\"know\",\"like\"]\n",
    "hondaVec = checkwords(cleanHonda,additionalStopWords = stopwords)"
   ]
  },
  {
   "cell_type": "markdown",
   "id": "69958622-9362-4170-814d-8bc42da5a811",
   "metadata": {},
   "source": [
    "# Toyota"
   ]
  },
  {
   "cell_type": "code",
   "execution_count": null,
   "id": "5354d904-2c98-46d4-ae96-abb45d06adbe",
   "metadata": {},
   "outputs": [],
   "source": [
    "Toyota = dataretrive(\"Toyota\",5000)"
   ]
  },
  {
   "cell_type": "code",
   "execution_count": null,
   "id": "33996cf3-e35b-4a3a-bdcf-acdcf5443a5a",
   "metadata": {},
   "outputs": [],
   "source": [
    "cleanToyota = emptytester(Toyota)"
   ]
  },
  {
   "cell_type": "code",
   "execution_count": null,
   "id": "34c84d65-9ec8-42a7-96ca-57f7e3ea1f3c",
   "metadata": {},
   "outputs": [],
   "source": [
    "cleanToyota[\"isHonda\"] = 0"
   ]
  },
  {
   "cell_type": "code",
   "execution_count": null,
   "id": "0d1ef2d3-d5e0-4b87-a72b-007548ac643b",
   "metadata": {
    "tags": []
   },
   "outputs": [],
   "source": [
    "toyotaVec = checkwords(cleanToyota)"
   ]
  },
  {
   "cell_type": "code",
   "execution_count": null,
   "id": "3c6182f5-b2b1-4503-aa88-5570cfb9cc77",
   "metadata": {
    "tags": []
   },
   "outputs": [],
   "source": [
    "combinedf = pd.concat([cleanHonda,cleanToyota]).reset_index()"
   ]
  },
  {
   "cell_type": "code",
   "execution_count": null,
   "id": "dd07b4de-8eaa-40f8-99fe-6c4ea55c0d89",
   "metadata": {},
   "outputs": [],
   "source": [
    "combinedf.to_csv(\"Dataset/HondaToyotadf.csv\",index = False)"
   ]
  }
 ],
 "metadata": {
  "kernelspec": {
   "display_name": "Python 3 (ipykernel)",
   "language": "python",
   "name": "python3"
  },
  "language_info": {
   "codemirror_mode": {
    "name": "ipython",
    "version": 3
   },
   "file_extension": ".py",
   "mimetype": "text/x-python",
   "name": "python",
   "nbconvert_exporter": "python",
   "pygments_lexer": "ipython3",
   "version": "3.8.13"
  }
 },
 "nbformat": 4,
 "nbformat_minor": 5
}
